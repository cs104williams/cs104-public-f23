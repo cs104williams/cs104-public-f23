{
 "cells": [
  {
   "cell_type": "markdown",
   "metadata": {
    "tags": []
   },
   "source": [
    "# Linear Regression Diagnostics"
   ]
  },
  {
   "cell_type": "code",
   "execution_count": null,
   "metadata": {
    "tags": []
   },
   "outputs": [],
   "source": [
    "from datascience import *\n",
    "from cs104 import *\n",
    "import numpy as np\n",
    "%matplotlib inline"
   ]
  },
  {
   "cell_type": "markdown",
   "metadata": {
    "tags": []
   },
   "source": [
    "## 0. Review"
   ]
  },
  {
   "cell_type": "markdown",
   "metadata": {},
   "source": [
    "Let's load our Greenland data one more time, and create the same `x_y_table` as we used in the last lecture."
   ]
  },
  {
   "cell_type": "code",
   "execution_count": null,
   "metadata": {
    "tags": []
   },
   "outputs": [],
   "source": [
    "greenland_climate = Table().read_table('data/climate_upernavik.csv')\n",
    "tidy_greenland = greenland_climate.where('Air temperature (C)', \n",
    "                                         are.not_equal_to(999.99))\n",
    "feb = tidy_greenland.where('Month', are.equal_to(2))\n",
    "x = feb.column('Year') - 1880 \n",
    "y = feb.column('Air temperature (C)')\n",
    "x_y_table = Table().with_columns(\"x\", x, \"y\", y)\n",
    "x_y_table.scatter('x', 'y')"
   ]
  },
  {
   "cell_type": "markdown",
   "metadata": {},
   "source": [
    "Here's the slope and intercept computed by our linear regression function."
   ]
  },
  {
   "cell_type": "code",
   "execution_count": null,
   "metadata": {
    "tags": []
   },
   "outputs": [],
   "source": [
    "optimal = linear_regression(x_y_table, 'x', 'y') \n",
    "a = optimal.item(0)\n",
    "b = optimal.item(1)    \n",
    "plot_scatter_with_line(x_y_table, 'x', 'y', a, b)"
   ]
  },
  {
   "cell_type": "markdown",
   "metadata": {},
   "source": [
    "The following is short-hand to call `linear_regression` and initializes variables `a` and `b` all in one line:"
   ]
  },
  {
   "cell_type": "code",
   "execution_count": null,
   "metadata": {
    "tags": []
   },
   "outputs": [],
   "source": [
    "a,b = linear_regression(x_y_table, 'x', 'y') \n",
    "plot_scatter_with_line(x_y_table, 'x', 'y', a, b)"
   ]
  },
  {
   "cell_type": "markdown",
   "metadata": {},
   "source": [
    "## 1. $R^2$ Score"
   ]
  },
  {
   "cell_type": "markdown",
   "metadata": {},
   "source": [
    "The $R^2$ score measures how much better our predictions $\\hat{y}$ for each $x$ are when compared to just always predicting $\\bar{y}$ (the average of all $y$'s) for each $x$?"
   ]
  },
  {
   "cell_type": "markdown",
   "metadata": {},
   "source": [
    "$$\n",
    "\\Large R^2 = 1 - \\frac{\\sum_i (y_i - \\hat{y})^2}{\\sum_i (y_i - \\bar{y})^2}\n",
    "$$"
   ]
  },
  {
   "cell_type": "code",
   "execution_count": null,
   "metadata": {
    "tags": []
   },
   "outputs": [],
   "source": [
    "fortis = Table().read_table(\"data/finch_beaks_1975.csv\").where('species', 'fortis')\n",
    "fortis_a, fortis_b = linear_regression(fortis, 'Beak length, mm', 'Beak depth, mm') "
   ]
  },
  {
   "cell_type": "code",
   "execution_count": null,
   "metadata": {
    "tags": []
   },
   "outputs": [],
   "source": [
    "print(\"R^2 Score is\", r2_score(fortis, 'Beak length, mm', 'Beak depth, mm', \n",
    "                               fortis_a, fortis_b))"
   ]
  },
  {
   "cell_type": "markdown",
   "metadata": {},
   "source": [
    "## 2. Residual plots\n",
    "Residual plots help us make visual assessments of the quality of a linear regression analysis"
   ]
  },
  {
   "cell_type": "code",
   "execution_count": null,
   "metadata": {
    "tags": []
   },
   "outputs": [],
   "source": [
    "plot_residuals(fortis, 'Beak length, mm', 'Beak depth, mm', \n",
    "               fortis_a, fortis_b)"
   ]
  },
  {
   "cell_type": "markdown",
   "metadata": {},
   "source": [
    "Typically, we like to look at the regression plot and the residual plot at the same time. "
   ]
  },
  {
   "cell_type": "code",
   "execution_count": null,
   "metadata": {
    "tags": []
   },
   "outputs": [],
   "source": [
    "plot_regression_and_residuals(fortis, 'Beak length, mm', 'Beak depth, mm', \n",
    "                              fortis_a, fortis_b)"
   ]
  },
  {
   "cell_type": "markdown",
   "metadata": {},
   "source": [
    "Notice how the residuals are distributed fairly symmetrically above and below the horizontal line at 0, corresponding to the original scatter plot being roughly symmetrical above and below. \n",
    "\n",
    "The residual plot of a good regression shows no pattern. The residuals look about the same, above and below the horizontal line at 0, across the range of the predictor variable."
   ]
  },
  {
   "cell_type": "markdown",
   "metadata": {},
   "source": [
    "### Diagnostics and residual plot on other datasets"
   ]
  },
  {
   "cell_type": "markdown",
   "metadata": {
    "tags": []
   },
   "source": [
    "#### Greenland with an outlier"
   ]
  },
  {
   "cell_type": "markdown",
   "metadata": {},
   "source": [
    "Here's our temperate data again, this time with one outlier added to the data set.  Notice the impact on the regresssion line and residuals."
   ]
  },
  {
   "cell_type": "code",
   "execution_count": null,
   "metadata": {
    "tags": []
   },
   "outputs": [],
   "source": [
    "x_y_table_outlier = x_y_table.copy().append((0,100))\n",
    "a_outlier, b_outlier = linear_regression(x_y_table_outlier, 'x', 'y')\n",
    "print(\"R^2 Score is\", r2_score(x_y_table_outlier, 'x', 'y', \n",
    "                               a_outlier, b_outlier))"
   ]
  },
  {
   "cell_type": "code",
   "execution_count": null,
   "metadata": {
    "tags": []
   },
   "outputs": [],
   "source": [
    "plot_regression_and_residuals(x_y_table_outlier, 'x', 'y', \n",
    "                              a_outlier, b_outlier)"
   ]
  },
  {
   "cell_type": "markdown",
   "metadata": {},
   "source": [
    "#### Dugongs"
   ]
  },
  {
   "cell_type": "code",
   "execution_count": null,
   "metadata": {
    "tags": []
   },
   "outputs": [],
   "source": [
    "dugong = Table().read_table('data/dugong.csv')\n",
    "dugong.show(3)"
   ]
  },
  {
   "cell_type": "code",
   "execution_count": null,
   "metadata": {
    "tags": []
   },
   "outputs": [],
   "source": [
    "a_dugong, b_dugong = linear_regression(dugong, 'Length', 'Age')\n",
    "print(\"R^2 Score is\", r2_score(dugong, 'Length', 'Age', \n",
    "                               a_dugong, b_dugong))"
   ]
  },
  {
   "cell_type": "code",
   "execution_count": null,
   "metadata": {
    "tags": []
   },
   "outputs": [],
   "source": [
    "plot_regression_and_residuals(dugong, 'Length', 'Age', \n",
    "                              a_dugong, b_dugong)"
   ]
  },
  {
   "cell_type": "markdown",
   "metadata": {},
   "source": [
    "#### Hybrids"
   ]
  },
  {
   "cell_type": "code",
   "execution_count": null,
   "metadata": {
    "tags": []
   },
   "outputs": [],
   "source": [
    "cars = Table().read_table('data/hybrid.csv')\n",
    "cars.show(3)"
   ]
  },
  {
   "cell_type": "code",
   "execution_count": null,
   "metadata": {
    "tags": []
   },
   "outputs": [],
   "source": [
    "a_cars, b_cars = linear_regression(cars, 'acceleration', 'mpg')\n",
    "print(\"R^2 Score is\", r2_score(cars, 'acceleration', 'mpg', \n",
    "                               a_cars, b_cars))"
   ]
  },
  {
   "cell_type": "code",
   "execution_count": null,
   "metadata": {
    "tags": []
   },
   "outputs": [],
   "source": [
    "plot_regression_and_residuals(cars, 'acceleration', 'mpg', \n",
    "                              a_cars, b_cars)"
   ]
  },
  {
   "cell_type": "markdown",
   "metadata": {},
   "source": [
    "If the residual plot shows uneven variation about the horizontal line at 0, the regression estimates are not equally accurate across the range of the predictor variable.\n",
    "\n",
    "The residual plot shows that our linear regression for this dataset is *heteroscedastic*, that x and the residuals are not independent. "
   ]
  },
  {
   "cell_type": "markdown",
   "metadata": {
    "tags": []
   },
   "source": [
    "## 3. Confidence Intervals for Predictions"
   ]
  },
  {
   "cell_type": "code",
   "execution_count": null,
   "metadata": {
    "tags": []
   },
   "outputs": [],
   "source": [
    "# Load finch data \n",
    "finch_1975 = Table().read_table(\"data/finch_beaks_1975.csv\")\n",
    "fortis = finch_1975.where('species', 'fortis')\n",
    "scandens = finch_1975.where('species', 'scandens')"
   ]
  },
  {
   "cell_type": "code",
   "execution_count": null,
   "metadata": {
    "tags": []
   },
   "outputs": [],
   "source": [
    "finch_1975.scatter('Beak length, mm', 'Beak depth, mm', group='species')"
   ]
  },
  {
   "cell_type": "code",
   "execution_count": null,
   "metadata": {
    "tags": []
   },
   "outputs": [],
   "source": [
    "fortis_a, fortis_b = linear_regression(fortis, 'Beak length, mm', 'Beak depth, mm') \n",
    "print(\"R^2 Score is\", r2_score(fortis, 'Beak length, mm', 'Beak depth, mm', \n",
    "                               fortis_a, fortis_b))"
   ]
  },
  {
   "cell_type": "code",
   "execution_count": null,
   "metadata": {
    "tags": []
   },
   "outputs": [],
   "source": [
    "plot_regression_and_residuals(fortis, 'Beak length, mm', 'Beak depth, mm', \n",
    "                              fortis_a, fortis_b)"
   ]
  },
  {
   "cell_type": "markdown",
   "metadata": {},
   "source": [
    "Note that we are starting with a **sample** of all Fortis finches. We'll use bootstrapping and the percentile method to create a confidence interval for our predictions"
   ]
  },
  {
   "cell_type": "code",
   "execution_count": null,
   "metadata": {
    "tags": []
   },
   "outputs": [],
   "source": [
    "def bootstrap_prediction(x_target_value, observed_sample, x_label, y_label, num_trials):\n",
    "    \"\"\"\n",
    "    Create bootstrap resamples and predict y given x_target_value \n",
    "    \"\"\"\n",
    "\n",
    "    bootstrap_statistics = make_array()\n",
    "    \n",
    "    for i in np.arange(0, num_trials): \n",
    "        \n",
    "        simulated_resample = observed_sample.sample()\n",
    "        \n",
    "        a,b = linear_regression(simulated_resample, x_label, y_label)\n",
    "        resample_statistic = line_predictions(a,b,x_target_value)\n",
    "        \n",
    "        bootstrap_statistics = np.append(bootstrap_statistics, resample_statistic)\n",
    "    \n",
    "    return bootstrap_statistics"
   ]
  },
  {
   "cell_type": "code",
   "execution_count": null,
   "metadata": {
    "tags": []
   },
   "outputs": [],
   "source": [
    "x_target_value = 11 # the x-value for which we want to predict y-values\n",
    "bootstrap_statistics = bootstrap_prediction(x_target_value, fortis, 'Beak length, mm', 'Beak depth, mm', 1000)\n",
    "results = Table().with_columns(\"Bootstrap distribution\", bootstrap_statistics)\n",
    "plot = results.hist()\n",
    "plot.set_title('Fortis')\n",
    "\n",
    "left_right = confidence_interval(95, bootstrap_statistics)\n",
    "plot.interval(left_right)\n",
    "\n",
    "plot.dot(line_predictions(fortis_a, fortis_b, x_target_value), 0)"
   ]
  },
  {
   "cell_type": "markdown",
   "metadata": {
    "tags": []
   },
   "source": [
    "### Prediction estimates for Different x targets"
   ]
  },
  {
   "cell_type": "code",
   "execution_count": null,
   "metadata": {
    "tags": []
   },
   "outputs": [],
   "source": [
    "\n",
    "# Ignore this code -- just focus on the visualization below.\n",
    "def visualize_prediction_ci(observed_sample, x_label, y_label, plot_title, color=\"C0\", light_color=\"lightblue\"): \n",
    "\n",
    "    xs = observed_sample.column(x_label)\n",
    "    xlims = make_array(min(xs),max(xs))\n",
    "\n",
    "    def bootstrap_prediction_ci(x, num_trials): \n",
    "        bootstrap_statistics = make_array()\n",
    "        a,b = linear_regression(observed_sample, x_label, y_label)\n",
    "        with Figure(figsize=(8,8)):\n",
    "            plot = observed_sample.scatter(x_label, y_label,color=color)\n",
    "            plot.set_xlabel(x_label)\n",
    "            plot.set_ylabel(y_label)\n",
    "\n",
    "            if num_trials > 0:\n",
    "                for i in np.arange(0, num_trials): \n",
    "\n",
    "                    simulated_resample = observed_sample.sample()\n",
    "                    a,b = linear_regression(simulated_resample, x_label, y_label)\n",
    "                    resample_statistic = line_predictions(a,b,x)\n",
    "                    plot.line(xlims, a * xlims + b, lw=1, color = light_color)\n",
    "\n",
    "                    bootstrap_statistics = np.append(bootstrap_statistics, resample_statistic)\n",
    "\n",
    "                left_right = confidence_interval(95, bootstrap_statistics)\n",
    "                plot.line(xlims, a * xlims + b, color=color, alpha=0.7)\n",
    "                plot.y_interval(left_right, x)\n",
    "                #plot.dot(x,line_predictions(a,b,x))\n",
    "                plot.set_title(plot_title+'\\n y_hat 95% Confidence Interval: ' + str(np.round(left_right,2)))\n",
    "            else:\n",
    "                plot.line(xlims, a * xlims + b,color=color, alpha=0.7)\n",
    "                plot.dot(x,line_predictions(a,b,x))\n",
    "                plot.set_title(plot_title +'\\n y_hat=' + str(np.round(line_predictions(a,b,x),2)))\n",
    "\n",
    "    interact(bootstrap_prediction_ci, \n",
    "             x = Slider(xlims.item(0), xlims.item(1)),\n",
    "             num_trials = Choice([0, 10, 50, 100, 1000]))\n",
    "    \n",
    "visualize_prediction_ci(fortis, 'Beak length, mm', 'Beak depth, mm', 'Fortis')    \n",
    "\n",
    "scandens_a, scandens_b = linear_regression(scandens, 'Beak length, mm', 'Beak depth, mm')\n",
    "visualize_prediction_ci(scandens, 'Beak length, mm', 'Beak depth, mm', 'Scandens', color=\"C1\", light_color=\"#F4CDA5\")"
   ]
  }
 ],
 "metadata": {
  "kernelspec": {
   "display_name": "Python 3 (ipykernel)",
   "language": "python",
   "name": "python3"
  },
  "language_info": {
   "codemirror_mode": {
    "name": "ipython",
    "version": 3
   },
   "file_extension": ".py",
   "mimetype": "text/x-python",
   "name": "python",
   "nbconvert_exporter": "python",
   "pygments_lexer": "ipython3",
   "version": "3.9.13"
  }
 },
 "nbformat": 4,
 "nbformat_minor": 4
}
