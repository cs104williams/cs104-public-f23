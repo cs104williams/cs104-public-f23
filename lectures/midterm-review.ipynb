{
 "cells": [
  {
   "cell_type": "markdown",
   "id": "060cc544-9f8d-4db7-a863-e1589f225830",
   "metadata": {},
   "source": [
    "# Midterm Review Session\n",
    "\n",
    "This is the code we wrote during the review session."
   ]
  },
  {
   "cell_type": "code",
   "execution_count": null,
   "id": "62d41a7f-e3f1-42bd-b14d-9847e0ebd0dd",
   "metadata": {},
   "outputs": [],
   "source": [
    "# Run this cell to set up the notebook.\n",
    "# These lines import the numpy, datascience, and cs104 libraries.\n",
    "\n",
    "import numpy as np\n",
    "from datascience import *\n",
    "from cs104 import *\n",
    "%matplotlib inline"
   ]
  },
  {
   "cell_type": "markdown",
   "id": "4a771241-9267-4fd2-9892-77b30a1628d0",
   "metadata": {},
   "source": [
    "Here's a loop that inspects the contents of an array and does something to each element:"
   ]
  },
  {
   "cell_type": "code",
   "execution_count": null,
   "id": "3ae4692b-03cb-43c8-8759-18b08916560e",
   "metadata": {},
   "outputs": [],
   "source": [
    "for word in make_array(\"Cow\", \"Goat\", \"Dog\"):\n",
    "    print(word)"
   ]
  },
  {
   "cell_type": "markdown",
   "id": "43f4a354-fc50-43ec-aae3-07717a3caa5b",
   "metadata": {},
   "source": [
    "Here's a loop that does \"something\" a specific number of times (also known as a counting loop):"
   ]
  },
  {
   "cell_type": "code",
   "execution_count": null,
   "id": "c15881d1-ca9c-46db-aae2-b9cff8688c10",
   "metadata": {},
   "outputs": [],
   "source": [
    "dice = np.arange(1,7)\n",
    "for i in np.arange(0,5):\n",
    "    print(np.random.choice(dice))\n"
   ]
  },
  {
   "cell_type": "markdown",
   "id": "9777563d-b541-48f7-bba3-16e8ec5f0c3c",
   "metadata": {},
   "source": [
    "Here's a loop that inspects elements of an array and counts the number elements that meet some criteria.  In this case, we are counting the positive numbers:"
   ]
  },
  {
   "cell_type": "code",
   "execution_count": null,
   "id": "352d1e5b-2628-4832-b48f-0b79a6f12a22",
   "metadata": {},
   "outputs": [],
   "source": [
    "def stay_positive(values):\n",
    "    count = 0\n",
    "    for i in values:\n",
    "        if i > 0:\n",
    "            count = count + 1\n",
    "    return count\n",
    "    "
   ]
  },
  {
   "cell_type": "markdown",
   "id": "eb4e87dc-febe-4312-808f-0e01c988d2d6",
   "metadata": {},
   "source": [
    "This is a version of the same function that uses array broadcasting and `np.count_nonzero`:"
   ]
  },
  {
   "cell_type": "code",
   "execution_count": null,
   "id": "1a133dcf-ad95-4d1e-a555-2814ace7acd0",
   "metadata": {},
   "outputs": [],
   "source": [
    "stay_positive(make_array(1,-1,-2,3,4,0))\n",
    "def stay_positive(values):\n",
    "    return np.count_nonzero(values > 0)\n",
    "\n",
    "stay_positive(make_array(1,-1,-2,3,4,0))"
   ]
  },
  {
   "cell_type": "markdown",
   "id": "f58a028d-b2a5-4e1a-a650-977498e29f3f",
   "metadata": {},
   "source": [
    "Here is a simple simulation loop that rolls 100 dice and counts the number of times we see a 6.  We look at one outcome at a time and tally the outcomes matching our criteria:"
   ]
  },
  {
   "cell_type": "code",
   "execution_count": null,
   "id": "a09134c7-bb54-4be1-8b00-efc4b73ad9cd",
   "metadata": {},
   "outputs": [],
   "source": [
    "dice = np.arange(1,7)\n",
    "count = 0\n",
    "for i in np.arange(0, 100):\n",
    "    if np.random.choice(dice) == 6:\n",
    "        count = count + 1\n",
    "        \n",
    "count        "
   ]
  },
  {
   "cell_type": "markdown",
   "id": "e11aed8e-8995-4854-ad14-4568969e7647",
   "metadata": {},
   "source": [
    "Here is a simple simulation loop that collects the outcomes of 1000 dice rolls in an array.  That way, we can look at all outcomes after the simulation and, for example, plot a histogram:"
   ]
  },
  {
   "cell_type": "code",
   "execution_count": null,
   "id": "b5ce23e2-c0dc-4e17-9a2e-cd56b90b0399",
   "metadata": {},
   "outputs": [],
   "source": [
    "dice = np.arange(1,7)\n",
    "result = make_array()\n",
    "for i in np.arange(0, 1000):\n",
    "    roll = np.random.choice(dice)\n",
    "    result = np.append(result, roll)\n",
    "        \n",
    "Table().with_columns(\"Rolls\", result).hist(bins=np.arange(0.5,7.5,1))\n",
    "        "
   ]
  },
  {
   "cell_type": "markdown",
   "id": "bc52e48f-b8e9-4e92-83f5-0b4b1f48fd18",
   "metadata": {},
   "source": [
    "Here are some apply examples:"
   ]
  },
  {
   "cell_type": "code",
   "execution_count": null,
   "id": "0bbfcea4-8407-4995-a7bf-a093ce16a30a",
   "metadata": {},
   "outputs": [],
   "source": [
    "finches = Table().read_table('data/finch_beaks_1975.csv')\n",
    "finches.show(3)"
   ]
  },
  {
   "cell_type": "markdown",
   "id": "9953645b-ed39-406a-b693-b385e007449d",
   "metadata": {},
   "source": [
    "Let's add a new column that is the Beak length in inches."
   ]
  },
  {
   "cell_type": "code",
   "execution_count": null,
   "id": "82f32801-cb4c-4900-a3df-e853cf934b18",
   "metadata": {},
   "outputs": [],
   "source": [
    "def to_inch(mm):\n",
    "    return mm / 25.4"
   ]
  },
  {
   "cell_type": "code",
   "execution_count": null,
   "id": "e2e1bc77-54be-4552-8d2d-593644f2eec8",
   "metadata": {},
   "outputs": [],
   "source": [
    "to_inch(10)"
   ]
  },
  {
   "cell_type": "code",
   "execution_count": null,
   "id": "3b9121ff-2b56-4c9f-ba33-66be36ccb7df",
   "metadata": {},
   "outputs": [],
   "source": [
    "inches = finches.apply(to_inch, 'Beak length, mm')\n",
    "new_finches = finches.with_columns('Beak Length, in', inches)\n",
    "new_finches"
   ]
  },
  {
   "cell_type": "markdown",
   "id": "2bfe43a8-4329-4264-975e-74f2627b87b4",
   "metadata": {},
   "source": [
    "Let's compute a \"beak area\" too.  (Okay, this is stretching credulity a bit, but it lets us demonstrate using apply with a function of two arguments."
   ]
  },
  {
   "cell_type": "code",
   "execution_count": null,
   "id": "cb4065e2-10e2-41ed-a212-bc21fbf73420",
   "metadata": {},
   "outputs": [],
   "source": [
    "def area(depth, length):\n",
    "    return depth * length"
   ]
  },
  {
   "cell_type": "code",
   "execution_count": null,
   "id": "5da765fe-9f74-40d1-83e6-a5361e17d22a",
   "metadata": {},
   "outputs": [],
   "source": [
    "areas = finches.apply(area, 'Beak depth, mm', 'Beak length, mm')\n",
    "areas"
   ]
  },
  {
   "cell_type": "code",
   "execution_count": null,
   "id": "3bdbec90-6fd5-48b0-a82c-4631332e817b",
   "metadata": {},
   "outputs": [],
   "source": [
    "finches_with_area = finches.with_columns('Beak area, mm^2', areas)\n",
    "finches_with_area.show(3)"
   ]
  },
  {
   "cell_type": "markdown",
   "id": "ca3170c9-971b-4c14-9311-9db89f820efb",
   "metadata": {},
   "source": [
    "Overlaid histograms enable us to divide rows of a table into groups that are displayed separately.  Compare this histogram:"
   ]
  },
  {
   "cell_type": "code",
   "execution_count": null,
   "id": "ebc7b7fd-979b-4994-8b06-6e6672c98b09",
   "metadata": {},
   "outputs": [],
   "source": [
    "finches.hist('Beak length, mm')"
   ]
  },
  {
   "cell_type": "markdown",
   "id": "23dcf33a-e667-4ff8-8a29-e3082fbdda60",
   "metadata": {},
   "source": [
    "to this one, where we group our observations by species.  It lets us identify the characteristics of our different groups much more easily."
   ]
  },
  {
   "cell_type": "code",
   "execution_count": null,
   "id": "b1a0597e-cbd4-40ed-9bf6-9431e0e472bc",
   "metadata": {},
   "outputs": [],
   "source": [
    "finches.hist('Beak length, mm', group='species')"
   ]
  },
  {
   "cell_type": "markdown",
   "id": "6b94394d-7e98-47f4-8dd9-c4e40e06d88b",
   "metadata": {},
   "source": [
    "One last example:"
   ]
  },
  {
   "cell_type": "code",
   "execution_count": null,
   "id": "5256041d-c822-4381-8c5c-52a47c9f0b15",
   "metadata": {},
   "outputs": [],
   "source": [
    "finches.scatter('Beak length, mm', 'Beak depth, mm', group='species')"
   ]
  },
  {
   "cell_type": "code",
   "execution_count": null,
   "id": "430eb57e-7a6a-4fda-8424-4c20bb02b541",
   "metadata": {},
   "outputs": [],
   "source": []
  }
 ],
 "metadata": {
  "kernelspec": {
   "display_name": "Python 3 (ipykernel)",
   "language": "python",
   "name": "python3"
  },
  "language_info": {
   "codemirror_mode": {
    "name": "ipython",
    "version": 3
   },
   "file_extension": ".py",
   "mimetype": "text/x-python",
   "name": "python",
   "nbconvert_exporter": "python",
   "pygments_lexer": "ipython3",
   "version": "3.9.7"
  }
 },
 "nbformat": 4,
 "nbformat_minor": 5
}
