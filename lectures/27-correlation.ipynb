{
 "cells": [
  {
   "cell_type": "markdown",
   "metadata": {},
   "source": [
    "# Correlation Coefficients"
   ]
  },
  {
   "cell_type": "code",
   "execution_count": null,
   "metadata": {
    "tags": []
   },
   "outputs": [],
   "source": [
    "from datascience import *\n",
    "from cs104 import *\n",
    "import numpy as np\n",
    "%matplotlib inline"
   ]
  },
  {
   "cell_type": "markdown",
   "metadata": {},
   "source": [
    "## 1. Finch data"
   ]
  },
  {
   "cell_type": "code",
   "execution_count": null,
   "metadata": {
    "tags": []
   },
   "outputs": [],
   "source": [
    "# Load finch data \n",
    "finch_1975 = Table().read_table(\"data/finch_beaks_1975.csv\")\n",
    "finch_1975.show(6)"
   ]
  },
  {
   "cell_type": "code",
   "execution_count": null,
   "metadata": {
    "tags": []
   },
   "outputs": [],
   "source": [
    "fortis = finch_1975.where('species', 'fortis')\n",
    "fortis.num_rows"
   ]
  },
  {
   "cell_type": "code",
   "execution_count": null,
   "metadata": {
    "tags": []
   },
   "outputs": [],
   "source": [
    "scandens = finch_1975.where('species', 'scandens')\n",
    "scandens.num_rows"
   ]
  },
  {
   "cell_type": "code",
   "execution_count": null,
   "metadata": {
    "tags": []
   },
   "outputs": [],
   "source": [
    "plot = fortis.scatter('Beak length, mm', 'Beak depth, mm')\n",
    "plot.set_title('Fortis Finches, 1975')"
   ]
  },
  {
   "cell_type": "code",
   "execution_count": null,
   "metadata": {
    "tags": []
   },
   "outputs": [],
   "source": [
    "plot = fortis.scatter('Beak length, mm', 'Beak depth, mm', fit_line=True)\n",
    "plot.set_title('Fortis Finches, 1975') "
   ]
  },
  {
   "cell_type": "code",
   "execution_count": null,
   "metadata": {
    "tags": []
   },
   "outputs": [],
   "source": [
    "finch_1975.scatter('Beak length, mm', 'Beak depth, mm', group='species')\n",
    "plot.set_title('Fortis Finches, 1975') "
   ]
  },
  {
   "cell_type": "markdown",
   "metadata": {},
   "source": [
    "## 2. Correlation Intuition"
   ]
  },
  {
   "cell_type": "markdown",
   "metadata": {},
   "source": [
    "Visualize different values of r:"
   ]
  },
  {
   "cell_type": "code",
   "execution_count": null,
   "metadata": {
    "tags": []
   },
   "outputs": [],
   "source": [
    "\n",
    "def make_table(r, x_mean, y_mean, size, seed=10):\n",
    "    \"\"\"\n",
    "    Make a table of size random (x,y) points with a \n",
    "    correlation coefficient of approximately r.\n",
    "    The points will be centered at (x_mean,y_mean).\n",
    "    \"\"\"\n",
    "    rng = np.random.default_rng(seed)\n",
    "    x = rng.normal(x_mean, 1, size)\n",
    "    z = rng.normal(y_mean, 1, size)\n",
    "    y = r*x + (np.sqrt(1-r**2))*z\n",
    "    \n",
    "    # Make sure the mean is *exactly* what we want :).\n",
    "    table = Table().with_columns(\"x\", x - np.mean(x) + x_mean, \"y\", y - np.mean(y) + y_mean)\n",
    "    \n",
    "    return table\n",
    "\n",
    "def plot_table(table, color='C4', fit_line=True, **kwargs):\n",
    "    \"\"\"\n",
    "    Plot a table of (x,y).\n",
    "    \"\"\"\n",
    "    plot = table.scatter(\"x\", \"y\",alpha=0.5, fit_line=fit_line, color=color, **kwargs)\n",
    "    plot.line(x = 0, color='white', width=4, zorder=0.9)\n",
    "    plot.line(y = 0, color='white', width=4, zorder=0.9)    \n",
    "    plot.set_xlim(-4, 4)\n",
    "    plot.set_ylim(-4, 4)\n",
    "    return plot\n",
    "\n",
    "def r_scatter(r):\n",
    "    \"Generate a scatter plot with a correlation approximately r\"\n",
    "    table = make_table(r, 0, 0, 500)\n",
    "    plot = plot_table(table)\n",
    "    plot.set_title('r = '+str(r))"
   ]
  },
  {
   "cell_type": "code",
   "execution_count": null,
   "metadata": {
    "tags": []
   },
   "outputs": [],
   "source": [
    "interact(r_scatter, r = Slider(-1,1,0.01))"
   ]
  },
  {
   "cell_type": "markdown",
   "metadata": {},
   "source": [
    "Here are several scatter plots with representative values of r."
   ]
  },
  {
   "cell_type": "markdown",
   "metadata": {},
   "source": [
    "## 3. Implementing Pearson's Correlation Coefficient"
   ]
  },
  {
   "cell_type": "markdown",
   "metadata": {},
   "source": [
    "Here is our formula for $r$:\n",
    "\n",
    "$$\n",
    "r = \\frac{\n",
    "  \\sum_i (x_i - \\bar{x})(y_i - \\bar{y})\n",
    "}{\n",
    "  \\sqrt{\\sum_i(x_i - \\bar{x})^2}\\sqrt{\\sum_i(y_i - \\bar{y})^2}\n",
    "}\n",
    "$$\n",
    "\n",
    "And its implementation:"
   ]
  },
  {
   "cell_type": "code",
   "execution_count": null,
   "metadata": {
    "tags": []
   },
   "outputs": [],
   "source": [
    "def pearson_correlation(table, x_label, y_label):\n",
    "    \"\"\"\n",
    "    Return the correlation coefficient capturing the sign\n",
    "    and strength of the association between the given columns in the\n",
    "    table.\n",
    "    \"\"\"\n",
    "    x = table.column(x_label)\n",
    "    y = table.column(y_label)\n",
    "    x_mean = np.mean(x)\n",
    "    y_mean = np.mean(y)\n",
    "    numerator = sum((x - x_mean) * (y - y_mean)) \n",
    "    denominator = np.sqrt(sum((x - x_mean)**2)) * np.sqrt(sum((y - y_mean)**2))\n",
    "    return numerator / denominator "
   ]
  },
  {
   "cell_type": "code",
   "execution_count": null,
   "metadata": {
    "tags": []
   },
   "outputs": [],
   "source": [
    "fortis_r = pearson_correlation(fortis, 'Beak length, mm', 'Beak depth, mm')\n",
    "fortis_r"
   ]
  },
  {
   "cell_type": "code",
   "execution_count": null,
   "metadata": {
    "tags": []
   },
   "outputs": [],
   "source": [
    "scandens_r = pearson_correlation(scandens, 'Beak length, mm', 'Beak depth, mm')\n",
    "scandens_r"
   ]
  },
  {
   "cell_type": "code",
   "execution_count": null,
   "metadata": {
    "tags": []
   },
   "outputs": [],
   "source": [
    "finch_1975.scatter('Beak length, mm', 'Beak depth, mm', fit_line=True, group=\"species\")"
   ]
  },
  {
   "cell_type": "code",
   "execution_count": null,
   "metadata": {
    "tags": []
   },
   "outputs": [],
   "source": [
    "fortis_r = pearson_correlation(fortis, 'Beak length, mm', 'Beak depth, mm')\n",
    "fortis_r"
   ]
  },
  {
   "cell_type": "code",
   "execution_count": null,
   "metadata": {
    "tags": []
   },
   "outputs": [],
   "source": [
    "scandens_r = pearson_correlation(scandens, 'Beak length, mm', 'Beak depth, mm')\n",
    "scandens_r"
   ]
  },
  {
   "cell_type": "code",
   "execution_count": null,
   "metadata": {},
   "outputs": [],
   "source": [
    "finch_1975.scatter('Beak length, mm', 'Beak depth, mm', fit_line=True, group=\"species\")"
   ]
  },
  {
   "cell_type": "markdown",
   "metadata": {
    "tags": []
   },
   "source": [
    "Switching axes shouldn't change anything. "
   ]
  },
  {
   "cell_type": "code",
   "execution_count": null,
   "metadata": {
    "tags": []
   },
   "outputs": [],
   "source": [
    "scandens_r = pearson_correlation(scandens, 'Beak depth, mm', 'Beak length, mm')\n",
    "scandens_r"
   ]
  },
  {
   "cell_type": "markdown",
   "metadata": {},
   "source": [
    "## 4. Watch out for... "
   ]
  },
  {
   "cell_type": "markdown",
   "metadata": {
    "tags": []
   },
   "source": [
    "### Nonlinearity"
   ]
  },
  {
   "cell_type": "code",
   "execution_count": null,
   "metadata": {
    "tags": []
   },
   "outputs": [],
   "source": [
    "new_x = np.arange(-4, 4.1, 0.5)\n",
    "nonlinear = Table().with_columns(\n",
    "        'x', new_x,\n",
    "        'y', new_x**2\n",
    "    )\n",
    "nonlinear.scatter('x', 'y', s=50, color='red')"
   ]
  },
  {
   "cell_type": "code",
   "execution_count": null,
   "metadata": {
    "tags": []
   },
   "outputs": [],
   "source": [
    "pearson_correlation(nonlinear, 'x', 'y')"
   ]
  },
  {
   "cell_type": "markdown",
   "metadata": {},
   "source": [
    "### Outliers\n",
    "\n",
    "What can cause outliers?  What to do when you encounter them?"
   ]
  },
  {
   "cell_type": "code",
   "execution_count": null,
   "metadata": {
    "tags": []
   },
   "outputs": [],
   "source": [
    "line = Table().with_columns(\n",
    "        'x', make_array(1, 2, 3, 4,5),\n",
    "        'y', make_array(1, 2, 3, 4,5)\n",
    "    )\n",
    "line.scatter('x', 'y', s=50, color='red')"
   ]
  },
  {
   "cell_type": "code",
   "execution_count": null,
   "metadata": {
    "tags": []
   },
   "outputs": [],
   "source": [
    "pearson_correlation(line, 'x', 'y')"
   ]
  },
  {
   "cell_type": "code",
   "execution_count": null,
   "metadata": {
    "tags": []
   },
   "outputs": [],
   "source": [
    "outlier = Table().with_columns(\n",
    "        'x', make_array(1, 2, 3, 4, 5),\n",
    "        'y', make_array(1, 2, 3, 4, 0)\n",
    "    )\n",
    "outlier.scatter('x', 'y', s=50, color='red')"
   ]
  },
  {
   "cell_type": "code",
   "execution_count": null,
   "metadata": {
    "tags": []
   },
   "outputs": [],
   "source": [
    "pearson_correlation(outlier, 'x', 'y')"
   ]
  },
  {
   "cell_type": "markdown",
   "metadata": {},
   "source": [
    "### False Correlations due to Data Aggregation"
   ]
  },
  {
   "cell_type": "code",
   "execution_count": null,
   "metadata": {
    "tags": []
   },
   "outputs": [],
   "source": [
    "sat2014 = Table.read_table('data/sat2014.csv').sort('State')\n",
    "sat2014"
   ]
  },
  {
   "cell_type": "code",
   "execution_count": null,
   "metadata": {
    "tags": []
   },
   "outputs": [],
   "source": [
    "sat2014.scatter('Critical Reading', 'Math')"
   ]
  },
  {
   "cell_type": "code",
   "execution_count": null,
   "metadata": {
    "tags": []
   },
   "outputs": [],
   "source": [
    "pearson_correlation(sat2014, 'Critical Reading', 'Math')"
   ]
  },
  {
   "cell_type": "code",
   "execution_count": null,
   "metadata": {
    "tags": []
   },
   "outputs": [],
   "source": [
    "sat_fake = Table.read_table('data/sat-bogus.csv').sort('State')  "
   ]
  },
  {
   "cell_type": "markdown",
   "metadata": {},
   "source": [
    "Here is some fake data to illustrate this:"
   ]
  },
  {
   "cell_type": "code",
   "execution_count": null,
   "metadata": {
    "tags": []
   },
   "outputs": [],
   "source": [
    "sat_fake_g = sat_fake.group('State', np.mean)\n",
    "\n",
    "with Figure(1,2, figsize=(6,4)):\n",
    "    sat_fake_g.scatter('Critical Reading mean', 'Math mean', fit_line=True)\n",
    "    sat_fake.scatter('Critical Reading', 'Math', group='State')\n",
    "\n",
    "# print(pearson_correlation(sat_fake_g, 'Critical Reading mean', 'Math mean'))\n",
    "# print(pearson_correlation(sat_fake, 'Critical Reading', 'Math'))"
   ]
  },
  {
   "cell_type": "markdown",
   "metadata": {},
   "source": [
    "r is 0.98 on the left, but -0.09 for the un-aggregated data on the right!"
   ]
  },
  {
   "cell_type": "code",
   "execution_count": null,
   "metadata": {},
   "outputs": [],
   "source": []
  }
 ],
 "metadata": {
  "kernelspec": {
   "display_name": "Python 3 (ipykernel)",
   "language": "python",
   "name": "python3"
  },
  "language_info": {
   "codemirror_mode": {
    "name": "ipython",
    "version": 3
   },
   "file_extension": ".py",
   "mimetype": "text/x-python",
   "name": "python",
   "nbconvert_exporter": "python",
   "pygments_lexer": "ipython3",
   "version": "3.9.13"
  }
 },
 "nbformat": 4,
 "nbformat_minor": 4
}
