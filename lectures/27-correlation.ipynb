{
 "cells": [
  {
   "cell_type": "markdown",
   "metadata": {},
   "source": [
    "# Correlation Coefficients"
   ]
  },
  {
   "cell_type": "code",
   "execution_count": null,
   "metadata": {
    "tags": []
   },
   "outputs": [],
   "source": [
    "from datascience import *\n",
    "from cs104 import *\n",
    "import numpy as np\n",
    "%matplotlib inline"
   ]
  },
  {
   "cell_type": "markdown",
   "metadata": {},
   "source": [
    "## 1. Finch data"
   ]
  },
  {
   "cell_type": "code",
   "execution_count": null,
   "metadata": {
    "tags": []
   },
   "outputs": [],
   "source": [
    "# Load finch data \n",
    "finch_1975 = Table().read_table(\"data/finch_beaks_1975.csv\")\n",
    "finch_1975.show(6)"
   ]
  },
  {
   "cell_type": "code",
   "execution_count": null,
   "metadata": {
    "tags": []
   },
   "outputs": [],
   "source": [
    "fortis = finch_1975.where('species', 'fortis')\n",
    "fortis.num_rows"
   ]
  },
  {
   "cell_type": "code",
   "execution_count": null,
   "metadata": {
    "tags": []
   },
   "outputs": [],
   "source": [
    "scandens = finch_1975.where('species', 'scandens')\n",
    "scandens.num_rows"
   ]
  },
  {
   "cell_type": "code",
   "execution_count": null,
   "metadata": {
    "tags": []
   },
   "outputs": [],
   "source": [
    "plot = fortis.scatter('Beak length, mm', 'Beak depth, mm')\n",
    "plot.set_title('Fortis Finches, 1975')"
   ]
  },
  {
   "cell_type": "code",
   "execution_count": null,
   "metadata": {
    "tags": []
   },
   "outputs": [],
   "source": [
    "plot = fortis.scatter('Beak length, mm', 'Beak depth, mm', fit_line=True)\n",
    "plot.set_title('Fortis Finches, 1975') "
   ]
  },
  {
   "cell_type": "code",
   "execution_count": null,
   "metadata": {
    "tags": []
   },
   "outputs": [],
   "source": [
    "finch_1975.scatter('Beak length, mm', 'Beak depth, mm', group='species')\n",
    "plot.set_title('Fortis Finches, 1975') "
   ]
  },
  {
   "cell_type": "markdown",
   "metadata": {},
   "source": [
    "## 2. Correlation Intuition"
   ]
  },
  {
   "cell_type": "markdown",
   "metadata": {},
   "source": [
    "Visualize different values of r:"
   ]
  },
  {
   "cell_type": "code",
   "execution_count": null,
   "metadata": {
    "tags": []
   },
   "outputs": [],
   "source": [
    "\n",
    "def make_table(r, x_mean, y_mean, size, seed=10):\n",
    "    \"\"\"\n",
    "    Make a table of size random (x,y) points with a \n",
    "    correlation coefficient of approximately r.\n",
    "    The points will be centered at (x_mean,y_mean).\n",
    "    \"\"\"\n",
    "    rng = np.random.default_rng(seed)\n",
    "    x = rng.normal(x_mean, 1, size)\n",
    "    z = rng.normal(y_mean, 1, size)\n",
    "    y = r*x + (np.sqrt(1-r**2))*z\n",
    "    \n",
    "    # Make sure the mean is *exactly* what we want :).\n",
    "    table = Table().with_columns(\"x\", x - np.mean(x) + x_mean, \"y\", y - np.mean(y) + y_mean)\n",
    "    \n",
    "    return table\n",
    "\n",
    "def plot_table(table, color='C4', fit_line=True, **kwargs):\n",
    "    \"\"\"\n",
    "    Plot a table of (x,y).\n",
    "    \"\"\"\n",
    "    plot = table.scatter(\"x\", \"y\",alpha=0.5, fit_line=fit_line, color=color, **kwargs)\n",
    "    plot.line(x = 0, color='white', width=4, zorder=0.9)\n",
    "    plot.line(y = 0, color='white', width=4, zorder=0.9)    \n",
    "    plot.set_xlim(-4, 4)\n",
    "    plot.set_ylim(-4, 4)\n",
    "    return plot\n",
    "\n",
    "def r_scatter(r):\n",
    "    \"Generate a scatter plot with a correlation approximately r\"\n",
    "    table = make_table(r, 0, 0, 500)\n",
    "    plot = plot_table(table)\n",
    "    plot.set_title('r = '+str(r))"
   ]
  },
  {
   "cell_type": "code",
   "execution_count": null,
   "metadata": {
    "tags": []
   },
   "outputs": [],
   "source": [
    "interact(r_scatter, r = Slider(-1,1,0.01))"
   ]
  },
  {
   "cell_type": "markdown",
   "metadata": {},
   "source": [
    "Here are several scatter plots with representative values of r."
   ]
  },
  {
   "cell_type": "markdown",
   "metadata": {},
   "source": [
    "## Computing r"
   ]
  },
  {
   "cell_type": "markdown",
   "metadata": {},
   "source": [
    "Here is a small data set we'll use to develop a formula for computing Pearson's correlation coefficient $r$."
   ]
  },
  {
   "cell_type": "code",
   "execution_count": null,
   "metadata": {},
   "outputs": [],
   "source": [
    "tiny_data = make_table(0.4, 0, 0, 200)\n",
    "plot_table(tiny_data, s=50, fit_line=False)"
   ]
  },
  {
   "cell_type": "code",
   "execution_count": null,
   "metadata": {},
   "outputs": [],
   "source": [
    "\n",
    "def plot_table_quadarants(table):\n",
    "    x = table.column(\"x\")\n",
    "    y = table.column(\"y\")    \n",
    "    cm = plots.cm.get_cmap('RdBu')\n",
    "    plot = table.scatter(\"x\", \"y\",alpha=0.85, color=None, c=x*y/abs(x*y), vmin=-1.3, vmax=1.3, s=50, cmap=cm)\n",
    "    plot.line(x = 0, color='white', width=4, zorder=0.9)\n",
    "    plot.line(y = 0, color='white', width=4, zorder=0.9)    \n",
    "    plot.set_xlim(-4, 4)\n",
    "    plot.set_ylim(-4, 4)\n",
    "    return plot\n",
    "\n",
    "def plot_table_magnitudes_broken(table, diagonals = True, fit_line=False):\n",
    "    x = table.column(\"x\")\n",
    "    y = table.column(\"y\")\n",
    "    x_mean = 0\n",
    "    y_mean = 0\n",
    "    numerator = (x - x_mean) * (y - y_mean)\n",
    "    denominator = np.sqrt(sum((x - x_mean)**2)) * np.sqrt(sum((y - y_mean)**2))\n",
    "    \n",
    "    limit = np.max(np.abs(numerator/denominator))\n",
    "    \n",
    "    cm = plots.cm.get_cmap('RdBu')\n",
    "    plot = table.scatter(\"x\", \"y\",fit_line=fit_line, alpha=0.75, color=None, c=(numerator/denominator), s=50, cmap=cm,  \n",
    "                           norm=colors.SymLogNorm(linthresh=0.001,\n",
    "                                              vmin=-limit, vmax=limit, base=10))\n",
    "    plot.set_xlim(-4, 4)\n",
    "    plot.set_ylim(-4, 4)\n",
    "    plot.line(x = 0, color='white', width=4, zorder=0.9)\n",
    "    plot.line(y = 0, color='white', width=4, zorder=0.9)\n",
    "    if diagonals:\n",
    "        plot.line(slope=1,intercept=0, color='gray', linestyle='--', width=2, zorder=0.92)    \n",
    "        plot.line(slope=-1,intercept=0, color='gray', linestyle='--', width=2, zorder=0.92)    \n",
    "    return plot\n",
    "\n",
    "def plot_table_magnitudes(table, diagonals = True):\n",
    "    x = table.column(\"x\")\n",
    "    y = table.column(\"y\")\n",
    "    x_mean = np.mean(x)\n",
    "    y_mean = np.mean(y)    \n",
    "    numerator = (x - x_mean) * (y - y_mean)\n",
    "    denominator = np.sqrt(sum((x - x_mean)**2)) * np.sqrt(sum((y - y_mean)**2))\n",
    "    \n",
    "    limit = np.max(np.abs(numerator/denominator))\n",
    "    \n",
    "    cm = plots.cm.get_cmap('RdBu')\n",
    "    plot = table.scatter(\"x\", \"y\",alpha=0.75, color=None, c=(numerator/denominator), s=50, cmap=cm,  \n",
    "                           norm=colors.SymLogNorm(linthresh=0.001,\n",
    "                                              vmin=-limit, vmax=limit, base=10))\n",
    "    plot.set_xlim(-4, 4)\n",
    "    plot.set_ylim(-4, 4)\n",
    "    plot.line(x = 0, color='white', width=4, zorder=0.9)\n",
    "    plot.line(y = 0, color='white', width=4, zorder=0.9)\n",
    "    if diagonals:\n",
    "        plot.line(slope=1,intercept=0, color='gray', linestyle='--', width=2, zorder=0.92)    \n",
    "        plot.line(slope=-1,intercept=0, color='gray', linestyle='--', width=2, zorder=0.92)    \n",
    "    return plot\n",
    "       \n",
    "\n",
    "def pearson_correlation1(table, x_label, y_label):\n",
    "    \"\"\"\n",
    "    Return the correlation coefficient capturing the sign\n",
    "    and strength of the association between the given columns in the\n",
    "    table.\n",
    "    \"\"\"\n",
    "    x = table.column(x_label)\n",
    "    y = table.column(y_label)\n",
    "    x_mean = np.mean(x)\n",
    "    y_mean = np.mean(y)\n",
    "    r = sum(x * y) \n",
    "    return r\n",
    "\n",
    "def pearson_correlation2(table, x_label, y_label):\n",
    "    \"\"\"\n",
    "    Return the correlation coefficient capturing the sign\n",
    "    and strength of the association between the given columns in the\n",
    "    table.\n",
    "    \"\"\"\n",
    "    x = table.column(x_label)\n",
    "    y = table.column(y_label)\n",
    "    x_mean = np.mean(x)\n",
    "    y_mean = np.mean(y)\n",
    "    numerator = sum(x * y) \n",
    "    denominator = np.sqrt(sum(x**2)) * np.sqrt(sum(y**2))\n",
    "    return numerator / denominator \n",
    "\n",
    "def pearson_correlation2_denom(table, x_label, y_label):\n",
    "    \"\"\"\n",
    "    Return the correlation coefficient capturing the sign\n",
    "    and strength of the association between the given columns in the\n",
    "    table.\n",
    "    \"\"\"\n",
    "    x = table.column(x_label)\n",
    "    y = table.column(y_label)\n",
    "    x_mean = np.mean(x)\n",
    "    y_mean = np.mean(y)\n",
    "    numerator = sum(x * y) \n",
    "    denominator = np.sqrt(sum(x**2)) * np.sqrt(sum(y**2))\n",
    "    return denominator \n",
    "\n",
    "\n",
    "def pearson_correlation(table, x_label, y_label):\n",
    "    \"\"\"\n",
    "    Return the correlation coefficient capturing the sign\n",
    "    and strength of the association between the given columns in the\n",
    "    table.\n",
    "    \"\"\"\n",
    "    x = table.column(x_label)\n",
    "    y = table.column(y_label)\n",
    "    x_mean = np.mean(x)\n",
    "    y_mean = np.mean(y)\n",
    "    numerator = sum((x - x_mean) * (y - y_mean)) \n",
    "    denominator = np.sqrt(sum((x - x_mean)**2)) * np.sqrt(sum((y - y_mean)**2))\n",
    "    return numerator / denominator "
   ]
  },
  {
   "cell_type": "markdown",
   "metadata": {},
   "source": [
    "### Step 1\n",
    "\n",
    "We first note that the blue points in the top-right and bottom-left quadrants reflect positive correlation between x and y.  The red points in the other two quadrents reflect negative correlation."
   ]
  },
  {
   "cell_type": "code",
   "execution_count": null,
   "metadata": {},
   "outputs": [],
   "source": [
    "plot_table_quadarants(tiny_data)"
   ]
  },
  {
   "cell_type": "markdown",
   "metadata": {},
   "source": [
    "We can determined whether a point $(x,y)$ contributes to a positive/negative association by inspecting the sign if $x \\cdot y$.  Also points close to the diagonals and further away from the origin reflect much stronger correlation than those near the origin."
   ]
  },
  {
   "cell_type": "code",
   "execution_count": null,
   "metadata": {},
   "outputs": [],
   "source": [
    "plot_table_magnitudes_broken(tiny_data)"
   ]
  },
  {
   "cell_type": "markdown",
   "metadata": {
    "tags": []
   },
   "source": [
    "This leads us to our first way to quantify correlation:\n",
    "$\n",
    "\\sum_i x_i y_i = x_0 y_0 + x_1 y_1 + \\ldots + x_n y_n\n",
    "$."
   ]
  },
  {
   "cell_type": "markdown",
   "metadata": {
    "tags": []
   },
   "source": [
    "However, this formula can produce arbitrarily large or small numbers.  For our sample data, that formula produces 93.1.  \n",
    "\n",
    "We must normalize it to be in the range -1 to 1 to ensure our coefficient is interpretable:\n",
    "\n",
    "$$\n",
    "\\frac{\\sum_i x_i y_i}{\\sqrt{\\sum_i x_i^2}\\sqrt{\\sum_i y_i^2}} \n",
    "$$ \n",
    "\n",
    "With that adjustment, our data set yields 0.48."
   ]
  },
  {
   "cell_type": "code",
   "execution_count": null,
   "metadata": {
    "tags": []
   },
   "outputs": [],
   "source": [
    "\n",
    "x_bar = 1\n",
    "y_bar = 1.5\n",
    "\n",
    "uncentered = make_table(-0.65, x_bar, y_bar, 200, 13)\n",
    "centered = make_table(-0.65, 0, 0, 200, 13)"
   ]
  },
  {
   "cell_type": "markdown",
   "metadata": {},
   "source": [
    "Now consider the data set on the left below.  Unlike those above, this data is not \"centered\" at (0,0).  That is the mean $x$ and mean $y$ values are not both 0.  Our formula produces the correlation coefficient 0.24, but $x$ and $y$ are not positively correlated, but rather negatively!  The issue can be seen with the plot on the right: we've mis-classified many points as showing positive correlation instead of negative because where they line on the plane."
   ]
  },
  {
   "cell_type": "code",
   "execution_count": null,
   "metadata": {
    "tags": []
   },
   "outputs": [],
   "source": [
    "with Figure(1,2):\n",
    "    plot = plot_table(uncentered, s=50, color='C2', fit_line=False)\n",
    "    plot = plot_table_magnitudes_broken(uncentered, diagonals=False)"
   ]
  },
  {
   "cell_type": "markdown",
   "metadata": {},
   "source": [
    "To handle this, we must recenter that data at (0,0) by subtract the mean x and mean y values $(\\bar{x},\\bar{y})$ from each point with our final formula for $r$:\n",
    "\n",
    "$$\n",
    "r = \\frac{\n",
    "  \\sum_i (x_i - \\bar{x})(y_i - \\bar{y})\n",
    "}{\n",
    "  \\sqrt{\\sum_i(x_i - \\bar{x})^2}\\sqrt{\\sum_i(y_i - \\bar{y})^2}\n",
    "}\n",
    "$$\n",
    "\n",
    "We see that adjustment visually below, and the formula above shows $r$ to be -0.70."
   ]
  },
  {
   "cell_type": "code",
   "execution_count": null,
   "metadata": {
    "tags": []
   },
   "outputs": [],
   "source": [
    "with Figure(1,2):\n",
    "    plot = plot_table(uncentered, s=50, color='C2', fit_line=False)\n",
    "    plot.dot(x_bar, y_bar, color='C2')\n",
    "    \n",
    "    plot = plot_table(centered, s=50, color='C2', fit_line=True)\n",
    "    plot.dot(0, 0, color='C2')    "
   ]
  },
  {
   "cell_type": "markdown",
   "metadata": {},
   "source": [
    "## 3. Implementing Pearson's Correlation Coefficient"
   ]
  },
  {
   "cell_type": "code",
   "execution_count": null,
   "metadata": {
    "tags": []
   },
   "outputs": [],
   "source": [
    "def pearson_correlation(table, x_label, y_label):\n",
    "    \"\"\"\n",
    "    Return the correlation coefficient capturing the sign\n",
    "    and strength of the association between the given columns in the\n",
    "    table.\n",
    "    \"\"\"\n",
    "    x = table.column(x_label)\n",
    "    y = table.column(y_label)\n",
    "    x_mean = np.mean(x)\n",
    "    y_mean = np.mean(y)\n",
    "    numerator = sum((x - x_mean) * (y - y_mean)) \n",
    "    denominator = np.sqrt(sum((x - x_mean)**2)) * np.sqrt(sum((y - y_mean)**2))\n",
    "    return numerator / denominator "
   ]
  },
  {
   "cell_type": "code",
   "execution_count": null,
   "metadata": {
    "tags": []
   },
   "outputs": [],
   "source": [
    "fortis_r = pearson_correlation(fortis, 'Beak length, mm', 'Beak depth, mm')\n",
    "fortis_r"
   ]
  },
  {
   "cell_type": "code",
   "execution_count": null,
   "metadata": {
    "tags": []
   },
   "outputs": [],
   "source": [
    "scandens_r = pearson_correlation(scandens, 'Beak length, mm', 'Beak depth, mm')\n",
    "scandens_r"
   ]
  },
  {
   "cell_type": "code",
   "execution_count": null,
   "metadata": {
    "tags": []
   },
   "outputs": [],
   "source": [
    "finch_1975.scatter('Beak length, mm', 'Beak depth, mm', fit_line=True, group=\"species\")"
   ]
  },
  {
   "cell_type": "code",
   "execution_count": null,
   "metadata": {
    "tags": []
   },
   "outputs": [],
   "source": [
    "fortis_r = pearson_correlation(fortis, 'Beak length, mm', 'Beak depth, mm')\n",
    "fortis_r"
   ]
  },
  {
   "cell_type": "code",
   "execution_count": null,
   "metadata": {
    "tags": []
   },
   "outputs": [],
   "source": [
    "scandens_r = pearson_correlation(scandens, 'Beak length, mm', 'Beak depth, mm')\n",
    "scandens_r"
   ]
  },
  {
   "cell_type": "code",
   "execution_count": null,
   "metadata": {},
   "outputs": [],
   "source": [
    "finch_1975.scatter('Beak length, mm', 'Beak depth, mm', fit_line=True, group=\"species\")"
   ]
  },
  {
   "cell_type": "markdown",
   "metadata": {
    "tags": []
   },
   "source": [
    "Switching axes shouldn't change anything. "
   ]
  },
  {
   "cell_type": "code",
   "execution_count": null,
   "metadata": {
    "tags": []
   },
   "outputs": [],
   "source": [
    "scandens_r = pearson_correlation(scandens, 'Beak depth, mm', 'Beak length, mm')\n",
    "scandens_r"
   ]
  },
  {
   "cell_type": "markdown",
   "metadata": {},
   "source": [
    "## 4. Watch out for... "
   ]
  },
  {
   "cell_type": "markdown",
   "metadata": {
    "tags": []
   },
   "source": [
    "### Nonlinearity"
   ]
  },
  {
   "cell_type": "code",
   "execution_count": null,
   "metadata": {
    "tags": []
   },
   "outputs": [],
   "source": [
    "new_x = np.arange(-4, 4.1, 0.5)\n",
    "nonlinear = Table().with_columns(\n",
    "        'x', new_x,\n",
    "        'y', new_x**2\n",
    "    )\n",
    "nonlinear.scatter('x', 'y', s=50, color='red')"
   ]
  },
  {
   "cell_type": "code",
   "execution_count": null,
   "metadata": {
    "tags": []
   },
   "outputs": [],
   "source": [
    "pearson_correlation(nonlinear, 'x', 'y')"
   ]
  },
  {
   "cell_type": "markdown",
   "metadata": {},
   "source": [
    "### Outliers\n",
    "\n",
    "What can cause outliers?  What to do when you encounter them?"
   ]
  },
  {
   "cell_type": "code",
   "execution_count": null,
   "metadata": {
    "tags": []
   },
   "outputs": [],
   "source": [
    "line = Table().with_columns(\n",
    "        'x', make_array(1, 2, 3, 4,5),\n",
    "        'y', make_array(1, 2, 3, 4,5)\n",
    "    )\n",
    "line.scatter('x', 'y', s=50, color='red')"
   ]
  },
  {
   "cell_type": "code",
   "execution_count": null,
   "metadata": {
    "tags": []
   },
   "outputs": [],
   "source": [
    "pearson_correlation(line, 'x', 'y')"
   ]
  },
  {
   "cell_type": "code",
   "execution_count": null,
   "metadata": {
    "tags": []
   },
   "outputs": [],
   "source": [
    "outlier = Table().with_columns(\n",
    "        'x', make_array(1, 2, 3, 4, 5),\n",
    "        'y', make_array(1, 2, 3, 4, 0)\n",
    "    )\n",
    "outlier.scatter('x', 'y', s=50, color='red')"
   ]
  },
  {
   "cell_type": "code",
   "execution_count": null,
   "metadata": {
    "tags": []
   },
   "outputs": [],
   "source": [
    "pearson_correlation(outlier, 'x', 'y')"
   ]
  },
  {
   "cell_type": "markdown",
   "metadata": {},
   "source": [
    "### False Correlations due to Data Aggregation"
   ]
  },
  {
   "cell_type": "code",
   "execution_count": null,
   "metadata": {
    "tags": []
   },
   "outputs": [],
   "source": [
    "sat2014 = Table.read_table('data/sat2014.csv').sort('State')\n",
    "sat2014"
   ]
  },
  {
   "cell_type": "code",
   "execution_count": null,
   "metadata": {
    "tags": []
   },
   "outputs": [],
   "source": [
    "sat2014.scatter('Critical Reading', 'Math')"
   ]
  },
  {
   "cell_type": "code",
   "execution_count": null,
   "metadata": {
    "tags": []
   },
   "outputs": [],
   "source": [
    "pearson_correlation(sat2014, 'Critical Reading', 'Math')"
   ]
  },
  {
   "cell_type": "code",
   "execution_count": null,
   "metadata": {
    "tags": []
   },
   "outputs": [],
   "source": [
    "sat_fake = Table.read_table('data/sat-bogus.csv').sort('State')  "
   ]
  },
  {
   "cell_type": "markdown",
   "metadata": {},
   "source": [
    "Here is some fake data to illustrate this:"
   ]
  },
  {
   "cell_type": "code",
   "execution_count": null,
   "metadata": {
    "tags": []
   },
   "outputs": [],
   "source": [
    "sat_fake_g = sat_fake.group('State', np.mean)\n",
    "\n",
    "with Figure(1,2, figsize=(6,4)):\n",
    "    sat_fake_g.scatter('Critical Reading mean', 'Math mean', fit_line=True)\n",
    "    sat_fake.scatter('Critical Reading', 'Math', group='State')\n",
    "\n",
    "# print(pearson_correlation(sat_fake_g, 'Critical Reading mean', 'Math mean'))\n",
    "# print(pearson_correlation(sat_fake, 'Critical Reading', 'Math'))"
   ]
  },
  {
   "cell_type": "markdown",
   "metadata": {},
   "source": [
    "r is 0.98 on the left, but -0.09 for the un-aggregated data on the right!"
   ]
  },
  {
   "cell_type": "code",
   "execution_count": null,
   "metadata": {},
   "outputs": [],
   "source": []
  }
 ],
 "metadata": {
  "kernelspec": {
   "display_name": "Python 3 (ipykernel)",
   "language": "python",
   "name": "python3"
  },
  "language_info": {
   "codemirror_mode": {
    "name": "ipython",
    "version": 3
   },
   "file_extension": ".py",
   "mimetype": "text/x-python",
   "name": "python",
   "nbconvert_exporter": "python",
   "pygments_lexer": "ipython3",
   "version": "3.9.13"
  }
 },
 "nbformat": 4,
 "nbformat_minor": 4
}
