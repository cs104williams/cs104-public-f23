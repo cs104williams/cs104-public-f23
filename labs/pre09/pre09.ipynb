{
 "cells": [
  {
   "cell_type": "code",
   "execution_count": null,
   "id": "d188a272",
   "metadata": {
    "deletable": false,
    "editable": false
   },
   "outputs": [],
   "source": [
    "# Initialize Otter\n",
    "import otter\n",
    "grader = otter.Notebook(\"pre09.ipynb\")"
   ]
  },
  {
   "cell_type": "markdown",
   "id": "c259cc6b",
   "metadata": {
    "deletable": false,
    "editable": false
   },
   "source": [
    "<table style=\"width: 100%;\">\n",
    "<tr style=\"background-color: transparent;\">\n",
    "<td width=\"100px\"><img src=\"https://cs104williams.github.io/assets/cs104-logo.png\" width=\"90px\" style=\"text-align: center\"/></td>\n",
    "<td>\n",
    "  <p style=\"margin-bottom: 0px; text-align: left; font-size: 18pt;\"><strong>CSCI 104: Data Science and Computing for All</strong><br>\n",
    "                Williams College<br>\n",
    "                Fall 2023</p>\n",
    "</td>\n",
    "</tr>\n"
   ]
  },
  {
   "cell_type": "markdown",
   "id": "03c14ed6",
   "metadata": {
    "deletable": false,
    "editable": false,
    "tags": []
   },
   "source": [
    "# Prelab 9: Correlation and Linear Regression"
   ]
  },
  {
   "cell_type": "markdown",
   "id": "f661ec0a",
   "metadata": {
    "deletable": false,
    "editable": false,
    "tags": []
   },
   "source": [
    "**Instructions**\n",
    "- Before you begin, execute the cell at the TOP of the notebook to load the provided tests, as well as the following cell to setup the notebook by importing some helpful libraries. Each time you start your server, you will need to execute these cells again.  \n",
    "- Be sure to consult your [Python Reference](https://cs104williams.github.io/assets/python-library-ref.html)!\n",
    "- Complete this notebook by filling in the cells provided. \n",
    "- Please be sure to not re-assign variables throughout the notebook.  For example, if you use `max_temperature` in your answer to one question, do not reassign it later on. Otherwise, you will fail tests that you thought you were passing previously.\n",
    "- There are no hidden tests in prelabs.\n",
    "\n",
    "<hr/>\n",
    "<h2>Setup</h2>\n"
   ]
  },
  {
   "cell_type": "code",
   "execution_count": null,
   "id": "9fc9ec91",
   "metadata": {
    "deletable": false,
    "editable": false,
    "execution": {
     "iopub.execute_input": "2023-11-16T19:44:28.360927Z",
     "iopub.status.busy": "2023-11-16T19:44:28.360667Z",
     "iopub.status.idle": "2023-11-16T19:44:29.739622Z",
     "shell.execute_reply": "2023-11-16T19:44:29.739031Z"
    },
    "tags": []
   },
   "outputs": [],
   "source": [
    "# Run this cell to set up the notebook.\n",
    "# These lines import the numpy, datascience, and cs104 libraries.\n",
    "\n",
    "import numpy as np\n",
    "from datascience import *\n",
    "from cs104 import *\n",
    "%matplotlib inline"
   ]
  },
  {
   "cell_type": "markdown",
   "id": "b1bf0737",
   "metadata": {
    "deletable": false,
    "editable": false
   },
   "source": [
    "<hr style=\"margin-bottom: 0px; padding:0; border: 2px solid #500082;\"/>\n"
   ]
  },
  {
   "cell_type": "markdown",
   "id": "f5014873",
   "metadata": {
    "deletable": false,
    "editable": false
   },
   "source": [
    "## 1. Choose the right statistical inference technique (40 pts)\n",
    "\n"
   ]
  },
  {
   "cell_type": "markdown",
   "id": "c1ab0f37",
   "metadata": {
    "deletable": false,
    "editable": false
   },
   "source": [
    "We have now seen three broad statistical inference problems: \n",
    "* **Hypothesis testing**: simulating samples from a null hypothesis and calculating a p-value.\n",
    "* **Estimation**: estimating a population parameter from a sample via bootstrap resampling and the percentile method. \n",
    "* **Association**: quantifying a linear relationship between two variables.\n",
    "\n",
    "Here is a breakdown of specific techniques used to approach these problems: \n",
    "\n",
    "---\n",
    "\n",
    "* **(A)  Single category hypothesis test.** We simulate a sample from the value of the single category under the null hypothesis. The test statistic is the absolute difference between the observed and null proportions. \n",
    "* **(B) Multiple categories hypothesis test.** We simulate a sample from the null hypothesis by sampling from the null distribution. The test statistic is the total variation distance (TVD). \n",
    "* **(C) Numeric subgroup hypothesis test.** We have data for the full population, and we simulate from the null hypothesis by random sampling from the full population. The test statistic is the absolute difference between the mean in the observed sample and the mean in the full population. \n",
    "* **(D) Permutation hypothesis test.** We simulate from the null hypothesis by shuffling the label of two groups. The test statistic is the absolute difference in means between Group A and Group B (real or shuffled).  \n",
    "<span>&nbsp;</span>\n",
    "* **(E) Confidence interval from bootstrapping.** We estimate a confidence interval by bootstrap resampling and the percentile method.  \n",
    "<span>&nbsp;</span>\n",
    "* **(F) Correlation coefficients.** We measure of the strength of a linear relationship between two variables. \n",
    "* **(G) Linear Regression.** We compute the slope and intercept of the line that best fits a set of data points.\n",
    "\n",
    "---\n",
    "\n",
    "Assign the letter 'A' through 'G' to each of the following real-world scenarios. Each letter, 'A' through 'G', may be used more than once. "
   ]
  },
  {
   "cell_type": "markdown",
   "id": "2d7cbaed",
   "metadata": {
    "deletable": false,
    "editable": false
   },
   "source": [
    "#### Part 1.1 Zoos (5 pts)\n"
   ]
  },
  {
   "cell_type": "markdown",
   "id": "e6b2b790",
   "metadata": {
    "deletable": false,
    "editable": false
   },
   "source": [
    "A small zoo has five different types of animals. They are worried they are not allocating costs according to the popularity of the animals.  They have data on the proportion of costs spent on each of the five types of animals and the percentage of visitors for each of the five types of animals. They want to know: Is there a statistically significant difference between the distribution of costs and the distribution of visitors? "
   ]
  },
  {
   "cell_type": "code",
   "execution_count": null,
   "id": "3d4cd8db",
   "metadata": {
    "deletable": false,
    "execution": {
     "iopub.execute_input": "2023-11-16T19:44:29.743561Z",
     "iopub.status.busy": "2023-11-16T19:44:29.743212Z",
     "iopub.status.idle": "2023-11-16T19:44:29.746397Z",
     "shell.execute_reply": "2023-11-16T19:44:29.745913Z"
    },
    "tags": []
   },
   "outputs": [],
   "source": [
    "zoos = ..."
   ]
  },
  {
   "cell_type": "code",
   "execution_count": null,
   "id": "60a28ea8",
   "metadata": {
    "deletable": false,
    "editable": false
   },
   "outputs": [],
   "source": [
    "grader.check(\"p1.1\")"
   ]
  },
  {
   "cell_type": "markdown",
   "id": "4b7c978f",
   "metadata": {
    "deletable": false,
    "editable": false
   },
   "source": [
    "#### Part 1.2 Braking Distance (5 pts)\n"
   ]
  },
  {
   "cell_type": "markdown",
   "id": "6d88958a",
   "metadata": {
    "deletable": false,
    "editable": false
   },
   "source": [
    "A car company is testing a new model.  They measure the distance it takes for that car to come to a stop after applying the brakes when traveling at different speeds.  They determine that braking distance and speed have a Pearson correlation coefficient of 0.9.  They want to know: what is the braking distance when traveling at 57.5 miles per hour?"
   ]
  },
  {
   "cell_type": "code",
   "execution_count": null,
   "id": "61e20088",
   "metadata": {
    "deletable": false,
    "execution": {
     "iopub.execute_input": "2023-11-16T19:44:29.761159Z",
     "iopub.status.busy": "2023-11-16T19:44:29.760948Z",
     "iopub.status.idle": "2023-11-16T19:44:29.763729Z",
     "shell.execute_reply": "2023-11-16T19:44:29.763278Z"
    },
    "tags": []
   },
   "outputs": [],
   "source": [
    "braking = ..."
   ]
  },
  {
   "cell_type": "code",
   "execution_count": null,
   "id": "cc49730f",
   "metadata": {
    "deletable": false,
    "editable": false
   },
   "outputs": [],
   "source": [
    "grader.check(\"p1.2\")"
   ]
  },
  {
   "cell_type": "markdown",
   "id": "ef585f42",
   "metadata": {
    "deletable": false,
    "editable": false
   },
   "source": [
    "#### Part 1.3 Voter Turnout (5 pts)\n"
   ]
  },
  {
   "cell_type": "markdown",
   "id": "fd7143a4",
   "metadata": {
    "deletable": false,
    "editable": false
   },
   "source": [
    "In a small town's local election, 60% of registered voters turned out to vote, while historically the voter turnout is around 50%. Local officials want to know: Is this year's voter turnout significantly different than what has been observed historically? "
   ]
  },
  {
   "cell_type": "code",
   "execution_count": null,
   "id": "94a86633",
   "metadata": {
    "deletable": false,
    "execution": {
     "iopub.execute_input": "2023-11-16T19:44:29.778655Z",
     "iopub.status.busy": "2023-11-16T19:44:29.778418Z",
     "iopub.status.idle": "2023-11-16T19:44:29.781238Z",
     "shell.execute_reply": "2023-11-16T19:44:29.780687Z"
    },
    "tags": []
   },
   "outputs": [],
   "source": [
    "voters = ..."
   ]
  },
  {
   "cell_type": "code",
   "execution_count": null,
   "id": "3d2529da",
   "metadata": {
    "deletable": false,
    "editable": false
   },
   "outputs": [],
   "source": [
    "grader.check(\"p1.3\")"
   ]
  },
  {
   "cell_type": "markdown",
   "id": "884275b2",
   "metadata": {
    "deletable": false,
    "editable": false
   },
   "source": [
    "#### Part 1.4 Batteries (5 pts)\n"
   ]
  },
  {
   "cell_type": "markdown",
   "id": "2af03cdd",
   "metadata": {
    "deletable": false,
    "editable": false
   },
   "source": [
    "A manufacturing company produces batteries and wants to estimate the average lifespan of its batteries. They sample 100 batteries and find the average lifespan is on average 20 days of use. They wish to know: what is an estimate of the average lifespan for all of their batteries?"
   ]
  },
  {
   "cell_type": "code",
   "execution_count": null,
   "id": "14933c61",
   "metadata": {
    "deletable": false,
    "execution": {
     "iopub.execute_input": "2023-11-16T19:44:29.795957Z",
     "iopub.status.busy": "2023-11-16T19:44:29.795751Z",
     "iopub.status.idle": "2023-11-16T19:44:29.798497Z",
     "shell.execute_reply": "2023-11-16T19:44:29.797941Z"
    },
    "tags": []
   },
   "outputs": [],
   "source": [
    "batteries = ..."
   ]
  },
  {
   "cell_type": "code",
   "execution_count": null,
   "id": "6f2caf25",
   "metadata": {
    "deletable": false,
    "editable": false
   },
   "outputs": [],
   "source": [
    "grader.check(\"p1.4\")"
   ]
  },
  {
   "cell_type": "markdown",
   "id": "c75f5e52",
   "metadata": {
    "deletable": false,
    "editable": false
   },
   "source": [
    "#### Part 1.5 Teachers (5 pts)\n"
   ]
  },
  {
   "cell_type": "markdown",
   "id": "eaab0c65",
   "metadata": {
    "deletable": false,
    "editable": false
   },
   "source": [
    "A large public school system has several dozen different instructors teaching high school geometry. They want to know: Does one instructor's teaching method result in significantly different student exam scores compared to the others? "
   ]
  },
  {
   "cell_type": "code",
   "execution_count": null,
   "id": "f3568c0b",
   "metadata": {
    "deletable": false,
    "execution": {
     "iopub.execute_input": "2023-11-16T19:44:29.813348Z",
     "iopub.status.busy": "2023-11-16T19:44:29.813106Z",
     "iopub.status.idle": "2023-11-16T19:44:29.816031Z",
     "shell.execute_reply": "2023-11-16T19:44:29.815482Z"
    },
    "tags": []
   },
   "outputs": [],
   "source": [
    "teachers = ..."
   ]
  },
  {
   "cell_type": "code",
   "execution_count": null,
   "id": "37ad222b",
   "metadata": {
    "deletable": false,
    "editable": false
   },
   "outputs": [],
   "source": [
    "grader.check(\"p1.5\")"
   ]
  },
  {
   "cell_type": "markdown",
   "id": "046db9cb",
   "metadata": {
    "deletable": false,
    "editable": false
   },
   "source": [
    "#### Part 1.6 Smartphones (5 pts)\n"
   ]
  },
  {
   "cell_type": "markdown",
   "id": "596a5645",
   "metadata": {
    "deletable": false,
    "editable": false
   },
   "source": [
    "An electronics company has set an acceptable defect rate of 5% for its smartphones. After quality control testing, they find that only 2% of smartphones have defects. They want to know: Is their manufacturing process significantly different than their acceptable defect rate? "
   ]
  },
  {
   "cell_type": "code",
   "execution_count": null,
   "id": "435978f6",
   "metadata": {
    "deletable": false,
    "execution": {
     "iopub.execute_input": "2023-11-16T19:44:29.830514Z",
     "iopub.status.busy": "2023-11-16T19:44:29.830297Z",
     "iopub.status.idle": "2023-11-16T19:44:29.833210Z",
     "shell.execute_reply": "2023-11-16T19:44:29.832693Z"
    },
    "tags": []
   },
   "outputs": [],
   "source": [
    "phones = ..."
   ]
  },
  {
   "cell_type": "code",
   "execution_count": null,
   "id": "d8c15a9b",
   "metadata": {
    "deletable": false,
    "editable": false
   },
   "outputs": [],
   "source": [
    "grader.check(\"p1.6\")"
   ]
  },
  {
   "cell_type": "markdown",
   "id": "5dc4a255",
   "metadata": {
    "deletable": false,
    "editable": false
   },
   "source": [
    "#### Part 1.7 Office Locations (5 pts)\n"
   ]
  },
  {
   "cell_type": "markdown",
   "id": "0cf8d66a",
   "metadata": {
    "deletable": false,
    "editable": false
   },
   "source": [
    "A data science company has offices in two locations: downtown urban offices and suburban offices. They measure employees productivity based on the number of Jupyter Notebook cells coded. They want to determine if there is a statistically significant difference between the mean productivity of employees in their two office locations. "
   ]
  },
  {
   "cell_type": "code",
   "execution_count": null,
   "id": "40f35688",
   "metadata": {
    "deletable": false,
    "execution": {
     "iopub.execute_input": "2023-11-16T19:44:29.847637Z",
     "iopub.status.busy": "2023-11-16T19:44:29.847420Z",
     "iopub.status.idle": "2023-11-16T19:44:29.850245Z",
     "shell.execute_reply": "2023-11-16T19:44:29.849741Z"
    },
    "tags": []
   },
   "outputs": [],
   "source": [
    "locations = ..."
   ]
  },
  {
   "cell_type": "code",
   "execution_count": null,
   "id": "40814cbd",
   "metadata": {
    "deletable": false,
    "editable": false
   },
   "outputs": [],
   "source": [
    "grader.check(\"p1.7\")"
   ]
  },
  {
   "cell_type": "markdown",
   "id": "958351a5",
   "metadata": {
    "deletable": false,
    "editable": false
   },
   "source": [
    "#### Part 1.8 Reaction Time (5 pts)\n"
   ]
  },
  {
   "cell_type": "markdown",
   "id": "4fb7519d",
   "metadata": {
    "deletable": false,
    "editable": false
   },
   "source": [
    "A medical study on aging measures the reaction time in people who are asked to push a button when they hear a beep.  They conducted this study on 500 individuals ranging in age from 20 to 80.  They wish to know: how strongly is reaction time correlated with age?"
   ]
  },
  {
   "cell_type": "code",
   "execution_count": null,
   "id": "b547c28c",
   "metadata": {
    "deletable": false,
    "execution": {
     "iopub.execute_input": "2023-11-16T19:44:29.864227Z",
     "iopub.status.busy": "2023-11-16T19:44:29.864003Z",
     "iopub.status.idle": "2023-11-16T19:44:29.866886Z",
     "shell.execute_reply": "2023-11-16T19:44:29.866295Z"
    },
    "tags": []
   },
   "outputs": [],
   "source": [
    "reactions = ..."
   ]
  },
  {
   "cell_type": "code",
   "execution_count": null,
   "id": "8e1a799d",
   "metadata": {
    "deletable": false,
    "editable": false
   },
   "outputs": [],
   "source": [
    "grader.check(\"p1.8\")"
   ]
  },
  {
   "cell_type": "markdown",
   "id": "9dd519c0",
   "metadata": {
    "deletable": false,
    "editable": false
   },
   "source": [
    "<hr style=\"margin-bottom: 0px; padding:0; border: 2px solid #500082;\"/>\n"
   ]
  },
  {
   "cell_type": "markdown",
   "id": "129c9f81",
   "metadata": {
    "deletable": false,
    "editable": false
   },
   "source": [
    "## 2. How Faithful is Old Faithful? (50 pts)\n",
    "\n",
    "\n",
    "Old Faithful is a geyser in Yellowstone National Park that is famous for eruption on a fairly regular schedule. Run the cell below to see Old Faithful in action!"
   ]
  },
  {
   "cell_type": "code",
   "execution_count": null,
   "id": "7faba4b1",
   "metadata": {
    "deletable": false,
    "editable": false,
    "execution": {
     "iopub.execute_input": "2023-11-16T19:44:29.880707Z",
     "iopub.status.busy": "2023-11-16T19:44:29.880492Z",
     "iopub.status.idle": "2023-11-16T19:44:29.931746Z",
     "shell.execute_reply": "2023-11-16T19:44:29.931194Z"
    },
    "tags": []
   },
   "outputs": [],
   "source": [
    "from IPython.display import YouTubeVideo\n",
    "YouTubeVideo(\"wE8NDuzt8eg\")"
   ]
  },
  {
   "cell_type": "code",
   "execution_count": null,
   "id": "80b67a34",
   "metadata": {
    "deletable": false,
    "editable": false,
    "execution": {
     "iopub.execute_input": "2023-11-16T19:44:29.935087Z",
     "iopub.status.busy": "2023-11-16T19:44:29.934747Z",
     "iopub.status.idle": "2023-11-16T19:44:29.937773Z",
     "shell.execute_reply": "2023-11-16T19:44:29.937188Z"
    },
    "tags": []
   },
   "outputs": [],
   "source": [
    "# For the curious: the cell above is how to display a YouTube video in a\n",
    "# Jupyter notebook.  The argument to YouTubeVideo is the part\n",
    "# of the URL (called a \"query parameter\") that identifies the\n",
    "# video.  For example, the full URL for this video is:\n",
    "#   https://www.youtube.com/watch?v=wE8NDuzt8eg"
   ]
  },
  {
   "cell_type": "markdown",
   "id": "1c9e1623",
   "metadata": {
    "deletable": false,
    "editable": false
   },
   "source": [
    "Some of Old Faithful's eruptions last longer than others.  Whenever there is a long eruption, it is usually followed by an even longer wait before the next eruption. If you visit Yellowstone, you might want to predict when the next eruption will happen, so that you can see the rest of the park instead of waiting by the geyser.\n",
    " \n",
    "Today, we will use a dataset on eruption durations and waiting times to see if we can make such predictions accurately with linear regression.\n",
    "\n",
    "The dataset has one row for each observed eruption.  It includes the following columns:\n",
    "- `duration`: Eruption duration, in minutes\n",
    "- `wait`: Time between this eruption and the next, also in minutes\n",
    "\n",
    "Run the next cell to load the dataset."
   ]
  },
  {
   "cell_type": "code",
   "execution_count": null,
   "id": "b787c23d",
   "metadata": {
    "deletable": false,
    "editable": false,
    "execution": {
     "iopub.execute_input": "2023-11-16T19:44:29.940575Z",
     "iopub.status.busy": "2023-11-16T19:44:29.940345Z",
     "iopub.status.idle": "2023-11-16T19:44:29.951218Z",
     "shell.execute_reply": "2023-11-16T19:44:29.950743Z"
    },
    "tags": []
   },
   "outputs": [],
   "source": [
    "faithful = Table.read_table(\"faithful.csv\")\n",
    "faithful"
   ]
  },
  {
   "cell_type": "markdown",
   "id": "7445df29",
   "metadata": {
    "deletable": false,
    "editable": false
   },
   "source": [
    "We would like to use linear regression to make predictions, but that won't work well if the data aren't roughly linearly related.  To check that, we should look at the data."
   ]
  },
  {
   "cell_type": "markdown",
   "id": "14468fb9",
   "metadata": {
    "deletable": false,
    "editable": false
   },
   "source": [
    "#### Part 2.1 Visualize the Data (5 pts)\n"
   ]
  },
  {
   "cell_type": "markdown",
   "id": "b8e4d0a5",
   "metadata": {
    "deletable": false,
    "editable": false
   },
   "source": [
    " Make a scatter plot of the data to examine whether we can predict wait times from erruption durations.  It's conventional to put the column we want to predict -- wait time -- on the vertical axis and the other column on the horizontal axis.\n"
   ]
  },
  {
   "cell_type": "code",
   "execution_count": null,
   "id": "1c85e679",
   "metadata": {
    "deletable": false,
    "execution": {
     "iopub.execute_input": "2023-11-16T19:44:29.954259Z",
     "iopub.status.busy": "2023-11-16T19:44:29.954029Z",
     "iopub.status.idle": "2023-11-16T19:44:30.194609Z",
     "shell.execute_reply": "2023-11-16T19:44:30.193963Z"
    },
    "tags": []
   },
   "outputs": [],
   "source": [
    "plot = ..."
   ]
  },
  {
   "cell_type": "code",
   "execution_count": null,
   "id": "decc6d64",
   "metadata": {
    "deletable": false,
    "editable": false
   },
   "outputs": [],
   "source": [
    "grader.check(\"p2.1\")"
   ]
  },
  {
   "cell_type": "markdown",
   "id": "4b7ae513",
   "metadata": {
    "deletable": false,
    "editable": false
   },
   "source": [
    "When you examine your scatter plot above, you should see that eruption duration and waiting time seem to have a roughly positive linear association.  Further, the eruption durations seem to cluster; there\n",
    "are a bunch of short eruptions and a bunch of longer ones. We'll first explore **correlation** to determine whether it is reasonable to apply linear regression to the whole dataset.  "
   ]
  },
  {
   "cell_type": "markdown",
   "id": "b9fc2af0",
   "metadata": {
    "deletable": false,
    "editable": false
   },
   "source": [
    "#### Part 2.2 Correlation Warm up (5 pts)\n"
   ]
  },
  {
   "cell_type": "markdown",
   "id": "4fefafde",
   "metadata": {
    "deletable": false,
    "editable": false
   },
   "source": [
    "As a quick sanity check, (without running any code) which of the following values do you think will be closest to the correlation coefficient between eruption duration and waiting time in this dataset?\n",
    "\n",
    "* -1\n",
    "* 0\n",
    "* 1\n",
    "\n",
    "Assign `correlation` to the number corresponding to your guess."
   ]
  },
  {
   "cell_type": "code",
   "execution_count": null,
   "id": "4ee10aa4",
   "metadata": {
    "deletable": false,
    "execution": {
     "iopub.execute_input": "2023-11-16T19:44:30.204123Z",
     "iopub.status.busy": "2023-11-16T19:44:30.203892Z",
     "iopub.status.idle": "2023-11-16T19:44:30.206934Z",
     "shell.execute_reply": "2023-11-16T19:44:30.206445Z"
    },
    "tags": []
   },
   "outputs": [],
   "source": [
    "correlation = ..."
   ]
  },
  {
   "cell_type": "code",
   "execution_count": null,
   "id": "2eb7bc2d",
   "metadata": {
    "deletable": false,
    "editable": false
   },
   "outputs": [],
   "source": [
    "grader.check(\"p2.2\")"
   ]
  },
  {
   "cell_type": "markdown",
   "id": "f8998a9a",
   "metadata": {
    "deletable": false,
    "editable": false
   },
   "source": [
    "#### Part 2.3 Correlation Coefficient (5 pts)\n"
   ]
  },
  {
   "cell_type": "markdown",
   "id": "e88583a3",
   "metadata": {
    "deletable": false,
    "editable": false
   },
   "source": [
    "Now, use the [pearson_correlation()](https://www.cs.williams.edu/~cs104/auto/inference-library-ref.html) function from our library to calculate the correlation coefficient. "
   ]
  },
  {
   "cell_type": "code",
   "execution_count": null,
   "id": "39865440",
   "metadata": {
    "deletable": false,
    "execution": {
     "iopub.execute_input": "2023-11-16T19:44:30.221043Z",
     "iopub.status.busy": "2023-11-16T19:44:30.220829Z",
     "iopub.status.idle": "2023-11-16T19:44:30.225007Z",
     "shell.execute_reply": "2023-11-16T19:44:30.224475Z"
    },
    "tags": []
   },
   "outputs": [],
   "source": [
    "r = ...\n",
    "r"
   ]
  },
  {
   "cell_type": "code",
   "execution_count": null,
   "id": "8b7b6e8b",
   "metadata": {
    "deletable": false,
    "editable": false
   },
   "outputs": [],
   "source": [
    "grader.check(\"p2.3\")"
   ]
  },
  {
   "cell_type": "markdown",
   "id": "00aa1d2c",
   "metadata": {
    "deletable": false,
    "editable": false
   },
   "source": [
    "Since `r` is high, we can continue with the assumption that they are linearly related and continue to perform linear regression. "
   ]
  },
  {
   "cell_type": "markdown",
   "id": "efffb138",
   "metadata": {
    "deletable": false,
    "editable": false
   },
   "source": [
    "#### Part 2.4 Linear Regression (5 pts)\n"
   ]
  },
  {
   "cell_type": "markdown",
   "id": "3d021120",
   "metadata": {
    "deletable": false,
    "editable": false
   },
   "source": [
    "Let's first run the regression and then examine various aspects of our optimal choice of prediction line.  \n",
    "\n",
    "Using functions in our [inference library](https://www.cs.williams.edu/~cs104/auto/inference-library-ref.html), set `slope` and `intercept` to be the slope and intercept of the line that minimizes mean squared error (the line of \"best fit\").  For this regression, remember that we have `'duration'` on the x-axis and `'wait'` on the y-axis. "
   ]
  },
  {
   "cell_type": "code",
   "execution_count": null,
   "id": "a40d60af",
   "metadata": {
    "deletable": false,
    "execution": {
     "iopub.execute_input": "2023-11-16T19:44:30.239455Z",
     "iopub.status.busy": "2023-11-16T19:44:30.239234Z",
     "iopub.status.idle": "2023-11-16T19:44:30.247495Z",
     "shell.execute_reply": "2023-11-16T19:44:30.247025Z"
    },
    "tags": []
   },
   "outputs": [],
   "source": [
    "...\n",
    "slope = ...\n",
    "intercept = ...\n",
    "\n",
    "# Examine your slope and intercept\n",
    "print(\"Slope =\", slope)\n",
    "print(\"Intercept=\", intercept)"
   ]
  },
  {
   "cell_type": "code",
   "execution_count": null,
   "id": "d5d88048",
   "metadata": {
    "deletable": false,
    "editable": false
   },
   "outputs": [],
   "source": [
    "grader.check(\"p2.4\")"
   ]
  },
  {
   "cell_type": "markdown",
   "id": "81713df6",
   "metadata": {
    "deletable": false,
    "editable": false
   },
   "source": [
    "Run the following cell to plot your line."
   ]
  },
  {
   "cell_type": "code",
   "execution_count": null,
   "id": "917fc1cc",
   "metadata": {
    "deletable": false,
    "editable": false,
    "execution": {
     "iopub.execute_input": "2023-11-16T19:44:30.261853Z",
     "iopub.status.busy": "2023-11-16T19:44:30.261642Z",
     "iopub.status.idle": "2023-11-16T19:44:30.524557Z",
     "shell.execute_reply": "2023-11-16T19:44:30.524016Z"
    },
    "tags": []
   },
   "outputs": [],
   "source": [
    "plot_scatter_with_line(faithful, 'duration', 'wait', slope, intercept)"
   ]
  },
  {
   "cell_type": "markdown",
   "id": "75393968",
   "metadata": {
    "deletable": false,
    "editable": false
   },
   "source": [
    "#### Part 2.5 Predicted Times for 2- and 5-minute Eruptions (5 pts)\n"
   ]
  },
  {
   "cell_type": "markdown",
   "id": "f8877c30",
   "metadata": {
    "deletable": false,
    "editable": false
   },
   "source": [
    "The slope and intercept characterize the regression line.  \n",
    "\n",
    "We often use linear regression for prediction. Recall, to predict the waiting time (y) for a given duration (x), multiply the eruption's duration by `slope` and then add `intercept`."
   ]
  },
  {
   "cell_type": "markdown",
   "id": "eb08ae0d",
   "metadata": {
    "deletable": false,
    "editable": false
   },
   "source": [
    "Using this, compute the predicted waiting time for an eruption that lasts 2 minutes, and for an eruption that lasts 5 minutes."
   ]
  },
  {
   "cell_type": "code",
   "execution_count": null,
   "id": "2fe9a0f5",
   "metadata": {
    "deletable": false,
    "execution": {
     "iopub.execute_input": "2023-11-16T19:44:30.528083Z",
     "iopub.status.busy": "2023-11-16T19:44:30.527812Z",
     "iopub.status.idle": "2023-11-16T19:44:30.532746Z",
     "shell.execute_reply": "2023-11-16T19:44:30.532127Z"
    },
    "tags": []
   },
   "outputs": [],
   "source": [
    "two_minute_predicted_waiting_time = ...\n",
    "five_minute_predicted_waiting_time = ...\n",
    "\n",
    "# Here is a helper function to print out your predictions.\n",
    "# Don't modify the code below.\n",
    "def print_prediction(duration, predicted_waiting_time):\n",
    "    print(\"After an eruption lasting\", np.round(duration, 2),\n",
    "          \"minutes, we predict you'll wait\", np.round(predicted_waiting_time, 2),\n",
    "          \"minutes until the next eruption.\\n\")\n",
    "\n",
    "print_prediction(2, two_minute_predicted_waiting_time)\n",
    "print_prediction(5, five_minute_predicted_waiting_time)"
   ]
  },
  {
   "cell_type": "code",
   "execution_count": null,
   "id": "1a20a1a9",
   "metadata": {
    "deletable": false,
    "editable": false
   },
   "outputs": [],
   "source": [
    "grader.check(\"p2.5\")"
   ]
  },
  {
   "cell_type": "markdown",
   "id": "4485dfbf",
   "metadata": {
    "deletable": false,
    "editable": false
   },
   "source": [
    "#### Part 2.6 Predictions for Unobserved durations (5 pts)\n"
   ]
  },
  {
   "cell_type": "markdown",
   "id": "7e8d6238",
   "metadata": {
    "deletable": false,
    "editable": false
   },
   "source": [
    "In the `faithful` dataset, we did not observe any eruption that lasted exactly 0, 2.5, or 60 minutes.  \n",
    "\n",
    "By only **looking** at the regression line we plotted above (**and no code**), give your estimates for the predicted waiting time for an eruption that lasts 0 minutes, 2.5 minutes, and an hour. "
   ]
  },
  {
   "cell_type": "code",
   "execution_count": null,
   "id": "9efbeec1",
   "metadata": {
    "deletable": false,
    "execution": {
     "iopub.execute_input": "2023-11-16T19:44:30.548299Z",
     "iopub.status.busy": "2023-11-16T19:44:30.548082Z",
     "iopub.status.idle": "2023-11-16T19:44:30.552177Z",
     "shell.execute_reply": "2023-11-16T19:44:30.551613Z"
    },
    "tags": []
   },
   "outputs": [],
   "source": [
    "zero_minute_predicted_waiting_time = ...\n",
    "two_point_five_minute_predicted_waiting_time = ...\n",
    "hour_predicted_waiting_time = ...\n",
    "\n",
    "print_prediction(0, zero_minute_predicted_waiting_time)\n",
    "print_prediction(2.5, two_point_five_minute_predicted_waiting_time)\n",
    "print_prediction(60, hour_predicted_waiting_time)"
   ]
  },
  {
   "cell_type": "code",
   "execution_count": null,
   "id": "9723255a",
   "metadata": {
    "deletable": false,
    "editable": false
   },
   "outputs": [],
   "source": [
    "grader.check(\"p2.6\")"
   ]
  },
  {
   "cell_type": "markdown",
   "id": "f2946516",
   "metadata": {
    "deletable": false,
    "editable": false
   },
   "source": [
    "#### Part 2.7 Prediction Accuracy (5 pts)\n"
   ]
  },
  {
   "cell_type": "markdown",
   "id": "eeef63d3",
   "metadata": {
    "deletable": false,
    "editable": false
   },
   "source": [
    "While we can predict the waiting time for any length eruption, predictions may not be meaningful if they are for data far away from any observed values.  Which of the following statements best captures whether our three predictions are reliable?  \n",
    "\n",
    "In the cell below, assign the variable `predictions` to the integer matching the correct statement: \n",
    "\n",
    "1.  All three are reliable predictions.\n",
    "2.  The prediction for 0 minutes and 2.5 minutes are reliable, since they are both close to observed values, whereas the prediction for a 60 minute eruption is not reliable since we observed no actual eruptions anywhere close to that length and it may have a very different character that shorter ones.\n",
    "3.  The prediction for 2.5 minutes is reliable, since it is close to observed values, whereas the prediction for a 60 minute eruption is not reliable since we observed no actual eruptions anywhere close to that length and it may have a very different character that shorter ones.  Further, the prediction for a 0 minute eruption is meaningless since a 0 minute eruption is phyiscally impossible. \n"
   ]
  },
  {
   "cell_type": "code",
   "execution_count": null,
   "id": "2a4bf218",
   "metadata": {
    "deletable": false,
    "execution": {
     "iopub.execute_input": "2023-11-16T19:44:30.572563Z",
     "iopub.status.busy": "2023-11-16T19:44:30.572345Z",
     "iopub.status.idle": "2023-11-16T19:44:30.575171Z",
     "shell.execute_reply": "2023-11-16T19:44:30.574684Z"
    },
    "tags": []
   },
   "outputs": [],
   "source": [
    "predictions = ..."
   ]
  },
  {
   "cell_type": "code",
   "execution_count": null,
   "id": "19831965",
   "metadata": {
    "deletable": false,
    "editable": false
   },
   "outputs": [],
   "source": [
    "grader.check(\"p2.7\")"
   ]
  },
  {
   "cell_type": "markdown",
   "id": "26073962",
   "metadata": {
    "deletable": false,
    "editable": false
   },
   "source": [
    "#### Part 2.8 Predictions (5 pts)\n"
   ]
  },
  {
   "cell_type": "markdown",
   "id": "a33ecaf6",
   "metadata": {
    "deletable": false,
    "editable": false
   },
   "source": [
    "To compute accuracy of our linear regression predictions, we will eventually compare our predicted wait times to the true wait times. \n",
    "\n",
    "As a first step, for each eruption in the `faithful` table, use the linear regression you just developed and the function`line_predictions` (from our inference library) to predict the waiting time.  Put these numbers into a column in a new table called `faithful_predictions`. The first row should look like this:\n",
    "\n",
    "|duration|wait|predicted wait|\n",
    "|-|-|-|\n",
    "|3.6|79|72.1011|"
   ]
  },
  {
   "cell_type": "code",
   "execution_count": null,
   "id": "3cf0d97f",
   "metadata": {
    "deletable": false,
    "execution": {
     "iopub.execute_input": "2023-11-16T19:44:30.583754Z",
     "iopub.status.busy": "2023-11-16T19:44:30.583537Z",
     "iopub.status.idle": "2023-11-16T19:44:30.587911Z",
     "shell.execute_reply": "2023-11-16T19:44:30.587431Z"
    },
    "tags": []
   },
   "outputs": [],
   "source": [
    "predictions = ...\n",
    "faithful_predictions = faithful.with_column(\"predicted wait\", predictions)\n",
    "faithful_predictions.show(5)"
   ]
  },
  {
   "cell_type": "code",
   "execution_count": null,
   "id": "21d16cc5",
   "metadata": {
    "deletable": false,
    "editable": false
   },
   "outputs": [],
   "source": [
    "grader.check(\"p2.8\")"
   ]
  },
  {
   "cell_type": "markdown",
   "id": "9e850771",
   "metadata": {
    "deletable": false,
    "editable": false
   },
   "source": [
    "#### Part 2.9 Residuals (5 pts)\n"
   ]
  },
  {
   "cell_type": "markdown",
   "id": "02841071",
   "metadata": {
    "deletable": false,
    "editable": false
   },
   "source": [
    " How close were we?  Compute the **residual** for each eruption in the dataset.  The residual is the actual waiting time minus the predicted waiting time.  \n",
    " \n",
    "Add the residuals to `faithful_predictions` as a new column called `residual` and name the resulting table `faithful_residuals`."
   ]
  },
  {
   "cell_type": "code",
   "execution_count": null,
   "id": "cc6bb76f",
   "metadata": {
    "deletable": false,
    "execution": {
     "iopub.execute_input": "2023-11-16T19:44:30.602341Z",
     "iopub.status.busy": "2023-11-16T19:44:30.602126Z",
     "iopub.status.idle": "2023-11-16T19:44:30.607319Z",
     "shell.execute_reply": "2023-11-16T19:44:30.606797Z"
    },
    "tags": []
   },
   "outputs": [],
   "source": [
    "...\n",
    "faithful_residuals = ...\n",
    "faithful_residuals"
   ]
  },
  {
   "cell_type": "code",
   "execution_count": null,
   "id": "745b3e5d",
   "metadata": {
    "deletable": false,
    "editable": false
   },
   "outputs": [],
   "source": [
    "grader.check(\"p2.9\")"
   ]
  },
  {
   "cell_type": "markdown",
   "id": "b2e312f3",
   "metadata": {
    "deletable": false,
    "editable": false
   },
   "source": [
    "#### Part 2.10 Plotting the Residuals (5 pts)\n"
   ]
  },
  {
   "cell_type": "markdown",
   "id": "abf5e971",
   "metadata": {
    "deletable": false,
    "editable": false
   },
   "source": [
    "Here is a plot of the residuals you computed.  Each point corresponds to one eruption.  It shows how much our prediction over- or under-estimated the waiting time."
   ]
  },
  {
   "cell_type": "code",
   "execution_count": null,
   "id": "6831ee79",
   "metadata": {
    "deletable": false,
    "editable": false,
    "execution": {
     "iopub.execute_input": "2023-11-16T19:44:30.621817Z",
     "iopub.status.busy": "2023-11-16T19:44:30.621601Z",
     "iopub.status.idle": "2023-11-16T19:44:30.938723Z",
     "shell.execute_reply": "2023-11-16T19:44:30.938082Z"
    },
    "tags": []
   },
   "outputs": [],
   "source": [
    "plot = faithful_residuals.scatter(\"duration\", \"residual\", color=\"r\")\n",
    "\n",
    "plot.line(y=0, color='darkblue', lw=4)"
   ]
  },
  {
   "cell_type": "markdown",
   "id": "8fdf41ec",
   "metadata": {
    "deletable": false,
    "editable": false
   },
   "source": [
    "The residual plot of a good regression shows no pattern. That is, the residuals look about the same, above and below the horizontal line at 0, across the range of the predictor variable.  Does this plot give you confidence in your regression's output?  Set `good_regression` to True or False to indicate your answer."
   ]
  },
  {
   "cell_type": "code",
   "execution_count": null,
   "id": "b2f1d86b",
   "metadata": {
    "deletable": false,
    "execution": {
     "iopub.execute_input": "2023-11-16T19:44:30.941887Z",
     "iopub.status.busy": "2023-11-16T19:44:30.941649Z",
     "iopub.status.idle": "2023-11-16T19:44:30.944586Z",
     "shell.execute_reply": "2023-11-16T19:44:30.944080Z"
    },
    "tags": []
   },
   "outputs": [],
   "source": [
    "good_regression = ..."
   ]
  },
  {
   "cell_type": "code",
   "execution_count": null,
   "id": "e38d0d80",
   "metadata": {
    "deletable": false,
    "editable": false
   },
   "outputs": [],
   "source": [
    "grader.check(\"p2.10\")"
   ]
  },
  {
   "cell_type": "markdown",
   "id": "21316fd6",
   "metadata": {
    "deletable": false,
    "editable": false
   },
   "source": [
    "Earlier, you should have found that the correlation is fairly close to 1, so the line fits fairly well on the training data.  That means the residuals are small (close to 0) relative to the waiting times. We can see that visually by plotting the waiting times and residuals together:"
   ]
  },
  {
   "cell_type": "code",
   "execution_count": null,
   "id": "5b075f3d",
   "metadata": {
    "deletable": false,
    "editable": false,
    "execution": {
     "iopub.execute_input": "2023-11-16T19:44:30.953077Z",
     "iopub.status.busy": "2023-11-16T19:44:30.952853Z",
     "iopub.status.idle": "2023-11-16T19:44:31.798026Z",
     "shell.execute_reply": "2023-11-16T19:44:31.797460Z"
    },
    "tags": []
   },
   "outputs": [],
   "source": [
    "with Figure(1,2):\n",
    "    faithful_residuals.scatter(\"duration\", \"wait\", title=\"actual waiting time\", color=\"blue\", ylim=(-20,100))\n",
    "    faithful_residuals.scatter(\"duration\", \"residual\", title=\"residuals\", color=\"red\", ylim=(-20,100))"
   ]
  },
  {
   "cell_type": "markdown",
   "id": "8e2b05c6",
   "metadata": {
    "deletable": false,
    "editable": false
   },
   "source": [
    "<hr class=\"m-0\" style=\"border: 3px solid #500082;\"/>\n",
    "\n",
    "# You're Done!\n",
    "Follow these steps to submit your work:\n",
    "* Run the tests and verify that they pass as you expect. \n",
    "* Choose **Save Notebook** from the **File** menu.\n",
    "* **Run the final cell** and click the link below to download the zip file. \n",
    "\n",
    "Once you have downloaded that file, go to [Gradescope](https://www.gradescope.com/) and submit the zip file to \n",
    "the corresponding assignment. For Prelab N, the assignment will be called \"Prelab N Autograder\".\n",
    "\n",
    "Once you have submitted, your Gradescope assignment should show you passing all the tests you passed in your assignment notebook.\n"
   ]
  },
  {
   "cell_type": "markdown",
   "id": "49f245e5",
   "metadata": {
    "deletable": false,
    "editable": false
   },
   "source": [
    "## Submission\n",
    "\n",
    "Make sure you have run all cells in your notebook in order before running the cell below, so that all images/graphs appear in the output. The cell below will generate a zip file for you to submit. **Please save before exporting!**"
   ]
  },
  {
   "cell_type": "code",
   "execution_count": null,
   "id": "af6d6af4",
   "metadata": {
    "deletable": false,
    "editable": false
   },
   "outputs": [],
   "source": [
    "# Save your notebook first, then run this cell to export your submission.\n",
    "grader.export(pdf=False, run_tests=True)"
   ]
  },
  {
   "cell_type": "markdown",
   "id": "6fe694b3",
   "metadata": {},
   "source": [
    " "
   ]
  }
 ],
 "metadata": {
  "anaconda-cloud": {},
  "celltoolbar": "Edit Metadata",
  "kernelspec": {
   "display_name": "Python 3 (ipykernel)",
   "language": "python",
   "name": "python3"
  },
  "language_info": {
   "codemirror_mode": {
    "name": "ipython",
    "version": 3
   },
   "file_extension": ".py",
   "mimetype": "text/x-python",
   "name": "python",
   "nbconvert_exporter": "python",
   "pygments_lexer": "ipython3",
   "version": "3.9.15"
  },
  "otter": {
   "OK_FORMAT": true,
   "tests": {
    "p1.1": {
     "has_hidden": false,
     "name": "p1.1",
     "points": 5,
     "suites": [
      {
       "cases": [
        {
         "code": ">>> check_str('zoos in [\\'A\\', \\'B\\', \\'C\\', \\'D\\', \\'E\\', \\'F\\', \\'G\\' ]', locals())\n",
         "failure_message": "answer must be a string 'A', 'B', ..., or 'G'.",
         "hidden": false,
         "locked": false,
         "submit_only": false,
         "success_message": "check(zoos in ['A', 'B', 'C', 'D', 'E', 'F', 'G' ])"
        },
        {
         "code": ">>> check_str('zoos == \\'B\\'', locals())\n",
         "failure_message": "wrong answer -- try again!",
         "hidden": false,
         "locked": false,
         "submit_only": false,
         "success_message": "check(zoos == 'B')"
        }
       ],
       "scored": true,
       "setup": "",
       "teardown": "",
       "type": "doctest"
      }
     ]
    },
    "p1.2": {
     "has_hidden": false,
     "name": "p1.2",
     "points": 5,
     "suites": [
      {
       "cases": [
        {
         "code": ">>> check_str('braking in [\\'A\\', \\'B\\', \\'C\\', \\'D\\', \\'E\\', \\'F\\', \\'G\\' ]', locals())\n",
         "failure_message": "answer must be a string 'A', 'B', ..., or 'G'.",
         "hidden": false,
         "locked": false,
         "submit_only": false,
         "success_message": "check(braking in ['A', 'B', 'C', 'D', 'E', 'F', 'G' ])"
        },
        {
         "code": ">>> check_str('braking == \\'G\\'', locals())\n",
         "failure_message": "wrong answer -- try again!",
         "hidden": false,
         "locked": false,
         "submit_only": false,
         "success_message": "check(braking == 'G')"
        }
       ],
       "scored": true,
       "setup": "",
       "teardown": "",
       "type": "doctest"
      }
     ]
    },
    "p1.3": {
     "has_hidden": false,
     "name": "p1.3",
     "points": 5,
     "suites": [
      {
       "cases": [
        {
         "code": ">>> check_str('voters in [\\'A\\', \\'B\\', \\'C\\', \\'D\\', \\'E\\', \\'F\\', \\'G\\' ]', locals())\n",
         "failure_message": "answer must be a string 'A', 'B', ..., or 'G'.",
         "hidden": false,
         "locked": false,
         "submit_only": false,
         "success_message": "check(voters in ['A', 'B', 'C', 'D', 'E', 'F', 'G' ])"
        },
        {
         "code": ">>> check_str('voters == \\'A\\'', locals())\n",
         "failure_message": "wrong answer -- try again!",
         "hidden": false,
         "locked": false,
         "submit_only": false,
         "success_message": "check(voters == 'A')"
        }
       ],
       "scored": true,
       "setup": "",
       "teardown": "",
       "type": "doctest"
      }
     ]
    },
    "p1.4": {
     "has_hidden": false,
     "name": "p1.4",
     "points": 5,
     "suites": [
      {
       "cases": [
        {
         "code": ">>> check_str('batteries in [\\'A\\', \\'B\\', \\'C\\', \\'D\\', \\'E\\', \\'F\\', \\'G\\' ]', locals())\n",
         "failure_message": "answer must be a string 'A', 'B', ..., or 'G'.",
         "hidden": false,
         "locked": false,
         "submit_only": false,
         "success_message": "check(batteries in ['A', 'B', 'C', 'D', 'E', 'F', 'G' ])"
        },
        {
         "code": ">>> check_str('batteries == \\'E\\'', locals())\n",
         "failure_message": "wrong answer -- try again!",
         "hidden": false,
         "locked": false,
         "submit_only": false,
         "success_message": "check(batteries == 'E')"
        }
       ],
       "scored": true,
       "setup": "",
       "teardown": "",
       "type": "doctest"
      }
     ]
    },
    "p1.5": {
     "has_hidden": false,
     "name": "p1.5",
     "points": 5,
     "suites": [
      {
       "cases": [
        {
         "code": ">>> check_str('teachers in [\\'A\\', \\'B\\', \\'C\\', \\'D\\', \\'E\\', \\'F\\', \\'G\\' ]', locals())\n",
         "failure_message": "answer must be a string 'A', 'B', ..., or 'G'.",
         "hidden": false,
         "locked": false,
         "submit_only": false,
         "success_message": "check(teachers in ['A', 'B', 'C', 'D', 'E', 'F', 'G' ])"
        },
        {
         "code": ">>> check_str('teachers == \\'C\\'', locals())\n",
         "failure_message": "wrong answer -- try again!",
         "hidden": false,
         "locked": false,
         "submit_only": false,
         "success_message": "check(teachers == 'C')"
        }
       ],
       "scored": true,
       "setup": "",
       "teardown": "",
       "type": "doctest"
      }
     ]
    },
    "p1.6": {
     "has_hidden": false,
     "name": "p1.6",
     "points": 5,
     "suites": [
      {
       "cases": [
        {
         "code": ">>> check_str('phones in [\\'A\\', \\'B\\', \\'C\\', \\'D\\', \\'E\\', \\'F\\', \\'G\\' ]', locals())\n",
         "failure_message": "answer must be a string 'A', 'B', ..., or 'G'.",
         "hidden": false,
         "locked": false,
         "submit_only": false,
         "success_message": "check(phones in ['A', 'B', 'C', 'D', 'E', 'F', 'G' ])"
        },
        {
         "code": ">>> check_str('phones == \\'A\\'', locals())\n",
         "failure_message": "wrong answer -- try again!",
         "hidden": false,
         "locked": false,
         "submit_only": false,
         "success_message": "check(phones == 'A')"
        }
       ],
       "scored": true,
       "setup": "",
       "teardown": "",
       "type": "doctest"
      }
     ]
    },
    "p1.7": {
     "has_hidden": false,
     "name": "p1.7",
     "points": 5,
     "suites": [
      {
       "cases": [
        {
         "code": ">>> check_str('locations in [\\'A\\', \\'B\\', \\'C\\', \\'D\\', \\'E\\', \\'F\\', \\'G\\' ]', locals())\n",
         "failure_message": "answer must be a string 'A', 'B', ..., or 'G'.",
         "hidden": false,
         "locked": false,
         "submit_only": false,
         "success_message": "check(locations in ['A', 'B', 'C', 'D', 'E', 'F', 'G' ])"
        },
        {
         "code": ">>> check_str('locations == \\'D\\'', locals())\n",
         "failure_message": "wrong answer -- try again!",
         "hidden": false,
         "locked": false,
         "submit_only": false,
         "success_message": "check(locations == 'D')"
        }
       ],
       "scored": true,
       "setup": "",
       "teardown": "",
       "type": "doctest"
      }
     ]
    },
    "p1.8": {
     "has_hidden": false,
     "name": "p1.8",
     "points": 5,
     "suites": [
      {
       "cases": [
        {
         "code": ">>> check_str('reactions in [\\'A\\', \\'B\\', \\'C\\', \\'D\\', \\'E\\', \\'F\\', \\'G\\' ]', locals())\n",
         "failure_message": "answer must be a string 'A', 'B', ..., or 'G'.",
         "hidden": false,
         "locked": false,
         "submit_only": false,
         "success_message": "check(reactions in ['A', 'B', 'C', 'D', 'E', 'F', 'G' ])"
        },
        {
         "code": ">>> check_str('reactions == \\'F\\'', locals())\n",
         "failure_message": "wrong answer -- try again!",
         "hidden": false,
         "locked": false,
         "submit_only": false,
         "success_message": "check(reactions == 'F')"
        }
       ],
       "scored": true,
       "setup": "",
       "teardown": "",
       "type": "doctest"
      }
     ]
    },
    "p2.1": {
     "has_hidden": false,
     "name": "p2.1",
     "points": 5,
     "suites": [
      {
       "cases": [
        {
         "code": ">>> check_str('plot != ...', locals())\n",
         "failure_message": "check(plot != ...)",
         "hidden": false,
         "locked": false,
         "submit_only": false,
         "success_message": "check(plot != ...)"
        }
       ],
       "scored": true,
       "setup": "",
       "teardown": "",
       "type": "doctest"
      }
     ]
    },
    "p2.10": {
     "has_hidden": false,
     "name": "p2.10",
     "points": 5,
     "suites": [
      {
       "cases": [
        {
         "code": ">>> check_str('good_regression', locals())\n",
         "failure_message": "check(good_regression)",
         "hidden": false,
         "locked": false,
         "submit_only": false,
         "success_message": "check(good_regression)"
        }
       ],
       "scored": true,
       "setup": "",
       "teardown": "",
       "type": "doctest"
      }
     ]
    },
    "p2.2": {
     "has_hidden": false,
     "name": "p2.2",
     "points": 5,
     "suites": [
      {
       "cases": [
        {
         "code": ">>> check_str('correlation in [1, 2, 3]', locals())\n",
         "failure_message": "check(correlation in [1, 2, 3])",
         "hidden": false,
         "locked": false,
         "submit_only": false,
         "success_message": "check(correlation in [1, 2, 3])"
        },
        {
         "code": ">>> check_str('correlation == 1', locals())\n",
         "failure_message": "check(correlation == 1)",
         "hidden": false,
         "locked": false,
         "submit_only": false,
         "success_message": "check(correlation == 1)"
        }
       ],
       "scored": true,
       "setup": "",
       "teardown": "",
       "type": "doctest"
      }
     ]
    },
    "p2.3": {
     "has_hidden": false,
     "name": "p2.3",
     "points": 5,
     "suites": [
      {
       "cases": [
        {
         "code": ">>> check_str('-1 <= r <= 1', locals())\n",
         "failure_message": "check(-1 <= r <= 1)",
         "hidden": false,
         "locked": false,
         "submit_only": false,
         "success_message": "check(-1 <= r <= 1)"
        },
        {
         "code": ">>> check_str('r == approx(0.90, plus_or_minus=0.01)', locals())\n",
         "failure_message": "check(r == approx(0.90, plus_or_minus=0.01))",
         "hidden": false,
         "locked": false,
         "submit_only": false,
         "success_message": "check(r == approx(0.90, plus_or_minus=0.01))"
        }
       ],
       "scored": true,
       "setup": "",
       "teardown": "",
       "type": "doctest"
      }
     ]
    },
    "p2.4": {
     "has_hidden": false,
     "name": "p2.4",
     "points": 5,
     "suites": [
      {
       "cases": [
        {
         "code": ">>> check_str('slope == approx(10.73, plus_or_minus=0.01)', locals())\n",
         "failure_message": "check(slope == approx(10.73, plus_or_minus=0.01))",
         "hidden": false,
         "locked": false,
         "submit_only": false,
         "success_message": "check(slope == approx(10.73, plus_or_minus=0.01))"
        },
        {
         "code": ">>> check_str('intercept == approx(33.47, plus_or_minus=0.01)', locals())\n",
         "failure_message": "check(intercept == approx(33.47, plus_or_minus=0.01))",
         "hidden": false,
         "locked": false,
         "submit_only": false,
         "success_message": "check(intercept == approx(33.47, plus_or_minus=0.01))"
        }
       ],
       "scored": true,
       "setup": "",
       "teardown": "",
       "type": "doctest"
      }
     ]
    },
    "p2.5": {
     "has_hidden": false,
     "name": "p2.5",
     "points": 5,
     "suites": [
      {
       "cases": [
        {
         "code": ">>> check_str('two_minute_predicted_waiting_time == approx(54.93, plus_or_minus=0.01)', locals())\n",
         "failure_message": "check(two_minute_predicted_waiting_time == approx(54.93, plus_or_minus=0.01))",
         "hidden": false,
         "locked": false,
         "submit_only": false,
         "success_message": "check(two_minute_predicted_waiting_time == approx(54.93, plus_or_minus=0.01))"
        },
        {
         "code": ">>> check_str('five_minute_predicted_waiting_time == approx(87.12, plus_or_minus=0.01)', locals())\n",
         "failure_message": "check(five_minute_predicted_waiting_time == approx(87.12, plus_or_minus=0.01))",
         "hidden": false,
         "locked": false,
         "submit_only": false,
         "success_message": "check(five_minute_predicted_waiting_time == approx(87.12, plus_or_minus=0.01))"
        }
       ],
       "scored": true,
       "setup": "",
       "teardown": "",
       "type": "doctest"
      }
     ]
    },
    "p2.6": {
     "has_hidden": false,
     "name": "p2.6",
     "points": 5,
     "suites": [
      {
       "cases": [
        {
         "code": ">>> check_str('30 <= zero_minute_predicted_waiting_time <= 40', locals())\n",
         "failure_message": "check(30 <= zero_minute_predicted_waiting_time <= 40)",
         "hidden": false,
         "locked": false,
         "submit_only": false,
         "success_message": "check(30 <= zero_minute_predicted_waiting_time <= 40)"
        },
        {
         "code": ">>> check_str('55 <= two_point_five_minute_predicted_waiting_time <= 65', locals())\n",
         "failure_message": "check(55 <= two_point_five_minute_predicted_waiting_time <= 65)",
         "hidden": false,
         "locked": false,
         "submit_only": false,
         "success_message": "check(55 <= two_point_five_minute_predicted_waiting_time <= 65)"
        },
        {
         "code": ">>> check_str('600 <= hour_predicted_waiting_time <= 700', locals())\n",
         "failure_message": "check(600 <= hour_predicted_waiting_time <= 700)",
         "hidden": false,
         "locked": false,
         "submit_only": false,
         "success_message": "check(600 <= hour_predicted_waiting_time <= 700)"
        }
       ],
       "scored": true,
       "setup": "",
       "teardown": "",
       "type": "doctest"
      }
     ]
    },
    "p2.7": {
     "has_hidden": false,
     "name": "p2.7",
     "points": 5,
     "suites": [
      {
       "cases": [
        {
         "code": ">>> check_str('predictions == 3', locals())\n",
         "failure_message": "Try again!",
         "hidden": false,
         "locked": false,
         "submit_only": false,
         "success_message": "check(predictions == 3)"
        }
       ],
       "scored": true,
       "setup": "",
       "teardown": "",
       "type": "doctest"
      }
     ]
    },
    "p2.8": {
     "has_hidden": false,
     "name": "p2.8",
     "points": 5,
     "suites": [
      {
       "cases": [
        {
         "code": ">>> check_str('faithful_predictions.labels == (\\'duration\\', \\'wait\\', \\'predicted wait\\')', locals())\n",
         "failure_message": "check(faithful_predictions.labels == ('duration', 'wait', 'predicted wait'))",
         "hidden": false,
         "locked": false,
         "submit_only": false,
         "success_message": "check(faithful_predictions.labels == ('duration', 'wait', 'predicted wait'))"
        },
        {
         "code": ">>> check_str('np.mean(faithful_predictions.column(2)) == approx(70.89706)', locals())\n",
         "failure_message": "check(np.mean(faithful_predictions.column(2)) == approx(70.89706))",
         "hidden": false,
         "locked": false,
         "submit_only": false,
         "success_message": "check(np.mean(faithful_predictions.column(2)) == approx(70.89706))"
        }
       ],
       "scored": true,
       "setup": "",
       "teardown": "",
       "type": "doctest"
      }
     ]
    },
    "p2.9": {
     "has_hidden": false,
     "name": "p2.9",
     "points": 5,
     "suites": [
      {
       "cases": [
        {
         "code": ">>> check_str('faithful_residuals.labels == (\\'duration\\', \\'wait\\', \\'predicted wait\\', \\'residual\\')', locals())\n",
         "failure_message": "check(faithful_residuals.labels == ('duration', 'wait', 'predicted wait', 'residual'))",
         "hidden": false,
         "locked": false,
         "submit_only": false,
         "success_message": "check(faithful_residuals.labels == ('duration', 'wait', 'predicted wait', 'residual'))"
        },
        {
         "code": ">>> check_str('sum(faithful_residuals.column(3)) == approx(1.818e-07)', locals())\n",
         "failure_message": "check(sum(faithful_residuals.column(3)) == approx(1.818e-07))",
         "hidden": false,
         "locked": false,
         "submit_only": false,
         "success_message": "check(sum(faithful_residuals.column(3)) == approx(1.818e-07))"
        }
       ],
       "scored": true,
       "setup": "",
       "teardown": "",
       "type": "doctest"
      }
     ]
    }
   }
  },
  "vscode": {
   "interpreter": {
    "hash": "31f2aee4e71d21fbe5cf8b01ff0e069b9275f58929596ceb00d14d90e3e16cd6"
   }
  }
 },
 "nbformat": 4,
 "nbformat_minor": 5
}
