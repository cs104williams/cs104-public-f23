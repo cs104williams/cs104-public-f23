{
 "cells": [
  {
   "cell_type": "markdown",
   "id": "39d2e81b",
   "metadata": {
    "deletable": false,
    "editable": false
   },
   "source": [
    "<table style=\"width: 100%;\">\n",
    "<tr style=\"background-color: transparent;\">\n",
    "<td width=\"100px\"><img src=\"https://cs104williams.github.io/assets/cs104-logo.png\" width=\"90px\" style=\"text-align: center\"/></td>\n",
    "<td>\n",
    "  <p style=\"margin-bottom: 0px; text-align: left; font-size: 18pt;\"><strong>CSCI 104: Data Science and Computing for All</strong><br>\n",
    "                Williams College<br>\n",
    "                Fall 2023</p>\n",
    "</td>\n",
    "</tr>\n"
   ]
  },
  {
   "cell_type": "markdown",
   "id": "f60e76b1",
   "metadata": {
    "deletable": false,
    "editable": false,
    "tags": []
   },
   "source": [
    "# Lab 1: Notebooks and Expressions"
   ]
  },
  {
   "cell_type": "markdown",
   "id": "117e4669",
   "metadata": {
    "deletable": false,
    "editable": false
   },
   "source": [
    "<font color='#B1008E'>\n",
    "    \n",
    "##### Learning objectives\n",
    "- Navigate Jupyter notebooks (like this one)\n",
    "- Write and evaluate some basic *expressions* in Python, the computer language of the course\n",
    "- Call *functions* to use code other people have written\n",
    "- Break down Python code into smaller parts to understand it\n",
    "</font>"
   ]
  },
  {
   "cell_type": "markdown",
   "id": "d16a2d13",
   "metadata": {
    "deletable": false,
    "editable": false
   },
   "source": [
    "Sections 1-6 are to help you get started writing Python code.  Sections 7-9 are questions exercising your knowledge of those topics.  There are a number of ungraded \"Exercises\" for you to complete.  Any section with a title like \"Part 4.1\" will be graded for correctness when you submit your work.\n",
    "\n",
    "This lab covers parts of [Chapter 3](http://www.inferentialthinking.com/chapters/03/programming-in-python.html) of the online textbook. You should read the examples in the book, but not right now. Instead, let's get started!"
   ]
  },
  {
   "cell_type": "markdown",
   "id": "809453f7",
   "metadata": {
    "deletable": false,
    "editable": false
   },
   "source": [
    "<hr style=\"margin-bottom: 0px; padding:0; border: 2px solid #500082;\"/>\n"
   ]
  },
  {
   "cell_type": "markdown",
   "id": "1243daa2",
   "metadata": {
    "deletable": false,
    "editable": false,
    "tags": []
   },
   "source": [
    "## 1. Jupyter Notebooks\n",
    "This webpage is called a Jupyter notebook. A notebook is a place to write programs and view their results, and also to write text.\n",
    "\n",
    "### 1.1. Text Cells\n",
    "In a notebook, each rectangle containing text or code is called a *cell*.\n",
    "\n",
    "Text cells (like this one) can be edited by double-clicking on them. They're written in a simple format called [Markdown](http://daringfireball.net/projects/markdown/syntax) to add formatting and section headings.  You don't need to learn Markdown, but you might want to.\n",
    "\n",
    "After you edit a text cell, click the \"run cell\" button at the top that looks like ▶ or hold down `shift` + `return` to confirm any changes. (Try not to delete the instructions of the lab.)"
   ]
  },
  {
   "cell_type": "markdown",
   "id": "99bc6458",
   "metadata": {
    "deletable": false,
    "editable": false
   },
   "source": [
    "#### Exercise\n",
    "\n",
    "This next paragraph is in its own text cell.  Edit it to add your name, and then click the \"run cell\" ▶ button or hold down `shift` + `return`."
   ]
  },
  {
   "cell_type": "markdown",
   "id": "4b4f4453",
   "metadata": {
    "deletable": false,
    "editable": true
   },
   "source": [
    "My name is YOUR-NAME-HERE!"
   ]
  },
  {
   "cell_type": "markdown",
   "id": "fae7992f",
   "metadata": {
    "deletable": false,
    "editable": false
   },
   "source": [
    "### 1.2. Code Cells"
   ]
  },
  {
   "cell_type": "markdown",
   "id": "4d6da4a2",
   "metadata": {
    "deletable": false,
    "editable": false,
    "tags": []
   },
   "source": [
    "Cells can also contain code in the Python programming language. Running a code cell will execute all of the code it contains.\n",
    "\n",
    "To run the code in a code cell, first click on that cell to activate it.  It'll be highlighted with a little green or blue rectangle.  Next, either press ▶ or hold down the `shift` key and press `return` or `enter`.\n",
    "\n",
    "Try running the next cell:"
   ]
  },
  {
   "cell_type": "code",
   "execution_count": null,
   "id": "09a4e79f",
   "metadata": {
    "deletable": false,
    "editable": false,
    "execution": {
     "iopub.execute_input": "2023-09-05T18:25:45.754321Z",
     "iopub.status.busy": "2023-09-05T18:25:45.754051Z",
     "iopub.status.idle": "2023-09-05T18:25:45.760650Z",
     "shell.execute_reply": "2023-09-05T18:25:45.760135Z"
    },
    "tags": []
   },
   "outputs": [],
   "source": [
    "print(\"Hello, World!\")"
   ]
  },
  {
   "cell_type": "markdown",
   "id": "3f28e5b9",
   "metadata": {
    "deletable": false,
    "editable": false,
    "tags": []
   },
   "source": [
    "The fundamental building block of Python code is an expression. Cells can contain multiple lines with multiple expressions. When you run a cell, the lines of code are executed in the order in which they appear. Every `print` expression prints a line. Run the next cell and notice the order of the output."
   ]
  },
  {
   "cell_type": "code",
   "execution_count": null,
   "id": "dcd6427e",
   "metadata": {
    "deletable": false,
    "editable": false,
    "execution": {
     "iopub.execute_input": "2023-09-05T18:25:45.763390Z",
     "iopub.status.busy": "2023-09-05T18:25:45.763186Z",
     "iopub.status.idle": "2023-09-05T18:25:45.766004Z",
     "shell.execute_reply": "2023-09-05T18:25:45.765575Z"
    },
    "tags": []
   },
   "outputs": [],
   "source": [
    "print(\"First this line is printed,\")\n",
    "print(\"and then this one.\")"
   ]
  },
  {
   "cell_type": "markdown",
   "id": "3d348b7e",
   "metadata": {
    "deletable": false,
    "editable": false
   },
   "source": [
    "### 1.3. Writing Jupyter Notebooks\n",
    "You can use Jupyter notebooks for your own projects or documents.  When you make your own notebook, you'll need to create your own cells for text and code.\n",
    "\n",
    "To add a cell, click the + button in the menu bar.  It'll start out as a code cell.  You can change it to a text cell by clicking inside it so it's highlighted, clicking the drop-down box next to the restart (⟳) button in the menu bar, and choosing \"Markdown\". Or change it back to code by choosing \"Code\" \n",
    "\n",
    "<img src=\"dropdown_menu.png\"/>\n",
    "\n",
    "#### Exercise\n",
    "\n",
    "Add a code cell below this one.  Write code in it that prints out:\n",
    "   \n",
    "    A whole new cell!\n",
    "    \n",
    "Run your cell to verify that it works."
   ]
  },
  {
   "cell_type": "markdown",
   "id": "30bee17a",
   "metadata": {
    "deletable": false,
    "editable": false
   },
   "source": [
    "### 1.4. Errors\n",
    "\n",
    "Python is a language, and like natural human languages, it has rules.  It differs from natural language in two important ways:\n",
    "1. The rules are *simple*.  You can learn most of them in a few weeks and gain reasonable proficiency with the language in a semester.\n",
    "2. The rules are *rigid*.  If you're proficient in a natural language, you can understand a non-proficient speaker, glossing over small mistakes.  A computer running Python code is not smart enough to do that.\n",
    "\n",
    "Whenever any of us write code, we'll make mistakes.  When you run a code cell that has errors, Python will sometimes produce error messages to tell you what you did wrong.\n",
    "\n",
    "Errors are okay; even experienced programmers make many errors.  When you make an error, you just have to find the source of the problem, fix it, and move on.\n",
    "\n",
    "We have made an error in the next cell.  Run it and see what happens."
   ]
  },
  {
   "cell_type": "code",
   "execution_count": null,
   "id": "d55e0899",
   "metadata": {
    "deletable": false,
    "editable": true,
    "execution": {
     "iopub.execute_input": "2023-09-05T18:25:45.768596Z",
     "iopub.status.busy": "2023-09-05T18:25:45.768417Z",
     "iopub.status.idle": "2023-09-05T18:25:45.771675Z",
     "shell.execute_reply": "2023-09-05T18:25:45.771236Z"
    },
    "tags": []
   },
   "outputs": [],
   "source": [
    "print(\"This line is missing something.\""
   ]
  },
  {
   "cell_type": "markdown",
   "id": "85d67f53",
   "metadata": {
    "deletable": false,
    "editable": false
   },
   "source": [
    "**Note:** In the toolbar, there is the option to click `Cell > Run All`, which will run all the code cells in this notebook in order. However, the notebook stops running code cells if it hits an error, like the one in the cell above."
   ]
  },
  {
   "cell_type": "markdown",
   "id": "72c2d79f",
   "metadata": {
    "deletable": false,
    "editable": false
   },
   "source": [
    "You should see something like this (minus our annotations):\n",
    "\n",
    "<img src=\"error.jpg\"/>\n",
    "\n",
    "The last line of the error output attempts to tell you what went wrong.  The *syntax* of a language is its structure, and this `SyntaxError` tells you that you that Python can not interpret your expression because it does not follow Python's syntax.  \"`EOF`\" means \"end of file,\" so the message is saying Python expected you to write something more (in this case, a right parenthesis) before finishing the cell.\n",
    "\n",
    "There's a lot of terminology in programming languages, but you don't need to know it all in order to program effectively. If you see a cryptic message like this, you can often get by without deciphering it.  (Of course, if you're frustrated, ask a neighbor, staff member, or the internet for help.)\n",
    "\n",
    "#### Exercise\n",
    "\n",
    "Try to fix the code above so that you can run the cell and see the intended message instead of an error."
   ]
  },
  {
   "cell_type": "markdown",
   "id": "0314d85c",
   "metadata": {
    "deletable": false,
    "editable": false
   },
   "source": [
    "### 1.5. The Kernel\n",
    "The kernel is a program that executes the code inside your notebook and outputs the results. In the top right of your window, you can see a circle that indicates the status of your kernel. If the circle is empty (⚪), the kernel is idle and ready to execute code. If the circle is filled in (⚫), the kernel is busy running some code. \n",
    "\n",
    "Next to every code cell, you'll see some text that says `[...]`. Before you run the cell, you'll see `[ ]`. When the cell is running, you'll see `[*]`. If you see an asterisk (\\*) next to a cell that doesn't go away, it's likely that the code inside the cell is taking too long to run, and it might be a good time to interrupt the kernel (discussed below). When a cell is finished running, you'll see a number inside the brackets, like so: `[1]`. The number corresponds to the order in which you run the cells; so, the first cell you run will show a 1 when it's finished running, the second will show a 2, and so on. \n",
    "\n",
    "You may run into problems where your kernel is stuck for an excessive amount of time, your notebook is very slow and unresponsive, or your kernel loses its connection.  Oftentimes, the problem can be fixed by selecting **Kernel -> Interrupt Kernel** from the menu, or pressing the stop button (◼️) from the toolbar at the top of the window.  Fix the issue in your code and then run the cell again.\n",
    "\n",
    "See our [troubleshooting page](https://www.cs.williams.edu/~cs104/docs/how-to-jupyter/troubleshooting.html) for fixing other problems related to \"stuck\" kernels."
   ]
  },
  {
   "cell_type": "markdown",
   "id": "966528cc",
   "metadata": {
    "deletable": false,
    "editable": false
   },
   "source": [
    "### 1.6. Submitting Your Work\n",
    "All assignments in the course will be distributed as notebooks like this one, and you will submit your work from the notebook. We will use a system called Otter that checks your work and helps you submit. At the top of each assignment, you'll see a cell like the one below. Always run it when you open up one of our notebooks."
   ]
  },
  {
   "cell_type": "code",
   "execution_count": null,
   "id": "a5e7f9f6",
   "metadata": {
    "deletable": false,
    "editable": false,
    "execution": {
     "iopub.execute_input": "2023-09-05T18:25:45.774383Z",
     "iopub.status.busy": "2023-09-05T18:25:45.774204Z",
     "iopub.status.idle": "2023-09-05T18:25:47.813516Z",
     "shell.execute_reply": "2023-09-05T18:25:47.812864Z"
    },
    "tags": []
   },
   "outputs": [],
   "source": [
    "# Initialize CS104 library and Otter Grader library\n",
    "from cs104 import *\n",
    "\n",
    "import otter\n",
    "grader = otter.Notebook(\"lab01.ipynb\")"
   ]
  },
  {
   "cell_type": "markdown",
   "id": "635426dd",
   "metadata": {
    "deletable": false,
    "editable": false
   },
   "source": [
    "You will submit your finished solution by running the export command below to generate a zip file containing your solution that you will then upload to Gradescope. It's fine to submit multiple times.  We will only grade your final submission.  You can run the export command now to see what it does, but don't worry about uploading anything yet."
   ]
  },
  {
   "cell_type": "code",
   "execution_count": null,
   "id": "5af373cf",
   "metadata": {
    "deletable": false,
    "editable": false,
    "execution": {
     "iopub.execute_input": "2023-09-05T18:25:47.817163Z",
     "iopub.status.busy": "2023-09-05T18:25:47.816780Z",
     "iopub.status.idle": "2023-09-05T18:25:47.829704Z",
     "shell.execute_reply": "2023-09-05T18:25:47.828877Z"
    },
    "tags": []
   },
   "outputs": [],
   "source": [
    "# Save your notebook first, then run this cell to export your submission.\n",
    "grader.export(pdf=False)"
   ]
  },
  {
   "cell_type": "markdown",
   "id": "b2fe1993",
   "metadata": {
    "deletable": false,
    "editable": false
   },
   "source": [
    "<hr style=\"margin-bottom: 0px; padding:0; border: 2px solid #500082;\"/>\n"
   ]
  },
  {
   "cell_type": "markdown",
   "id": "181d3a9e",
   "metadata": {
    "deletable": false,
    "editable": false
   },
   "source": [
    "## 2. Numbers\n",
    "\n",
    "Quantitative information arises everywhere in data science. In addition to representing commands to print out lines, expressions can represent numbers and methods of combining numbers. The expression `3.2500` evaluates to the number 3.25. (Run the cell and see.)"
   ]
  },
  {
   "cell_type": "code",
   "execution_count": null,
   "id": "0feed598",
   "metadata": {
    "deletable": false,
    "editable": false,
    "execution": {
     "iopub.execute_input": "2023-09-05T18:25:47.834786Z",
     "iopub.status.busy": "2023-09-05T18:25:47.834509Z",
     "iopub.status.idle": "2023-09-05T18:25:47.840744Z",
     "shell.execute_reply": "2023-09-05T18:25:47.839974Z"
    },
    "tags": []
   },
   "outputs": [],
   "source": [
    "3.2500"
   ]
  },
  {
   "cell_type": "markdown",
   "id": "6af9cd76",
   "metadata": {
    "deletable": false,
    "editable": false
   },
   "source": [
    "Notice that we didn't have to `print`. When you run a notebook cell, if the last line has a value, then Jupyter helpfully prints out that value for you. However, it won't print out prior lines automatically."
   ]
  },
  {
   "cell_type": "code",
   "execution_count": null,
   "id": "d9eefbb6",
   "metadata": {
    "deletable": false,
    "editable": true,
    "execution": {
     "iopub.execute_input": "2023-09-05T18:25:47.844493Z",
     "iopub.status.busy": "2023-09-05T18:25:47.844170Z",
     "iopub.status.idle": "2023-09-05T18:25:47.849206Z",
     "shell.execute_reply": "2023-09-05T18:25:47.848590Z"
    },
    "tags": []
   },
   "outputs": [],
   "source": [
    "print(2)\n",
    "3\n",
    "4"
   ]
  },
  {
   "cell_type": "markdown",
   "id": "5d28c95c",
   "metadata": {
    "deletable": false,
    "editable": false
   },
   "source": [
    "Above, you should see that 4 is the value of the last expression, 2 is printed, but 3 is lost forever because it was neither printed nor last.\n",
    "\n",
    "You don't want to print everything all the time anyway.  But if you feel sorry for 3, change the cell above to print it."
   ]
  },
  {
   "cell_type": "markdown",
   "id": "4578f905",
   "metadata": {
    "deletable": false,
    "editable": false
   },
   "source": [
    "### 2.1. Arithmetic\n",
    "The line in the next cell subtracts.  Its value is what you'd expect.  Run it."
   ]
  },
  {
   "cell_type": "code",
   "execution_count": null,
   "id": "0d3d8fda",
   "metadata": {
    "deletable": false,
    "editable": false,
    "execution": {
     "iopub.execute_input": "2023-09-05T18:25:47.852630Z",
     "iopub.status.busy": "2023-09-05T18:25:47.852393Z",
     "iopub.status.idle": "2023-09-05T18:25:47.856318Z",
     "shell.execute_reply": "2023-09-05T18:25:47.855598Z"
    },
    "tags": []
   },
   "outputs": [],
   "source": [
    "3.25 - 1.5"
   ]
  },
  {
   "cell_type": "markdown",
   "id": "530c2558",
   "metadata": {
    "deletable": false,
    "editable": false
   },
   "source": [
    "Many basic arithmetic operations are built into Python.  The textbook section on [Expressions](http://www.inferentialthinking.com/chapters/03/1/expressions.html) describes all the arithmetic operators used in the course.  The common operator that differs from typical math notation is `**`, which raises one number to the power of the other. So, `2**3` stands for $2^3$ and evaluates to 8. \n",
    "\n",
    "The order of operations is the same as what you learned in elementary school, and Python also has parentheses.  For example, compare the outputs of the cells below. The second cell uses parentheses to compute a more meaningful number."
   ]
  },
  {
   "cell_type": "code",
   "execution_count": null,
   "id": "0fabf18a",
   "metadata": {
    "deletable": false,
    "editable": false,
    "execution": {
     "iopub.execute_input": "2023-09-05T18:25:47.859391Z",
     "iopub.status.busy": "2023-09-05T18:25:47.859148Z",
     "iopub.status.idle": "2023-09-05T18:25:47.863062Z",
     "shell.execute_reply": "2023-09-05T18:25:47.862553Z"
    },
    "tags": []
   },
   "outputs": [],
   "source": [
    "3+6*5-6*3**2*2**3/4*7"
   ]
  },
  {
   "cell_type": "code",
   "execution_count": null,
   "id": "30a862e8",
   "metadata": {
    "deletable": false,
    "editable": false,
    "execution": {
     "iopub.execute_input": "2023-09-05T18:25:47.865720Z",
     "iopub.status.busy": "2023-09-05T18:25:47.865487Z",
     "iopub.status.idle": "2023-09-05T18:25:47.869581Z",
     "shell.execute_reply": "2023-09-05T18:25:47.869047Z"
    },
    "tags": []
   },
   "outputs": [],
   "source": [
    "6+(6*5-(6*3))**2*((2**3)/4*7)"
   ]
  },
  {
   "cell_type": "markdown",
   "id": "65bef2ab",
   "metadata": {
    "deletable": false,
    "editable": false
   },
   "source": [
    "In standard math notation, the first expression is\n",
    "\n",
    "$$3 + 6 \\times 5 - 6 \\times 3^2 \\times \\frac{2^3}{4} \\times 7,$$\n",
    "\n",
    "while the second expression is\n",
    "\n",
    "$$6 + (6 \\times 5 - (6 \\times 3))^2 \\times (\\frac{(2^3)}{4} \\times 7).$$"
   ]
  },
  {
   "cell_type": "markdown",
   "id": "1375d804",
   "metadata": {
    "deletable": false,
    "editable": false
   },
   "source": [
    "#### Exercise\n",
    "\n",
    "Write a Python expression in this next cell that's equal to $5 \\times (3 \\frac{10}{11}) - 50 \\frac{1}{3} + 2^{.5 \\times 22} - \\frac{7}{33} + 6$.  That's five times three and ten elevenths, minus fifty and a third, plus two to the power of half twenty-two, minus seven thirty-thirds plus six.  By \"$3 \\frac{10}{11}$\" we mean $3+\\frac{10}{11}$, not $3 \\times \\frac{10}{11}$.\n",
    "\n",
    "Replace the ellipses (`...`) with your expression.  Try to use parentheses only when necessary.\n",
    "\n",
    "*Hint:* The correct output should start with a familiar number."
   ]
  },
  {
   "cell_type": "code",
   "execution_count": null,
   "id": "182511c6",
   "metadata": {
    "deletable": false,
    "editable": true,
    "execution": {
     "iopub.execute_input": "2023-09-05T18:25:47.872690Z",
     "iopub.status.busy": "2023-09-05T18:25:47.872441Z",
     "iopub.status.idle": "2023-09-05T18:25:47.876329Z",
     "shell.execute_reply": "2023-09-05T18:25:47.875662Z"
    },
    "tags": []
   },
   "outputs": [],
   "source": [
    "..."
   ]
  },
  {
   "cell_type": "markdown",
   "id": "c30eb1af",
   "metadata": {
    "deletable": false,
    "editable": false
   },
   "source": [
    "<hr style=\"margin-bottom: 0px; padding:0; border: 2px solid #500082;\"/>\n"
   ]
  },
  {
   "cell_type": "markdown",
   "id": "5752100e",
   "metadata": {
    "deletable": false,
    "editable": false
   },
   "source": [
    "## 3. Names\n",
    "In natural language, we have terminology that lets us quickly reference very complicated concepts.  We don't say, \"That's a large ruminant with horns, hoofs, and a tail!\"  Instead, we just say, \"cow!\"\n",
    "\n",
    "In Python, we do this with *assignment statements*. An assignment statement has a name on the left side of an `=` sign and an expression to be evaluated on the right."
   ]
  },
  {
   "cell_type": "code",
   "execution_count": null,
   "id": "faa7e47f",
   "metadata": {
    "deletable": false,
    "editable": false,
    "execution": {
     "iopub.execute_input": "2023-09-05T18:25:47.879322Z",
     "iopub.status.busy": "2023-09-05T18:25:47.879077Z",
     "iopub.status.idle": "2023-09-05T18:25:47.882290Z",
     "shell.execute_reply": "2023-09-05T18:25:47.881497Z"
    },
    "tags": []
   },
   "outputs": [],
   "source": [
    "ten = 3 * 2 + 4"
   ]
  },
  {
   "cell_type": "markdown",
   "id": "3d4ef1ad",
   "metadata": {
    "deletable": false,
    "editable": false
   },
   "source": [
    "When you run that cell, Python first computes the value of the expression on the right-hand side, `3 * 2 + 4`, which is the number 10.  Then it assigns that value to the name `ten`.  At that point, the code in the cell is done running.\n",
    "\n",
    "After you run that cell, the value 10 is bound to the name `ten`:"
   ]
  },
  {
   "cell_type": "code",
   "execution_count": null,
   "id": "ee4b962b",
   "metadata": {
    "deletable": false,
    "editable": false,
    "execution": {
     "iopub.execute_input": "2023-09-05T18:25:47.885594Z",
     "iopub.status.busy": "2023-09-05T18:25:47.885321Z",
     "iopub.status.idle": "2023-09-05T18:25:47.889675Z",
     "shell.execute_reply": "2023-09-05T18:25:47.888991Z"
    },
    "tags": []
   },
   "outputs": [],
   "source": [
    "ten"
   ]
  },
  {
   "cell_type": "markdown",
   "id": "3fca56fa",
   "metadata": {
    "deletable": false,
    "editable": false
   },
   "source": [
    "The statement `ten = 3 * 2 + 4` is not asserting that `ten` is already equal to `3 * 2 + 4`, as we might expect by analogy with math notation.  Rather, that line of code changes what `ten` means; it now refers to the value 10, whereas before it meant nothing at all.\n",
    "\n",
    "If the designers of Python had been ruthlessly pedantic, they might have made us write\n",
    "\n",
    "    define the name ten to hereafter have the value of 3 * 2 + 4 \n",
    "\n",
    "instead.  You will probably appreciate the brevity of \"`=`\"!  But keep in mind that this is the real meaning.\n",
    "\n",
    "#### Exercise\n",
    "\n",
    "Try writing code that uses a name (like `eleven`) that hasn't been assigned to anything.  You'll see an error!"
   ]
  },
  {
   "cell_type": "code",
   "execution_count": null,
   "id": "e4a07ae1",
   "metadata": {
    "deletable": false,
    "editable": true,
    "execution": {
     "iopub.execute_input": "2023-09-05T18:25:47.893414Z",
     "iopub.status.busy": "2023-09-05T18:25:47.893105Z",
     "iopub.status.idle": "2023-09-05T18:25:47.897821Z",
     "shell.execute_reply": "2023-09-05T18:25:47.896990Z"
    },
    "tags": []
   },
   "outputs": [],
   "source": [
    "..."
   ]
  },
  {
   "cell_type": "markdown",
   "id": "10cd9c82",
   "metadata": {
    "deletable": false,
    "editable": false
   },
   "source": [
    "A common pattern in Jupyter notebooks is to assign a value to a name and then immediately evaluate the name in the last line in the cell so that the value is displayed as output. "
   ]
  },
  {
   "cell_type": "code",
   "execution_count": null,
   "id": "bf0d51b9",
   "metadata": {
    "deletable": false,
    "editable": false,
    "execution": {
     "iopub.execute_input": "2023-09-05T18:25:47.900910Z",
     "iopub.status.busy": "2023-09-05T18:25:47.900648Z",
     "iopub.status.idle": "2023-09-05T18:25:47.904874Z",
     "shell.execute_reply": "2023-09-05T18:25:47.904251Z"
    },
    "tags": []
   },
   "outputs": [],
   "source": [
    "close_to_pi = 355/113\n",
    "close_to_pi"
   ]
  },
  {
   "cell_type": "markdown",
   "id": "9b8ad491",
   "metadata": {
    "deletable": false,
    "editable": false
   },
   "source": [
    "Another common pattern is that a series of lines in a single cell will build up a complex computation in stages, naming the intermediate results."
   ]
  },
  {
   "cell_type": "code",
   "execution_count": null,
   "id": "818eb27f",
   "metadata": {
    "deletable": false,
    "editable": false,
    "execution": {
     "iopub.execute_input": "2023-09-05T18:25:47.908217Z",
     "iopub.status.busy": "2023-09-05T18:25:47.907936Z",
     "iopub.status.idle": "2023-09-05T18:25:47.912840Z",
     "shell.execute_reply": "2023-09-05T18:25:47.912167Z"
    },
    "tags": []
   },
   "outputs": [],
   "source": [
    "semimonthly_salary = 841.25\n",
    "monthly_salary = 2 * semimonthly_salary\n",
    "\n",
    "number_of_months_in_a_year = 12\n",
    "\n",
    "yearly_salary = number_of_months_in_a_year * monthly_salary\n",
    "yearly_salary"
   ]
  },
  {
   "cell_type": "markdown",
   "id": "739570d3",
   "metadata": {
    "deletable": false,
    "editable": false
   },
   "source": [
    "Names in Python can have letters (upper- and lower-case letters are both okay and count as different letters), underscores, and numbers.  The first character can't be a number (otherwise a name might look like a number).  And names can't contain spaces, since spaces are used to separate pieces of code from each other.  Blank lines in cells are okay, and using them to divide code into chunks can aid in helping you understand what code does.\n",
    "\n",
    "Other than those rules, what you name something doesn't matter *to Python*.  For example, this cell does the same thing as the above cell, except everything has a different name:"
   ]
  },
  {
   "cell_type": "code",
   "execution_count": null,
   "id": "b8360db6",
   "metadata": {
    "deletable": false,
    "editable": false,
    "execution": {
     "iopub.execute_input": "2023-09-05T18:25:47.916191Z",
     "iopub.status.busy": "2023-09-05T18:25:47.915930Z",
     "iopub.status.idle": "2023-09-05T18:25:47.920404Z",
     "shell.execute_reply": "2023-09-05T18:25:47.919795Z"
    },
    "tags": []
   },
   "outputs": [],
   "source": [
    "a = 841.25\n",
    "b = 2 * a\n",
    "c = 12\n",
    "d = c * b\n",
    "d"
   ]
  },
  {
   "cell_type": "markdown",
   "id": "476194af",
   "metadata": {
    "deletable": false,
    "editable": false
   },
   "source": [
    "**However, names are very important for making your code *readable* to yourself and others.**  The cell above is shorter, but it's totally useless without an explanation of what it does.\n",
    "\n",
    "Another **style** point--in this and subsequent notebooks we name our variables with underscores, e.g. `yearly_salary`. Other styles of programming might use styles like \"camel case,\" e.g. `YearlySalary.` Later in your career, you might develop opinions about your own programming style, but for now try to use variable names with underscores to be consistent. "
   ]
  },
  {
   "cell_type": "markdown",
   "id": "d80582f0",
   "metadata": {
    "deletable": false,
    "editable": false
   },
   "source": [
    "<hr style=\"margin-bottom: 0px; padding:0; border: 2px solid #500082;\"/>\n"
   ]
  },
  {
   "cell_type": "markdown",
   "id": "b6782411",
   "metadata": {
    "deletable": false,
    "editable": false
   },
   "source": [
    "## 4. Checking your Code (5 pts)\n",
    "\n"
   ]
  },
  {
   "cell_type": "markdown",
   "id": "f8faa068",
   "metadata": {
    "deletable": false,
    "editable": false
   },
   "source": [
    "Now that you know how to name things, you can start using the built-in *tests* to check whether your work is correct. Sometimes, there are multiple tests for a single question, and passing all of them is required to receive credit for the question. Please don't change the contents of the test cells. \n",
    "\n",
    "Go ahead and attempt the next question. Running the cell directly after it will test whether you have assigned `seconds_in_a_decade` correctly. If you haven't, this test will tell you the correct answer. Resist the urge to just copy it, and instead try to adjust your expression."
   ]
  },
  {
   "cell_type": "markdown",
   "id": "c262e599",
   "metadata": {
    "deletable": false,
    "editable": false
   },
   "source": [
    "#### Part 4.1 (5 pts)\n"
   ]
  },
  {
   "cell_type": "markdown",
   "id": "f1a8e1b9",
   "metadata": {
    "deletable": false,
    "editable": false
   },
   "source": [
    "Assign the name `seconds_in_a_decade` to the number of seconds between midnight January 1, 2010 and midnight January 1, 2020. Note that there are two leap years in this span of a decade. A non-leap year has 365 days and a leap year has 366 days."
   ]
  },
  {
   "cell_type": "code",
   "execution_count": null,
   "id": "55409629",
   "metadata": {
    "deletable": false,
    "execution": {
     "iopub.execute_input": "2023-09-05T18:25:47.923912Z",
     "iopub.status.busy": "2023-09-05T18:25:47.923678Z",
     "iopub.status.idle": "2023-09-05T18:25:47.927674Z",
     "shell.execute_reply": "2023-09-05T18:25:47.927196Z"
    },
    "tags": []
   },
   "outputs": [],
   "source": [
    "# Change the next line \n",
    "# so that it computes the number of seconds in a decade \n",
    "# and assigns that number the name seconds_in_a_decade.\n",
    "\n",
    "seconds_in_a_decade = ...\n",
    "\n",
    "# We've put this line in this cell \n",
    "# so that it will print the value you've given to seconds_in_a_decade when you run it.  \n",
    "# You don't need to change this.\n",
    "seconds_in_a_decade"
   ]
  },
  {
   "cell_type": "code",
   "execution_count": null,
   "id": "d518e3d4",
   "metadata": {
    "deletable": false,
    "editable": false
   },
   "outputs": [],
   "source": [
    "grader.check(\"p4.1\")"
   ]
  },
  {
   "cell_type": "markdown",
   "id": "1c63646d",
   "metadata": {
    "deletable": false,
    "editable": false
   },
   "source": [
    "<hr style=\"margin-bottom: 0px; padding:0; border: 2px solid #500082;\"/>\n"
   ]
  },
  {
   "cell_type": "markdown",
   "id": "8b5d820b",
   "metadata": {
    "deletable": false,
    "editable": false,
    "jp-MarkdownHeadingCollapsed": true,
    "tags": []
   },
   "source": [
    "## 5. Comments\n",
    "You may have noticed these lines in the cell in which you answered the previous question:\n",
    "\n",
    "    # Change the next line \n",
    "    # so that it computes the number of seconds in a decade \n",
    "    # and assigns that number the name seconds_in_a_decade.\n",
    "    \n",
    "This is called a *comment*. It doesn't make anything happen in Python; Python ignores anything on a line after a `#`.  Instead, it's there to communicate something about the code to you, the human reader. Comments are extremely useful. "
   ]
  },
  {
   "cell_type": "markdown",
   "id": "e78101c4",
   "metadata": {
    "deletable": false,
    "editable": false
   },
   "source": [
    "<hr style=\"margin-bottom: 0px; padding:0; border: 2px solid #500082;\"/>\n"
   ]
  },
  {
   "cell_type": "markdown",
   "id": "1c6045a0",
   "metadata": {
    "deletable": false,
    "editable": false
   },
   "source": [
    "## 6. Calling Functions (5 pts)\n",
    "\n",
    "\n",
    "The most common way to combine or manipulate values in Python is by calling functions. Python comes with many built-in functions that perform common operations.\n",
    "\n",
    "For example, the `abs` function takes a single number as its argument and returns the absolute value of that number. Run the next two cells and see if you understand the output."
   ]
  },
  {
   "cell_type": "code",
   "execution_count": null,
   "id": "f1a2d537",
   "metadata": {
    "deletable": false,
    "editable": false,
    "execution": {
     "iopub.execute_input": "2023-09-05T18:25:47.951997Z",
     "iopub.status.busy": "2023-09-05T18:25:47.951721Z",
     "iopub.status.idle": "2023-09-05T18:25:47.956171Z",
     "shell.execute_reply": "2023-09-05T18:25:47.955516Z"
    }
   },
   "outputs": [],
   "source": [
    "abs(5)"
   ]
  },
  {
   "cell_type": "code",
   "execution_count": null,
   "id": "08570a56",
   "metadata": {
    "deletable": false,
    "editable": false,
    "execution": {
     "iopub.execute_input": "2023-09-05T18:25:47.959109Z",
     "iopub.status.busy": "2023-09-05T18:25:47.958856Z",
     "iopub.status.idle": "2023-09-05T18:25:47.962824Z",
     "shell.execute_reply": "2023-09-05T18:25:47.962213Z"
    }
   },
   "outputs": [],
   "source": [
    "abs(-5)"
   ]
  },
  {
   "cell_type": "markdown",
   "id": "a94cd007",
   "metadata": {
    "deletable": false,
    "editable": false
   },
   "source": [
    "#### Part 6.1 (5 pts)\n",
    "\n",
    "Chunhua is on the corner of 7th Avenue and 42nd Street in Midtown Manhattan, and she wants to know far she'd have to walk to get to Gramercy School on the corner of 10th Avenue and 34th Street.\n",
    "\n",
    "She can't cut across blocks diagonally, since there are buildings in the way.  She has to walk along the sidewalks.  Using the map below, she sees she'd have to walk 3 avenues (long blocks) and 8 streets (short blocks).  In terms of the given numbers, she computed 3 as the difference between 7 and 10, *in absolute value*, and 8 similarly.  \n",
    "\n",
    "Chunhua also knows that blocks in Manhattan are all about 80m by 274m (avenues are farther apart than streets).  So in total, she'd have to walk $(80 \\times |42 - 34| + 274 \\times |7 - 10|)$ meters to get to the park.\n",
    "\n",
    "<img width=\"50%\" src=\"map.jpg\"/>\n",
    "\n",
    "Fill in the line `num_avenues_away = ...` in the next cell so that the cell calculates the distance Chunhua must walk and gives it the name `manhattan_distance`.  Everything else has been filled in for you.  **Use the `abs` function.** Also, be sure to run the test cell afterward to test your code.\n"
   ]
  },
  {
   "cell_type": "code",
   "execution_count": null,
   "id": "59f69c44",
   "metadata": {
    "deletable": false,
    "execution": {
     "iopub.execute_input": "2023-09-05T18:25:47.965980Z",
     "iopub.status.busy": "2023-09-05T18:25:47.965729Z",
     "iopub.status.idle": "2023-09-05T18:25:47.970297Z",
     "shell.execute_reply": "2023-09-05T18:25:47.969714Z"
    },
    "tags": []
   },
   "outputs": [],
   "source": [
    "# Here's the number of streets away:\n",
    "num_streets_away = abs(42-34)\n",
    "\n",
    "# Compute the number of avenues away in a similar way:\n",
    "num_avenues_away = ...\n",
    "\n",
    "street_length_m = 80\n",
    "avenue_length_m = 274\n",
    "\n",
    "# Now we compute the total distance Chunhua must walk.\n",
    "manhattan_distance = street_length_m * num_streets_away + avenue_length_m * num_avenues_away\n",
    "\n",
    "# We've included this line so that you see the distance you've computed \n",
    "# when you run this cell.  \n",
    "# You don't need to change it, but you can if you want.\n",
    "manhattan_distance"
   ]
  },
  {
   "cell_type": "code",
   "execution_count": null,
   "id": "c3c3926f",
   "metadata": {
    "deletable": false,
    "editable": false
   },
   "outputs": [],
   "source": [
    "grader.check(\"p6.1\")"
   ]
  },
  {
   "cell_type": "markdown",
   "id": "99ebf110",
   "metadata": {
    "deletable": false,
    "editable": false,
    "tags": []
   },
   "source": [
    "#### Multiple arguments\n",
    "Some functions take multiple arguments, separated by commas. For example, the built-in `max` function returns the maximum argument passed to it."
   ]
  },
  {
   "cell_type": "code",
   "execution_count": null,
   "id": "6ccfae83",
   "metadata": {
    "deletable": false,
    "editable": false,
    "execution": {
     "iopub.execute_input": "2023-09-05T18:25:47.985159Z",
     "iopub.status.busy": "2023-09-05T18:25:47.984832Z",
     "iopub.status.idle": "2023-09-05T18:25:47.990082Z",
     "shell.execute_reply": "2023-09-05T18:25:47.989277Z"
    },
    "tags": []
   },
   "outputs": [],
   "source": [
    "max(2, -3, 4, -5)"
   ]
  },
  {
   "cell_type": "markdown",
   "id": "1d021920",
   "metadata": {
    "deletable": false,
    "editable": false
   },
   "source": [
    "<hr style=\"margin-bottom: 0px; padding:0; border: 2px solid #500082;\"/>\n"
   ]
  },
  {
   "cell_type": "markdown",
   "id": "1f612526",
   "metadata": {
    "deletable": false,
    "editable": false
   },
   "source": [
    "## 7. Interpreting Graphs (10 pts)\n",
    "\n"
   ]
  },
  {
   "cell_type": "markdown",
   "id": "2e8b0c16",
   "metadata": {
    "deletable": false,
    "editable": false
   },
   "source": [
    "The following scatter plot shows the duration and number of characters in the lyrics for the songs on Taylor Swift's ten albums.  Specifically, the horizontal position of a dot measures the length of a song, and the vertical position measures the total number of characters in that songs lyrics.  (In computer science, we use the term character to refer to any letter, digit, punctuation mark or space in a piece of text.)  "
   ]
  },
  {
   "cell_type": "markdown",
   "id": "d4c68568",
   "metadata": {
    "deletable": false,
    "editable": false,
    "tags": []
   },
   "source": [
    "<img src=\"taylor_swift.png\"/>"
   ]
  },
  {
   "cell_type": "markdown",
   "id": "6b6f46da",
   "metadata": {
    "deletable": false,
    "editable": false
   },
   "source": [
    "#### Part 7.1 (5 pts)\n"
   ]
  },
  {
   "cell_type": "markdown",
   "id": "f56e5c7b",
   "metadata": {
    "deletable": false,
    "editable": false
   },
   "source": [
    "Rounded to the nearest minute, how long is the song with the largest number of characters?"
   ]
  },
  {
   "cell_type": "code",
   "execution_count": null,
   "id": "777431ab",
   "metadata": {
    "deletable": false,
    "execution": {
     "iopub.execute_input": "2023-09-05T18:25:47.995316Z",
     "iopub.status.busy": "2023-09-05T18:25:47.994879Z",
     "iopub.status.idle": "2023-09-05T18:25:47.998974Z",
     "shell.execute_reply": "2023-09-05T18:25:47.997993Z"
    },
    "tags": []
   },
   "outputs": [],
   "source": [
    "duration_q1 = ..."
   ]
  },
  {
   "cell_type": "code",
   "execution_count": null,
   "id": "8b2f0898",
   "metadata": {
    "deletable": false,
    "editable": false
   },
   "outputs": [],
   "source": [
    "grader.check(\"p7.1\")"
   ]
  },
  {
   "cell_type": "markdown",
   "id": "69c02cc2",
   "metadata": {
    "deletable": false,
    "editable": false
   },
   "source": [
    "The test above checks that your answers are in the correct format. **This test does not check that you answered correctly**, only that you assigned a number successfully in each multiple-choice answer cell.  We'll check that you answered correctly when we grade your lab."
   ]
  },
  {
   "cell_type": "markdown",
   "id": "bb364216",
   "metadata": {
    "deletable": false,
    "editable": false
   },
   "source": [
    "#### Part 7.2 (5 pts)\n"
   ]
  },
  {
   "cell_type": "markdown",
   "id": "94e598f4",
   "metadata": {
    "deletable": false,
    "editable": false
   },
   "source": [
    "Rounded to the nearest hundred, how many characteres are in the song with the fewest characters sung per minute?"
   ]
  },
  {
   "cell_type": "code",
   "execution_count": null,
   "id": "aa63f817",
   "metadata": {
    "deletable": false,
    "execution": {
     "iopub.execute_input": "2023-09-05T18:25:48.034370Z",
     "iopub.status.busy": "2023-09-05T18:25:48.034082Z",
     "iopub.status.idle": "2023-09-05T18:25:48.037586Z",
     "shell.execute_reply": "2023-09-05T18:25:48.036814Z"
    },
    "tags": []
   },
   "outputs": [],
   "source": [
    "characters_q2 = ..."
   ]
  },
  {
   "cell_type": "code",
   "execution_count": null,
   "id": "0fa63d70",
   "metadata": {
    "deletable": false,
    "editable": false
   },
   "outputs": [],
   "source": [
    "grader.check(\"p7.2\")"
   ]
  },
  {
   "cell_type": "markdown",
   "id": "65846db8",
   "metadata": {
    "deletable": false,
    "editable": false
   },
   "source": [
    "Again, the test above checks that your answers are in the correct format, but not that you have answered correctly."
   ]
  },
  {
   "cell_type": "markdown",
   "id": "f69e10f6",
   "metadata": {
    "deletable": false,
    "editable": false
   },
   "source": [
    "To discover more interesting facts from this plot, read [Section 1.3.2](https://inferentialthinking.com/chapters/01/3/2/Another_Kind_Of_Character.html) of the textbook."
   ]
  },
  {
   "cell_type": "markdown",
   "id": "e68cda59",
   "metadata": {
    "deletable": false,
    "editable": false
   },
   "source": [
    "<hr style=\"margin-bottom: 0px; padding:0; border: 2px solid #500082;\"/>\n"
   ]
  },
  {
   "cell_type": "markdown",
   "id": "d3042ed0",
   "metadata": {
    "deletable": false,
    "editable": false,
    "tags": []
   },
   "source": [
    "## 8. Names and Assignment Statements (15 pts)\n",
    "\n"
   ]
  },
  {
   "cell_type": "markdown",
   "id": "691f34a0",
   "metadata": {
    "deletable": false,
    "editable": false,
    "tags": []
   },
   "source": [
    "#### Part 8.1 (5 pts)\n"
   ]
  },
  {
   "cell_type": "markdown",
   "id": "736c2fa1",
   "metadata": {
    "deletable": false,
    "editable": false
   },
   "source": [
    "When you run the following cell, Python produces a cryptic error message."
   ]
  },
  {
   "cell_type": "code",
   "execution_count": null,
   "id": "fd22aaea",
   "metadata": {
    "deletable": false,
    "editable": false,
    "execution": {
     "iopub.execute_input": "2023-09-05T18:25:48.056281Z",
     "iopub.status.busy": "2023-09-05T18:25:48.055847Z",
     "iopub.status.idle": "2023-09-05T18:25:48.617167Z",
     "shell.execute_reply": "2023-09-05T18:25:48.616570Z"
    }
   },
   "outputs": [],
   "source": [
    "4 = 2 + 2"
   ]
  },
  {
   "cell_type": "markdown",
   "id": "64593bbb",
   "metadata": {
    "deletable": false,
    "editable": false
   },
   "source": [
    "Choose the best explanation of what's wrong with the code, and then assign 1, 2, 3, or 4 to `names_q1` below to indicate your answer.\n",
    "\n",
    "1. Python is smart and already knows `4 = 2 + 2`.\n",
    "\n",
    "2. `4` is already a defined number, and it doesn't make sense to make a number be a name for something else. In Python, \"`x = 2 + 2`\" means \"assign `x` as the name for the value of `2 + 2`.\"\n",
    "\n",
    "3. It should be `2 + 2 = 4`."
   ]
  },
  {
   "cell_type": "code",
   "execution_count": null,
   "id": "dd5f47fe",
   "metadata": {
    "deletable": false,
    "execution": {
     "iopub.execute_input": "2023-09-05T18:25:48.620324Z",
     "iopub.status.busy": "2023-09-05T18:25:48.620079Z",
     "iopub.status.idle": "2023-09-05T18:25:48.622925Z",
     "shell.execute_reply": "2023-09-05T18:25:48.622385Z"
    },
    "tags": []
   },
   "outputs": [],
   "source": [
    "names_q1 = ..."
   ]
  },
  {
   "cell_type": "code",
   "execution_count": null,
   "id": "654151d1",
   "metadata": {
    "deletable": false,
    "editable": false
   },
   "outputs": [],
   "source": [
    "grader.check(\"p8.1\")"
   ]
  },
  {
   "cell_type": "markdown",
   "id": "767e1261",
   "metadata": {
    "deletable": false,
    "editable": false,
    "tags": []
   },
   "source": [
    "#### Part 8.2 (5 pts)\n"
   ]
  },
  {
   "cell_type": "markdown",
   "id": "0730a778",
   "metadata": {
    "deletable": false,
    "editable": false
   },
   "source": [
    "When you run the following cell, Python will produce another cryptic error message."
   ]
  },
  {
   "cell_type": "code",
   "execution_count": null,
   "id": "819b0355",
   "metadata": {
    "deletable": false,
    "editable": false,
    "execution": {
     "iopub.execute_input": "2023-09-05T18:25:48.637954Z",
     "iopub.status.busy": "2023-09-05T18:25:48.637684Z",
     "iopub.status.idle": "2023-09-05T18:25:48.656492Z",
     "shell.execute_reply": "2023-09-05T18:25:48.655877Z"
    }
   },
   "outputs": [],
   "source": [
    "two = 3\n",
    "six = two plus two"
   ]
  },
  {
   "cell_type": "markdown",
   "id": "6d33df41",
   "metadata": {
    "deletable": false,
    "editable": false
   },
   "source": [
    "Choose the best explanation of what's wrong with the code and assign 1, 2, 3, or 4 to `names_q2` below to indicate your answer.\n",
    "\n",
    "1. The `plus` operation only applies to numbers, not the word \"two\".\n",
    "\n",
    "2. The name \"two\" cannot be assigned to the number 3.\n",
    "\n",
    "3. Two plus two is four, not six.\n",
    "\n",
    "4. Python cannot interpret the name `plus`, as it has not been defined.\n",
    "\n",
    "<!--\n",
    "BEGIN QUESTION\n",
    "name: q3_2\n",
    "manual: False\n",
    "points:\n",
    " - 0\n",
    " - 4\n",
    "-->"
   ]
  },
  {
   "cell_type": "code",
   "execution_count": null,
   "id": "b3ec3aa8",
   "metadata": {
    "deletable": false,
    "execution": {
     "iopub.execute_input": "2023-09-05T18:25:48.659628Z",
     "iopub.status.busy": "2023-09-05T18:25:48.659389Z",
     "iopub.status.idle": "2023-09-05T18:25:48.662250Z",
     "shell.execute_reply": "2023-09-05T18:25:48.661707Z"
    },
    "tags": []
   },
   "outputs": [],
   "source": [
    "names_q2 = ..."
   ]
  },
  {
   "cell_type": "code",
   "execution_count": null,
   "id": "10a05399",
   "metadata": {
    "deletable": false,
    "editable": false
   },
   "outputs": [],
   "source": [
    "grader.check(\"p8.2\")"
   ]
  },
  {
   "cell_type": "markdown",
   "id": "01ff0660",
   "metadata": {
    "deletable": false,
    "editable": false
   },
   "source": [
    "#### Part 8.3 (5 pts)\n"
   ]
  },
  {
   "cell_type": "markdown",
   "id": "ed6724b3",
   "metadata": {
    "deletable": false,
    "editable": false
   },
   "source": [
    "When you run the following cell, Python will, yet again, produce another cryptic error message."
   ]
  },
  {
   "cell_type": "code",
   "execution_count": null,
   "id": "5d2c9a6e",
   "metadata": {
    "deletable": false,
    "editable": false,
    "execution": {
     "iopub.execute_input": "2023-09-05T18:25:48.676825Z",
     "iopub.status.busy": "2023-09-05T18:25:48.676558Z",
     "iopub.status.idle": "2023-09-05T18:25:48.728567Z",
     "shell.execute_reply": "2023-09-05T18:25:48.728074Z"
    }
   },
   "outputs": [],
   "source": [
    "x = print(5)\n",
    "y = x + 2"
   ]
  },
  {
   "cell_type": "markdown",
   "id": "2a2b1692",
   "metadata": {
    "deletable": false,
    "editable": false
   },
   "source": [
    "Choose the best explanation of what's wrong with the code and assign 1, 2, or 3 to `names_q3` below to indicate your answer.\n",
    "\n",
    "1. Python doesn't want `y` to be assigned.\n",
    "\n",
    "2. The `print` operation is meant for displaying values to the programmer, not for assigning values!\n",
    "\n",
    "3. Python can’t do addition between one name and one number. It has to be 2 numbers or 2 predefined names.\n",
    "\n",
    "<!--\n",
    "BEGIN QUESTION\n",
    "name: q3_3\n",
    "manual: false\n",
    "points:\n",
    " - 0\n",
    " - 4\n",
    "-->"
   ]
  },
  {
   "cell_type": "code",
   "execution_count": null,
   "id": "4a204372",
   "metadata": {
    "deletable": false,
    "execution": {
     "iopub.execute_input": "2023-09-05T18:25:48.731552Z",
     "iopub.status.busy": "2023-09-05T18:25:48.731334Z",
     "iopub.status.idle": "2023-09-05T18:25:48.734434Z",
     "shell.execute_reply": "2023-09-05T18:25:48.733841Z"
    },
    "tags": []
   },
   "outputs": [],
   "source": [
    "names_q3 = ..."
   ]
  },
  {
   "cell_type": "code",
   "execution_count": null,
   "id": "4aeffe8b",
   "metadata": {
    "deletable": false,
    "editable": false
   },
   "outputs": [],
   "source": [
    "grader.check(\"p8.3\")"
   ]
  },
  {
   "cell_type": "markdown",
   "id": "2c4f3e7e",
   "metadata": {
    "deletable": false,
    "editable": false
   },
   "source": [
    "<hr style=\"margin-bottom: 0px; padding:0; border: 2px solid #500082;\"/>\n"
   ]
  },
  {
   "cell_type": "markdown",
   "id": "a2f8d4f3",
   "metadata": {
    "deletable": false,
    "editable": false,
    "tags": []
   },
   "source": [
    "## 9. Differences between Majors (20 pts)\n",
    "\n"
   ]
  },
  {
   "cell_type": "markdown",
   "id": "80709325",
   "metadata": {
    "deletable": false,
    "editable": false
   },
   "source": [
    "Adapted from information found on the Williams website, the table below displays the average number of degree recipients in three majors for the years 2008-2012 and 2018-2021.\n",
    "\n",
    "| Major                              | 2008-2012    | 2018-2021   |\n",
    "|------------------------------------|--------------|-------------|\n",
    "| Comparative Literature             |  5           | 11          |\n",
    "| Psychology                         | 62           | 45          |\n",
    "| Mathematics                        | 53           | 61          |\n"
   ]
  },
  {
   "cell_type": "markdown",
   "id": "1afe2dea",
   "metadata": {
    "deletable": false,
    "editable": false
   },
   "source": [
    "#### Part 9.1 (5 pts)\n"
   ]
  },
  {
   "cell_type": "markdown",
   "id": "431ab8f3",
   "metadata": {
    "deletable": false,
    "editable": false
   },
   "source": [
    "Suppose you want to find the **biggest** absolute difference between the numbers of degree recipients in the two years, among the three majors.\n",
    "\n",
    "In the cell below, compute this value and call it `biggest_change`. Use a single expression (a single line of code) to compute the answer. Let Python perform all the arithmetic (like subtracting 5 from 11) rather than simplifying the expression yourself. The built-in `abs` function takes a numerical input and returns the absolute value. The built-in `max` function can take in 3 arguments and returns the maximum of the three numbers."
   ]
  },
  {
   "cell_type": "code",
   "execution_count": null,
   "id": "2c35993e",
   "metadata": {
    "deletable": false,
    "execution": {
     "iopub.execute_input": "2023-09-05T18:25:48.752059Z",
     "iopub.status.busy": "2023-09-05T18:25:48.751800Z",
     "iopub.status.idle": "2023-09-05T18:25:48.755887Z",
     "shell.execute_reply": "2023-09-05T18:25:48.755409Z"
    },
    "tags": []
   },
   "outputs": [],
   "source": [
    "biggest_change = ...\n",
    "biggest_change"
   ]
  },
  {
   "cell_type": "code",
   "execution_count": null,
   "id": "3fcdc94a",
   "metadata": {
    "deletable": false,
    "editable": false
   },
   "outputs": [],
   "source": [
    "grader.check(\"p9.1\")"
   ]
  },
  {
   "cell_type": "markdown",
   "id": "d07aaf83",
   "metadata": {
    "deletable": false,
    "editable": false,
    "tags": []
   },
   "source": [
    "#### Part 9.2 (5 pts)\n"
   ]
  },
  {
   "cell_type": "markdown",
   "id": "1cfa6d00",
   "metadata": {
    "deletable": false,
    "editable": false
   },
   "source": [
    "Which of the three majors had the **smallest** absolute difference? Assign `smallest_change_major` to 1, 2, or 3 where each number corresponds to the following major:\n",
    "\n",
    "1. Comparative Literature\n",
    "2. Psychology\n",
    "3. Mathematics\n",
    "\n",
    "Choose the number that corresponds to the major with the smallest absolute difference.\n",
    "\n",
    "You should be able to answer by rough mental arithmetic, without having to calculate the exact value for each major."
   ]
  },
  {
   "cell_type": "code",
   "execution_count": null,
   "id": "f64d67e9",
   "metadata": {
    "deletable": false,
    "execution": {
     "iopub.execute_input": "2023-09-05T18:25:48.771909Z",
     "iopub.status.busy": "2023-09-05T18:25:48.771657Z",
     "iopub.status.idle": "2023-09-05T18:25:48.775395Z",
     "shell.execute_reply": "2023-09-05T18:25:48.774878Z"
    },
    "tags": []
   },
   "outputs": [],
   "source": [
    "smallest_change_major = ...\n",
    "smallest_change_major"
   ]
  },
  {
   "cell_type": "code",
   "execution_count": null,
   "id": "7e6a0d98",
   "metadata": {
    "deletable": false,
    "editable": false
   },
   "outputs": [],
   "source": [
    "grader.check(\"p9.2\")"
   ]
  },
  {
   "cell_type": "markdown",
   "id": "f8109304",
   "metadata": {
    "deletable": false,
    "editable": false,
    "tags": []
   },
   "source": [
    "#### Part 9.3 (5 pts)\n"
   ]
  },
  {
   "cell_type": "markdown",
   "id": "e3225363",
   "metadata": {
    "deletable": false,
    "editable": false,
    "tags": []
   },
   "source": [
    "For each major, define the “relative change” to be the following: $\\large{\\frac{\\text{absolute difference}}{\\text{value in 2008-2012}} * 100}$ \n",
    "\n",
    "Fill in the code below such that `complit_relative_change`, `psych_relative_change` and `math_relative_change` are assigned to the relative changes for their respective majors."
   ]
  },
  {
   "cell_type": "code",
   "execution_count": null,
   "id": "0c91dd1a",
   "metadata": {
    "deletable": false,
    "execution": {
     "iopub.execute_input": "2023-09-05T18:25:48.790694Z",
     "iopub.status.busy": "2023-09-05T18:25:48.790423Z",
     "iopub.status.idle": "2023-09-05T18:25:48.795194Z",
     "shell.execute_reply": "2023-09-05T18:25:48.794533Z"
    },
    "for_assignment_type": "student",
    "tags": []
   },
   "outputs": [],
   "source": [
    "complit_relative_change = (abs(...) / 5) * 100\n",
    "\n",
    "psych_relative_change = ...\n",
    "math_relative_change = ...\n",
    "print(\"complit_relative_change is \", complit_relative_change)\n",
    "print(\"psych_relative_change is \", psych_relative_change)\n",
    "print(\"math_relative_change is \", math_relative_change)"
   ]
  },
  {
   "cell_type": "code",
   "execution_count": null,
   "id": "126ca366",
   "metadata": {
    "deletable": false,
    "editable": false
   },
   "outputs": [],
   "source": [
    "grader.check(\"p9.3\")"
   ]
  },
  {
   "cell_type": "markdown",
   "id": "f80d7eff",
   "metadata": {
    "deletable": false,
    "editable": false
   },
   "source": [
    "#### Part 9.4 (5 pts)\n"
   ]
  },
  {
   "cell_type": "markdown",
   "id": "750e4a49",
   "metadata": {
    "deletable": false,
    "editable": false
   },
   "source": [
    "Assign `biggest_rel_change_major` to 1, 2, or 3 where each number corresponds to to the following: \n",
    "\n",
    "1. Comparative Literature\n",
    "2. Psychology\n",
    "3. Mathematics\n",
    "\n",
    "Choose the number that corresponds to the major with the biggest relative change. "
   ]
  },
  {
   "cell_type": "code",
   "execution_count": null,
   "id": "f43d31b8",
   "metadata": {
    "deletable": false,
    "execution": {
     "iopub.execute_input": "2023-09-05T18:25:48.832876Z",
     "iopub.status.busy": "2023-09-05T18:25:48.832584Z",
     "iopub.status.idle": "2023-09-05T18:25:48.837404Z",
     "shell.execute_reply": "2023-09-05T18:25:48.836869Z"
    },
    "tags": []
   },
   "outputs": [],
   "source": [
    "# Assign biggest_rel_change_major to the number corresponding to the major with the biggest relative change.\n",
    "biggest_rel_change_major = ...\n",
    "biggest_rel_change_major"
   ]
  },
  {
   "cell_type": "code",
   "execution_count": null,
   "id": "c6d08a0d",
   "metadata": {
    "deletable": false,
    "editable": false
   },
   "outputs": [],
   "source": [
    "grader.check(\"p9.4\")"
   ]
  },
  {
   "cell_type": "markdown",
   "id": "2179ff56",
   "metadata": {
    "deletable": false,
    "editable": false
   },
   "source": [
    "<hr class=\"m-0\" style=\"border: 3px solid #500082;\"/>\n",
    "\n",
    "# You're Done!\n",
    "Follow these steps to submit your work:\n",
    "* Run the tests and verify that they pass as you expect. \n",
    "* Choose **Save Notebook** from the **File** menu.\n",
    "* **Run the final cell** and click the link below to download the zip file. \n",
    "\n",
    "Once you have downloaded that file, go to [Gradescope](https://www.gradescope.com/) and submit the zip file to \n",
    "the corresponding assignment. For Lab N, the assignment will be called \"Lab N Autograder\".\n",
    "\n",
    "Once you have submitted, your Gradescope assignment should show you passing all the tests you passed in your assignment notebook.\n"
   ]
  },
  {
   "cell_type": "markdown",
   "id": "d7ca6435",
   "metadata": {
    "deletable": false,
    "editable": false
   },
   "source": [
    "If that is the case, you will find results similar to the following on the Gradescope site once the autograder completes.\n",
    "\n",
    "<img src=\"gradescope.png\">"
   ]
  },
  {
   "cell_type": "markdown",
   "id": "4a4c85a4",
   "metadata": {
    "deletable": false,
    "editable": false
   },
   "source": [
    "## Submission\n",
    "\n",
    "Make sure you have run all cells in your notebook in order before running the cell below, so that all images/graphs appear in the output. The cell below will generate a zip file for you to submit. **Please save before exporting!**"
   ]
  },
  {
   "cell_type": "code",
   "execution_count": null,
   "id": "db72f435",
   "metadata": {
    "deletable": false,
    "editable": false
   },
   "outputs": [],
   "source": [
    "# Save your notebook first, then run this cell to export your submission.\n",
    "grader.export(pdf=False, run_tests=True)"
   ]
  },
  {
   "cell_type": "markdown",
   "id": "da27c2fd",
   "metadata": {},
   "source": [
    " "
   ]
  }
 ],
 "metadata": {
  "kernelspec": {
   "display_name": "Python 3 (ipykernel)",
   "language": "python",
   "name": "python3"
  },
  "language_info": {
   "codemirror_mode": {
    "name": "ipython",
    "version": 3
   },
   "file_extension": ".py",
   "mimetype": "text/x-python",
   "name": "python",
   "nbconvert_exporter": "python",
   "pygments_lexer": "ipython3",
   "version": "3.9.13"
  },
  "otter": {
   "OK_FORMAT": true,
   "tests": {
    "p4.1": {
     "has_hidden": false,
     "name": "p4.1",
     "points": 5,
     "suites": [
      {
       "cases": [
        {
         "code": ">>> check('seconds_in_a_decade' in vars())\n",
         "failure_message": "It looks like you didn't give anything the name\nseconds_in_a_decade. Maybe there's a typo, or maybe you \njust need to run the cell below Question 3.2 where you defined \nseconds_in_a_decade. Click that cell and then click the \"run\ncell\" button in the menu bar above.\n",
         "hidden": false,
         "locked": false,
         "submit_only": false,
         "success_message": "seconds_in_a_decade has been successfully defined."
        },
        {
         "code": ">>> check(seconds_in_a_decade != ...)\n",
         "failure_message": "It looks like you didn't change the cell to define\nseconds_in_a_decade appropriately.  It should be a number,\ncomputed using Python's arithmetic.  For example, this is\nalmost right: \n  seconds_in_a_decade = 10*365*24*60*60\n",
         "hidden": false,
         "locked": false,
         "submit_only": false,
         "success_message": "seconds_in_a_decade has been given a value."
        },
        {
         "code": ">>> check_str('seconds_in_a_decade == 315532800', locals())\n",
         "failure_message": "seconds_in_a_decade does not hold the right answer yet.",
         "hidden": false,
         "locked": false,
         "submit_only": false,
         "success_message": "check(seconds_in_a_decade == 315532800)"
        }
       ],
       "scored": true,
       "setup": "",
       "teardown": "",
       "type": "doctest"
      }
     ]
    },
    "p6.1": {
     "has_hidden": false,
     "name": "p6.1",
     "points": 5,
     "suites": [
      {
       "cases": [
        {
         "code": ">>> check_str('num_avenues_away == 3', locals())\n",
         "failure_message": "check(num_avenues_away == 3)",
         "hidden": false,
         "locked": false,
         "submit_only": false,
         "success_message": "check(num_avenues_away == 3)"
        },
        {
         "code": ">>> check_str('manhattan_distance == 1462', locals())\n",
         "failure_message": "check(manhattan_distance == 1462)",
         "hidden": false,
         "locked": false,
         "submit_only": false,
         "success_message": "check(manhattan_distance == 1462)"
        }
       ],
       "scored": true,
       "setup": "",
       "teardown": "",
       "type": "doctest"
      }
     ]
    },
    "p7.1": {
     "has_hidden": false,
     "name": "p7.1",
     "points": 5,
     "suites": [
      {
       "cases": [
        {
         "code": ">>> check_str('characters_q1 in [1,2,3,4,5,6]', locals())\n\u001b[35m\u001b[1m🐝 check(characters_q1 in [1,2,3,4,5,6])\n      name 'characters_q1' is not defined\n\u001b[0m\n",
         "failure_message": "characters_q1 should be a number between 1 and 6.",
         "hidden": false,
         "locked": false,
         "submit_only": false,
         "success_message": "check(characters_q1 in [1,2,3,4,5,6])"
        },
        {
         "code": ">>> check_str('characters_q1 == 4', locals())\n\u001b[35m\u001b[1m🐝 check(characters_q1 == 4)\n      name 'characters_q1' is not defined\n\u001b[0m\n",
         "failure_message": "characters_q1 is the wrong number.",
         "hidden": false,
         "locked": false,
         "submit_only": false,
         "success_message": "check(characters_q1 == 4)"
        }
       ],
       "scored": true,
       "setup": "",
       "teardown": "",
       "type": "doctest"
      }
     ]
    },
    "p7.2": {
     "has_hidden": false,
     "name": "p7.2",
     "points": 5,
     "suites": [
      {
       "cases": [
        {
         "code": ">>> check_str('characters_q2 in np.arange(0,5000, 100)', locals())\n",
         "failure_message": "characters_q2 should be a number between 1 and 3.",
         "hidden": false,
         "locked": false,
         "submit_only": false,
         "success_message": "check(characters_q2 in np.arange(0,5000, 100))"
        },
        {
         "code": ">>> check_str('characters_q2 == 1000', locals())\n",
         "failure_message": "characters_q2 is the wrong number.",
         "hidden": false,
         "locked": false,
         "submit_only": false,
         "success_message": "check(characters_q2 == 1000)"
        }
       ],
       "scored": true,
       "setup": "",
       "teardown": "",
       "type": "doctest"
      }
     ]
    },
    "p8.1": {
     "has_hidden": false,
     "name": "p8.1",
     "points": 5,
     "suites": [
      {
       "cases": [
        {
         "code": ">>> check_str('names_q1 in [1,2,3]', locals())\n",
         "failure_message": "Be sure to set names_q1 to either 1, 2, or 3.",
         "hidden": false,
         "locked": false,
         "submit_only": false,
         "success_message": "check(names_q1 in [1,2,3])"
        },
        {
         "code": ">>> check_str('names_q1 == 2', locals())\n",
         "failure_message": "names_q1 is the wrong number.",
         "hidden": false,
         "locked": false,
         "submit_only": false,
         "success_message": "check(names_q1 == 2)"
        }
       ],
       "scored": true,
       "setup": "",
       "teardown": "",
       "type": "doctest"
      }
     ]
    },
    "p8.2": {
     "has_hidden": false,
     "name": "p8.2",
     "points": 5,
     "suites": [
      {
       "cases": [
        {
         "code": ">>> check_str('names_q2 in [1,2,3,4]', locals())\n",
         "failure_message": "Be sure to set names_q2 to either 1, 2, 3, or 4.",
         "hidden": false,
         "locked": false,
         "submit_only": false,
         "success_message": "check(names_q2 in [1,2,3,4])"
        },
        {
         "code": ">>> check_str('names_q2 == 4', locals())\n",
         "failure_message": "names_q2 is the wrong number.",
         "hidden": false,
         "locked": false,
         "submit_only": false,
         "success_message": "check(names_q2 == 4)"
        }
       ],
       "scored": true,
       "setup": "",
       "teardown": "",
       "type": "doctest"
      }
     ]
    },
    "p8.3": {
     "has_hidden": false,
     "name": "p8.3",
     "points": 5,
     "suites": [
      {
       "cases": [
        {
         "code": ">>> check_str('names_q3 in [1,2,3]', locals())\n",
         "failure_message": "Be sure to set names_q1 to either 1, 2, or 3.",
         "hidden": false,
         "locked": false,
         "submit_only": false,
         "success_message": "check(names_q3 in [1,2,3])"
        },
        {
         "code": ">>> check_str('names_q3 == 2', locals())\n",
         "failure_message": "names_q3 is the wrong number.",
         "hidden": false,
         "locked": false,
         "submit_only": false,
         "success_message": "check(names_q3 == 2)"
        }
       ],
       "scored": true,
       "setup": "",
       "teardown": "",
       "type": "doctest"
      }
     ]
    },
    "p9.1": {
     "has_hidden": true,
     "name": "p9.1",
     "points": 5,
     "suites": [
      {
       "cases": [
        {
         "code": ">>> check_str('0 <= biggest_change', locals())\n",
         "failure_message": "biggest_change should be a non-negative number!",
         "hidden": false,
         "locked": false,
         "submit_only": false,
         "success_message": "check(0 <= biggest_change)"
        }
       ],
       "scored": true,
       "setup": "",
       "teardown": "",
       "type": "doctest"
      }
     ]
    },
    "p9.2": {
     "has_hidden": true,
     "name": "p9.2",
     "points": 5,
     "suites": [
      {
       "cases": [
        {
         "code": ">>> check_str('smallest_change_major in [1,2,3]', locals())\n",
         "failure_message": "Be sure to set smallest_change_major to either 1, 2, or 3.",
         "hidden": false,
         "locked": false,
         "submit_only": false,
         "success_message": "check(smallest_change_major in [1,2,3])"
        }
       ],
       "scored": true,
       "setup": "",
       "teardown": "",
       "type": "doctest"
      }
     ]
    },
    "p9.3": {
     "has_hidden": true,
     "name": "p9.3",
     "points": 5,
     "suites": [
      {
       "cases": [
        {
         "code": ">>> check_str('0 <= complit_relative_change <= 200', locals())\n",
         "failure_message": "check(0 <= complit_relative_change <= 200)",
         "hidden": false,
         "locked": false,
         "submit_only": false,
         "success_message": "check(0 <= complit_relative_change <= 200)"
        },
        {
         "code": ">>> check_str('0 <= psych_relative_change <= 200', locals())\n",
         "failure_message": "check(0 <= psych_relative_change <= 200)",
         "hidden": false,
         "locked": false,
         "submit_only": false,
         "success_message": "check(0 <= psych_relative_change <= 200)"
        },
        {
         "code": ">>> check_str('0 <= math_relative_change <= 200', locals())\n",
         "failure_message": "check(0 <= math_relative_change <= 200)",
         "hidden": false,
         "locked": false,
         "submit_only": false,
         "success_message": "check(0 <= math_relative_change <= 200)"
        }
       ],
       "scored": true,
       "setup": "",
       "teardown": "",
       "type": "doctest"
      }
     ]
    },
    "p9.4": {
     "has_hidden": true,
     "name": "p9.4",
     "points": 5,
     "suites": [
      {
       "cases": [
        {
         "code": ">>> check_str('biggest_rel_change_major in [1,2,3]', locals())\n",
         "failure_message": "check(biggest_rel_change_major in [1,2,3])",
         "hidden": false,
         "locked": false,
         "submit_only": false,
         "success_message": "check(biggest_rel_change_major in [1,2,3])"
        }
       ],
       "scored": true,
       "setup": "",
       "teardown": "",
       "type": "doctest"
      }
     ]
    }
   }
  },
  "vscode": {
   "interpreter": {
    "hash": "e9a7af6fc709cc25e111b0d6e28f738a78907138b7e48b682edcf6dfb7dc8bee"
   }
  },
  "widgets": {
   "application/vnd.jupyter.widget-state+json": {
    "state": {
     "09fb117d36d344548db64b5989c7e81e": {
      "model_module": "@jupyter-widgets/output",
      "model_module_version": "1.0.0",
      "model_name": "OutputModel",
      "state": {
       "_dom_classes": [],
       "_model_module": "@jupyter-widgets/output",
       "_model_module_version": "1.0.0",
       "_model_name": "OutputModel",
       "_view_count": null,
       "_view_module": "@jupyter-widgets/output",
       "_view_module_version": "1.0.0",
       "_view_name": "OutputView",
       "layout": "IPY_MODEL_ff95e0625a1842949d17d008542af3e7",
       "msg_id": "",
       "outputs": []
      }
     },
     "525bf27e38b74579b7c84d15c6a72625": {
      "model_module": "ipylab",
      "model_module_version": "^0.7.1",
      "model_name": "ShellModel",
      "state": {
       "_model_module": "ipylab",
       "_model_module_version": "^0.7.1",
       "_model_name": "ShellModel",
       "_view_count": null,
       "_view_module": null,
       "_view_module_version": "",
       "_view_name": null,
       "_widgets": []
      }
     },
     "563ab033138643c18a8a30df2eee3ccd": {
      "model_module": "ipylab",
      "model_module_version": "^0.7.1",
      "model_name": "SessionManagerModel",
      "state": {
       "_model_module": "ipylab",
       "_model_module_version": "^0.7.1",
       "_model_name": "SessionManagerModel",
       "_view_count": null,
       "_view_module": null,
       "_view_module_version": "",
       "_view_name": null,
       "current_session": {},
       "sessions": []
      }
     },
     "7708dbf783e6479883ef5054d030d2f8": {
      "model_module": "ipylab",
      "model_module_version": "^0.7.1",
      "model_name": "JupyterFrontEndModel",
      "state": {
       "_model_module": "ipylab",
       "_model_module_version": "^0.7.1",
       "_model_name": "JupyterFrontEndModel",
       "_view_count": null,
       "_view_module": null,
       "_view_module_version": "",
       "_view_name": null,
       "commands": "IPY_MODEL_ebc05af96dfd4393856bce511882ebad",
       "sessions": "IPY_MODEL_563ab033138643c18a8a30df2eee3ccd",
       "shell": "IPY_MODEL_525bf27e38b74579b7c84d15c6a72625",
       "version": ""
      }
     },
     "ebc05af96dfd4393856bce511882ebad": {
      "model_module": "ipylab",
      "model_module_version": "^0.7.1",
      "model_name": "CommandRegistryModel",
      "state": {
       "_command_list": [],
       "_commands": [],
       "_model_module": "ipylab",
       "_model_module_version": "^0.7.1",
       "_model_name": "CommandRegistryModel",
       "_view_count": null,
       "_view_module": null,
       "_view_module_version": "",
       "_view_name": null
      }
     },
     "ff95e0625a1842949d17d008542af3e7": {
      "model_module": "@jupyter-widgets/base",
      "model_module_version": "1.2.0",
      "model_name": "LayoutModel",
      "state": {
       "_model_module": "@jupyter-widgets/base",
       "_model_module_version": "1.2.0",
       "_model_name": "LayoutModel",
       "_view_count": null,
       "_view_module": "@jupyter-widgets/base",
       "_view_module_version": "1.2.0",
       "_view_name": "LayoutView",
       "align_content": null,
       "align_items": null,
       "align_self": null,
       "border": null,
       "bottom": null,
       "display": null,
       "flex": null,
       "flex_flow": null,
       "grid_area": null,
       "grid_auto_columns": null,
       "grid_auto_flow": null,
       "grid_auto_rows": null,
       "grid_column": null,
       "grid_gap": null,
       "grid_row": null,
       "grid_template_areas": null,
       "grid_template_columns": null,
       "grid_template_rows": null,
       "height": null,
       "justify_content": null,
       "justify_items": null,
       "left": null,
       "margin": null,
       "max_height": null,
       "max_width": null,
       "min_height": null,
       "min_width": null,
       "object_fit": null,
       "object_position": null,
       "order": null,
       "overflow": null,
       "overflow_x": null,
       "overflow_y": null,
       "padding": null,
       "right": null,
       "top": null,
       "visibility": null,
       "width": null
      }
     }
    },
    "version_major": 2,
    "version_minor": 0
   }
  }
 },
 "nbformat": 4,
 "nbformat_minor": 5
}
