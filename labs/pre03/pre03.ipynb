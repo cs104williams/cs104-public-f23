{
 "cells": [
  {
   "cell_type": "code",
   "execution_count": null,
   "id": "d260c76e",
   "metadata": {
    "deletable": false,
    "editable": false
   },
   "outputs": [],
   "source": [
    "# Initialize Otter\n",
    "import otter\n",
    "grader = otter.Notebook(\"pre03.ipynb\")"
   ]
  },
  {
   "cell_type": "markdown",
   "id": "121db907",
   "metadata": {
    "deletable": false,
    "editable": false
   },
   "source": [
    "<table style=\"width: 100%;\">\n",
    "<tr style=\"background-color: transparent;\">\n",
    "<td width=\"100px\"><img src=\"https://cs104williams.github.io/assets/cs104-logo.png\" width=\"90px\" style=\"text-align: center\"/></td>\n",
    "<td>\n",
    "  <p style=\"margin-bottom: 0px; text-align: left; font-size: 18pt;\"><strong>CSCI 104: Data Science and Computing for All</strong><br>\n",
    "                Williams College<br>\n",
    "                Fall 2023</p>\n",
    "</td>\n",
    "</tr>\n"
   ]
  },
  {
   "cell_type": "markdown",
   "id": "78ff2346",
   "metadata": {
    "deletable": false,
    "editable": false
   },
   "source": [
    "# Prelab 3: Strings, Array Broadcasting, and Visualization"
   ]
  },
  {
   "cell_type": "markdown",
   "id": "d8ce1d9a",
   "metadata": {
    "deletable": false,
    "editable": false,
    "tags": []
   },
   "source": [
    "**Instructions**\n",
    "- Before you begin, execute the cell at the TOP of the notebook to load the provided tests, as well as the following cell to setup the notebook by importing some helpful libraries. Each time you start your server, you will need to execute these cells again.  \n",
    "- Be sure to consult your [Python Reference](https://cs104williams.github.io/assets/python-library-ref.html)!\n",
    "- Complete this notebook by filling in the cells provided. \n",
    "- Please be sure to not re-assign variables throughout the notebook.  For example, if you use `max_temperature` in your answer to one question, do not reassign it later on. Otherwise, you will fail tests that you thought you were passing previously.\n",
    "- There are no hidden tests in prelabs.\n",
    "\n",
    "<hr/>\n",
    "<h2>Setup</h2>\n"
   ]
  },
  {
   "cell_type": "code",
   "execution_count": null,
   "id": "6acef9b0",
   "metadata": {
    "deletable": false,
    "editable": false,
    "execution": {
     "iopub.execute_input": "2023-09-20T10:15:36.870824Z",
     "iopub.status.busy": "2023-09-20T10:15:36.870583Z",
     "iopub.status.idle": "2023-09-20T10:15:38.400348Z",
     "shell.execute_reply": "2023-09-20T10:15:38.399648Z"
    },
    "tags": []
   },
   "outputs": [],
   "source": [
    "# Run this cell to set up the notebook.\n",
    "# These lines import the numpy, datascience, and cs104 libraries.\n",
    "\n",
    "import numpy as np\n",
    "from datascience import *\n",
    "from cs104 import *\n",
    "%matplotlib inline"
   ]
  },
  {
   "cell_type": "markdown",
   "id": "5bae7bd4",
   "metadata": {
    "deletable": false,
    "editable": false
   },
   "source": [
    "<hr style=\"margin-bottom: 0px; padding:0; border: 2px solid #500082;\"/>\n"
   ]
  },
  {
   "cell_type": "markdown",
   "id": "2c0af59d",
   "metadata": {
    "deletable": false,
    "editable": false
   },
   "source": [
    "## 1. Text (15 pts)\n",
    "\n"
   ]
  },
  {
   "cell_type": "markdown",
   "id": "74646619",
   "metadata": {
    "deletable": false,
    "editable": false
   },
   "source": [
    "<font color='#B1008E'>\n",
    "    \n",
    "#### Learning objectives\n",
    "- Manipulate text data via strings\n",
    "- Practice converting between data types\n",
    "- Use strings in combination with functions\n",
    "</font>"
   ]
  },
  {
   "cell_type": "markdown",
   "id": "be1d1a5a",
   "metadata": {
    "deletable": false,
    "editable": false
   },
   "source": [
    "Programming doesn't just concern numbers. Text is one of the most common data types used in programs. \n",
    "\n",
    "Text is represented by a **string value** in Python. The word \"string\" is a programming term for a sequence of characters. A string might contain a single character, a word, a sentence, or a whole book.\n",
    "\n",
    "To distinguish text data from actual code, we demarcate strings by putting quotation marks around them. Single quotes (`'`) and double quotes (`\"`) are both valid, but the types of opening and closing quotation marks must match. The contents can be any sequence of characters, including numbers and symbols. \n",
    "\n",
    "We've seen strings before in `print` statements.  Below, two different strings are passed as arguments to the `print` function."
   ]
  },
  {
   "cell_type": "code",
   "execution_count": null,
   "id": "974b6460",
   "metadata": {
    "deletable": false,
    "editable": false,
    "execution": {
     "iopub.execute_input": "2023-09-20T10:15:38.403808Z",
     "iopub.status.busy": "2023-09-20T10:15:38.403468Z",
     "iopub.status.idle": "2023-09-20T10:15:38.406679Z",
     "shell.execute_reply": "2023-09-20T10:15:38.406195Z"
    },
    "tags": []
   },
   "outputs": [],
   "source": [
    "# Run this cell see this example\n",
    "print(\"I ♥️\", 'CS 104')"
   ]
  },
  {
   "cell_type": "markdown",
   "id": "f3dc1648",
   "metadata": {
    "deletable": false,
    "editable": false
   },
   "source": [
    "Just as variables can be assinged to numbers, variables can also be assigned to strings.  The names and strings aren't required to be similar in any way. "
   ]
  },
  {
   "cell_type": "code",
   "execution_count": null,
   "id": "83461557",
   "metadata": {
    "deletable": false,
    "editable": false,
    "execution": {
     "iopub.execute_input": "2023-09-20T10:15:38.409698Z",
     "iopub.status.busy": "2023-09-20T10:15:38.409507Z",
     "iopub.status.idle": "2023-09-20T10:15:38.412673Z",
     "shell.execute_reply": "2023-09-20T10:15:38.412163Z"
    },
    "tags": []
   },
   "outputs": [],
   "source": [
    "# Run this cell see this example\n",
    "one = 'two'\n",
    "plus = '*'\n",
    "print(one, plus, one)"
   ]
  },
  {
   "cell_type": "markdown",
   "id": "af468a40",
   "metadata": {
    "deletable": false,
    "editable": false
   },
   "source": [
    "#### String Methods"
   ]
  },
  {
   "cell_type": "markdown",
   "id": "3c3f6c31",
   "metadata": {
    "deletable": false,
    "editable": false
   },
   "source": [
    "As with tables, Strings can be transformed using **methods**. Many String methods exist, but we'll focus on just one here.\n",
    "\n",
    "Specifically, the `replace` method replaces all occurrences of a specified phrase with another specified phrase in a string.\n",
    "\n",
    "For example, run the following cell:"
   ]
  },
  {
   "cell_type": "code",
   "execution_count": null,
   "id": "29a51280",
   "metadata": {
    "deletable": false,
    "editable": false,
    "execution": {
     "iopub.execute_input": "2023-09-20T10:15:38.415263Z",
     "iopub.status.busy": "2023-09-20T10:15:38.415071Z",
     "iopub.status.idle": "2023-09-20T10:15:38.418084Z",
     "shell.execute_reply": "2023-09-20T10:15:38.417577Z"
    },
    "tags": []
   },
   "outputs": [],
   "source": [
    "text = 'I like bananas and more bananas!'\n",
    "print(text.replace('bananas', 'apples'))"
   ]
  },
  {
   "cell_type": "markdown",
   "id": "4b252631",
   "metadata": {
    "deletable": false,
    "editable": false
   },
   "source": [
    "The `replace` method returns (evaluates to) a new string, leaving the original string unchanged.  Try to predict the output of this example, then run the cell!"
   ]
  },
  {
   "cell_type": "code",
   "execution_count": null,
   "id": "77b8b7a9",
   "metadata": {
    "deletable": false,
    "editable": false,
    "execution": {
     "iopub.execute_input": "2023-09-20T10:15:38.420683Z",
     "iopub.status.busy": "2023-09-20T10:15:38.420488Z",
     "iopub.status.idle": "2023-09-20T10:15:38.423465Z",
     "shell.execute_reply": "2023-09-20T10:15:38.422988Z"
    },
    "tags": []
   },
   "outputs": [],
   "source": [
    "# Replace one letter\n",
    "hello = 'Hello'\n",
    "print(hello.replace('o', 'a'), hello)"
   ]
  },
  {
   "cell_type": "markdown",
   "id": "65923d88",
   "metadata": {
    "deletable": false,
    "editable": false
   },
   "source": [
    "You can call functions on the results of other functions.  For example, `max(abs(-5), abs(3))` evaluates to 5.  Similarly, you can call methods on the results of other method or function calls.\n",
    "\n",
    "You may have already noticed one difference between functions and methods - a function like `max` does not require a `.` before it's called, but a string method like `replace` does. \n",
    "\n",
    "You can refer to the [Python reference](https://www.cs.williams.edu/~cs104/auto/python-library-ref.html) page whenever you're unsure of how to call a function or method."
   ]
  },
  {
   "cell_type": "code",
   "execution_count": null,
   "id": "6b894100",
   "metadata": {
    "deletable": false,
    "editable": false,
    "execution": {
     "iopub.execute_input": "2023-09-20T10:15:38.426338Z",
     "iopub.status.busy": "2023-09-20T10:15:38.426097Z",
     "iopub.status.idle": "2023-09-20T10:15:38.430888Z",
     "shell.execute_reply": "2023-09-20T10:15:38.430360Z"
    },
    "tags": []
   },
   "outputs": [],
   "source": [
    "# Calling replace on the output of another call to replace\n",
    "'train'.replace('t', 'ing').replace('in', 'de')"
   ]
  },
  {
   "cell_type": "markdown",
   "id": "c23e93d9",
   "metadata": {
    "deletable": false,
    "editable": false
   },
   "source": [
    "Here's a picture of how Python evaluates a \"chained\" method call like that:\n",
    "\n",
    "<img src=\"chaining_method_calls.png\"/>"
   ]
  },
  {
   "cell_type": "markdown",
   "id": "fd845e5d",
   "metadata": {
    "deletable": false,
    "editable": false
   },
   "source": [
    "#### Part 1.1 (5 pts)\n"
   ]
  },
  {
   "cell_type": "markdown",
   "id": "c140c830",
   "metadata": {
    "deletable": false,
    "editable": false
   },
   "source": [
    " Use `replace` to transform the string `'hitchhiker'` into `'matchmaker'`. Assign your result to `new_word`.\n",
    "\n"
   ]
  },
  {
   "cell_type": "code",
   "execution_count": null,
   "id": "3b849929",
   "metadata": {
    "deletable": false,
    "execution": {
     "iopub.execute_input": "2023-09-20T10:15:38.434332Z",
     "iopub.status.busy": "2023-09-20T10:15:38.434105Z",
     "iopub.status.idle": "2023-09-20T10:15:38.438009Z",
     "shell.execute_reply": "2023-09-20T10:15:38.437541Z"
    },
    "tags": []
   },
   "outputs": [],
   "source": [
    "the_word = 'hitchhiker'\n",
    "new_word = ...\n",
    "new_word"
   ]
  },
  {
   "cell_type": "code",
   "execution_count": null,
   "id": "f33d0de5",
   "metadata": {
    "deletable": false,
    "editable": false
   },
   "outputs": [],
   "source": [
    "grader.check(\"p1.1\")"
   ]
  },
  {
   "cell_type": "markdown",
   "id": "305c79c6",
   "metadata": {
    "deletable": false,
    "editable": false
   },
   "source": [
    "There are many more string methods in Python, but most programmers don't memorize their names or how to use them.  In the \"real world,\" people usually just search the internet for documentation and examples. A complete [list of string methods](https://docs.python.org/3/library/stdtypes.html#string-methods) appears in the Python language documentation."
   ]
  },
  {
   "cell_type": "markdown",
   "id": "695f3847",
   "metadata": {
    "deletable": false,
    "editable": false
   },
   "source": [
    "#### Converting to and from Strings"
   ]
  },
  {
   "cell_type": "markdown",
   "id": "0f8d6846",
   "metadata": {
    "deletable": false,
    "editable": false
   },
   "source": [
    "Strings and numbers are different **types** (even when a string contains the digits of a number). For example, evaluating the following cell causes an error because an integer cannot be added to a string."
   ]
  },
  {
   "cell_type": "code",
   "execution_count": null,
   "id": "04355b3b",
   "metadata": {
    "deletable": false,
    "editable": false,
    "execution": {
     "iopub.execute_input": "2023-09-20T10:15:38.447134Z",
     "iopub.status.busy": "2023-09-20T10:15:38.446909Z",
     "iopub.status.idle": "2023-09-20T10:15:38.907507Z",
     "shell.execute_reply": "2023-09-20T10:15:38.907030Z"
    },
    "tags": []
   },
   "outputs": [],
   "source": [
    "8 + \"8\""
   ]
  },
  {
   "cell_type": "markdown",
   "id": "9a2dc3f6",
   "metadata": {
    "deletable": false,
    "editable": false
   },
   "source": [
    "However, there are built-in functions to convert numbers to strings and strings to numbers. Some of these built-in functions have restrictions on the type of argument they take:\n",
    "\n",
    "|Function | Description |\n",
    "|- | - |\n",
    "|`int`|Converts a string of digits or a float to an integer (\"int\") value |\n",
    "|`float`|Converts a string of digits (perhaps with a decimal point) or an int to a decimal (\"float\") value |\n",
    "|`str`|Converts any value to a string |"
   ]
  },
  {
   "cell_type": "markdown",
   "id": "91198403",
   "metadata": {
    "deletable": false,
    "editable": false
   },
   "source": [
    "Try to predict what data type and value `example` evaluates to, then run the cell."
   ]
  },
  {
   "cell_type": "code",
   "execution_count": null,
   "id": "525942ad",
   "metadata": {
    "deletable": false,
    "editable": false,
    "execution": {
     "iopub.execute_input": "2023-09-20T10:15:38.910247Z",
     "iopub.status.busy": "2023-09-20T10:15:38.910052Z",
     "iopub.status.idle": "2023-09-20T10:15:38.916953Z",
     "shell.execute_reply": "2023-09-20T10:15:38.916488Z"
    },
    "tags": []
   },
   "outputs": [],
   "source": [
    "example = 8 + int(\"10\") + float(\"8\")\n",
    "\n",
    "print(example)\n",
    "print(\"This example returned a \" + str(type(example)) + \"!\")"
   ]
  },
  {
   "cell_type": "markdown",
   "id": "2b31a21c",
   "metadata": {
    "deletable": false,
    "editable": false
   },
   "source": [
    "#### Part 1.2 (5 pts)\n"
   ]
  },
  {
   "cell_type": "markdown",
   "id": "6d35de63",
   "metadata": {
    "deletable": false,
    "editable": false
   },
   "source": [
    "Suppose you're writing a program that looks for dates in a text, and you want your program to find the amount of time that elapsed between two years it has identified.  It doesn't make sense to subtract two texts, but you can first convert the text containing the years into numbers.  Finish the code below to compute the number of years that elapsed between `one_year` and `another_year`.  Don't just write the numbers `1618` and `1648` (or `30`); use a conversion function to turn the given text data into numbers."
   ]
  },
  {
   "cell_type": "code",
   "execution_count": null,
   "id": "f5867061",
   "metadata": {
    "deletable": false,
    "execution": {
     "iopub.execute_input": "2023-09-20T10:15:38.920135Z",
     "iopub.status.busy": "2023-09-20T10:15:38.919926Z",
     "iopub.status.idle": "2023-09-20T10:15:38.924023Z",
     "shell.execute_reply": "2023-09-20T10:15:38.923524Z"
    },
    "tags": []
   },
   "outputs": [],
   "source": [
    "# Some text data:\n",
    "one_year = \"1618\"\n",
    "another_year = \"1648\"\n",
    "\n",
    "# Complete the next line.  Note that we can't just write:\n",
    "#   difference = another_year - one_year\n",
    "# If you don't see why, try seeing what happens when you\n",
    "# write that here.\n",
    "difference = ...\n",
    "difference"
   ]
  },
  {
   "cell_type": "code",
   "execution_count": null,
   "id": "21ee8d8b",
   "metadata": {
    "deletable": false,
    "editable": false
   },
   "outputs": [],
   "source": [
    "grader.check(\"p1.2\")"
   ]
  },
  {
   "cell_type": "markdown",
   "id": "1b55cc2c",
   "metadata": {
    "deletable": false,
    "editable": false
   },
   "source": [
    "#### Length of strings\n",
    "\n",
    "String values, like numbers, can be arguments to functions and can be returned by functions. \n",
    "\n",
    "The function `len` (derived from the word \"length\") takes a single string as its argument and returns the number of characters (including spaces) in the string."
   ]
  },
  {
   "cell_type": "markdown",
   "id": "a8e3e096",
   "metadata": {
    "deletable": false,
    "editable": false
   },
   "source": [
    "#### Part 1.3 (5 pts)\n"
   ]
  },
  {
   "cell_type": "markdown",
   "id": "ebbcca8d",
   "metadata": {
    "deletable": false,
    "editable": false
   },
   "source": [
    "String values, like numbers, can be arguments to functions and can be returned by functions. \n",
    "\n",
    "The function `len` (derived from the word \"length\") takes a single string as its argument and returns the number of characters (including spaces) in the string.\n",
    "\n",
    "Use `len` to find the number of characters in the long string in the next cell.  Characters include things like spaces and punctuation. Assign `sentence_length` to that number.  (The string is the first sentence of the English translation of the French [Declaration of the Rights of Man](http://avalon.law.yale.edu/18th_century/rightsof.asp).)  "
   ]
  },
  {
   "cell_type": "code",
   "execution_count": null,
   "id": "9789458b",
   "metadata": {
    "deletable": false,
    "execution": {
     "iopub.execute_input": "2023-09-20T10:15:38.933154Z",
     "iopub.status.busy": "2023-09-20T10:15:38.932911Z",
     "iopub.status.idle": "2023-09-20T10:15:38.937016Z",
     "shell.execute_reply": "2023-09-20T10:15:38.936498Z"
    },
    "tags": []
   },
   "outputs": [],
   "source": [
    "a_very_long_sentence = \"The representatives of the French people, organized as a National Assembly, believing that the ignorance, neglect, or contempt of the rights of man are the sole cause of public calamities and of the corruption of governments, have determined to set forth in a solemn declaration the natural, unalienable, and sacred rights of man, in order that this declaration, being constantly before all the members of the Social body, shall remind them continually of their rights and duties; in order that the acts of the legislative power, as well as those of the executive power, may be compared at any moment with the objects and purposes of all political institutions and may thus be more respected, and, lastly, in order that the grievances of the citizens, based hereafter upon simple and incontestable principles, shall tend to the maintenance of the constitution and redound to the happiness of all.\"\n",
    "sentence_length = ...\n",
    "sentence_length"
   ]
  },
  {
   "cell_type": "code",
   "execution_count": null,
   "id": "fdbd368f",
   "metadata": {
    "deletable": false,
    "editable": false
   },
   "outputs": [],
   "source": [
    "grader.check(\"p1.3\")"
   ]
  },
  {
   "cell_type": "markdown",
   "id": "1bc70db2",
   "metadata": {
    "deletable": false,
    "editable": false
   },
   "source": [
    "<hr style=\"margin-bottom: 0px; padding:0; border: 2px solid #500082;\"/>\n"
   ]
  },
  {
   "cell_type": "markdown",
   "id": "ad233601",
   "metadata": {
    "deletable": false,
    "editable": false,
    "tags": []
   },
   "source": [
    "## 2. Array Broadcasting (15 pts)\n",
    "\n"
   ]
  },
  {
   "cell_type": "markdown",
   "id": "ae6f2c51",
   "metadata": {
    "deletable": false,
    "editable": false
   },
   "source": [
    "<font color='#B1008E'>\n",
    "    \n",
    "#### Learning objectives\n",
    "- Practice using *array broadcasting* to make data science calculations easier\n",
    "</font>"
   ]
  },
  {
   "cell_type": "markdown",
   "id": "bbdaccb9",
   "metadata": {
    "deletable": false,
    "editable": false
   },
   "source": [
    "The array datatype we use in this class ([Chapter 5 in the book](https://inferentialthinking.com/chapters/05/1/Arrays.html)) uses *array broadcasting* to manipulate arrays by other numbers. This problem will help you understand why array broadcasting can save you time in your data science workflow and give you more practice with operations on arrays -- we'll use them throughout the rest of the semester!"
   ]
  },
  {
   "cell_type": "markdown",
   "id": "37f35328",
   "metadata": {
    "deletable": false,
    "editable": false
   },
   "source": [
    "#### Part 2.1 (5 pts)\n"
   ]
  },
  {
   "cell_type": "markdown",
   "id": "157c7c3b",
   "metadata": {
    "deletable": false,
    "editable": false
   },
   "source": [
    "We've loaded an array of temperatures in the next cell.  Each number is the highest temperature observed on a day at a climate observation station, mostly from the US.  "
   ]
  },
  {
   "cell_type": "code",
   "execution_count": null,
   "id": "b4b7ff82",
   "metadata": {
    "deletable": false,
    "editable": false,
    "execution": {
     "iopub.execute_input": "2023-09-20T10:15:38.945567Z",
     "iopub.status.busy": "2023-09-20T10:15:38.945375Z",
     "iopub.status.idle": "2023-09-20T10:15:39.041941Z",
     "shell.execute_reply": "2023-09-20T10:15:39.041259Z"
    },
    "tags": []
   },
   "outputs": [],
   "source": [
    "# Just run this cell\n",
    "max_temperatures = Table.read_table(\"temperatures.csv\").column(\"Daily Max Temperature\")\n",
    "print(\"The number of elements in this array is\", len(max_temperatures))\n",
    "max_temperatures"
   ]
  },
  {
   "cell_type": "markdown",
   "id": "11881aa0",
   "metadata": {
    "deletable": false,
    "editable": false
   },
   "source": [
    "Since these values are from the US government agency [NOAA](https://www.noaa.gov/), all the temperatures are in Fahrenheit.  \n",
    "\n",
    "Let's use [array broadasting](https://inferentialthinking.com/chapters/05/1/Arrays.html) to convert them all to Celsius by first subtracting 32 from them, then multiplying the results by $\\frac{5}{9}$. Make sure to **ROUND** the final result after converting to Celsius to the nearest integer using the `np.round` function, which takes an array and rounds number in the array to the nearest integer."
   ]
  },
  {
   "cell_type": "code",
   "execution_count": null,
   "id": "696709af",
   "metadata": {
    "deletable": false,
    "execution": {
     "iopub.execute_input": "2023-09-20T10:15:39.044958Z",
     "iopub.status.busy": "2023-09-20T10:15:39.044747Z",
     "iopub.status.idle": "2023-09-20T10:15:39.049354Z",
     "shell.execute_reply": "2023-09-20T10:15:39.048851Z"
    },
    "tags": []
   },
   "outputs": [],
   "source": [
    "celsius_max_temperatures = ...\n",
    "celsius_max_temperatures"
   ]
  },
  {
   "cell_type": "code",
   "execution_count": null,
   "id": "e4958552",
   "metadata": {
    "deletable": false,
    "editable": false
   },
   "outputs": [],
   "source": [
    "grader.check(\"p2.1\")"
   ]
  },
  {
   "cell_type": "markdown",
   "id": "2603d5fd",
   "metadata": {
    "deletable": false,
    "editable": false
   },
   "source": [
    "#### Part 2.2 (5 pts)\n"
   ]
  },
  {
   "cell_type": "markdown",
   "id": "ab285e02",
   "metadata": {
    "deletable": false,
    "editable": false
   },
   "source": [
    "The cell below loads all the *lowest* temperatures from each day (in Fahrenheit).  Compute the daily temperature range for each day. That is, compute the difference between each daily maximum temperature and the corresponding daily minimum temperature.  **Pay attention to the units, give your answer in Celsius!** Make sure **NOT** to round your answer for this question! \n",
    "\n",
    "*Note:* Remember that in the previous part, `celsius_max_temperatures` was rounded, so you might not want to use that in this question."
   ]
  },
  {
   "cell_type": "code",
   "execution_count": null,
   "id": "755413f4",
   "metadata": {
    "deletable": false,
    "execution": {
     "iopub.execute_input": "2023-09-20T10:15:39.069233Z",
     "iopub.status.busy": "2023-09-20T10:15:39.068955Z",
     "iopub.status.idle": "2023-09-20T10:15:39.157926Z",
     "shell.execute_reply": "2023-09-20T10:15:39.157404Z"
    },
    "tags": []
   },
   "outputs": [],
   "source": [
    "min_temperatures = Table.read_table(\"temperatures.csv\").column(\"Daily Min Temperature\")\n",
    "\n",
    "celsius_temperature_ranges = ...\n",
    "celsius_temperature_ranges"
   ]
  },
  {
   "cell_type": "code",
   "execution_count": null,
   "id": "31fb62a7",
   "metadata": {
    "deletable": false,
    "editable": false
   },
   "outputs": [],
   "source": [
    "grader.check(\"p2.2\")"
   ]
  },
  {
   "cell_type": "markdown",
   "id": "49536ffe",
   "metadata": {
    "deletable": false,
    "editable": false
   },
   "source": [
    "#### Part 2.3 (5 pts)\n"
   ]
  },
  {
   "cell_type": "markdown",
   "id": "102e0262",
   "metadata": {
    "deletable": false,
    "editable": false
   },
   "source": [
    "Using `celsius_temperature_ranges` computer the largest temperature range observed at a weather station on that day.  Since we're using `celsius_temperature_ranges`, your answer will be in Celcius.  We also convert it in Farenheit for you."
   ]
  },
  {
   "cell_type": "code",
   "execution_count": null,
   "id": "57dc6637",
   "metadata": {
    "deletable": false,
    "execution": {
     "iopub.execute_input": "2023-09-20T10:15:39.177751Z",
     "iopub.status.busy": "2023-09-20T10:15:39.177559Z",
     "iopub.status.idle": "2023-09-20T10:15:39.183312Z",
     "shell.execute_reply": "2023-09-20T10:15:39.182880Z"
    },
    "tags": []
   },
   "outputs": [],
   "source": [
    "largest_range_celsius = ...\n",
    "print(\"The largest range is\", largest_range_celsius, \"in Celsius, or\", 9/5 * largest_range_celsius, \"in Farenheit. Yikes!\")"
   ]
  },
  {
   "cell_type": "code",
   "execution_count": null,
   "id": "7483d129",
   "metadata": {
    "deletable": false,
    "editable": false
   },
   "outputs": [],
   "source": [
    "grader.check(\"p2.3\")"
   ]
  },
  {
   "cell_type": "markdown",
   "id": "5a4cf1a2",
   "metadata": {
    "deletable": false,
    "editable": false
   },
   "source": [
    "<hr style=\"margin-bottom: 0px; padding:0; border: 2px solid #500082;\"/>\n"
   ]
  },
  {
   "cell_type": "markdown",
   "id": "5d9fdcf6",
   "metadata": {
    "deletable": false,
    "editable": false
   },
   "source": [
    "## 3. World Population (15 pts)\n",
    "\n"
   ]
  },
  {
   "cell_type": "markdown",
   "id": "e29d4130",
   "metadata": {
    "deletable": false,
    "editable": false
   },
   "source": [
    "<font color='#B1008E'>\n",
    "    \n",
    "#### Learning objectives\n",
    "- Create and interpret basic line plots and interpret their results.\n",
    "</font>"
   ]
  },
  {
   "cell_type": "markdown",
   "id": "367c1849",
   "metadata": {
    "deletable": false,
    "editable": false
   },
   "source": [
    "The following cell loads in a table of the world population from the years 1950 to 2022."
   ]
  },
  {
   "cell_type": "code",
   "execution_count": null,
   "id": "35194942",
   "metadata": {
    "deletable": false,
    "editable": false,
    "execution": {
     "iopub.execute_input": "2023-09-20T10:15:39.196848Z",
     "iopub.status.busy": "2023-09-20T10:15:39.196655Z",
     "iopub.status.idle": "2023-09-20T10:15:39.201844Z",
     "shell.execute_reply": "2023-09-20T10:15:39.201412Z"
    },
    "tags": []
   },
   "outputs": [],
   "source": [
    "world_population = Table().read_table(\"world_population.csv\")\n",
    "world_population.show(5)"
   ]
  },
  {
   "cell_type": "markdown",
   "id": "5a935c11",
   "metadata": {
    "deletable": false,
    "editable": false
   },
   "source": [
    "#### Part 3.1 (5 pts)\n"
   ]
  },
  {
   "cell_type": "markdown",
   "id": "d8e9fae0",
   "metadata": {
    "deletable": false,
    "editable": false
   },
   "source": [
    "Create a line plot of this data, with \"Year\" on the x-axis and \"Population\" on the y-axis.  You'll want to use the [plot](https://www.cs.williams.edu/~cs104/auto/python-library-ref.html#plot) method on tables."
   ]
  },
  {
   "cell_type": "code",
   "execution_count": null,
   "id": "29a787df",
   "metadata": {
    "deletable": false,
    "execution": {
     "iopub.execute_input": "2023-09-20T10:15:39.204649Z",
     "iopub.status.busy": "2023-09-20T10:15:39.204417Z",
     "iopub.status.idle": "2023-09-20T10:15:39.463633Z",
     "shell.execute_reply": "2023-09-20T10:15:39.463062Z"
    },
    "tags": []
   },
   "outputs": [],
   "source": [
    "plot = ...\n",
    "plot.set_title(\"World Population\")"
   ]
  },
  {
   "cell_type": "markdown",
   "id": "cd04ec9c",
   "metadata": {
    "deletable": false,
    "editable": false
   },
   "source": [
    "From the plot, the world population crossed seven billion for the first time in what year?\n",
    "Set the variable `first_time_seven_billion` to your answer, representing that year as an integer like `1999`."
   ]
  },
  {
   "cell_type": "code",
   "execution_count": null,
   "id": "91900f17",
   "metadata": {
    "deletable": false,
    "execution": {
     "iopub.execute_input": "2023-09-20T10:15:39.467107Z",
     "iopub.status.busy": "2023-09-20T10:15:39.466877Z",
     "iopub.status.idle": "2023-09-20T10:15:39.469581Z",
     "shell.execute_reply": "2023-09-20T10:15:39.469090Z"
    },
    "tags": []
   },
   "outputs": [],
   "source": [
    "first_time_seven_billion = ..."
   ]
  },
  {
   "cell_type": "code",
   "execution_count": null,
   "id": "d6c5c371",
   "metadata": {
    "deletable": false,
    "editable": false
   },
   "outputs": [],
   "source": [
    "grader.check(\"p3.1\")"
   ]
  },
  {
   "cell_type": "markdown",
   "id": "73655eaf",
   "metadata": {
    "deletable": false,
    "editable": false
   },
   "source": [
    "#### Part 3.2 (5 pts)\n"
   ]
  },
  {
   "cell_type": "markdown",
   "id": "99a72d4d",
   "metadata": {
    "deletable": false,
    "editable": false
   },
   "source": [
    "Now compute how much the population changed during each year since 1950.  To do this, use the `np.diff` function applied to the \"Population\" column.  Recall that [np.diff](https://www.cs.williams.edu/~cs104/auto/python-library-ref.html#diff) takes an array and creates a new array containing the differences between consecutive elements in the original."
   ]
  },
  {
   "cell_type": "code",
   "execution_count": null,
   "id": "2be5483e",
   "metadata": {
    "deletable": false,
    "execution": {
     "iopub.execute_input": "2023-09-20T10:15:39.477723Z",
     "iopub.status.busy": "2023-09-20T10:15:39.477531Z",
     "iopub.status.idle": "2023-09-20T10:15:39.481647Z",
     "shell.execute_reply": "2023-09-20T10:15:39.481218Z"
    },
    "tags": []
   },
   "outputs": [],
   "source": [
    "diffs = ...\n",
    "diffs"
   ]
  },
  {
   "cell_type": "code",
   "execution_count": null,
   "id": "3a9d6cf6",
   "metadata": {
    "deletable": false,
    "editable": false
   },
   "outputs": [],
   "source": [
    "grader.check(\"p3.2\")"
   ]
  },
  {
   "cell_type": "markdown",
   "id": "8814d6c6",
   "metadata": {
    "deletable": false,
    "editable": false
   },
   "source": [
    "#### Part 3.3 (5 pts)\n"
   ]
  },
  {
   "cell_type": "markdown",
   "id": "bc632a05",
   "metadata": {
    "deletable": false,
    "editable": false
   },
   "source": [
    "The following cell plots the difference in population between years.  We build a new table with one fewer row than the original to hold the differences.  The row with the year 1951 then contains the difference in population between 1950 and 1951 that you computed in the previous step."
   ]
  },
  {
   "cell_type": "code",
   "execution_count": null,
   "id": "27f5fbf2",
   "metadata": {
    "deletable": false,
    "editable": false,
    "execution": {
     "iopub.execute_input": "2023-09-20T10:15:39.499876Z",
     "iopub.status.busy": "2023-09-20T10:15:39.499674Z",
     "iopub.status.idle": "2023-09-20T10:15:39.748970Z",
     "shell.execute_reply": "2023-09-20T10:15:39.748480Z"
    },
    "tags": []
   },
   "outputs": [],
   "source": [
    "diffs_table = Table().with_columns(\"Year\", np.arange(1951,2023), \"Difference\", diffs)\n",
    "plot = diffs_table.plot(\"Year\", \"Difference\")\n",
    "plot.set_title(\"Yearly Change in Population\")"
   ]
  },
  {
   "cell_type": "markdown",
   "id": "17f77922",
   "metadata": {
    "deletable": false,
    "editable": false
   },
   "source": [
    "From the plot, the world population had its peak growth in about which year?\n",
    "* 1980\n",
    "* 1990\n",
    "* 2000\n",
    "* 2010\n",
    "\n",
    "Set the variable `peak_year` to your answer in the cell below."
   ]
  },
  {
   "cell_type": "code",
   "execution_count": null,
   "id": "3145d5e3",
   "metadata": {
    "deletable": false,
    "execution": {
     "iopub.execute_input": "2023-09-20T10:15:39.751800Z",
     "iopub.status.busy": "2023-09-20T10:15:39.751576Z",
     "iopub.status.idle": "2023-09-20T10:15:39.754265Z",
     "shell.execute_reply": "2023-09-20T10:15:39.753806Z"
    },
    "tags": []
   },
   "outputs": [],
   "source": [
    "peak_year = ..."
   ]
  },
  {
   "cell_type": "code",
   "execution_count": null,
   "id": "43eb0f4e",
   "metadata": {
    "deletable": false,
    "editable": false
   },
   "outputs": [],
   "source": [
    "grader.check(\"p3.3\")"
   ]
  },
  {
   "cell_type": "markdown",
   "id": "c35dcc3f",
   "metadata": {
    "deletable": false,
    "editable": false
   },
   "source": [
    "<hr class=\"m-0\" style=\"border: 3px solid #500082;\"/>\n",
    "\n",
    "# You're Done!\n",
    "Follow these steps to submit your work:\n",
    "* Run the tests and verify that they pass as you expect. \n",
    "* Choose **Save Notebook** from the **File** menu.\n",
    "* **Run the final cell** and click the link below to download the zip file. \n",
    "\n",
    "Once you have downloaded that file, go to [Gradescope](https://www.gradescope.com/) and submit the zip file to \n",
    "the corresponding assignment. For Prelab N, the assignment will be called \"Prelab N Autograder\".\n",
    "\n",
    "Once you have submitted, your Gradescope assignment should show you passing all the tests you passed in your assignment notebook.\n"
   ]
  },
  {
   "cell_type": "markdown",
   "id": "c5ef4825",
   "metadata": {
    "deletable": false,
    "editable": false
   },
   "source": [
    "## Submission\n",
    "\n",
    "Make sure you have run all cells in your notebook in order before running the cell below, so that all images/graphs appear in the output. The cell below will generate a zip file for you to submit. **Please save before exporting!**"
   ]
  },
  {
   "cell_type": "code",
   "execution_count": null,
   "id": "25ec0697",
   "metadata": {
    "deletable": false,
    "editable": false
   },
   "outputs": [],
   "source": [
    "# Save your notebook first, then run this cell to export your submission.\n",
    "grader.export(pdf=False, run_tests=True)"
   ]
  },
  {
   "cell_type": "markdown",
   "id": "d10f1b7d",
   "metadata": {},
   "source": [
    " "
   ]
  }
 ],
 "metadata": {
  "kernelspec": {
   "display_name": "Python 3 (ipykernel)",
   "language": "python",
   "name": "python3"
  },
  "language_info": {
   "codemirror_mode": {
    "name": "ipython",
    "version": 3
   },
   "file_extension": ".py",
   "mimetype": "text/x-python",
   "name": "python",
   "nbconvert_exporter": "python",
   "pygments_lexer": "ipython3",
   "version": "3.9.13"
  },
  "otter": {
   "OK_FORMAT": true,
   "tests": {
    "p1.1": {
     "has_hidden": false,
     "name": "p1.1",
     "points": 5,
     "suites": [
      {
       "cases": [
        {
         "code": ">>> check_str('new_word == \\'matchmaker\\'', locals())\n",
         "failure_message": "check(new_word == 'matchmaker')",
         "hidden": false,
         "locked": false,
         "submit_only": false,
         "success_message": "check(new_word == 'matchmaker')"
        }
       ],
       "scored": true,
       "setup": "",
       "teardown": "",
       "type": "doctest"
      }
     ]
    },
    "p1.2": {
     "has_hidden": false,
     "name": "p1.2",
     "points": 5,
     "suites": [
      {
       "cases": [
        {
         "code": ">>> check_str('difference == 30', locals())\n",
         "failure_message": "check(difference == 30)",
         "hidden": false,
         "locked": false,
         "submit_only": false,
         "success_message": "check(difference == 30)"
        }
       ],
       "scored": true,
       "setup": "",
       "teardown": "",
       "type": "doctest"
      }
     ]
    },
    "p1.3": {
     "has_hidden": false,
     "name": "p1.3",
     "points": 5,
     "suites": [
      {
       "cases": [
        {
         "code": ">>> check_str('sentence_length == 896', locals())\n",
         "failure_message": "check(sentence_length == 896)",
         "hidden": false,
         "locked": false,
         "submit_only": false,
         "success_message": "check(sentence_length == 896)"
        }
       ],
       "scored": true,
       "setup": "",
       "teardown": "",
       "type": "doctest"
      }
     ]
    },
    "p2.1": {
     "has_hidden": false,
     "name": "p2.1",
     "points": 5,
     "suites": [
      {
       "cases": [
        {
         "code": ">>> check_str('celsius_max_temperatures.item(0) == approx(-4)', locals())\n",
         "failure_message": "check(celsius_max_temperatures.item(0) == approx(-4))",
         "hidden": false,
         "locked": false,
         "submit_only": false,
         "success_message": "check(celsius_max_temperatures.item(0) == approx(-4))"
        },
        {
         "code": ">>> check_str('celsius_max_temperatures.item(len(celsius_max_temperatures) - 1) == approx(16)', locals())\n",
         "failure_message": "check(celsius_max_temperatures.item(len(celsius_max_temperatures) - 1) == approx(16))",
         "hidden": false,
         "locked": false,
         "submit_only": false,
         "success_message": "check(celsius_max_temperatures.item(len(celsius_max_temperatures) - 1) == approx(16))"
        },
        {
         "code": ">>> check_str('celsius_max_temperatures.item(50) == approx(11)', locals())\n",
         "failure_message": "check(celsius_max_temperatures.item(50) == approx(11))",
         "hidden": false,
         "locked": false,
         "submit_only": false,
         "success_message": "check(celsius_max_temperatures.item(50) == approx(11))"
        }
       ],
       "scored": true,
       "setup": "",
       "teardown": "",
       "type": "doctest"
      }
     ]
    },
    "p2.2": {
     "has_hidden": false,
     "name": "p2.2",
     "points": 5,
     "suites": [
      {
       "cases": [
        {
         "code": ">>> check_str('celsius_temperature_ranges.item(0) == approx(6.6667)', locals())\n",
         "failure_message": "check(celsius_temperature_ranges.item(0) == approx(6.6667))",
         "hidden": false,
         "locked": false,
         "submit_only": false,
         "success_message": "check(celsius_temperature_ranges.item(0) == approx(6.6667))"
        },
        {
         "code": ">>> check_str('celsius_temperature_ranges.item(len(celsius_max_temperatures) - 1) == approx(11.1111)', locals())\n",
         "failure_message": "check(celsius_temperature_ranges.item(len(celsius_max_temperatures) - 1) == approx(11.1111))",
         "hidden": false,
         "locked": false,
         "submit_only": false,
         "success_message": "check(celsius_temperature_ranges.item(len(celsius_max_temperatures) - 1) == approx(11.1111))"
        },
        {
         "code": ">>> check_str('celsius_temperature_ranges.item(50) == approx(11.666667)', locals())\n",
         "failure_message": "check(celsius_temperature_ranges.item(50) == approx(11.666667))",
         "hidden": false,
         "locked": false,
         "submit_only": false,
         "success_message": "check(celsius_temperature_ranges.item(50) == approx(11.666667))"
        }
       ],
       "scored": true,
       "setup": "",
       "teardown": "",
       "type": "doctest"
      }
     ]
    },
    "p2.3": {
     "has_hidden": false,
     "name": "p2.3",
     "points": 5,
     "suites": [
      {
       "cases": [
        {
         "code": ">>> check_str('0 <= largest_range_celsius <= 100', locals())\n",
         "failure_message": "check(0 <= largest_range_celsius <= 100)",
         "hidden": false,
         "locked": false,
         "submit_only": false,
         "success_message": "check(0 <= largest_range_celsius <= 100)"
        },
        {
         "code": ">>> check_str('largest_range_celsius ==  approx(51.1111)', locals())\n",
         "failure_message": "check(largest_range_celsius ==  approx(51.1111))",
         "hidden": false,
         "locked": false,
         "submit_only": false,
         "success_message": "check(largest_range_celsius ==  approx(51.1111))"
        }
       ],
       "scored": true,
       "setup": "",
       "teardown": "",
       "type": "doctest"
      }
     ]
    },
    "p3.1": {
     "has_hidden": false,
     "name": "p3.1",
     "points": 5,
     "suites": [
      {
       "cases": [
        {
         "code": ">>> check_str('first_time_seven_billion in between_or_equal(2009, 2013)', locals())\n",
         "failure_message": "check(first_time_seven_billion in between_or_equal(2009, 2013))",
         "hidden": false,
         "locked": false,
         "submit_only": false,
         "success_message": "check(first_time_seven_billion in between_or_equal(2009, 2013))"
        }
       ],
       "scored": true,
       "setup": "",
       "teardown": "",
       "type": "doctest"
      }
     ]
    },
    "p3.2": {
     "has_hidden": false,
     "name": "p3.2",
     "points": 5,
     "suites": [
      {
       "cases": [
        {
         "code": ">>> check_str('len(diffs) == 72', locals())\n",
         "failure_message": "check(len(diffs) == 72)",
         "hidden": false,
         "locked": false,
         "submit_only": false,
         "success_message": "check(len(diffs) == 72)"
        },
        {
         "code": ">>> check_str('diffs.item(0) == 43808223', locals())\n",
         "failure_message": "check(diffs.item(0) == 43808223)",
         "hidden": false,
         "locked": false,
         "submit_only": false,
         "success_message": "check(diffs.item(0) == 43808223)"
        },
        {
         "code": ">>> check_str('diffs.item(10) == 49137175', locals())\n",
         "failure_message": "check(diffs.item(10) == 49137175)",
         "hidden": false,
         "locked": false,
         "submit_only": false,
         "success_message": "check(diffs.item(10) == 49137175)"
        }
       ],
       "scored": true,
       "setup": "",
       "teardown": "",
       "type": "doctest"
      }
     ]
    },
    "p3.3": {
     "has_hidden": false,
     "name": "p3.3",
     "points": 5,
     "suites": [
      {
       "cases": [
        {
         "code": ">>> check_str('peak_year == 1990', locals())\n",
         "failure_message": "check(peak_year == 1990)",
         "hidden": false,
         "locked": false,
         "submit_only": false,
         "success_message": "check(peak_year == 1990)"
        }
       ],
       "scored": true,
       "setup": "",
       "teardown": "",
       "type": "doctest"
      }
     ]
    }
   }
  },
  "vscode": {
   "interpreter": {
    "hash": "31f2aee4e71d21fbe5cf8b01ff0e069b9275f58929596ceb00d14d90e3e16cd6"
   }
  }
 },
 "nbformat": 4,
 "nbformat_minor": 5
}
