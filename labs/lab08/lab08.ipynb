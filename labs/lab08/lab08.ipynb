{
 "cells": [
  {
   "cell_type": "code",
   "execution_count": null,
   "id": "6d50b07f",
   "metadata": {
    "deletable": false,
    "editable": false
   },
   "outputs": [],
   "source": [
    "# Initialize Otter\n",
    "import otter\n",
    "grader = otter.Notebook(\"lab08.ipynb\")"
   ]
  },
  {
   "cell_type": "markdown",
   "id": "559dcf2b",
   "metadata": {
    "deletable": false,
    "editable": false
   },
   "source": [
    "<table style=\"width: 100%;\">\n",
    "<tr style=\"background-color: transparent;\">\n",
    "<td width=\"100px\"><img src=\"https://cs104williams.github.io/assets/cs104-logo.png\" width=\"90px\" style=\"text-align: center\"/></td>\n",
    "<td>\n",
    "  <p style=\"margin-bottom: 0px; text-align: left; font-size: 18pt;\"><strong>CSCI 104: Data Science and Computing for All</strong><br>\n",
    "                Williams College<br>\n",
    "                Fall 2023</p>\n",
    "</td>\n",
    "</tr>\n"
   ]
  },
  {
   "cell_type": "markdown",
   "id": "d8cceee1",
   "metadata": {
    "deletable": false,
    "editable": false,
    "tags": []
   },
   "source": [
    "# Lab 8: Estimation and Confidence Intervals"
   ]
  },
  {
   "cell_type": "markdown",
   "id": "a3f73d60",
   "metadata": {
    "deletable": false,
    "editable": false
   },
   "source": [
    "<hr style=\"margin: 0px; border: 3px solid #500082;\"/>\n",
    "\n",
    "<h2>Instructions</h2>\n",
    "\n",
    "- Before you begin, execute the cell at the TOP of the notebook to load the provided tests, as well as the following cell to setup the notebook by importing some helpful libraries. Each time you start your server, you will need to execute these cells again.  \n",
    "- Be sure to consult your [Python Reference](https://cs104williams.github.io/assets/python-library-ref.html)!\n",
    "- Complete this notebook by filling in the cells provided. For problems asking you to write explanations, you **must** provide your answer in the designated space. \n",
    "- Please be sure to not re-assign variables throughout the notebook.  For example, if you use `max_temperature` in your answer to one question, do not reassign it later on. Otherwise, you will fail tests that you thought you were passing previously.\n",
    "- This lab has hidden tests on it. That means even though tests may say 100% passed, doesn't mean your final grade will be 100%. We will be running more tests for correctness once everyone turns in the lab.\n",
    "- To use one or more late days on this lab, please fill out our [late day form](https://forms.gle/4sD16h3hN1xRqQM27) **before** the due date.\n",
    "\n",
    "<hr/>\n",
    "<h2>Setup</h2>\n"
   ]
  },
  {
   "cell_type": "code",
   "execution_count": null,
   "id": "ecadfaf8",
   "metadata": {
    "deletable": false,
    "editable": false,
    "execution": {
     "iopub.execute_input": "2023-11-09T23:34:00.712402Z",
     "iopub.status.busy": "2023-11-09T23:34:00.712126Z",
     "iopub.status.idle": "2023-11-09T23:34:02.073123Z",
     "shell.execute_reply": "2023-11-09T23:34:02.072445Z"
    },
    "tags": []
   },
   "outputs": [],
   "source": [
    "# Run this cell to set up the notebook.\n",
    "# These lines import the numpy, datascience, and cs104 libraries.\n",
    "\n",
    "import numpy as np\n",
    "from datascience import *\n",
    "from cs104 import *\n",
    "%matplotlib inline"
   ]
  },
  {
   "cell_type": "markdown",
   "id": "a4fcec7e",
   "metadata": {
    "deletable": false,
    "editable": false
   },
   "source": [
    "<hr style=\"margin-bottom: 0px; padding:0; border: 2px solid #500082;\"/>\n"
   ]
  },
  {
   "cell_type": "markdown",
   "id": "f9440c3e",
   "metadata": {
    "deletable": false,
    "editable": false
   },
   "source": [
    "## 1. Warm-Up and Bootstrapping (20 pts)\n",
    "\n"
   ]
  },
  {
   "cell_type": "markdown",
   "id": "344bd859",
   "metadata": {
    "deletable": false,
    "editable": false
   },
   "source": [
    "<font color='#B1008E'>\n",
    "    \n",
    "##### Learning objectives\n",
    "- Practice gathering outcomes of a simulation in an array.\n",
    "- Implement a function for bootstrapping.\n",
    "\n",
    "</font>"
   ]
  },
  {
   "cell_type": "markdown",
   "id": "1d7461aa",
   "metadata": {
    "deletable": false,
    "editable": false
   },
   "source": [
    "#### Part 1.1 Review loops to gather outcomes in an array (5 pts)\n"
   ]
  },
  {
   "cell_type": "markdown",
   "id": "644cb315",
   "metadata": {
    "deletable": false,
    "editable": false
   },
   "source": [
    "Let's revisit one of our central computation tools from the second half of the semester: *simulation loops to gather an array of outcomes*.  \n",
    "\n",
    "Here's the basic structure of these loops: \n",
    "- Initalize an empty array that collects results.\n",
    "- Then within a for-loop, \"do something\" many times and add the result to the array."
   ]
  },
  {
   "cell_type": "markdown",
   "id": "52b42ff4",
   "metadata": {
    "deletable": false,
    "editable": false
   },
   "source": [
    "For this problem, you will implement the \"do something\" step as randomly choosing one integer from an array of four integers: 1, 2, 3, 4. \n",
    "\n",
    "Below, write a line that implements this. *Hint*: You should use the `numpy (np)` library for this. "
   ]
  },
  {
   "cell_type": "code",
   "execution_count": null,
   "id": "081f9a4a",
   "metadata": {
    "deletable": false,
    "execution": {
     "iopub.execute_input": "2023-11-09T23:34:02.077386Z",
     "iopub.status.busy": "2023-11-09T23:34:02.076964Z",
     "iopub.status.idle": "2023-11-09T23:34:02.082917Z",
     "shell.execute_reply": "2023-11-09T23:34:02.082362Z"
    },
    "tags": []
   },
   "outputs": [],
   "source": [
    "integer_array = make_array(1, 2, 3, 4)\n",
    "choice = ...\n",
    "choice"
   ]
  },
  {
   "cell_type": "markdown",
   "id": "6264fc73",
   "metadata": {
    "deletable": false,
    "editable": false
   },
   "source": [
    "Now let's write a simulation loop to repeat 1000 times: randomly choosing from integers 1, 2, 3, 4 and saving these results in an array. \n",
    "\n",
    "*Note:* Do *not* call `simulate` here -- write the loop from scratch."
   ]
  },
  {
   "cell_type": "code",
   "execution_count": null,
   "id": "562f65c8",
   "metadata": {
    "deletable": false,
    "execution": {
     "iopub.execute_input": "2023-11-09T23:34:02.092483Z",
     "iopub.status.busy": "2023-11-09T23:34:02.092288Z",
     "iopub.status.idle": "2023-11-09T23:34:02.117116Z",
     "shell.execute_reply": "2023-11-09T23:34:02.116412Z"
    },
    "tags": []
   },
   "outputs": [],
   "source": [
    "results = ...\n",
    "for i in np.arange(...):\n",
    "    choice = ...\n",
    "    results = ... \n",
    "\n",
    "\n",
    "print(\"Num trials=\", len(results))"
   ]
  },
  {
   "cell_type": "code",
   "execution_count": null,
   "id": "edd954d3",
   "metadata": {
    "deletable": false,
    "editable": false
   },
   "outputs": [],
   "source": [
    "grader.check(\"p1.1\")"
   ]
  },
  {
   "cell_type": "markdown",
   "id": "c17de661",
   "metadata": {
    "deletable": false,
    "editable": false
   },
   "source": [
    "#### Part 1.2 Bootstrapping (5 pts)\n"
   ]
  },
  {
   "cell_type": "markdown",
   "id": "d32e8f52",
   "metadata": {
    "deletable": false,
    "editable": false
   },
   "source": [
    "Bootstrapping uses the same loop idiom as above. However, for boostrapping, the \"do something\" consists of two steps: \n",
    "\n",
    "- **Step 1**: Resample with replacement from the original data. The resample should have the same sample size as the original data. \n",
    "- **Step 2**: Calculate the statistic of interest on the resample. "
   ]
  },
  {
   "cell_type": "markdown",
   "id": "5a5d00aa",
   "metadata": {
    "deletable": false,
    "editable": false
   },
   "source": [
    "For **Step 1**, we will use the `np.random.choice` function again."
   ]
  },
  {
   "cell_type": "code",
   "execution_count": null,
   "id": "9161b48a",
   "metadata": {
    "deletable": false,
    "editable": false,
    "execution": {
     "iopub.execute_input": "2023-11-09T23:34:02.131219Z",
     "iopub.status.busy": "2023-11-09T23:34:02.131017Z",
     "iopub.status.idle": "2023-11-09T23:34:02.134881Z",
     "shell.execute_reply": "2023-11-09T23:34:02.134433Z"
    },
    "tags": []
   },
   "outputs": [],
   "source": [
    "# Run this cell \n",
    "# This is the \"original sample\"\n",
    "original_sample = make_array(1, 2, 3, 4, 5)\n",
    "original_sample"
   ]
  },
  {
   "cell_type": "code",
   "execution_count": null,
   "id": "95b9c38e",
   "metadata": {
    "deletable": false,
    "editable": false,
    "execution": {
     "iopub.execute_input": "2023-11-09T23:34:02.137409Z",
     "iopub.status.busy": "2023-11-09T23:34:02.137221Z",
     "iopub.status.idle": "2023-11-09T23:34:02.140839Z",
     "shell.execute_reply": "2023-11-09T23:34:02.140420Z"
    },
    "tags": []
   },
   "outputs": [],
   "source": [
    "# This is the command to 'sample with replacement' \n",
    "# Run this cell many times to get different results\n",
    "resample = np.random.choice(original_sample, 5)\n",
    "resample"
   ]
  },
  {
   "cell_type": "markdown",
   "id": "f6245d46",
   "metadata": {
    "deletable": false,
    "editable": false
   },
   "source": [
    "Now, let's write code to test our code! \n",
    "\n",
    "Write a `check` to make sure that our requirement for bootstrapping is satisified: that the length of the `resample` array is the same as the `original_sample`. "
   ]
  },
  {
   "cell_type": "code",
   "execution_count": null,
   "id": "75ae40cb",
   "metadata": {
    "deletable": false,
    "execution": {
     "iopub.execute_input": "2023-11-09T23:34:02.143325Z",
     "iopub.status.busy": "2023-11-09T23:34:02.143132Z",
     "iopub.status.idle": "2023-11-09T23:34:02.146036Z",
     "shell.execute_reply": "2023-11-09T23:34:02.145564Z"
    },
    "tags": []
   },
   "outputs": [],
   "source": [
    "..."
   ]
  },
  {
   "cell_type": "markdown",
   "id": "4684ad10",
   "metadata": {
    "deletable": false,
    "editable": false
   },
   "source": [
    "For **Step 2**, calculating the statistic of interest, we need a function that computes the statistic. In this case, we could also just use `np.mean` function directly.  However, since you'll need to write new need to write new statistics functions below, we'll make create a new function `sample_mean` that we'll use to compute our statistic of interest.)"
   ]
  },
  {
   "cell_type": "code",
   "execution_count": null,
   "id": "f5e176fa",
   "metadata": {
    "deletable": false,
    "editable": false,
    "execution": {
     "iopub.execute_input": "2023-11-09T23:34:02.149413Z",
     "iopub.status.busy": "2023-11-09T23:34:02.149204Z",
     "iopub.status.idle": "2023-11-09T23:34:02.152366Z",
     "shell.execute_reply": "2023-11-09T23:34:02.151854Z"
    },
    "tags": []
   },
   "outputs": [],
   "source": [
    "def sample_mean(sample_data):\n",
    "    return np.mean(sample_data)\n",
    "\n",
    "check(sample_mean(original_sample) == 3)"
   ]
  },
  {
   "cell_type": "markdown",
   "id": "43588418",
   "metadata": {
    "deletable": false,
    "editable": false
   },
   "source": [
    "Now, let's put it together! Complete the function below for bootstrapping. This should combine our loop idiom for gathering results into an array with the two steps we outlined above.  \n",
    "\n",
    "You will find it **very** useful to review our bootstrapping lecture's [notebook](https://www.cs.williams.edu/~cs104/lectures/24-bootstrapping.html)."
   ]
  },
  {
   "cell_type": "code",
   "execution_count": null,
   "id": "ca0c2cd6",
   "metadata": {
    "deletable": false,
    "execution": {
     "iopub.execute_input": "2023-11-09T23:34:02.155092Z",
     "iopub.status.busy": "2023-11-09T23:34:02.154901Z",
     "iopub.status.idle": "2023-11-09T23:34:02.161175Z",
     "shell.execute_reply": "2023-11-09T23:34:02.160618Z"
    },
    "tags": []
   },
   "outputs": [],
   "source": [
    "def bootstrap_statistic(observed_sample, compute_statistic, num_trials): \n",
    "    \"\"\"\n",
    "    Creates num_trials resamples of the initial sample.\n",
    "    Returns an array of the provided statistic for those samples.\n",
    "\n",
    "    * observed_sample: the initial sample, as an array.\n",
    "    \n",
    "    * compute_statistic: a function that takes a sample as \n",
    "                         an array and returns the statistic for that\n",
    "                         sample. \n",
    "    \n",
    "    * num_trials: the number of bootstrap samples to create.\n",
    "\n",
    "    \"\"\"\n",
    "    bootstrap_statistics = ...\n",
    "    \n",
    "    for i in np.arange(...):\n",
    "        simulated_resample = ...\n",
    "        resample_statistic = ...\n",
    "        bootstrap_statistics = np.append(bootstrap_statistics, ...)\n",
    "\n",
    "    return bootstrap_statistics\n",
    "    \n",
    "\n",
    "# Run a small bootstrap and verify the results are reasonable.\n",
    "tiny_bootstrapped_statistics = bootstrap_statistic(original_sample, sample_mean, 5)\n",
    "tiny_bootstrapped_statistics"
   ]
  },
  {
   "cell_type": "code",
   "execution_count": null,
   "id": "b0cbdb72",
   "metadata": {
    "deletable": false,
    "editable": false
   },
   "outputs": [],
   "source": [
    "grader.check(\"p1.2\")"
   ]
  },
  {
   "cell_type": "markdown",
   "id": "3587ba65",
   "metadata": {
    "deletable": false,
    "editable": false,
    "tags": []
   },
   "source": [
    "#### Part 1.3 A bigger bootstrap (5 pts)\n"
   ]
  },
  {
   "cell_type": "markdown",
   "id": "22993cf2",
   "metadata": {
    "deletable": false,
    "editable": false
   },
   "source": [
    "We'll now run a much larger bootstrap on the same sample."
   ]
  },
  {
   "cell_type": "code",
   "execution_count": null,
   "id": "090fb882",
   "metadata": {
    "deletable": false,
    "editable": false,
    "execution": {
     "iopub.execute_input": "2023-11-09T23:34:02.180075Z",
     "iopub.status.busy": "2023-11-09T23:34:02.179866Z",
     "iopub.status.idle": "2023-11-09T23:34:02.486086Z",
     "shell.execute_reply": "2023-11-09T23:34:02.485530Z"
    },
    "tags": []
   },
   "outputs": [],
   "source": [
    "bootstrapped_statistics = bootstrap_statistic(original_sample, sample_mean, 2000)\n",
    "results = Table().with_column('Bootstrap Samples Mean', bootstrapped_statistics)\n",
    "plot = results.hist()\n",
    "original_statistic = sample_mean(original_sample)\n",
    "plot.dot(original_statistic)"
   ]
  },
  {
   "cell_type": "markdown",
   "id": "9735d179",
   "metadata": {
    "deletable": false,
    "editable": false,
    "tags": []
   },
   "source": [
    "Here are a couple checks to ensure it is working properly."
   ]
  },
  {
   "cell_type": "code",
   "execution_count": null,
   "id": "ba44bcf8",
   "metadata": {
    "deletable": false,
    "editable": false
   },
   "outputs": [],
   "source": [
    "grader.check(\"p1.3\")"
   ]
  },
  {
   "cell_type": "markdown",
   "id": "90a54ef1",
   "metadata": {
    "deletable": false,
    "editable": false
   },
   "source": [
    "<!-- BEGIN QUESTION -->\n",
    "\n",
    "#### Part 1.4 Interpreting the results (5 pts)\n"
   ]
  },
  {
   "cell_type": "markdown",
   "id": "e41ae6af",
   "metadata": {
    "deletable": false,
    "editable": false
   },
   "source": [
    "If you implemented bootstrapping correctly, you should see the sample mean (the red dot) at the center of your boostrap empirical distribution (the blue histogram). \n",
    "\n",
    "Why is the bootstrap distribution *centered* around the sample mean? "
   ]
  },
  {
   "cell_type": "markdown",
   "id": "1e57a405",
   "metadata": {
    "deletable": false,
    "editable": false
   },
   "source": [
    "<hr style=\"margin:0; border: 1px solid #FFBE0A;\"/><font color='#FFBE0A'>Written Answer:</font>"
   ]
  },
  {
   "cell_type": "markdown",
   "id": "427eb467",
   "metadata": {
    "deletable": false
   },
   "source": [
    "_Type your answer here, replacing this text._\n"
   ]
  },
  {
   "cell_type": "markdown",
   "id": "3c45a98a",
   "metadata": {
    "deletable": false,
    "editable": false
   },
   "source": [
    "<hr style=\"margin:0; border: 1px solid #FFBE0A;\"/>"
   ]
  },
  {
   "cell_type": "markdown",
   "id": "58287455",
   "metadata": {
    "deletable": false,
    "editable": false
   },
   "source": [
    "<!-- END QUESTION -->\n",
    "\n",
    "<hr style=\"margin-bottom: 0px; padding:0; border: 2px solid #500082;\"/>\n"
   ]
  },
  {
   "cell_type": "markdown",
   "id": "1c65c179",
   "metadata": {
    "deletable": false,
    "editable": false
   },
   "source": [
    "## 2. Spring Street Restaurants (45 pts)\n",
    "\n"
   ]
  },
  {
   "cell_type": "markdown",
   "id": "4e75ac54",
   "metadata": {
    "deletable": false,
    "editable": false
   },
   "source": [
    "<font color='#B1008E'>\n",
    "    \n",
    "##### Learning objectives\n",
    "- Use bootstrapping to estimate confidence intervals for a data sample. \n",
    "    \n",
    "</font>"
   ]
  },
  {
   "cell_type": "markdown",
   "id": "283abd25",
   "metadata": {
    "deletable": false,
    "editable": false
   },
   "source": [
    "Our goal is to estimate the \"most popular\" Williamstown restaurant on Spring Street. \n",
    "\n",
    "We surveyed 1,500 Williams students, faculty, and community members selected uniformly at random and asked each person which of the following four restaurants is the best. (*Note: This data is entirely fabricated for the purposes of this homework -- we actually love eating at all these restaurants!*) The choices of restaurants are Pera, Blue Mango, Spring St. Market, and Taste of India. After compiling the results, we release the following percentages from their sample:\n",
    "\n",
    "| Restaurant  | Percentage|\n",
    "|:------------ |:------------:|\n",
    "|Pera | 8.2% |\n",
    "|Blue Mango | 52.8% |\n",
    "|Spring St. Market | 25% |\n",
    "|Taste of India | 14% |\n",
    "\n",
    "Now, we will attempt to estimate the corresponding *parameters*, or the percentage of the votes that each restaurant would receive if we asked every member of the population (i.e. all Williams students, faculty, and community members). We will use confidence intervals to compute a range of values that reflects the uncertainty of our estimates.\n",
    "\n",
    "The array `observed_votes` contains the results of this survey. "
   ]
  },
  {
   "cell_type": "code",
   "execution_count": null,
   "id": "5dc1d089",
   "metadata": {
    "deletable": false,
    "editable": false,
    "execution": {
     "iopub.execute_input": "2023-11-09T23:34:02.501412Z",
     "iopub.status.busy": "2023-11-09T23:34:02.501212Z",
     "iopub.status.idle": "2023-11-09T23:34:02.508506Z",
     "shell.execute_reply": "2023-11-09T23:34:02.508046Z"
    },
    "tags": []
   },
   "outputs": [],
   "source": [
    "# Just run this cell\n",
    "votes_table = Table().read_table('votes.csv')\n",
    "observed_votes = votes_table.column('Vote')\n",
    "\n",
    "np.random.choice(observed_votes, 10) #sampling to look at the variety"
   ]
  },
  {
   "cell_type": "markdown",
   "id": "d65eb597",
   "metadata": {
    "deletable": false,
    "editable": false
   },
   "source": [
    "#### Part 2.1 (5 pts)\n"
   ]
  },
  {
   "cell_type": "markdown",
   "id": "b812519c",
   "metadata": {
    "deletable": false,
    "editable": false
   },
   "source": [
    "We have given you the function `percent_of_vote` below. It returns the **percentage** of votes in the given array of `votes`. "
   ]
  },
  {
   "cell_type": "code",
   "execution_count": null,
   "id": "a657f706",
   "metadata": {
    "deletable": false,
    "editable": false,
    "execution": {
     "iopub.execute_input": "2023-11-09T23:34:02.511316Z",
     "iopub.status.busy": "2023-11-09T23:34:02.511106Z",
     "iopub.status.idle": "2023-11-09T23:34:02.515599Z",
     "shell.execute_reply": "2023-11-09T23:34:02.515163Z"
    },
    "tags": []
   },
   "outputs": [],
   "source": [
    "def percent_of_vote(votes, restaurant):\n",
    "    single_percentage = (sum(votes == restaurant) / len(votes)) * 100\n",
    "    return single_percentage\n",
    "\n",
    "percent_of_vote(observed_votes, 'Pera')"
   ]
  },
  {
   "cell_type": "markdown",
   "id": "d0e7ce39",
   "metadata": {
    "deletable": false,
    "editable": false
   },
   "source": [
    "Complete the function `percent_blue_mango` that uses the `percent_of_vote` function to return the percent of votes for just Blue Mango. "
   ]
  },
  {
   "cell_type": "code",
   "execution_count": null,
   "id": "83ddd99b",
   "metadata": {
    "deletable": false,
    "execution": {
     "iopub.execute_input": "2023-11-09T23:34:02.518187Z",
     "iopub.status.busy": "2023-11-09T23:34:02.517991Z",
     "iopub.status.idle": "2023-11-09T23:34:02.520719Z",
     "shell.execute_reply": "2023-11-09T23:34:02.520255Z"
    },
    "tags": []
   },
   "outputs": [],
   "source": [
    "def percent_blue_mango(votes): \n",
    "    ..."
   ]
  },
  {
   "cell_type": "code",
   "execution_count": null,
   "id": "8ba8762e",
   "metadata": {
    "deletable": false,
    "editable": false
   },
   "outputs": [],
   "source": [
    "grader.check(\"p2.1\")"
   ]
  },
  {
   "cell_type": "markdown",
   "id": "5b535c53",
   "metadata": {
    "deletable": false,
    "editable": false
   },
   "source": [
    "#### Part 2.2 (5 pts)\n"
   ]
  },
  {
   "cell_type": "markdown",
   "id": "151e5240",
   "metadata": {
    "deletable": false,
    "editable": false
   },
   "source": [
    "Now, let's use the `bootstrap` function you implemented previously. \n",
    "\n",
    "Below, complete the arguments of the function such that it simulates and returns an array of bootstrapped estimates of the percentage of voters who will vote for **Blue Mango**. "
   ]
  },
  {
   "cell_type": "code",
   "execution_count": null,
   "id": "5c0c6f0e",
   "metadata": {
    "deletable": false,
    "execution": {
     "iopub.execute_input": "2023-11-09T23:34:02.534738Z",
     "iopub.status.busy": "2023-11-09T23:34:02.534542Z",
     "iopub.status.idle": "2023-11-09T23:34:02.539839Z",
     "shell.execute_reply": "2023-11-09T23:34:02.539412Z"
    },
    "tags": []
   },
   "outputs": [],
   "source": [
    "num_trials = 5 #start with just a few resamples\n",
    "tiny_bootstrap_votes_blue_mango = bootstrap_statistic(...,\n",
    "                                                      ...,\n",
    "                                                      num_trials)\n",
    "    \n",
    "\n",
    "tiny_bootstrap_votes_blue_mango"
   ]
  },
  {
   "cell_type": "code",
   "execution_count": null,
   "id": "19dff0c2",
   "metadata": {
    "deletable": false,
    "editable": false
   },
   "outputs": [],
   "source": [
    "grader.check(\"p2.2\")"
   ]
  },
  {
   "cell_type": "markdown",
   "id": "bbb0c323",
   "metadata": {
    "deletable": false,
    "editable": false
   },
   "source": [
    "In the following cell, run the same `bootstrap_statistic()` function again. But this time with 5000 bootstrap resamples. \n",
    "\n",
    "*Note:* This might take a few seconds to run."
   ]
  },
  {
   "cell_type": "markdown",
   "id": "c40bfd60",
   "metadata": {
    "deletable": false,
    "editable": false
   },
   "source": [
    "#### Part 2.3 (5 pts)\n"
   ]
  },
  {
   "cell_type": "markdown",
   "id": "599c65df",
   "metadata": {
    "deletable": false,
    "editable": false
   },
   "source": [
    "Now run the bootstrap for 5,000 trials."
   ]
  },
  {
   "cell_type": "code",
   "execution_count": null,
   "id": "e732f556",
   "metadata": {
    "deletable": false,
    "execution": {
     "iopub.execute_input": "2023-11-09T23:34:02.553322Z",
     "iopub.status.busy": "2023-11-09T23:34:02.553128Z",
     "iopub.status.idle": "2023-11-09T23:34:03.762546Z",
     "shell.execute_reply": "2023-11-09T23:34:03.762042Z"
    },
    "tags": []
   },
   "outputs": [],
   "source": [
    "bootstrap_votes_blue_mango = bootstrap_statistic(...,\n",
    "                                       ...,\n",
    "                                       5000)\n",
    "    \n",
    "\n",
    "# Plot the histogram (no need to change this line) \n",
    "Table().with_column('Estimated Percentage', bootstrap_votes_blue_mango).hist(\"Estimated Percentage\")"
   ]
  },
  {
   "cell_type": "markdown",
   "id": "a36e8cd9",
   "metadata": {
    "deletable": false,
    "editable": false
   },
   "source": [
    "#### Part 2.4 (5 pts)\n"
   ]
  },
  {
   "cell_type": "markdown",
   "id": "805da72b",
   "metadata": {
    "deletable": false,
    "editable": false
   },
   "source": [
    "Using the array `bootstrap_votes_blue_mango`, find the values at the two edges of the middle 95% of the bootstrapped percentage estimates. That is, compute the lower and upper ends of the interval, named `blue_mango_lower_bound` and `blue_mango_upper_bound`, respectively.  You should use `percentile` function."
   ]
  },
  {
   "cell_type": "code",
   "execution_count": null,
   "id": "025dcbc1",
   "metadata": {
    "deletable": false,
    "execution": {
     "iopub.execute_input": "2023-11-09T23:34:03.766039Z",
     "iopub.status.busy": "2023-11-09T23:34:03.765821Z",
     "iopub.status.idle": "2023-11-09T23:34:03.771907Z",
     "shell.execute_reply": "2023-11-09T23:34:03.771424Z"
    },
    "tags": []
   },
   "outputs": [],
   "source": [
    "blue_mango_lower_bound = ...\n",
    "blue_mango_upper_bound = ...\n",
    "print('Bootstrapped 95% confidence interval for the percentage of Blue Mango voters in the population:\\n',\n",
    "      np.round(make_array(blue_mango_lower_bound, blue_mango_upper_bound), 2))"
   ]
  },
  {
   "cell_type": "code",
   "execution_count": null,
   "id": "8d356cd8",
   "metadata": {
    "deletable": false,
    "editable": false
   },
   "outputs": [],
   "source": [
    "grader.check(\"p2.4\")"
   ]
  },
  {
   "cell_type": "markdown",
   "id": "79382817",
   "metadata": {
    "deletable": false,
    "editable": false
   },
   "source": [
    "Here is the plot from above, this time with your 95% confidence interval shown."
   ]
  },
  {
   "cell_type": "code",
   "execution_count": null,
   "id": "34ce8ee5",
   "metadata": {
    "deletable": false,
    "editable": false,
    "execution": {
     "iopub.execute_input": "2023-11-09T23:34:03.792680Z",
     "iopub.status.busy": "2023-11-09T23:34:03.792488Z",
     "iopub.status.idle": "2023-11-09T23:34:04.012136Z",
     "shell.execute_reply": "2023-11-09T23:34:04.011508Z"
    },
    "tags": []
   },
   "outputs": [],
   "source": [
    "# Plot the histogram (no need to change this line) \n",
    "plot = Table().with_column('Estimated Percentage', bootstrap_votes_blue_mango).hist(\"Estimated Percentage\")\n",
    "plot.interval(blue_mango_lower_bound, blue_mango_upper_bound)"
   ]
  },
  {
   "cell_type": "markdown",
   "id": "f9833747",
   "metadata": {
    "deletable": false,
    "editable": false
   },
   "source": [
    "<!-- BEGIN QUESTION -->\n",
    "\n",
    "#### Part 2.5 (5 pts)\n"
   ]
  },
  {
   "cell_type": "markdown",
   "id": "2e5980eb",
   "metadata": {
    "deletable": false,
    "editable": false,
    "tags": []
   },
   "source": [
    "Below is a visualization to let you experiment with different sample sizes and number of samples.  Run the cell and adjust the parameters to get a sense of how important sample size and number of trials is to this bootstrap.  Try to predict what happens when the sample size becomes small -- is that what you see?"
   ]
  },
  {
   "cell_type": "code",
   "execution_count": null,
   "id": "87c0988d",
   "metadata": {
    "deletable": false,
    "editable": false,
    "execution": {
     "iopub.execute_input": "2023-11-09T23:34:04.015523Z",
     "iopub.status.busy": "2023-11-09T23:34:04.015259Z",
     "iopub.status.idle": "2023-11-09T23:34:04.304319Z",
     "shell.execute_reply": "2023-11-09T23:34:04.303754Z"
    },
    "tags": []
   },
   "outputs": [],
   "source": [
    "def visualize_bootstrap(sample_size, num_trials):\n",
    "    # start with a subset of the original votes, drawn at random\n",
    "    sample = np.random.choice(observed_votes, sample_size)\n",
    "    resampled_percentages = bootstrap_statistic(sample, percent_blue_mango, num_trials)\n",
    "    plot = Table().with_column('Estimated Percentage', resampled_percentages).hist(\"Estimated Percentage\")\n",
    "    plot.set_title('sample_size=' + str(sample_size) + '; num_trials=' + str(num_trials))\n",
    "    plot.interval(confidence_interval(95,resampled_percentages))\n",
    "\n",
    "interact(visualize_bootstrap, sample_size=Slider(1,500), num_trials=Slider(10,2010, 100))"
   ]
  },
  {
   "cell_type": "markdown",
   "id": "a6a90b53",
   "metadata": {
    "deletable": false,
    "editable": false
   },
   "source": [
    "Describe what you observe.  What changes when you increase or decrease the sample size?  What changes when you increase the number of trials?"
   ]
  },
  {
   "cell_type": "markdown",
   "id": "1cf45e94",
   "metadata": {
    "deletable": false,
    "editable": false
   },
   "source": [
    "<hr style=\"margin:0; border: 1px solid #FFBE0A;\"/><font color='#FFBE0A'>Written Answer:</font>"
   ]
  },
  {
   "cell_type": "markdown",
   "id": "0254c248",
   "metadata": {
    "deletable": false
   },
   "source": [
    "_Type your answer here, replacing this text._\n"
   ]
  },
  {
   "cell_type": "markdown",
   "id": "4e7b7782",
   "metadata": {
    "deletable": false,
    "editable": false
   },
   "source": [
    "<hr style=\"margin:0; border: 1px solid #FFBE0A;\"/>"
   ]
  },
  {
   "cell_type": "markdown",
   "id": "82c1c6aa",
   "metadata": {
    "deletable": false,
    "editable": false
   },
   "source": [
    "<!-- END QUESTION -->\n",
    "\n",
    "#### Part 2.6 (5 pts)\n"
   ]
  },
  {
   "cell_type": "markdown",
   "id": "b57bf8e3",
   "metadata": {
    "deletable": false,
    "editable": false
   },
   "source": [
    "The survey results seem to indicate that Blue Mango is beating all the other restaurants combined among voters. We would like to use confidence intervals to determine a range of likely values for Blue Mango's true lead over all the other restaurants combined. The calculation for Blue Mango's lead over Pera, Spring St. Market, and Taste of India combined is:\n",
    "\n",
    "$$ \\text{Blue Mango's % of the vote} - (\\text{100 %} - \\text{Blue Mango's % of Vote})$$\n",
    "\n",
    "Define the function `percent_blue_mango_lead` that returns **exactly one value**\" Blue Mango's percentage lead over Pera, Spring St. Market, and Taste of India combined in `votes_table`. \n",
    "\n",
    "*Hints:* \n",
    "- Blue Mango's lead can be negative.\n",
    "- Your solution should use `percent_of_vote` or `percent_blue_mango` from one of the previous questions. "
   ]
  },
  {
   "cell_type": "code",
   "execution_count": null,
   "id": "1384852c",
   "metadata": {
    "deletable": false,
    "execution": {
     "iopub.execute_input": "2023-11-09T23:34:04.308052Z",
     "iopub.status.busy": "2023-11-09T23:34:04.307858Z",
     "iopub.status.idle": "2023-11-09T23:34:04.311794Z",
     "shell.execute_reply": "2023-11-09T23:34:04.311376Z"
    },
    "tags": []
   },
   "outputs": [],
   "source": [
    "def percent_blue_mango_lead(votes):\n",
    "    ...\n",
    "    \n",
    "percent_blue_mango_lead(observed_votes)"
   ]
  },
  {
   "cell_type": "code",
   "execution_count": null,
   "id": "8a4d439d",
   "metadata": {
    "deletable": false,
    "editable": false
   },
   "outputs": [],
   "source": [
    "grader.check(\"p2.6\")"
   ]
  },
  {
   "cell_type": "markdown",
   "id": "e4099cb6",
   "metadata": {
    "deletable": false,
    "editable": false
   },
   "source": [
    "<!-- BEGIN QUESTION -->\n",
    "\n",
    "#### Part 2.7 (5 pts)\n"
   ]
  },
  {
   "cell_type": "markdown",
   "id": "70d615d3",
   "metadata": {
    "deletable": false,
    "editable": false
   },
   "source": [
    "Now use `bootstrap_statistic()` to compute bootstrapped estimates of Blue Mango's lead over Pera, Spring St. Market, and Taste of India combined. Plot a histogram of the resulting samples.  \n",
    "\n",
    "*Hint:* Your function should use `percent_blue_mango_lead`."
   ]
  },
  {
   "cell_type": "code",
   "execution_count": null,
   "id": "bf887237",
   "metadata": {
    "deletable": false,
    "execution": {
     "iopub.execute_input": "2023-11-09T23:34:04.320486Z",
     "iopub.status.busy": "2023-11-09T23:34:04.320290Z",
     "iopub.status.idle": "2023-11-09T23:34:04.876570Z",
     "shell.execute_reply": "2023-11-09T23:34:04.876037Z"
    },
    "tags": []
   },
   "outputs": [],
   "source": [
    "num_trials = 2000\n",
    "bootstrap_blue_mango_leads = bootstrap_statistic(...,\n",
    "                                                 ...,\n",
    "                                                 num_trials)\n",
    "    \n",
    "\n",
    "Table().with_column('Estimated Lead', bootstrap_blue_mango_leads).hist(\"Estimated Lead\")"
   ]
  },
  {
   "cell_type": "code",
   "execution_count": null,
   "id": "33b82017",
   "metadata": {
    "deletable": false,
    "editable": false
   },
   "outputs": [],
   "source": [
    "grader.check(\"p2.7\")"
   ]
  },
  {
   "cell_type": "markdown",
   "id": "78c52990",
   "metadata": {
    "deletable": false,
    "editable": false
   },
   "source": [
    "<!-- END QUESTION -->\n",
    "\n",
    "#### Part 2.8 (5 pts)\n"
   ]
  },
  {
   "cell_type": "markdown",
   "id": "891cb691",
   "metadata": {
    "deletable": false,
    "editable": false
   },
   "source": [
    "Use the simulated data in `bootstrap_blue_mango_leads` from the previous question and the function `confidence_interval` from [our library](https://www.cs.williams.edu/~cs104/auto/inference-library-ref.html) to compute an approximate 90% confidence interval for Blue Mango's true lead over Pera, Spring St. Market, and Taste of India combined. "
   ]
  },
  {
   "cell_type": "code",
   "execution_count": null,
   "id": "959d6b6e",
   "metadata": {
    "deletable": false,
    "execution": {
     "iopub.execute_input": "2023-11-09T23:34:04.890170Z",
     "iopub.status.busy": "2023-11-09T23:34:04.889980Z",
     "iopub.status.idle": "2023-11-09T23:34:04.894158Z",
     "shell.execute_reply": "2023-11-09T23:34:04.893707Z"
    },
    "tags": []
   },
   "outputs": [],
   "source": [
    "lead_ci = ...\n",
    "lead_lower_bound, lead_upper_bound = lead_ci\n",
    "print(\"Bootstrapped 90% confidence interval for Blue Mango's true lead over Pera, Spring St. Market, and Taste of India combined:\\n\", \n",
    "      np.round(make_array(lead_lower_bound, lead_upper_bound), 2))"
   ]
  },
  {
   "cell_type": "code",
   "execution_count": null,
   "id": "ad825d76",
   "metadata": {
    "deletable": false,
    "editable": false
   },
   "outputs": [],
   "source": [
    "grader.check(\"p2.8\")"
   ]
  },
  {
   "cell_type": "markdown",
   "id": "fd68fd42",
   "metadata": {
    "deletable": false,
    "editable": false
   },
   "source": [
    "<!-- BEGIN QUESTION -->\n",
    "\n",
    "#### Part 2.9 (5 pts)\n"
   ]
  },
  {
   "cell_type": "markdown",
   "id": "41365939",
   "metadata": {
    "deletable": false,
    "editable": false
   },
   "source": [
    "Suppose you were consulting with Blue Mango and they wanted to know how popular they are as a business compared to their competition? \n",
    "\n",
    "How would you explain this to them?\n",
    "\n",
    "Use all the previous parts you calculated (including the confidence intervals). "
   ]
  },
  {
   "cell_type": "markdown",
   "id": "6dc03f6f",
   "metadata": {
    "deletable": false,
    "editable": false
   },
   "source": [
    "<hr style=\"margin:0; border: 1px solid #FFBE0A;\"/><font color='#FFBE0A'>Written Answer:</font>"
   ]
  },
  {
   "cell_type": "markdown",
   "id": "e032778c",
   "metadata": {
    "deletable": false
   },
   "source": [
    "_Type your answer here, replacing this text._\n"
   ]
  },
  {
   "cell_type": "markdown",
   "id": "d2ce1b4f",
   "metadata": {
    "deletable": false,
    "editable": false
   },
   "source": [
    "<hr style=\"margin:0; border: 1px solid #FFBE0A;\"/>"
   ]
  },
  {
   "cell_type": "markdown",
   "id": "a69a37f5",
   "metadata": {
    "deletable": false,
    "editable": false
   },
   "source": [
    "<!-- END QUESTION -->\n",
    "\n",
    "<hr style=\"margin-bottom: 0px; padding:0; border: 2px solid #500082;\"/>\n"
   ]
  },
  {
   "cell_type": "markdown",
   "id": "96bc741a",
   "metadata": {
    "deletable": false,
    "editable": false
   },
   "source": [
    "## 3. Interpreting Confidence Intervals (25 pts)\n",
    "\n"
   ]
  },
  {
   "cell_type": "markdown",
   "id": "25db45d6",
   "metadata": {
    "deletable": false,
    "editable": false
   },
   "source": [
    "<font color='#B1008E'>\n",
    "    \n",
    "##### Learning objectives\n",
    "- Practice interpreting confidence intervals. \n",
    "- Reason about the factors that make a confidence interval narrower (more certainty) or wider (less certainty). \n",
    "</font>"
   ]
  },
  {
   "cell_type": "markdown",
   "id": "cba67260",
   "metadata": {
    "deletable": false,
    "editable": false
   },
   "source": [
    "We computed the following 95% confidence interval for the percentage of Blue Mango voters: \n",
    "\n",
    "$$[50.40, 55.40]$$\n",
    "\n",
    "(Your answer may have been a bit different due to randomness; that doesn't mean it was wrong!)"
   ]
  },
  {
   "cell_type": "markdown",
   "id": "093dd820",
   "metadata": {
    "deletable": false,
    "editable": false
   },
   "source": [
    "<!-- BEGIN QUESTION -->\n",
    "\n",
    "#### Part 3.1 (5 pts)\n"
   ]
  },
  {
   "cell_type": "markdown",
   "id": "07f1c5a1",
   "metadata": {
    "deletable": false,
    "editable": false
   },
   "source": [
    " The staff also created 70%, 90%, and 99% confidence intervals from the same sample, but we forgot to label which confidence interval represented which percentages! First, match each confidence level (70%, 90%, 99%) with its corresponding interval in the cell below (e.g. if we had a part D and 80% level we would assign `D=80`). **Then**, explain your thought process and how you came up with your answers. \n",
    "\n",
    "The intervals are below:\n",
    "\n",
    "* A: [51.47, 54.20]\n",
    "* B: [49.60, 56.13]\n",
    "* C: [50.80, 55.00]\n",
    "\n",
    "*Hint*: It may be helpful to draw these out with pen and paper. "
   ]
  },
  {
   "cell_type": "markdown",
   "id": "3f9a2091",
   "metadata": {
    "deletable": false,
    "editable": false
   },
   "source": [
    "<hr style=\"margin:0; border: 1px solid #FFBE0A;\"/><font color='#FFBE0A'>Written Answer:</font>"
   ]
  },
  {
   "cell_type": "markdown",
   "id": "ffbd750c",
   "metadata": {
    "deletable": false
   },
   "source": [
    "Type your answer here:\n",
    "\n",
    "* A is ... [one of 70% CI, 90% CI, 99% CI]\n",
    "* B is ... [one of 70% CI, 90% CI, 99% CI]\n",
    "* C is ... [one of 70% CI, 90% CI, 99% CI]\n",
    "\n",
    "Justification: ..."
   ]
  },
  {
   "cell_type": "markdown",
   "id": "0596a18b",
   "metadata": {
    "deletable": false
   },
   "source": [
    "<hr style=\"margin:0; border: 1px solid #FFBE0A;\"/>"
   ]
  },
  {
   "cell_type": "markdown",
   "id": "cefbb528",
   "metadata": {
    "deletable": false,
    "editable": false
   },
   "source": [
    "<!-- END QUESTION -->\n",
    "\n",
    "#### Part 3.2 (5 pts)\n"
   ]
  },
  {
   "cell_type": "markdown",
   "id": "2b9b9f6e",
   "metadata": {
    "deletable": false,
    "editable": false
   },
   "source": [
    " Suppose we produced 5,000 new samples (each one a uniform random sample of 1,500 voters) from the population and created a 95% confidence interval from each one. Roughly how many of those 5,000 intervals do you expect will actually contain the true percentage of the population? \n",
    "\n",
    "Assign your answer to `num_intervals_with_true`.\n",
    "\n"
   ]
  },
  {
   "cell_type": "code",
   "execution_count": null,
   "id": "e54b0a23",
   "metadata": {
    "deletable": false,
    "execution": {
     "iopub.execute_input": "2023-11-09T23:34:04.915875Z",
     "iopub.status.busy": "2023-11-09T23:34:04.915681Z",
     "iopub.status.idle": "2023-11-09T23:34:04.918190Z",
     "shell.execute_reply": "2023-11-09T23:34:04.917666Z"
    },
    "tags": []
   },
   "outputs": [],
   "source": [
    "num_intervals_with_true = ..."
   ]
  },
  {
   "cell_type": "code",
   "execution_count": null,
   "id": "00cb29c7",
   "metadata": {
    "deletable": false,
    "editable": false
   },
   "outputs": [],
   "source": [
    "grader.check(\"p3.2\")"
   ]
  },
  {
   "cell_type": "markdown",
   "id": "06b80ca7",
   "metadata": {
    "deletable": false,
    "editable": false
   },
   "source": [
    "#### Part 3.3 (5 pts)\n"
   ]
  },
  {
   "cell_type": "markdown",
   "id": "7544d4a8",
   "metadata": {
    "deletable": false,
    "editable": false
   },
   "source": [
    "Recall the second bootstrap confidence interval you created for estimating Blue Mango's lead over Pera, Spring St. Market, and Taste of India combined. Among\n",
    "voters in the sample, Blue Mango's lead was 6%. Our 95% confidence interval for the true lead (in the population of all voters) was:\n",
    "\n",
    "$$[0.933\\%, 10.933\\%]$$\n",
    "\n",
    "Suppose we are interested in testing a simple yes-or-no question:\n",
    "\n",
    "> \"Is the percentage of votes for Blue Mango equal to the percentage of votes for Pera, Spring St. Market, and Taste of India combined?\"\n",
    "\n",
    "Our null hypothesis is that the percentages are equal, or equivalently, that Blue Mango's lead is exactly 0. Our alternative hypothesis is that Blue Mango's lead is not equal to 0.  In the questions below, don't compute any confidence interval yourself - use only the staff's 95% confidence interval."
   ]
  },
  {
   "cell_type": "markdown",
   "id": "30454920",
   "metadata": {
    "deletable": false,
    "editable": false
   },
   "source": [
    " Say we use a 5% p-value cutoff. Do we reject the null hypothesis, fail to reject the null hypothesis, or are we unable to tell using the staff's confidence interval? \n",
    "\n",
    "Assign `restaurants_equal` to the number corresponding to the correct answer.\n",
    "\n",
    "1. Reject the null hypothesis / Data is consistent with the alternative hypothesis\n",
    "2. Fail to reject the null hypothesis / Data is consistent with the null hypothesis\n",
    "3. Unable to tell using the confidence interval given. \n",
    "\n",
    "*Hint:* Consider the relationship between the p-value cutoff and confidence. If you're confused, take a look at [this chapter](https://inferentialthinking.com/chapters/13/4/Using_Confidence_Intervals.html) of the textbook.\n",
    "\n"
   ]
  },
  {
   "cell_type": "code",
   "execution_count": null,
   "id": "8e629299",
   "metadata": {
    "deletable": false,
    "execution": {
     "iopub.execute_input": "2023-11-09T23:34:04.931490Z",
     "iopub.status.busy": "2023-11-09T23:34:04.931296Z",
     "iopub.status.idle": "2023-11-09T23:34:04.933813Z",
     "shell.execute_reply": "2023-11-09T23:34:04.933357Z"
    },
    "tags": []
   },
   "outputs": [],
   "source": [
    "restaurants_equal = ..."
   ]
  },
  {
   "cell_type": "code",
   "execution_count": null,
   "id": "48e150f4",
   "metadata": {
    "deletable": false,
    "editable": false
   },
   "outputs": [],
   "source": [
    "grader.check(\"p3.3\")"
   ]
  },
  {
   "cell_type": "markdown",
   "id": "7d6bf217",
   "metadata": {
    "deletable": false,
    "editable": false
   },
   "source": [
    "#### Part 3.4 (5 pts)\n"
   ]
  },
  {
   "cell_type": "markdown",
   "id": "6814551e",
   "metadata": {
    "deletable": false,
    "editable": false
   },
   "source": [
    " What if, instead, we use a p-value cutoff of 1%? Do we reject the null, fail to reject the null, or are we unable to tell using our staff confidence interval? \n",
    "\n",
    "Assign `cutoff_one_percent` to the number corresponding to the correct answer.\n",
    "\n",
    "1. Reject the null / Data is consistent with the alternative hypothesis\n",
    "2. Fail to reject the null / Data is consistent with the null hypothesis\n",
    "3. Unable to tell using our staff confidence interval\n",
    "\n"
   ]
  },
  {
   "cell_type": "code",
   "execution_count": null,
   "id": "e8e3f82f",
   "metadata": {
    "deletable": false,
    "execution": {
     "iopub.execute_input": "2023-11-09T23:34:04.946863Z",
     "iopub.status.busy": "2023-11-09T23:34:04.946673Z",
     "iopub.status.idle": "2023-11-09T23:34:04.949166Z",
     "shell.execute_reply": "2023-11-09T23:34:04.948671Z"
    },
    "tags": []
   },
   "outputs": [],
   "source": [
    "cutoff_one_percent = ..."
   ]
  },
  {
   "cell_type": "code",
   "execution_count": null,
   "id": "c5b127d2",
   "metadata": {
    "deletable": false,
    "editable": false
   },
   "outputs": [],
   "source": [
    "grader.check(\"p3.4\")"
   ]
  },
  {
   "cell_type": "markdown",
   "id": "628aa5fe",
   "metadata": {
    "deletable": false,
    "editable": false
   },
   "source": [
    "#### Part 3.5 (5 pts)\n"
   ]
  },
  {
   "cell_type": "markdown",
   "id": "3b32f4dd",
   "metadata": {
    "deletable": false,
    "editable": false
   },
   "source": [
    " What if we use a p-value cutoff of 10%? Do we reject, fail to reject, or are we unable to tell using our confidence interval? \n",
    "\n",
    "Assign `cutoff_ten_percent` to the number corresponding to the correct answer.\n",
    "\n",
    "1. Reject the null / Data is consistent with the alternative hypothesis\n",
    "2. Fail to reject the null / Data is consistent with the null hypothesis\n",
    "3. Unable to tell using our staff confidence interval\n",
    "\n"
   ]
  },
  {
   "cell_type": "code",
   "execution_count": null,
   "id": "c4a09c9a",
   "metadata": {
    "deletable": false,
    "execution": {
     "iopub.execute_input": "2023-11-09T23:34:04.961823Z",
     "iopub.status.busy": "2023-11-09T23:34:04.961636Z",
     "iopub.status.idle": "2023-11-09T23:34:04.964129Z",
     "shell.execute_reply": "2023-11-09T23:34:04.963690Z"
    },
    "tags": []
   },
   "outputs": [],
   "source": [
    "cutoff_ten_percent = ..."
   ]
  },
  {
   "cell_type": "code",
   "execution_count": null,
   "id": "085102d8",
   "metadata": {
    "deletable": false,
    "editable": false
   },
   "outputs": [],
   "source": [
    "grader.check(\"p3.5\")"
   ]
  },
  {
   "cell_type": "markdown",
   "id": "aed6d69d",
   "metadata": {
    "deletable": false,
    "editable": false
   },
   "source": [
    "<hr class=\"m-0\" style=\"border: 3px solid #500082;\"/>\n",
    "\n",
    "# You're Done!\n",
    "Follow these steps to submit your work:\n",
    "* Run the tests and verify that they pass as you expect. \n",
    "* Choose **Save Notebook** from the **File** menu.\n",
    "* **Run the final cell** and click the link below to download the zip file. \n",
    "\n",
    "Once you have downloaded that file, go to [Gradescope](https://www.gradescope.com/) and submit the zip file to \n",
    "the corresponding assignment. For Lab N, the assignment will be called \"Lab N Autograder\".\n",
    "\n",
    "Once you have submitted, your Gradescope assignment should show you passing all the tests you passed in your assignment notebook.\n"
   ]
  },
  {
   "cell_type": "markdown",
   "id": "9dc8b22d",
   "metadata": {
    "deletable": false,
    "editable": false
   },
   "source": [
    "## Submission\n",
    "\n",
    "Make sure you have run all cells in your notebook in order before running the cell below, so that all images/graphs appear in the output. The cell below will generate a zip file for you to submit. **Please save before exporting!**"
   ]
  },
  {
   "cell_type": "code",
   "execution_count": null,
   "id": "701b8291",
   "metadata": {
    "deletable": false,
    "editable": false
   },
   "outputs": [],
   "source": [
    "# Save your notebook first, then run this cell to export your submission.\n",
    "grader.export(run_tests=True)"
   ]
  },
  {
   "cell_type": "markdown",
   "id": "a958d489",
   "metadata": {},
   "source": [
    " "
   ]
  }
 ],
 "metadata": {
  "kernelspec": {
   "display_name": "Python 3 (ipykernel)",
   "language": "python",
   "name": "python3"
  },
  "language_info": {
   "codemirror_mode": {
    "name": "ipython",
    "version": 3
   },
   "file_extension": ".py",
   "mimetype": "text/x-python",
   "name": "python",
   "nbconvert_exporter": "python",
   "pygments_lexer": "ipython3",
   "version": "3.9.13"
  },
  "otter": {
   "OK_FORMAT": true,
   "tests": {
    "p1.1": {
     "has_hidden": false,
     "name": "p1.1",
     "points": 5,
     "suites": [
      {
       "cases": [
        {
         "code": ">>> check_str('choice in make_array(1, 2, 3, 4)', locals())\n",
         "failure_message": "check(choice in make_array(1, 2, 3, 4))",
         "hidden": false,
         "locked": false,
         "submit_only": false,
         "success_message": "check(choice in make_array(1, 2, 3, 4))"
        },
        {
         "code": ">>> check_str('len(results) == 1000', locals())\n",
         "failure_message": "check(len(results) == 1000)",
         "hidden": false,
         "locked": false,
         "submit_only": false,
         "success_message": "check(len(results) == 1000)"
        },
        {
         "code": ">>> check_str('0.2 <= np.mean(results == 3) <= 0.3', locals())\n",
         "failure_message": "check(0.2 <= np.mean(results == 3) <= 0.3)",
         "hidden": false,
         "locked": false,
         "submit_only": false,
         "success_message": "check(0.2 <= np.mean(results == 3) <= 0.3)"
        }
       ],
       "scored": true,
       "setup": "",
       "teardown": "",
       "type": "doctest"
      }
     ]
    },
    "p1.2": {
     "has_hidden": false,
     "name": "p1.2",
     "points": 5,
     "suites": [
      {
       "cases": [
        {
         "code": ">>> check_str('type(tiny_bootstrapped_statistics) == np.ndarray', locals())\n",
         "failure_message": "check(type(tiny_bootstrapped_statistics) == np.ndarray)",
         "hidden": false,
         "locked": false,
         "submit_only": false,
         "success_message": "check(type(tiny_bootstrapped_statistics) == np.ndarray)"
        },
        {
         "code": ">>> check_str('len(tiny_bootstrapped_statistics) == 5', locals())\n",
         "failure_message": "check(len(tiny_bootstrapped_statistics) == 5)",
         "hidden": false,
         "locked": false,
         "submit_only": false,
         "success_message": "check(len(tiny_bootstrapped_statistics) == 5)"
        },
        {
         "code": ">>> check_str('0 <= tiny_bootstrapped_statistics <= 5', locals())\n",
         "failure_message": "check(0 <= tiny_bootstrapped_statistics <= 5)",
         "hidden": false,
         "locked": false,
         "submit_only": false,
         "success_message": "check(0 <= tiny_bootstrapped_statistics <= 5)"
        }
       ],
       "scored": true,
       "setup": "",
       "teardown": "",
       "type": "doctest"
      }
     ]
    },
    "p1.3": {
     "has_hidden": false,
     "name": "p1.3",
     "points": 5,
     "suites": [
      {
       "cases": [
        {
         "code": ">>> check_str('len(bootstrapped_statistics) == 2000', locals())\n",
         "failure_message": "check(len(bootstrapped_statistics) == 2000)",
         "hidden": false,
         "locked": false,
         "submit_only": false,
         "success_message": "check(len(bootstrapped_statistics) == 2000)"
        },
        {
         "code": ">>> check_str('2.8 <= np.mean(bootstrapped_statistics) <= 3.2', locals())\n",
         "failure_message": "check(2.8 <= np.mean(bootstrapped_statistics) <= 3.2)",
         "hidden": false,
         "locked": false,
         "submit_only": false,
         "success_message": "check(2.8 <= np.mean(bootstrapped_statistics) <= 3.2)"
        }
       ],
       "scored": true,
       "setup": "",
       "teardown": "",
       "type": "doctest"
      }
     ]
    },
    "p2.1": {
     "has_hidden": true,
     "name": "p2.1",
     "points": 5,
     "suites": [
      {
       "cases": [
        {
         "code": ">>> check_str('0 <= percent_blue_mango(observed_votes) <= 100', locals())\n",
         "failure_message": "check(0 <= percent_blue_mango(observed_votes) <= 100)",
         "hidden": false,
         "locked": false,
         "submit_only": false,
         "success_message": "check(0 <= percent_blue_mango(observed_votes) <= 100)"
        }
       ],
       "scored": true,
       "setup": "",
       "teardown": "",
       "type": "doctest"
      }
     ]
    },
    "p2.2": {
     "has_hidden": true,
     "name": "p2.2",
     "points": 5,
     "suites": [
      {
       "cases": [
        {
         "code": ">>> check_str('len(tiny_bootstrap_votes_blue_mango) == 5', locals())\n",
         "failure_message": "check(len(tiny_bootstrap_votes_blue_mango) == 5)",
         "hidden": false,
         "locked": false,
         "submit_only": false,
         "success_message": "check(len(tiny_bootstrap_votes_blue_mango) == 5)"
        }
       ],
       "scored": true,
       "setup": "",
       "teardown": "",
       "type": "doctest"
      }
     ]
    },
    "p2.4": {
     "has_hidden": true,
     "name": "p2.4",
     "points": 5,
     "suites": [
      {
       "cases": [
        {
         "code": ">>> check_str('40 <= blue_mango_lower_bound <= blue_mango_upper_bound <= 60', locals())\n",
         "failure_message": "check(40 <= blue_mango_lower_bound <= blue_mango_upper_bound <= 60)",
         "hidden": false,
         "locked": false,
         "submit_only": false,
         "success_message": "check(40 <= blue_mango_lower_bound <= blue_mango_upper_bound <= 60)"
        }
       ],
       "scored": true,
       "setup": "",
       "teardown": "",
       "type": "doctest"
      }
     ]
    },
    "p2.6": {
     "has_hidden": false,
     "name": "p2.6",
     "points": 5,
     "suites": [
      {
       "cases": [
        {
         "code": ">>> np.random.seed(123)\n>>> check_str('-6 <= float(percent_blue_mango_lead(observed_votes)) <= 15', locals())\n",
         "failure_message": "check(-6 <= float(percent_blue_mango_lead(observed_votes)) <= 15)",
         "hidden": false,
         "locked": false,
         "submit_only": false,
         "success_message": "check(-6 <= float(percent_blue_mango_lead(observed_votes)) <= 15)"
        }
       ],
       "scored": true,
       "setup": "",
       "teardown": "",
       "type": "doctest"
      }
     ]
    },
    "p2.7": {
     "has_hidden": true,
     "name": "p2.7",
     "points": 0,
     "suites": [
      {
       "cases": [
        {
         "code": ">>> check_str('len(bootstrap_blue_mango_leads) == 2000', locals())\n",
         "failure_message": "check(len(bootstrap_blue_mango_leads) == 2000)",
         "hidden": false,
         "locked": false,
         "submit_only": false,
         "success_message": "check(len(bootstrap_blue_mango_leads) == 2000)"
        }
       ],
       "scored": true,
       "setup": "",
       "teardown": "",
       "type": "doctest"
      }
     ]
    },
    "p2.8": {
     "has_hidden": true,
     "name": "p2.8",
     "points": 5,
     "suites": [
      {
       "cases": [
        {
         "code": ">>> check_str('-5 <= lead_lower_bound <= lead_upper_bound <= 12', locals())\n",
         "failure_message": "check(-5 <= lead_lower_bound <= lead_upper_bound <= 12)",
         "hidden": false,
         "locked": false,
         "submit_only": false,
         "success_message": "check(-5 <= lead_lower_bound <= lead_upper_bound <= 12)"
        }
       ],
       "scored": true,
       "setup": "",
       "teardown": "",
       "type": "doctest"
      }
     ]
    },
    "p3.2": {
     "has_hidden": true,
     "name": "p3.2",
     "points": 5,
     "suites": [
      {
       "cases": [
        {
         "code": ">>> check_str('1000 <= num_intervals_with_true <= 10000', locals())\n",
         "failure_message": "check(1000 <= num_intervals_with_true <= 10000)",
         "hidden": false,
         "locked": false,
         "submit_only": false,
         "success_message": "check(1000 <= num_intervals_with_true <= 10000)"
        }
       ],
       "scored": true,
       "setup": "",
       "teardown": "",
       "type": "doctest"
      }
     ]
    },
    "p3.3": {
     "has_hidden": true,
     "name": "p3.3",
     "points": 5,
     "suites": [
      {
       "cases": [
        {
         "code": ">>> check_str('restaurants_equal in [1,2,3]', locals())\n",
         "failure_message": "check(restaurants_equal in [1,2,3])",
         "hidden": false,
         "locked": false,
         "submit_only": false,
         "success_message": "check(restaurants_equal in [1,2,3])"
        }
       ],
       "scored": true,
       "setup": "",
       "teardown": "",
       "type": "doctest"
      }
     ]
    },
    "p3.4": {
     "has_hidden": true,
     "name": "p3.4",
     "points": 5,
     "suites": [
      {
       "cases": [
        {
         "code": ">>> check_str('cutoff_one_percent in [1,2,3]', locals())\n",
         "failure_message": "check(cutoff_one_percent in [1,2,3])",
         "hidden": false,
         "locked": false,
         "submit_only": false,
         "success_message": "check(cutoff_one_percent in [1,2,3])"
        }
       ],
       "scored": true,
       "setup": "",
       "teardown": "",
       "type": "doctest"
      }
     ]
    },
    "p3.5": {
     "has_hidden": true,
     "name": "p3.5",
     "points": 5,
     "suites": [
      {
       "cases": [
        {
         "code": ">>> check_str('cutoff_ten_percent in [1,2,3]', locals())\n",
         "failure_message": "check(cutoff_ten_percent in [1,2,3])",
         "hidden": false,
         "locked": false,
         "submit_only": false,
         "success_message": "check(cutoff_ten_percent in [1,2,3])"
        }
       ],
       "scored": true,
       "setup": "",
       "teardown": "",
       "type": "doctest"
      }
     ]
    }
   }
  },
  "vscode": {
   "interpreter": {
    "hash": "b181b7ac44b61709e1e9acd3475e041866d62bfe876365f68179fcb4e3bc0c2d"
   }
  },
  "widgets": {
   "application/vnd.jupyter.widget-state+json": {
    "state": {
     "00e40db02498441baa04b113eca91729": {
      "model_module": "@jupyter-widgets/controls",
      "model_module_version": "1.5.0",
      "model_name": "VBoxModel",
      "state": {
       "_dom_classes": [
        "widget-interact"
       ],
       "_model_module": "@jupyter-widgets/controls",
       "_model_module_version": "1.5.0",
       "_model_name": "VBoxModel",
       "_view_count": null,
       "_view_module": "@jupyter-widgets/controls",
       "_view_module_version": "1.5.0",
       "_view_name": "VBoxView",
       "box_style": "",
       "children": [
        "IPY_MODEL_d89a91041b264d308d993540bdb31d4b",
        "IPY_MODEL_23cf480bd5214985b558e2e09b2960a0",
        "IPY_MODEL_7c5a3fd593d346c0962099229e014963"
       ],
       "layout": "IPY_MODEL_b74177b2795440e58b3c6cf4024207df"
      }
     },
     "23cf480bd5214985b558e2e09b2960a0": {
      "model_module": "@jupyter-widgets/controls",
      "model_module_version": "1.5.0",
      "model_name": "IntSliderModel",
      "state": {
       "_dom_classes": [],
       "_model_module": "@jupyter-widgets/controls",
       "_model_module_version": "1.5.0",
       "_model_name": "IntSliderModel",
       "_view_count": null,
       "_view_module": "@jupyter-widgets/controls",
       "_view_module_version": "1.5.0",
       "_view_name": "IntSliderView",
       "continuous_update": true,
       "description": "num_trials",
       "description_tooltip": null,
       "disabled": false,
       "layout": "IPY_MODEL_40867e61a485480fb5b4a16b4243134c",
       "max": 2010,
       "min": 10,
       "orientation": "horizontal",
       "readout": true,
       "readout_format": "d",
       "step": 100,
       "style": "IPY_MODEL_43b536f64eeb44ea9852a1082d513b27",
       "value": 1010
      }
     },
     "267fcbdb3bd247e3ad1e0082c335cb77": {
      "model_module": "@jupyter-widgets/base",
      "model_module_version": "1.2.0",
      "model_name": "LayoutModel",
      "state": {
       "_model_module": "@jupyter-widgets/base",
       "_model_module_version": "1.2.0",
       "_model_name": "LayoutModel",
       "_view_count": null,
       "_view_module": "@jupyter-widgets/base",
       "_view_module_version": "1.2.0",
       "_view_name": "LayoutView",
       "align_content": null,
       "align_items": null,
       "align_self": null,
       "border": null,
       "bottom": null,
       "display": null,
       "flex": null,
       "flex_flow": null,
       "grid_area": null,
       "grid_auto_columns": null,
       "grid_auto_flow": null,
       "grid_auto_rows": null,
       "grid_column": null,
       "grid_gap": null,
       "grid_row": null,
       "grid_template_areas": null,
       "grid_template_columns": null,
       "grid_template_rows": null,
       "height": null,
       "justify_content": null,
       "justify_items": null,
       "left": null,
       "margin": null,
       "max_height": null,
       "max_width": null,
       "min_height": null,
       "min_width": null,
       "object_fit": null,
       "object_position": null,
       "order": null,
       "overflow": null,
       "overflow_x": null,
       "overflow_y": null,
       "padding": null,
       "right": null,
       "top": null,
       "visibility": null,
       "width": null
      }
     },
     "40867e61a485480fb5b4a16b4243134c": {
      "model_module": "@jupyter-widgets/base",
      "model_module_version": "1.2.0",
      "model_name": "LayoutModel",
      "state": {
       "_model_module": "@jupyter-widgets/base",
       "_model_module_version": "1.2.0",
       "_model_name": "LayoutModel",
       "_view_count": null,
       "_view_module": "@jupyter-widgets/base",
       "_view_module_version": "1.2.0",
       "_view_name": "LayoutView",
       "align_content": null,
       "align_items": null,
       "align_self": null,
       "border": null,
       "bottom": null,
       "display": null,
       "flex": null,
       "flex_flow": null,
       "grid_area": null,
       "grid_auto_columns": null,
       "grid_auto_flow": null,
       "grid_auto_rows": null,
       "grid_column": null,
       "grid_gap": null,
       "grid_row": null,
       "grid_template_areas": null,
       "grid_template_columns": null,
       "grid_template_rows": null,
       "height": null,
       "justify_content": null,
       "justify_items": null,
       "left": null,
       "margin": null,
       "max_height": null,
       "max_width": null,
       "min_height": null,
       "min_width": null,
       "object_fit": null,
       "object_position": null,
       "order": null,
       "overflow": null,
       "overflow_x": null,
       "overflow_y": null,
       "padding": null,
       "right": null,
       "top": null,
       "visibility": null,
       "width": null
      }
     },
     "43b536f64eeb44ea9852a1082d513b27": {
      "model_module": "@jupyter-widgets/controls",
      "model_module_version": "1.5.0",
      "model_name": "SliderStyleModel",
      "state": {
       "_model_module": "@jupyter-widgets/controls",
       "_model_module_version": "1.5.0",
       "_model_name": "SliderStyleModel",
       "_view_count": null,
       "_view_module": "@jupyter-widgets/base",
       "_view_module_version": "1.2.0",
       "_view_name": "StyleView",
       "description_width": "",
       "handle_color": null
      }
     },
     "58b7d751d4e246c7b4f12e6ba105e2c7": {
      "model_module": "@jupyter-widgets/controls",
      "model_module_version": "1.5.0",
      "model_name": "SliderStyleModel",
      "state": {
       "_model_module": "@jupyter-widgets/controls",
       "_model_module_version": "1.5.0",
       "_model_name": "SliderStyleModel",
       "_view_count": null,
       "_view_module": "@jupyter-widgets/base",
       "_view_module_version": "1.2.0",
       "_view_name": "StyleView",
       "description_width": "",
       "handle_color": null
      }
     },
     "62de86f17e3842069bc5718b1f9c4177": {
      "model_module": "@jupyter-widgets/base",
      "model_module_version": "1.2.0",
      "model_name": "LayoutModel",
      "state": {
       "_model_module": "@jupyter-widgets/base",
       "_model_module_version": "1.2.0",
       "_model_name": "LayoutModel",
       "_view_count": null,
       "_view_module": "@jupyter-widgets/base",
       "_view_module_version": "1.2.0",
       "_view_name": "LayoutView",
       "align_content": null,
       "align_items": null,
       "align_self": null,
       "border": null,
       "bottom": null,
       "display": null,
       "flex": null,
       "flex_flow": null,
       "grid_area": null,
       "grid_auto_columns": null,
       "grid_auto_flow": null,
       "grid_auto_rows": null,
       "grid_column": null,
       "grid_gap": null,
       "grid_row": null,
       "grid_template_areas": null,
       "grid_template_columns": null,
       "grid_template_rows": null,
       "height": null,
       "justify_content": null,
       "justify_items": null,
       "left": null,
       "margin": null,
       "max_height": null,
       "max_width": null,
       "min_height": null,
       "min_width": null,
       "object_fit": null,
       "object_position": null,
       "order": null,
       "overflow": null,
       "overflow_x": null,
       "overflow_y": null,
       "padding": null,
       "right": null,
       "top": null,
       "visibility": null,
       "width": null
      }
     },
     "7c5a3fd593d346c0962099229e014963": {
      "model_module": "@jupyter-widgets/output",
      "model_module_version": "1.0.0",
      "model_name": "OutputModel",
      "state": {
       "_dom_classes": [],
       "_model_module": "@jupyter-widgets/output",
       "_model_module_version": "1.0.0",
       "_model_name": "OutputModel",
       "_view_count": null,
       "_view_module": "@jupyter-widgets/output",
       "_view_module_version": "1.0.0",
       "_view_name": "OutputView",
       "layout": "IPY_MODEL_267fcbdb3bd247e3ad1e0082c335cb77",
       "msg_id": "",
       "outputs": [
        {
         "data": {
          "image/png": "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",
          "text/plain": "<Figure size 600x400 with 1 Axes>"
         },
         "metadata": {},
         "output_type": "display_data"
        }
       ]
      }
     },
     "b74177b2795440e58b3c6cf4024207df": {
      "model_module": "@jupyter-widgets/base",
      "model_module_version": "1.2.0",
      "model_name": "LayoutModel",
      "state": {
       "_model_module": "@jupyter-widgets/base",
       "_model_module_version": "1.2.0",
       "_model_name": "LayoutModel",
       "_view_count": null,
       "_view_module": "@jupyter-widgets/base",
       "_view_module_version": "1.2.0",
       "_view_name": "LayoutView",
       "align_content": null,
       "align_items": null,
       "align_self": null,
       "border": null,
       "bottom": null,
       "display": null,
       "flex": null,
       "flex_flow": null,
       "grid_area": null,
       "grid_auto_columns": null,
       "grid_auto_flow": null,
       "grid_auto_rows": null,
       "grid_column": null,
       "grid_gap": null,
       "grid_row": null,
       "grid_template_areas": null,
       "grid_template_columns": null,
       "grid_template_rows": null,
       "height": null,
       "justify_content": null,
       "justify_items": null,
       "left": null,
       "margin": null,
       "max_height": null,
       "max_width": null,
       "min_height": null,
       "min_width": null,
       "object_fit": null,
       "object_position": null,
       "order": null,
       "overflow": null,
       "overflow_x": null,
       "overflow_y": null,
       "padding": null,
       "right": null,
       "top": null,
       "visibility": null,
       "width": null
      }
     },
     "d89a91041b264d308d993540bdb31d4b": {
      "model_module": "@jupyter-widgets/controls",
      "model_module_version": "1.5.0",
      "model_name": "IntSliderModel",
      "state": {
       "_dom_classes": [],
       "_model_module": "@jupyter-widgets/controls",
       "_model_module_version": "1.5.0",
       "_model_name": "IntSliderModel",
       "_view_count": null,
       "_view_module": "@jupyter-widgets/controls",
       "_view_module_version": "1.5.0",
       "_view_name": "IntSliderView",
       "continuous_update": true,
       "description": "sample_size",
       "description_tooltip": null,
       "disabled": false,
       "layout": "IPY_MODEL_62de86f17e3842069bc5718b1f9c4177",
       "max": 500,
       "min": 1,
       "orientation": "horizontal",
       "readout": true,
       "readout_format": "d",
       "step": 1,
       "style": "IPY_MODEL_58b7d751d4e246c7b4f12e6ba105e2c7",
       "value": 250
      }
     }
    },
    "version_major": 2,
    "version_minor": 0
   }
  }
 },
 "nbformat": 4,
 "nbformat_minor": 5
}
