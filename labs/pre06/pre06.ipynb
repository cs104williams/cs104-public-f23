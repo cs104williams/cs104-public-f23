{
 "cells": [
  {
   "cell_type": "code",
   "execution_count": null,
   "id": "5b517444",
   "metadata": {
    "deletable": false,
    "editable": false
   },
   "outputs": [],
   "source": [
    "# Initialize Otter\n",
    "import otter\n",
    "grader = otter.Notebook(\"pre06.ipynb\")"
   ]
  },
  {
   "cell_type": "markdown",
   "id": "b768f819",
   "metadata": {
    "deletable": false,
    "editable": false
   },
   "source": [
    "<table style=\"width: 100%;\">\n",
    "<tr style=\"background-color: transparent;\">\n",
    "<td width=\"100px\"><img src=\"https://cs104williams.github.io/assets/cs104-logo.png\" width=\"90px\" style=\"text-align: center\"/></td>\n",
    "<td>\n",
    "  <p style=\"margin-bottom: 0px; text-align: left; font-size: 18pt;\"><strong>CSCI 104: Data Science and Computing for All</strong><br>\n",
    "                Williams College<br>\n",
    "                Fall 2023</p>\n",
    "</td>\n",
    "</tr>\n"
   ]
  },
  {
   "cell_type": "markdown",
   "id": "7dbeba3b",
   "metadata": {
    "deletable": false,
    "editable": false,
    "tags": []
   },
   "source": [
    "# Prelab 6: Probability and Simulation"
   ]
  },
  {
   "cell_type": "markdown",
   "id": "66b6ad19",
   "metadata": {
    "deletable": false,
    "editable": false,
    "tags": []
   },
   "source": [
    "**Instructions**\n",
    "- Before you begin, execute the cell at the TOP of the notebook to load the provided tests, as well as the following cell to setup the notebook by importing some helpful libraries. Each time you start your server, you will need to execute these cells again.  \n",
    "- Be sure to consult your [Python Reference](https://cs104williams.github.io/assets/python-library-ref.html)!\n",
    "- Complete this notebook by filling in the cells provided. \n",
    "- Please be sure to not re-assign variables throughout the notebook.  For example, if you use `max_temperature` in your answer to one question, do not reassign it later on. Otherwise, you will fail tests that you thought you were passing previously.\n",
    "- There are no hidden tests in prelabs.\n",
    "\n",
    "<hr/>\n",
    "<h2>Setup</h2>\n"
   ]
  },
  {
   "cell_type": "code",
   "execution_count": null,
   "id": "080ae8a8",
   "metadata": {
    "deletable": false,
    "editable": false,
    "execution": {
     "iopub.execute_input": "2023-10-25T10:04:59.110022Z",
     "iopub.status.busy": "2023-10-25T10:04:59.109828Z",
     "iopub.status.idle": "2023-10-25T10:05:00.653314Z",
     "shell.execute_reply": "2023-10-25T10:05:00.652701Z"
    },
    "tags": []
   },
   "outputs": [],
   "source": [
    "# Run this cell to set up the notebook.\n",
    "# These lines import the numpy, datascience, and cs104 libraries.\n",
    "\n",
    "import numpy as np\n",
    "from datascience import *\n",
    "from cs104 import *\n",
    "%matplotlib inline"
   ]
  },
  {
   "cell_type": "markdown",
   "id": "4c7a1b39",
   "metadata": {
    "deletable": false,
    "editable": false
   },
   "source": [
    "<hr style=\"margin-bottom: 0px; padding:0; border: 2px solid #500082;\"/>\n"
   ]
  },
  {
   "cell_type": "markdown",
   "id": "ac52c0d3",
   "metadata": {
    "deletable": false,
    "editable": false,
    "tags": []
   },
   "source": [
    "## 1. Probability and Randomness (20 pts)\n",
    "\n"
   ]
  },
  {
   "cell_type": "markdown",
   "id": "e8373a2c",
   "metadata": {
    "deletable": false,
    "editable": false
   },
   "source": [
    "<font color='#B1008E'>\n",
    "    \n",
    "##### Learning objectives\n",
    "- Reason rigorously about probability of outcomes involving random chance.\n",
    "- Practice the addition and multiplication rules for probabilities.\n",
    "- Use a loop to simulate and save outcomes dictated random chance.\n",
    "</font>"
   ]
  },
  {
   "cell_type": "markdown",
   "id": "8ae02e34",
   "metadata": {
    "deletable": false,
    "editable": false
   },
   "source": [
    "You may wish to review [Section 9.5](https://inferentialthinking.com/chapters/09/5/Finding_Probabilities.html) to help gain intuition for probabilities. Good ways to approach probability calculations include:\n",
    "\n",
    "- Thinking one trial at a time: What does the first one have to be? Then what does the next one have to be?\n",
    "- Breaking up the event into distinct ways in which it can happen.\n",
    "- Seeing if it is easier to find the chance that the event does not happen."
   ]
  },
  {
   "cell_type": "markdown",
   "id": "e473ee50",
   "metadata": {
    "deletable": false,
    "editable": false
   },
   "source": [
    "**Running example:** An Olympic archer is able to hit the bull’s-eye 80% of the time. Assume each shot is independent of the\n",
    "others. If the archer shoots 6 arrows, what is the probability of each result described below."
   ]
  },
  {
   "cell_type": "markdown",
   "id": "00457b0e",
   "metadata": {
    "deletable": false,
    "editable": false,
    "tags": []
   },
   "source": [
    "#### Part 1.1 (5 pts)\n"
   ]
  },
  {
   "cell_type": "markdown",
   "id": "e460c287",
   "metadata": {
    "deletable": false,
    "editable": false,
    "tags": []
   },
   "source": [
    "The first bull’s-eye comes on the third arrow."
   ]
  },
  {
   "cell_type": "code",
   "execution_count": null,
   "id": "c1f22c73",
   "metadata": {
    "deletable": false,
    "execution": {
     "iopub.execute_input": "2023-10-25T10:05:00.658006Z",
     "iopub.status.busy": "2023-10-25T10:05:00.657424Z",
     "iopub.status.idle": "2023-10-25T10:05:00.663103Z",
     "shell.execute_reply": "2023-10-25T10:05:00.662585Z"
    },
    "tags": []
   },
   "outputs": [],
   "source": [
    "first_bullseye_on_third = ...\n",
    "first_bullseye_on_third"
   ]
  },
  {
   "cell_type": "code",
   "execution_count": null,
   "id": "84e780d6",
   "metadata": {
    "deletable": false,
    "editable": false
   },
   "outputs": [],
   "source": [
    "grader.check(\"p1.1\")"
   ]
  },
  {
   "cell_type": "markdown",
   "id": "05359fa9",
   "metadata": {
    "deletable": false,
    "editable": false,
    "tags": []
   },
   "source": [
    "#### Part 1.2 (5 pts)\n"
   ]
  },
  {
   "cell_type": "markdown",
   "id": "b451e066",
   "metadata": {
    "deletable": false,
    "editable": false,
    "tags": []
   },
   "source": [
    "The bull’s-eye is hit all six times."
   ]
  },
  {
   "cell_type": "code",
   "execution_count": null,
   "id": "14fb92fa",
   "metadata": {
    "deletable": false,
    "execution": {
     "iopub.execute_input": "2023-10-25T10:05:00.679387Z",
     "iopub.status.busy": "2023-10-25T10:05:00.679174Z",
     "iopub.status.idle": "2023-10-25T10:05:00.682597Z",
     "shell.execute_reply": "2023-10-25T10:05:00.682178Z"
    },
    "tags": []
   },
   "outputs": [],
   "source": [
    "bullseye_hit_all_six = ...\n",
    "bullseye_hit_all_six"
   ]
  },
  {
   "cell_type": "code",
   "execution_count": null,
   "id": "0cbdb956",
   "metadata": {
    "deletable": false,
    "editable": false
   },
   "outputs": [],
   "source": [
    "grader.check(\"p1.2\")"
   ]
  },
  {
   "cell_type": "markdown",
   "id": "8268233c",
   "metadata": {
    "deletable": false,
    "editable": false,
    "tags": []
   },
   "source": [
    "#### Part 1.3 (5 pts)\n"
   ]
  },
  {
   "cell_type": "markdown",
   "id": "c7a71c4a",
   "metadata": {
    "deletable": false,
    "editable": false,
    "tags": []
   },
   "source": [
    "The bull’s-eye is missed at least once.  (Think about how this relates to the previous part!)"
   ]
  },
  {
   "cell_type": "code",
   "execution_count": null,
   "id": "01b4af21",
   "metadata": {
    "deletable": false,
    "execution": {
     "iopub.execute_input": "2023-10-25T10:05:00.697191Z",
     "iopub.status.busy": "2023-10-25T10:05:00.696945Z",
     "iopub.status.idle": "2023-10-25T10:05:00.700842Z",
     "shell.execute_reply": "2023-10-25T10:05:00.700400Z"
    },
    "tags": []
   },
   "outputs": [],
   "source": [
    "bullseye_missed_atleast_once = ...\n",
    "bullseye_missed_atleast_once"
   ]
  },
  {
   "cell_type": "code",
   "execution_count": null,
   "id": "3e18c09e",
   "metadata": {
    "deletable": false,
    "editable": false
   },
   "outputs": [],
   "source": [
    "grader.check(\"p1.3\")"
   ]
  },
  {
   "cell_type": "markdown",
   "id": "576e0a35",
   "metadata": {
    "deletable": false,
    "editable": false,
    "tags": []
   },
   "source": [
    "#### Part 1.4 (5 pts)\n"
   ]
  },
  {
   "cell_type": "markdown",
   "id": "de3279d4",
   "metadata": {
    "deletable": false,
    "editable": false,
    "tags": []
   },
   "source": [
    "Use the [simulate](http://cs.williams.edu/~cs104/auto/inference-library-ref.html#simulate) function in our inference library to create an empirical distribution of the number of bulls eyes hit when our archer shoots 6 arrows.  We provide a function to make one outcome.  You should use 10,000 trials."
   ]
  },
  {
   "cell_type": "code",
   "execution_count": null,
   "id": "5af490f0",
   "metadata": {
    "deletable": false,
    "execution": {
     "iopub.execute_input": "2023-10-25T10:05:00.715979Z",
     "iopub.status.busy": "2023-10-25T10:05:00.715777Z",
     "iopub.status.idle": "2023-10-25T10:05:01.130755Z",
     "shell.execute_reply": "2023-10-25T10:05:01.130209Z"
    },
    "tags": []
   },
   "outputs": [],
   "source": [
    "def hits_in_6():\n",
    "    \"\"\"\n",
    "    Return the number of bullseye's hit in a random sample of 6 shots.\n",
    "    \"\"\"\n",
    "    hit_miss_proportions = make_array(0.8, 0.2)\n",
    "    return 6 * sample_proportions(6, hit_miss_proportions).item(0)\n",
    "\n",
    "hits = ...\n",
    "\n",
    "Table().with_columns('Hits', hits).hist(bins = np.arange(0.5, 7.5, 1))"
   ]
  },
  {
   "cell_type": "code",
   "execution_count": null,
   "id": "e6f6c460",
   "metadata": {
    "deletable": false,
    "editable": false
   },
   "outputs": [],
   "source": [
    "grader.check(\"p1.4\")"
   ]
  },
  {
   "cell_type": "markdown",
   "id": "dbff22b2",
   "metadata": {
    "deletable": false,
    "editable": false
   },
   "source": [
    "Here is the histogram again, with a line marking the percentage of samples with 6 hits predicted by your `bullseye_hit_all_six` probability.  Does your histogram agree with that value?"
   ]
  },
  {
   "cell_type": "code",
   "execution_count": null,
   "id": "68026fbe",
   "metadata": {
    "deletable": false,
    "editable": false,
    "execution": {
     "iopub.execute_input": "2023-10-25T10:05:01.153204Z",
     "iopub.status.busy": "2023-10-25T10:05:01.152967Z",
     "iopub.status.idle": "2023-10-25T10:05:01.453825Z",
     "shell.execute_reply": "2023-10-25T10:05:01.453158Z"
    },
    "tags": []
   },
   "outputs": [],
   "source": [
    "plot = Table().with_columns('Hits', hits).hist(bins = np.arange(0.5, 7.5, 1))\n",
    "plot.line(y = bullseye_hit_all_six, color='yellow', linestyle='--')"
   ]
  },
  {
   "cell_type": "markdown",
   "id": "0e5b8f0f",
   "metadata": {
    "deletable": false,
    "editable": false
   },
   "source": [
    "<hr style=\"margin-bottom: 0px; padding:0; border: 2px solid #500082;\"/>\n"
   ]
  },
  {
   "cell_type": "markdown",
   "id": "aa8d3421",
   "metadata": {
    "deletable": false,
    "editable": false
   },
   "source": [
    "## 2. Scrabble Tiles (35 pts)\n",
    "\n"
   ]
  },
  {
   "cell_type": "markdown",
   "id": "0130b401",
   "metadata": {
    "deletable": false,
    "editable": false
   },
   "source": [
    "<font color='#B1008E'>\n",
    "    \n",
    "##### Learning objectives\n",
    "- Write functions that compute probabilities for outcomes dictated by random chance.\n",
    "- Compute the empirical distribution of a test static for a model.\n",
    "</font>\n",
    "\n",
    "In this question, we'll simulate properties of a sample of tiles from [Scrabble](https://en.wikipedia.org/wiki/Scrabble).  In this game, players randonly draw tiles that show both a letter and a point value, and then attempt to create inter-connected words as you might find in a crossword puzzle.  \n",
    "\n",
    "The next two cells create a table containing the letter and point value for every tile in Scrabble and an array of vowels."
   ]
  },
  {
   "cell_type": "code",
   "execution_count": null,
   "id": "426bae78",
   "metadata": {
    "deletable": false,
    "editable": false,
    "execution": {
     "iopub.execute_input": "2023-10-25T10:05:01.457325Z",
     "iopub.status.busy": "2023-10-25T10:05:01.457050Z",
     "iopub.status.idle": "2023-10-25T10:05:01.464445Z",
     "shell.execute_reply": "2023-10-25T10:05:01.463864Z"
    },
    "tags": []
   },
   "outputs": [],
   "source": [
    "scrabble_tiles = Table().read_table(\"tiles.csv\")\n",
    "scrabble_tiles.sample(10)"
   ]
  },
  {
   "cell_type": "code",
   "execution_count": null,
   "id": "ce95797f",
   "metadata": {
    "deletable": false,
    "editable": false,
    "execution": {
     "iopub.execute_input": "2023-10-25T10:05:01.467118Z",
     "iopub.status.busy": "2023-10-25T10:05:01.466894Z",
     "iopub.status.idle": "2023-10-25T10:05:01.469522Z",
     "shell.execute_reply": "2023-10-25T10:05:01.469074Z"
    },
    "tags": []
   },
   "outputs": [],
   "source": [
    "vowels_array = make_array(\"A\", \"E\", \"I\", \"O\", \"U\") #we won't count Y as a vowel for the purposes of this prelab"
   ]
  },
  {
   "cell_type": "markdown",
   "id": "96050a6f",
   "metadata": {
    "deletable": false,
    "editable": false
   },
   "source": [
    "#### Part 2.1 (5 pts)\n"
   ]
  },
  {
   "cell_type": "markdown",
   "id": "4659983d",
   "metadata": {
    "deletable": false,
    "editable": false
   },
   "source": [
    "Write a function to compute the **exact** probability of randomly drawing a particular letter from the full collection of tiles."
   ]
  },
  {
   "cell_type": "code",
   "execution_count": null,
   "id": "4881e6f1",
   "metadata": {
    "deletable": false,
    "execution": {
     "iopub.execute_input": "2023-10-25T10:05:01.472256Z",
     "iopub.status.busy": "2023-10-25T10:05:01.472038Z",
     "iopub.status.idle": "2023-10-25T10:05:01.475096Z",
     "shell.execute_reply": "2023-10-25T10:05:01.474539Z"
    },
    "tags": []
   },
   "outputs": [],
   "source": [
    "def probability_of_drawing_letter(letter):\n",
    "    ..."
   ]
  },
  {
   "cell_type": "code",
   "execution_count": null,
   "id": "fefcdeb9",
   "metadata": {
    "deletable": false,
    "execution": {
     "iopub.execute_input": "2023-10-25T10:05:01.477633Z",
     "iopub.status.busy": "2023-10-25T10:05:01.477422Z",
     "iopub.status.idle": "2023-10-25T10:05:01.480922Z",
     "shell.execute_reply": "2023-10-25T10:05:01.480475Z"
    },
    "tags": []
   },
   "outputs": [],
   "source": [
    "# Example call of the function \n",
    "probability_of_drawing_letter(\"A\")"
   ]
  },
  {
   "cell_type": "code",
   "execution_count": null,
   "id": "8bc09171",
   "metadata": {
    "deletable": false,
    "editable": false
   },
   "outputs": [],
   "source": [
    "grader.check(\"p2.1\")"
   ]
  },
  {
   "cell_type": "markdown",
   "id": "3ccfeac6",
   "metadata": {
    "deletable": false,
    "editable": false
   },
   "source": [
    "#### Part 2.2 (5 pts)\n"
   ]
  },
  {
   "cell_type": "markdown",
   "id": "6e9e4564",
   "metadata": {
    "deletable": false,
    "editable": false
   },
   "source": [
    "Set `probability_of_drawing_vowel` to the probability that a tile drawn from the full set of tiles is a vowel. \n",
    "\n",
    "*Hints:* \n",
    "- We gave you the `vowels_array` at the beginning of this question. "
   ]
  },
  {
   "cell_type": "code",
   "execution_count": null,
   "id": "7a611c59",
   "metadata": {
    "deletable": false,
    "execution": {
     "iopub.execute_input": "2023-10-25T10:05:01.499912Z",
     "iopub.status.busy": "2023-10-25T10:05:01.499725Z",
     "iopub.status.idle": "2023-10-25T10:05:01.504853Z",
     "shell.execute_reply": "2023-10-25T10:05:01.504401Z"
    },
    "tags": []
   },
   "outputs": [],
   "source": [
    "# You may use more than one line if you like.\n",
    "probability_of_drawing_vowel = ...\n",
    "probability_of_drawing_vowel"
   ]
  },
  {
   "cell_type": "code",
   "execution_count": null,
   "id": "389c9b7e",
   "metadata": {
    "deletable": false,
    "editable": false
   },
   "outputs": [],
   "source": [
    "grader.check(\"p2.2\")"
   ]
  },
  {
   "cell_type": "markdown",
   "id": "42431a2e",
   "metadata": {
    "deletable": false,
    "editable": false
   },
   "source": [
    "#### Part 2.3 (5 pts)\n"
   ]
  },
  {
   "cell_type": "markdown",
   "id": "b57bf197",
   "metadata": {
    "deletable": false,
    "editable": false
   },
   "source": [
    "Write a function to compute the probability of drawing all vowels when you draw `n` tiles.\n",
    "\n",
    "*Hint:* The probability you just computed may be helpful here. "
   ]
  },
  {
   "cell_type": "code",
   "execution_count": null,
   "id": "8edc45ce",
   "metadata": {
    "deletable": false,
    "execution": {
     "iopub.execute_input": "2023-10-25T10:05:01.518932Z",
     "iopub.status.busy": "2023-10-25T10:05:01.518738Z",
     "iopub.status.idle": "2023-10-25T10:05:01.522405Z",
     "shell.execute_reply": "2023-10-25T10:05:01.521949Z"
    },
    "tags": []
   },
   "outputs": [],
   "source": [
    "def probability_of_drawing_all_vowels(n):\n",
    "    ...\n",
    "\n",
    "# Example call: drawing 5 tiles \n",
    "probability_of_drawing_all_vowels(5)"
   ]
  },
  {
   "cell_type": "code",
   "execution_count": null,
   "id": "18a3c1e3",
   "metadata": {
    "deletable": false,
    "editable": false
   },
   "outputs": [],
   "source": [
    "grader.check(\"p2.3\")"
   ]
  },
  {
   "cell_type": "markdown",
   "id": "a95f914a",
   "metadata": {
    "deletable": false,
    "editable": false
   },
   "source": [
    "The following plots the probability of drawing all vowels as you increase `n`.  You may run it once you complete the above cell."
   ]
  },
  {
   "cell_type": "code",
   "execution_count": null,
   "id": "36e7eff1",
   "metadata": {
    "deletable": false,
    "editable": false,
    "execution": {
     "iopub.execute_input": "2023-10-25T10:05:01.541079Z",
     "iopub.status.busy": "2023-10-25T10:05:01.540872Z",
     "iopub.status.idle": "2023-10-25T10:05:01.782541Z",
     "shell.execute_reply": "2023-10-25T10:05:01.782020Z"
    },
    "tags": []
   },
   "outputs": [],
   "source": [
    "probabilities_of_all_vowels = Table([\"Num Tiles\", \"Probability of All Vowels\"])\n",
    "for i in np.arange(0,16):\n",
    "    probabilities_of_all_vowels.append([i, probability_of_drawing_all_vowels(i)])\n",
    "probabilities_of_all_vowels.scatter(\"Num Tiles\")"
   ]
  },
  {
   "cell_type": "markdown",
   "id": "99555d3e",
   "metadata": {
    "deletable": false,
    "editable": false,
    "tags": []
   },
   "source": [
    "#### Part 2.4 (5 pts)\n"
   ]
  },
  {
   "cell_type": "markdown",
   "id": "4bd222e0",
   "metadata": {
    "deletable": false,
    "editable": false
   },
   "source": [
    "For the last parts of this question, we will compute an empirical distribution for the proportion of letter E's in samples of `n` tiles drawn randomly from the full set of tiles.  As a first step, we'll need to be able to draw `n` random tiles from `scrabble_tile`.  We'll use [table.sample](https://www.cs.williams.edu/~cs104/auto/python-library-ref.html#sample).  Notice that we don't sample with replacement, since once we select a tile once, we don't want to select the same tile again.  Run the following cell a few times to verify our sample works as expected."
   ]
  },
  {
   "cell_type": "code",
   "execution_count": null,
   "id": "5cf744dc",
   "metadata": {
    "deletable": false,
    "editable": false,
    "execution": {
     "iopub.execute_input": "2023-10-25T10:05:01.785540Z",
     "iopub.status.busy": "2023-10-25T10:05:01.785322Z",
     "iopub.status.idle": "2023-10-25T10:05:01.790473Z",
     "shell.execute_reply": "2023-10-25T10:05:01.789487Z"
    },
    "tags": []
   },
   "outputs": [],
   "source": [
    "scrabble_tiles.sample(5, with_replacement=False)"
   ]
  },
  {
   "cell_type": "markdown",
   "id": "23a24926",
   "metadata": {
    "deletable": false,
    "editable": false
   },
   "source": [
    "Complete the following function, `sample_letters`. This function creates a random tile sample of size `sample_size` and returns the letters from that sample as an array."
   ]
  },
  {
   "cell_type": "code",
   "execution_count": null,
   "id": "06dfc7dd",
   "metadata": {
    "deletable": false,
    "execution": {
     "iopub.execute_input": "2023-10-25T10:05:01.793348Z",
     "iopub.status.busy": "2023-10-25T10:05:01.793142Z",
     "iopub.status.idle": "2023-10-25T10:05:01.796167Z",
     "shell.execute_reply": "2023-10-25T10:05:01.795572Z"
    },
    "tags": []
   },
   "outputs": [],
   "source": [
    "def sample_letters(sample_size):\n",
    "    ..."
   ]
  },
  {
   "cell_type": "code",
   "execution_count": null,
   "id": "3aeb9f43",
   "metadata": {
    "deletable": false,
    "editable": false
   },
   "outputs": [],
   "source": [
    "grader.check(\"p2.4\")"
   ]
  },
  {
   "cell_type": "markdown",
   "id": "4ef590fb",
   "metadata": {
    "deletable": false,
    "editable": false,
    "tags": []
   },
   "source": [
    "#### Part 2.5 (5 pts)\n"
   ]
  },
  {
   "cell_type": "markdown",
   "id": "2b99aac6",
   "metadata": {
    "deletable": false,
    "editable": false
   },
   "source": [
    "Now, complete the following function `proportion_e`. This function takes `sample`, an array of letters, as input\n",
    "and returns the proportion of E's in that sample."
   ]
  },
  {
   "cell_type": "code",
   "execution_count": null,
   "id": "e0cd5406",
   "metadata": {
    "deletable": false,
    "execution": {
     "iopub.execute_input": "2023-10-25T10:05:01.820573Z",
     "iopub.status.busy": "2023-10-25T10:05:01.820387Z",
     "iopub.status.idle": "2023-10-25T10:05:01.823280Z",
     "shell.execute_reply": "2023-10-25T10:05:01.822745Z"
    },
    "tags": []
   },
   "outputs": [],
   "source": [
    "def proportion_e(sample):\n",
    "    ..."
   ]
  },
  {
   "cell_type": "code",
   "execution_count": null,
   "id": "cc084b7c",
   "metadata": {
    "deletable": false,
    "editable": false
   },
   "outputs": [],
   "source": [
    "grader.check(\"p2.5\")"
   ]
  },
  {
   "cell_type": "markdown",
   "id": "bd5d9047",
   "metadata": {
    "deletable": false,
    "editable": false
   },
   "source": [
    "#### Part 2.6 (5 pts)\n"
   ]
  },
  {
   "cell_type": "markdown",
   "id": "5f356c63",
   "metadata": {
    "deletable": false,
    "editable": false
   },
   "source": [
    "Let's create an empirical distribution for the proportion of E's in `num_trials` samples, each of size `sample_size`.  \n",
    "\n",
    "*Hint:*\n",
    "This function can be written in one line using `simulate_sample_statistic` and the functions you created above."
   ]
  },
  {
   "cell_type": "code",
   "execution_count": null,
   "id": "c7aea759",
   "metadata": {
    "deletable": false,
    "execution": {
     "iopub.execute_input": "2023-10-25T10:05:01.843161Z",
     "iopub.status.busy": "2023-10-25T10:05:01.842948Z",
     "iopub.status.idle": "2023-10-25T10:05:01.847555Z",
     "shell.execute_reply": "2023-10-25T10:05:01.847117Z"
    },
    "tags": []
   },
   "outputs": [],
   "source": [
    "def empirical_distribution_for_proprtion_e(sample_size, num_trials):\n",
    "    ...\n",
    "\n",
    "empirical_distribution_for_proprtion_e(15, 5)"
   ]
  },
  {
   "cell_type": "markdown",
   "id": "f7799d35",
   "metadata": {
    "deletable": false,
    "editable": false
   },
   "source": [
    "Here is one example use of the `empirical_distribution_for_proprtion_e` function you just wrote that uses our plotting code to draw the histogram of the computed distribution.  \n",
    "\n",
    "You do not need to change anything in the cells below. Use it to help debug your `empirical_distribution_for_proprtion_e` function. "
   ]
  },
  {
   "cell_type": "code",
   "execution_count": null,
   "id": "cc4b6d03",
   "metadata": {
    "deletable": false,
    "editable": false,
    "execution": {
     "iopub.execute_input": "2023-10-25T10:05:02.681892Z",
     "iopub.status.busy": "2023-10-25T10:05:02.681658Z",
     "iopub.status.idle": "2023-10-25T10:05:03.768958Z",
     "shell.execute_reply": "2023-10-25T10:05:03.768454Z"
    },
    "tags": []
   },
   "outputs": [],
   "source": [
    "def plot_empirical_distribution_for_proportion_e(sample_size, num_trials):\n",
    "    statistics = empirical_distribution_for_proprtion_e(sample_size, num_trials)\n",
    "    \n",
    "    # Create a histogram of our sample statistic.\n",
    "    Table().with_column(\"Proportion of E's\", statistics).hist(bins=np.arange(0,1.01,1/sample_size))\n",
    "    \n",
    "plot_empirical_distribution_for_proportion_e(15, 10000)"
   ]
  },
  {
   "cell_type": "code",
   "execution_count": null,
   "id": "ef8f077d",
   "metadata": {
    "deletable": false,
    "editable": false
   },
   "outputs": [],
   "source": [
    "grader.check(\"p2.6\")"
   ]
  },
  {
   "cell_type": "markdown",
   "id": "aa36363f",
   "metadata": {
    "deletable": false,
    "editable": false
   },
   "source": [
    "Once your function is complete, you can run the following cell, which creates an interactive visualization where you can view the distributions for different choices sample size and number of trials."
   ]
  },
  {
   "cell_type": "code",
   "execution_count": null,
   "id": "5a23405b",
   "metadata": {
    "deletable": false,
    "editable": false,
    "execution": {
     "iopub.execute_input": "2023-10-25T10:05:03.771857Z",
     "iopub.status.busy": "2023-10-25T10:05:03.771637Z",
     "iopub.status.idle": "2023-10-25T10:05:03.986161Z",
     "shell.execute_reply": "2023-10-25T10:05:03.985632Z"
    },
    "tags": []
   },
   "outputs": [],
   "source": [
    "all_letters = np.unique(scrabble_tiles.sort(\"Letter\").column(\"Letter\"))\n",
    "interact(plot_empirical_distribution_for_proportion_e, sample_size = Slider(1,50,1), \n",
    "        num_trials=Choice(make_array(10,20,50,100,1000,10000)))"
   ]
  },
  {
   "cell_type": "markdown",
   "id": "df8a7270",
   "metadata": {
    "deletable": false,
    "editable": false
   },
   "source": [
    "#### Part 2.7 (5 pts)\n"
   ]
  },
  {
   "cell_type": "markdown",
   "id": "d53054a5",
   "metadata": {
    "deletable": false,
    "editable": false
   },
   "source": [
    "Supposed you don't know how many of each letter are in your collection of 98 tiles.  We can use the empirical distribution of the number of E's found in randomly selected samples of size 15 to estimate the number of E's in the collection.\n",
    "\n",
    "We start by gathering our sample statistic (proportion of sample that is E) for 10000 samples:"
   ]
  },
  {
   "cell_type": "code",
   "execution_count": null,
   "id": "25288234",
   "metadata": {
    "deletable": false,
    "editable": false,
    "execution": {
     "iopub.execute_input": "2023-10-25T10:05:03.989885Z",
     "iopub.status.busy": "2023-10-25T10:05:03.989673Z",
     "iopub.status.idle": "2023-10-25T10:05:05.015580Z",
     "shell.execute_reply": "2023-10-25T10:05:05.015055Z"
    },
    "tags": []
   },
   "outputs": [],
   "source": [
    "# No work necessary here. Just run this cell.\n",
    "sample_size = 15\n",
    "sample_statistics = empirical_distribution_for_proprtion_e(sample_size, 10000)\n",
    "Table().with_column(\"Proportion of E's in samples of size 15\", sample_statistics).hist(bins=np.arange(0,1,1/15))"
   ]
  },
  {
   "cell_type": "markdown",
   "id": "fabff5c6",
   "metadata": {
    "deletable": false,
    "editable": false
   },
   "source": [
    "If our samples are truly random, the average proportion of E's in our samples will approximate the proportion of E's in the population.  Here is that average proportion in our **samples**."
   ]
  },
  {
   "cell_type": "code",
   "execution_count": null,
   "id": "5b15c14b",
   "metadata": {
    "deletable": false,
    "editable": false,
    "execution": {
     "iopub.execute_input": "2023-10-25T10:05:05.018586Z",
     "iopub.status.busy": "2023-10-25T10:05:05.018358Z",
     "iopub.status.idle": "2023-10-25T10:05:05.022402Z",
     "shell.execute_reply": "2023-10-25T10:05:05.021756Z"
    },
    "tags": []
   },
   "outputs": [],
   "source": [
    "np.mean(sample_statistics)"
   ]
  },
  {
   "cell_type": "markdown",
   "id": "871299a0",
   "metadata": {
    "deletable": false,
    "editable": false
   },
   "source": [
    "Use this observation to estimate the number of E's in our collection, namely the whole **population** of 98 tiles.  Make sure your answer should be a whole number since we can't have fractional tiles."
   ]
  },
  {
   "cell_type": "code",
   "execution_count": null,
   "id": "224b2286",
   "metadata": {
    "deletable": false,
    "execution": {
     "iopub.execute_input": "2023-10-25T10:05:05.025423Z",
     "iopub.status.busy": "2023-10-25T10:05:05.025208Z",
     "iopub.status.idle": "2023-10-25T10:05:05.425509Z",
     "shell.execute_reply": "2023-10-25T10:05:05.424891Z"
    },
    "tags": []
   },
   "outputs": [],
   "source": [
    "estimate_of_es = ...\n",
    "estimate_of_es"
   ]
  },
  {
   "cell_type": "code",
   "execution_count": null,
   "id": "9df16e55",
   "metadata": {
    "deletable": false,
    "editable": false
   },
   "outputs": [],
   "source": [
    "grader.check(\"p2.7\")"
   ]
  },
  {
   "cell_type": "markdown",
   "id": "3136fa98",
   "metadata": {
    "deletable": false,
    "editable": false
   },
   "source": [
    "<hr class=\"m-0\" style=\"border: 3px solid #500082;\"/>\n",
    "\n",
    "# You're Done!\n",
    "Follow these steps to submit your work:\n",
    "* Run the tests and verify that they pass as you expect. \n",
    "* Choose **Save Notebook** from the **File** menu.\n",
    "* **Run the final cell** and click the link below to download the zip file. \n",
    "\n",
    "Once you have downloaded that file, go to [Gradescope](https://www.gradescope.com/) and submit the zip file to \n",
    "the corresponding assignment. For Prelab N, the assignment will be called \"Prelab N Autograder\".\n",
    "\n",
    "Once you have submitted, your Gradescope assignment should show you passing all the tests you passed in your assignment notebook.\n"
   ]
  },
  {
   "cell_type": "markdown",
   "id": "4161fbcb",
   "metadata": {
    "deletable": false,
    "editable": false
   },
   "source": [
    "## Submission\n",
    "\n",
    "Make sure you have run all cells in your notebook in order before running the cell below, so that all images/graphs appear in the output. The cell below will generate a zip file for you to submit. **Please save before exporting!**"
   ]
  },
  {
   "cell_type": "code",
   "execution_count": null,
   "id": "d1bfb1b0",
   "metadata": {
    "deletable": false,
    "editable": false
   },
   "outputs": [],
   "source": [
    "# Save your notebook first, then run this cell to export your submission.\n",
    "grader.export(pdf=False, run_tests=True)"
   ]
  },
  {
   "cell_type": "markdown",
   "id": "845a685a",
   "metadata": {},
   "source": [
    " "
   ]
  }
 ],
 "metadata": {
  "celltoolbar": "Edit Metadata",
  "kernelspec": {
   "display_name": "Python 3 (ipykernel)",
   "language": "python",
   "name": "python3"
  },
  "language_info": {
   "codemirror_mode": {
    "name": "ipython",
    "version": 3
   },
   "file_extension": ".py",
   "mimetype": "text/x-python",
   "name": "python",
   "nbconvert_exporter": "python",
   "pygments_lexer": "ipython3",
   "version": "3.9.13"
  },
  "otter": {
   "OK_FORMAT": true,
   "tests": {
    "p1.1": {
     "has_hidden": false,
     "name": "p1.1",
     "points": 5,
     "suites": [
      {
       "cases": [
        {
         "code": ">>> check_str('0 <= first_bullseye_on_third <= 1', locals())\n",
         "failure_message": "probabilities must be in the range [0,1]",
         "hidden": false,
         "locked": false,
         "submit_only": false,
         "success_message": "check(0 <= first_bullseye_on_third <= 1)"
        },
        {
         "code": ">>> check_str('first_bullseye_on_third == approx(0.032)', locals())\n",
         "failure_message": "incorrect final probability",
         "hidden": false,
         "locked": false,
         "submit_only": false,
         "success_message": "check(first_bullseye_on_third == approx(0.032))"
        }
       ],
       "scored": true,
       "setup": "",
       "teardown": "",
       "type": "doctest"
      }
     ]
    },
    "p1.2": {
     "has_hidden": false,
     "name": "p1.2",
     "points": 5,
     "suites": [
      {
       "cases": [
        {
         "code": ">>> check_str('0 <= bullseye_hit_all_six <= 1', locals())\n",
         "failure_message": "probabilities must be in the range [0,1]",
         "hidden": false,
         "locked": false,
         "submit_only": false,
         "success_message": "check(0 <= bullseye_hit_all_six <= 1)"
        },
        {
         "code": ">>> check_str('bullseye_hit_all_six == approx(0.26214)', locals())\n",
         "failure_message": "incorrect final probability",
         "hidden": false,
         "locked": false,
         "submit_only": false,
         "success_message": "check(bullseye_hit_all_six == approx(0.26214))"
        }
       ],
       "scored": true,
       "setup": "",
       "teardown": "",
       "type": "doctest"
      }
     ]
    },
    "p1.3": {
     "has_hidden": false,
     "name": "p1.3",
     "points": 5,
     "suites": [
      {
       "cases": [
        {
         "code": ">>> check_str('0 <= bullseye_missed_atleast_once <= 1', locals())\n",
         "failure_message": "probabilities must be in the range [0,1]",
         "hidden": false,
         "locked": false,
         "submit_only": false,
         "success_message": "check(0 <= bullseye_missed_atleast_once <= 1)"
        },
        {
         "code": ">>> check_str('bullseye_missed_atleast_once == approx(0.73786)', locals())\n",
         "failure_message": "incorrect final probability",
         "hidden": false,
         "locked": false,
         "submit_only": false,
         "success_message": "check(bullseye_missed_atleast_once == approx(0.73786))"
        }
       ],
       "scored": true,
       "setup": "",
       "teardown": "",
       "type": "doctest"
      }
     ]
    },
    "p1.4": {
     "has_hidden": false,
     "name": "p1.4",
     "points": 5,
     "suites": [
      {
       "cases": [
        {
         "code": ">>> check_str('len(hits) == 10000', locals())\n",
         "failure_message": "be sure to use 10,000 trials.",
         "hidden": false,
         "locked": false,
         "submit_only": false,
         "success_message": "check(len(hits) == 10000)"
        },
        {
         "code": ">>> check_str('0 <= hits <= 6', locals())\n",
         "failure_message": "hits should only contain values between 0 and 6.",
         "hidden": false,
         "locked": false,
         "submit_only": false,
         "success_message": "check(0 <= hits <= 6)"
        },
        {
         "code": ">>> check_str('0.25 <= np.mean(hits == 6) <= .30', locals())\n",
         "failure_message": "emprical estimate does not match true probability for 6 hits.",
         "hidden": false,
         "locked": false,
         "submit_only": false,
         "success_message": "check(0.25 <= np.mean(hits == 6) <= .30)"
        }
       ],
       "scored": true,
       "setup": "",
       "teardown": "",
       "type": "doctest"
      }
     ]
    },
    "p2.1": {
     "has_hidden": false,
     "name": "p2.1",
     "points": 5,
     "suites": [
      {
       "cases": [
        {
         "code": ">>> check_str('0 <= probability_of_drawing_letter(\\'Q\\') <= 1', locals())\n",
         "failure_message": "Probabilities must be in the range [0,1]",
         "hidden": false,
         "locked": false,
         "submit_only": false,
         "success_message": "check(0 <= probability_of_drawing_letter('Q') <= 1)"
        },
        {
         "code": ">>> check_str('probability_of_drawing_letter(\\'Q\\') == approx(1/98)', locals())\n",
         "failure_message": "check(probability_of_drawing_letter('Q') == approx(1/98))",
         "hidden": false,
         "locked": false,
         "submit_only": false,
         "success_message": "check(probability_of_drawing_letter('Q') == approx(1/98))"
        },
        {
         "code": ">>> check_str('probability_of_drawing_letter(\\'A\\') == approx(9/98)', locals())\n",
         "failure_message": "check(probability_of_drawing_letter('A') == approx(9/98))",
         "hidden": false,
         "locked": false,
         "submit_only": false,
         "success_message": "check(probability_of_drawing_letter('A') == approx(9/98))"
        }
       ],
       "scored": true,
       "setup": "",
       "teardown": "",
       "type": "doctest"
      }
     ]
    },
    "p2.2": {
     "has_hidden": false,
     "name": "p2.2",
     "points": 5,
     "suites": [
      {
       "cases": [
        {
         "code": ">>> check_str('0 <= probability_of_drawing_vowel <= 1', locals())\n",
         "failure_message": "Probabilities must be in the range [0,1]",
         "hidden": false,
         "locked": false,
         "submit_only": false,
         "success_message": "check(0 <= probability_of_drawing_vowel <= 1)"
        },
        {
         "code": ">>> check_str('probability_of_drawing_vowel == approx(0.42857)', locals())\n",
         "failure_message": "check(probability_of_drawing_vowel == approx(0.42857))",
         "hidden": false,
         "locked": false,
         "submit_only": false,
         "success_message": "check(probability_of_drawing_vowel == approx(0.42857))"
        }
       ],
       "scored": true,
       "setup": "",
       "teardown": "",
       "type": "doctest"
      }
     ]
    },
    "p2.3": {
     "has_hidden": false,
     "name": "p2.3",
     "points": 5,
     "suites": [
      {
       "cases": [
        {
         "code": ">>> check_str('0 <= probability_of_drawing_all_vowels(3) <= 1', locals())\n",
         "failure_message": "Probabilities must be in the range [0,1]",
         "hidden": false,
         "locked": false,
         "submit_only": false,
         "success_message": "check(0 <= probability_of_drawing_all_vowels(3) <= 1)"
        },
        {
         "code": ">>> check_str('probability_of_drawing_all_vowels(5) == approx(0.01446)', locals())\n",
         "failure_message": "check(probability_of_drawing_all_vowels(5) == approx(0.01446))",
         "hidden": false,
         "locked": false,
         "submit_only": false,
         "success_message": "check(probability_of_drawing_all_vowels(5) == approx(0.01446))"
        },
        {
         "code": ">>> check_str('probability_of_drawing_all_vowels(10) == approx(0.00021)', locals())\n",
         "failure_message": "check(probability_of_drawing_all_vowels(10) == approx(0.00021))",
         "hidden": false,
         "locked": false,
         "submit_only": false,
         "success_message": "check(probability_of_drawing_all_vowels(10) == approx(0.00021))"
        }
       ],
       "scored": true,
       "setup": "",
       "teardown": "",
       "type": "doctest"
      }
     ]
    },
    "p2.4": {
     "has_hidden": false,
     "name": "p2.4",
     "points": 5,
     "suites": [
      {
       "cases": [
        {
         "code": ">>> check_str('type(sample_letters(5)) == np.ndarray', locals())\n",
         "failure_message": "check(type(sample_letters(5)) == np.ndarray)",
         "hidden": false,
         "locked": false,
         "submit_only": false,
         "success_message": "check(type(sample_letters(5)) == np.ndarray)"
        },
        {
         "code": ">>> check_str('len(sample_letters(5)) == 5', locals())\n",
         "failure_message": "check(len(sample_letters(5)) == 5)",
         "hidden": false,
         "locked": false,
         "submit_only": false,
         "success_message": "check(len(sample_letters(5)) == 5)"
        },
        {
         "code": ">>> check_str('len(sample_letters(0)) == 0', locals())\n",
         "failure_message": "check(len(sample_letters(0)) == 0)",
         "hidden": false,
         "locked": false,
         "submit_only": false,
         "success_message": "check(len(sample_letters(0)) == 0)"
        },
        {
         "code": ">>> check_str('np.sort(sample_letters(98)) == scrabble_tiles.column(\"Letter\")', locals())\n",
         "failure_message": "check(np.sort(sample_letters(98)) == scrabble_tiles.column(\"Letter\"))",
         "hidden": false,
         "locked": false,
         "submit_only": false,
         "success_message": "check(np.sort(sample_letters(98)) == scrabble_tiles.column(\"Letter\"))"
        }
       ],
       "scored": true,
       "setup": "",
       "teardown": "",
       "type": "doctest"
      }
     ]
    },
    "p2.5": {
     "has_hidden": false,
     "name": "p2.5",
     "points": 5,
     "suites": [
      {
       "cases": [
        {
         "code": ">>> check_str('proportion_e(make_array(\"A\", \"E\", \"A\", \"E\", \"E\")) == approx(0.6)', locals())\n",
         "failure_message": "check(proportion_e(make_array(\"A\", \"E\", \"A\", \"E\", \"E\")) == approx(0.6))",
         "hidden": false,
         "locked": false,
         "submit_only": false,
         "success_message": "check(proportion_e(make_array(\"A\", \"E\", \"A\", \"E\", \"E\")) == approx(0.6))"
        },
        {
         "code": ">>> check_str('proportion_e(make_array(\"A\", \"B\", \"E\", \"E\", \"A\")) == approx(0.4)', locals())\n",
         "failure_message": "check(proportion_e(make_array(\"A\", \"B\", \"E\", \"E\", \"A\")) == approx(0.4))",
         "hidden": false,
         "locked": false,
         "submit_only": false,
         "success_message": "check(proportion_e(make_array(\"A\", \"B\", \"E\", \"E\", \"A\")) == approx(0.4))"
        },
        {
         "code": ">>> check_str('proportion_e(make_array(\"A\", \"B\", \"A\", \"B\", \"A\")) == approx(0)', locals())\n",
         "failure_message": "check(proportion_e(make_array(\"A\", \"B\", \"A\", \"B\", \"A\")) == approx(0))",
         "hidden": false,
         "locked": false,
         "submit_only": false,
         "success_message": "check(proportion_e(make_array(\"A\", \"B\", \"A\", \"B\", \"A\")) == approx(0))"
        }
       ],
       "scored": true,
       "setup": "",
       "teardown": "",
       "type": "doctest"
      }
     ]
    },
    "p2.6": {
     "has_hidden": false,
     "name": "p2.6",
     "points": 5,
     "suites": [
      {
       "cases": [
        {
         "code": ">>> check_str('0.11 <= np.mean(empirical_distribution_for_proprtion_e(15, 10000)) <= 0.14', locals())\n",
         "failure_message": "check(0.11 <= np.mean(empirical_distribution_for_proprtion_e(15, 10000)) <= 0.14)",
         "hidden": false,
         "locked": false,
         "submit_only": false,
         "success_message": "check(0.11 <= np.mean(empirical_distribution_for_proprtion_e(15, 10000)) <= 0.14)"
        }
       ],
       "scored": true,
       "setup": "",
       "teardown": "",
       "type": "doctest"
      }
     ]
    },
    "p2.7": {
     "has_hidden": false,
     "name": "p2.7",
     "points": 5,
     "suites": [
      {
       "cases": [
        {
         "code": ">>> check_str('estimate_of_es == 12', locals())\n",
         "failure_message": "check(estimate_of_es == 12)",
         "hidden": false,
         "locked": false,
         "submit_only": false,
         "success_message": "check(estimate_of_es == 12)"
        }
       ],
       "scored": true,
       "setup": "",
       "teardown": "",
       "type": "doctest"
      }
     ]
    }
   }
  },
  "vscode": {
   "interpreter": {
    "hash": "31f2aee4e71d21fbe5cf8b01ff0e069b9275f58929596ceb00d14d90e3e16cd6"
   }
  },
  "widgets": {
   "application/vnd.jupyter.widget-state+json": {
    "state": {
     "21d69b3ba7a4487daf5dfd2b90be60f9": {
      "model_module": "@jupyter-widgets/controls",
      "model_module_version": "1.5.0",
      "model_name": "SliderStyleModel",
      "state": {
       "_model_module": "@jupyter-widgets/controls",
       "_model_module_version": "1.5.0",
       "_model_name": "SliderStyleModel",
       "_view_count": null,
       "_view_module": "@jupyter-widgets/base",
       "_view_module_version": "1.2.0",
       "_view_name": "StyleView",
       "description_width": "",
       "handle_color": null
      }
     },
     "34e8453c0ab94f0ca1e42c439c42a53e": {
      "model_module": "@jupyter-widgets/controls",
      "model_module_version": "1.5.0",
      "model_name": "DescriptionStyleModel",
      "state": {
       "_model_module": "@jupyter-widgets/controls",
       "_model_module_version": "1.5.0",
       "_model_name": "DescriptionStyleModel",
       "_view_count": null,
       "_view_module": "@jupyter-widgets/base",
       "_view_module_version": "1.2.0",
       "_view_name": "StyleView",
       "description_width": ""
      }
     },
     "4eed759f651147db84a9c63c7bdde17d": {
      "model_module": "@jupyter-widgets/controls",
      "model_module_version": "1.5.0",
      "model_name": "VBoxModel",
      "state": {
       "_dom_classes": [
        "widget-interact"
       ],
       "_model_module": "@jupyter-widgets/controls",
       "_model_module_version": "1.5.0",
       "_model_name": "VBoxModel",
       "_view_count": null,
       "_view_module": "@jupyter-widgets/controls",
       "_view_module_version": "1.5.0",
       "_view_name": "VBoxView",
       "box_style": "",
       "children": [
        "IPY_MODEL_bfe38cd436274790ad111b89bab6d01f",
        "IPY_MODEL_d2126289caf74a70a48bd5e88009a4a8",
        "IPY_MODEL_fdc697df5040460ca0539bc63af12f98"
       ],
       "layout": "IPY_MODEL_f87556d6594e472482d5220b7892f182"
      }
     },
     "bfe38cd436274790ad111b89bab6d01f": {
      "model_module": "@jupyter-widgets/controls",
      "model_module_version": "1.5.0",
      "model_name": "IntSliderModel",
      "state": {
       "_dom_classes": [],
       "_model_module": "@jupyter-widgets/controls",
       "_model_module_version": "1.5.0",
       "_model_name": "IntSliderModel",
       "_view_count": null,
       "_view_module": "@jupyter-widgets/controls",
       "_view_module_version": "1.5.0",
       "_view_name": "IntSliderView",
       "continuous_update": true,
       "description": "sample_size",
       "description_tooltip": null,
       "disabled": false,
       "layout": "IPY_MODEL_efa393f45e8c4ab48e565d48dc003bb9",
       "max": 50,
       "min": 1,
       "orientation": "horizontal",
       "readout": true,
       "readout_format": "d",
       "step": 1,
       "style": "IPY_MODEL_21d69b3ba7a4487daf5dfd2b90be60f9",
       "value": 25
      }
     },
     "c626644fc2b24748a944c685872ba5fd": {
      "model_module": "@jupyter-widgets/base",
      "model_module_version": "1.2.0",
      "model_name": "LayoutModel",
      "state": {
       "_model_module": "@jupyter-widgets/base",
       "_model_module_version": "1.2.0",
       "_model_name": "LayoutModel",
       "_view_count": null,
       "_view_module": "@jupyter-widgets/base",
       "_view_module_version": "1.2.0",
       "_view_name": "LayoutView",
       "align_content": null,
       "align_items": null,
       "align_self": null,
       "border": null,
       "bottom": null,
       "display": null,
       "flex": null,
       "flex_flow": null,
       "grid_area": null,
       "grid_auto_columns": null,
       "grid_auto_flow": null,
       "grid_auto_rows": null,
       "grid_column": null,
       "grid_gap": null,
       "grid_row": null,
       "grid_template_areas": null,
       "grid_template_columns": null,
       "grid_template_rows": null,
       "height": null,
       "justify_content": null,
       "justify_items": null,
       "left": null,
       "margin": null,
       "max_height": null,
       "max_width": null,
       "min_height": null,
       "min_width": null,
       "object_fit": null,
       "object_position": null,
       "order": null,
       "overflow": null,
       "overflow_x": null,
       "overflow_y": null,
       "padding": null,
       "right": null,
       "top": null,
       "visibility": null,
       "width": null
      }
     },
     "d108c152394145eea4091834d9f3feee": {
      "model_module": "@jupyter-widgets/base",
      "model_module_version": "1.2.0",
      "model_name": "LayoutModel",
      "state": {
       "_model_module": "@jupyter-widgets/base",
       "_model_module_version": "1.2.0",
       "_model_name": "LayoutModel",
       "_view_count": null,
       "_view_module": "@jupyter-widgets/base",
       "_view_module_version": "1.2.0",
       "_view_name": "LayoutView",
       "align_content": null,
       "align_items": null,
       "align_self": null,
       "border": null,
       "bottom": null,
       "display": null,
       "flex": null,
       "flex_flow": null,
       "grid_area": null,
       "grid_auto_columns": null,
       "grid_auto_flow": null,
       "grid_auto_rows": null,
       "grid_column": null,
       "grid_gap": null,
       "grid_row": null,
       "grid_template_areas": null,
       "grid_template_columns": null,
       "grid_template_rows": null,
       "height": null,
       "justify_content": null,
       "justify_items": null,
       "left": null,
       "margin": null,
       "max_height": null,
       "max_width": null,
       "min_height": null,
       "min_width": null,
       "object_fit": null,
       "object_position": null,
       "order": null,
       "overflow": null,
       "overflow_x": null,
       "overflow_y": null,
       "padding": null,
       "right": null,
       "top": null,
       "visibility": null,
       "width": null
      }
     },
     "d2126289caf74a70a48bd5e88009a4a8": {
      "model_module": "@jupyter-widgets/controls",
      "model_module_version": "1.5.0",
      "model_name": "DropdownModel",
      "state": {
       "_dom_classes": [],
       "_model_module": "@jupyter-widgets/controls",
       "_model_module_version": "1.5.0",
       "_model_name": "DropdownModel",
       "_options_labels": [
        "10",
        "20",
        "50",
        "100",
        "1000",
        "10000"
       ],
       "_view_count": null,
       "_view_module": "@jupyter-widgets/controls",
       "_view_module_version": "1.5.0",
       "_view_name": "DropdownView",
       "description": "num_trials",
       "description_tooltip": null,
       "disabled": false,
       "index": 0,
       "layout": "IPY_MODEL_d108c152394145eea4091834d9f3feee",
       "style": "IPY_MODEL_34e8453c0ab94f0ca1e42c439c42a53e"
      }
     },
     "efa393f45e8c4ab48e565d48dc003bb9": {
      "model_module": "@jupyter-widgets/base",
      "model_module_version": "1.2.0",
      "model_name": "LayoutModel",
      "state": {
       "_model_module": "@jupyter-widgets/base",
       "_model_module_version": "1.2.0",
       "_model_name": "LayoutModel",
       "_view_count": null,
       "_view_module": "@jupyter-widgets/base",
       "_view_module_version": "1.2.0",
       "_view_name": "LayoutView",
       "align_content": null,
       "align_items": null,
       "align_self": null,
       "border": null,
       "bottom": null,
       "display": null,
       "flex": null,
       "flex_flow": null,
       "grid_area": null,
       "grid_auto_columns": null,
       "grid_auto_flow": null,
       "grid_auto_rows": null,
       "grid_column": null,
       "grid_gap": null,
       "grid_row": null,
       "grid_template_areas": null,
       "grid_template_columns": null,
       "grid_template_rows": null,
       "height": null,
       "justify_content": null,
       "justify_items": null,
       "left": null,
       "margin": null,
       "max_height": null,
       "max_width": null,
       "min_height": null,
       "min_width": null,
       "object_fit": null,
       "object_position": null,
       "order": null,
       "overflow": null,
       "overflow_x": null,
       "overflow_y": null,
       "padding": null,
       "right": null,
       "top": null,
       "visibility": null,
       "width": null
      }
     },
     "f87556d6594e472482d5220b7892f182": {
      "model_module": "@jupyter-widgets/base",
      "model_module_version": "1.2.0",
      "model_name": "LayoutModel",
      "state": {
       "_model_module": "@jupyter-widgets/base",
       "_model_module_version": "1.2.0",
       "_model_name": "LayoutModel",
       "_view_count": null,
       "_view_module": "@jupyter-widgets/base",
       "_view_module_version": "1.2.0",
       "_view_name": "LayoutView",
       "align_content": null,
       "align_items": null,
       "align_self": null,
       "border": null,
       "bottom": null,
       "display": null,
       "flex": null,
       "flex_flow": null,
       "grid_area": null,
       "grid_auto_columns": null,
       "grid_auto_flow": null,
       "grid_auto_rows": null,
       "grid_column": null,
       "grid_gap": null,
       "grid_row": null,
       "grid_template_areas": null,
       "grid_template_columns": null,
       "grid_template_rows": null,
       "height": null,
       "justify_content": null,
       "justify_items": null,
       "left": null,
       "margin": null,
       "max_height": null,
       "max_width": null,
       "min_height": null,
       "min_width": null,
       "object_fit": null,
       "object_position": null,
       "order": null,
       "overflow": null,
       "overflow_x": null,
       "overflow_y": null,
       "padding": null,
       "right": null,
       "top": null,
       "visibility": null,
       "width": null
      }
     },
     "fdc697df5040460ca0539bc63af12f98": {
      "model_module": "@jupyter-widgets/output",
      "model_module_version": "1.0.0",
      "model_name": "OutputModel",
      "state": {
       "_dom_classes": [],
       "_model_module": "@jupyter-widgets/output",
       "_model_module_version": "1.0.0",
       "_model_name": "OutputModel",
       "_view_count": null,
       "_view_module": "@jupyter-widgets/output",
       "_view_module_version": "1.0.0",
       "_view_name": "OutputView",
       "layout": "IPY_MODEL_c626644fc2b24748a944c685872ba5fd",
       "msg_id": "",
       "outputs": [
        {
         "data": {
          "image/png": "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",
          "text/plain": "<Figure size 600x400 with 1 Axes>"
         },
         "metadata": {},
         "output_type": "display_data"
        }
       ]
      }
     }
    },
    "version_major": 2,
    "version_minor": 0
   }
  }
 },
 "nbformat": 4,
 "nbformat_minor": 5
}
