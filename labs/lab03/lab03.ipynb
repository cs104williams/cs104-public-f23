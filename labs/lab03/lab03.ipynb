{
 "cells": [
  {
   "cell_type": "code",
   "execution_count": null,
   "id": "08c1a04e",
   "metadata": {
    "deletable": false,
    "editable": false
   },
   "outputs": [],
   "source": [
    "# Initialize Otter\n",
    "import otter\n",
    "grader = otter.Notebook(\"lab03.ipynb\")"
   ]
  },
  {
   "cell_type": "markdown",
   "id": "dd6b5774",
   "metadata": {
    "deletable": false,
    "editable": false
   },
   "source": [
    "<table style=\"width: 100%;\">\n",
    "<tr style=\"background-color: transparent;\">\n",
    "<td width=\"100px\"><img src=\"https://cs104williams.github.io/assets/cs104-logo.png\" width=\"90px\" style=\"text-align: center\"/></td>\n",
    "<td>\n",
    "  <p style=\"margin-bottom: 0px; text-align: left; font-size: 18pt;\"><strong>CSCI 104: Data Science and Computing for All</strong><br>\n",
    "                Williams College<br>\n",
    "                Fall 2023</p>\n",
    "</td>\n",
    "</tr>\n"
   ]
  },
  {
   "cell_type": "markdown",
   "id": "f1cc37e5",
   "metadata": {
    "deletable": false,
    "editable": false,
    "tags": []
   },
   "source": [
    "# Lab 3: Table Manipulation and Visualization"
   ]
  },
  {
   "cell_type": "markdown",
   "id": "691d7949",
   "metadata": {
    "deletable": false,
    "editable": false,
    "tags": []
   },
   "source": [
    "<hr style=\"margin: 0px; border: 3px solid #500082;\"/>\n",
    "\n",
    "<h2>Instructions</h2>\n",
    "\n",
    "- Before you begin, execute the cell at the TOP of the notebook to load the provided tests, as well as the following cell to setup the notebook by importing some helpful libraries. Each time you start your server, you will need to execute these cells again.  \n",
    "- Be sure to consult your [Python Reference](https://cs104williams.github.io/assets/python-library-ref.html)!\n",
    "- Complete this notebook by filling in the cells provided. For problems asking you to write explanations, you **must** provide your answer in the designated space. \n",
    "- Please be sure to not re-assign variables throughout the notebook.  For example, if you use `max_temperature` in your answer to one question, do not reassign it later on. Otherwise, you will fail tests that you thought you were passing previously.\n",
    "- This lab has hidden tests on it. That means even though tests may say 100% passed, doesn't mean your final grade will be 100%. We will be running more tests for correctness once everyone turns in the lab.\n",
    "- To use one or more late days on this lab, please fill out our [late day form](https://forms.gle/4sD16h3hN1xRqQM27) **before** the due date.\n",
    "\n",
    "<hr/>\n",
    "<h2>Setup</h2>\n"
   ]
  },
  {
   "cell_type": "code",
   "execution_count": null,
   "id": "fa0fccf1",
   "metadata": {
    "deletable": false,
    "editable": false,
    "execution": {
     "iopub.execute_input": "2023-09-22T10:02:28.002018Z",
     "iopub.status.busy": "2023-09-22T10:02:28.001758Z",
     "iopub.status.idle": "2023-09-22T10:02:29.856606Z",
     "shell.execute_reply": "2023-09-22T10:02:29.855884Z"
    },
    "tags": []
   },
   "outputs": [],
   "source": [
    "# Run this cell to set up the notebook.\n",
    "# These lines import the numpy, datascience, and cs104 libraries.\n",
    "\n",
    "import numpy as np\n",
    "from datascience import *\n",
    "from cs104 import *\n",
    "%matplotlib inline"
   ]
  },
  {
   "cell_type": "markdown",
   "id": "2a139780",
   "metadata": {
    "deletable": false,
    "editable": false
   },
   "source": [
    "<hr style=\"margin-bottom: 0px; padding:0; border: 2px solid #500082;\"/>\n"
   ]
  },
  {
   "cell_type": "markdown",
   "id": "a4f3a011",
   "metadata": {
    "deletable": false,
    "editable": false,
    "tags": []
   },
   "source": [
    "## 1. Unemployment Data (35 pts)\n",
    "\n"
   ]
  },
  {
   "cell_type": "markdown",
   "id": "fd013a2f",
   "metadata": {
    "deletable": false,
    "editable": false
   },
   "source": [
    "<font color='#B1008E'>\n",
    "    \n",
    "##### Learning objectives\n",
    "- Sort data in tables\n",
    "- Select and manipulate rows and columns in tables in order to answer quantitative questions \n",
    "- Create and analyze line plots\n",
    "</font>"
   ]
  },
  {
   "cell_type": "markdown",
   "id": "ad770cf5",
   "metadata": {
    "deletable": false,
    "editable": false
   },
   "source": [
    "The Federal Reserve Bank of St. Louis publishes data about jobs in the US.  Below, we've loaded data on unemployment in the United States. There are many ways of defining unemployment, and our dataset includes two notions of the unemployment rate:\n",
    "\n",
    "1. **NEI:** Among people who are able to work and are looking for a full-time job, the percentage who can't find a job.  This is called the Non-Employment Index, or NEI.\n",
    "2. **NEI-PTER:** Among people who are able to work and are looking for a full-time job, the percentage who can't find a job *or* are only working at a part-time job.  The latter group is called \"Part-Time for Economic Reasons\", or PTER.  The acronym for this index of unemployment is NEI-PTER. \n",
    "\n",
    "The source of the data is [here](https://fred.stlouisfed.org/categories/33509)."
   ]
  },
  {
   "cell_type": "markdown",
   "id": "b3e3dbf0",
   "metadata": {
    "deletable": false,
    "editable": false
   },
   "source": [
    "#### Part 1.1 (5 pts)\n"
   ]
  },
  {
   "cell_type": "markdown",
   "id": "250f1e7b",
   "metadata": {
    "deletable": false,
    "editable": false
   },
   "source": [
    " The data are in a CSV file called `unemployment.csv`.  Load that file into a table called `unemployment`. \n",
    "\n"
   ]
  },
  {
   "cell_type": "code",
   "execution_count": null,
   "id": "1aeb4427",
   "metadata": {
    "deletable": false,
    "execution": {
     "iopub.execute_input": "2023-09-22T10:02:29.860635Z",
     "iopub.status.busy": "2023-09-22T10:02:29.860296Z",
     "iopub.status.idle": "2023-09-22T10:02:29.867926Z",
     "shell.execute_reply": "2023-09-22T10:02:29.867449Z"
    },
    "tags": []
   },
   "outputs": [],
   "source": [
    "unemployment = ...\n",
    "unemployment"
   ]
  },
  {
   "cell_type": "code",
   "execution_count": null,
   "id": "0981c53d",
   "metadata": {
    "deletable": false,
    "editable": false
   },
   "outputs": [],
   "source": [
    "grader.check(\"p1.1\")"
   ]
  },
  {
   "cell_type": "markdown",
   "id": "2ad68be2",
   "metadata": {
    "deletable": false,
    "editable": false
   },
   "source": [
    "#### Part 1.2 (5 pts)\n"
   ]
  },
  {
   "cell_type": "markdown",
   "id": "dd6885ad",
   "metadata": {
    "deletable": false,
    "editable": false
   },
   "source": [
    " Sort the data in descending order by NEI, naming the sorted table `by_nei`.  Create another table called `by_nei_pter` that's sorted in descending order by NEI-PTER instead. \n",
    "\n"
   ]
  },
  {
   "cell_type": "code",
   "execution_count": null,
   "id": "82595936",
   "metadata": {
    "deletable": false,
    "execution": {
     "iopub.execute_input": "2023-09-22T10:02:29.882334Z",
     "iopub.status.busy": "2023-09-22T10:02:29.882132Z",
     "iopub.status.idle": "2023-09-22T10:02:29.885260Z",
     "shell.execute_reply": "2023-09-22T10:02:29.884815Z"
    },
    "tags": []
   },
   "outputs": [],
   "source": [
    "by_nei = ...\n",
    "by_nei_pter = ..."
   ]
  },
  {
   "cell_type": "code",
   "execution_count": null,
   "id": "1d4c729e",
   "metadata": {
    "deletable": false,
    "editable": false
   },
   "outputs": [],
   "source": [
    "grader.check(\"p1.2\")"
   ]
  },
  {
   "cell_type": "code",
   "execution_count": null,
   "id": "b1944bc5",
   "metadata": {
    "deletable": false,
    "editable": false,
    "execution": {
     "iopub.execute_input": "2023-09-22T10:02:29.897796Z",
     "iopub.status.busy": "2023-09-22T10:02:29.897601Z",
     "iopub.status.idle": "2023-09-22T10:02:29.901159Z",
     "shell.execute_reply": "2023-09-22T10:02:29.900728Z"
    }
   },
   "outputs": [],
   "source": [
    "# Run this cell to check your by_nei table. You do not need to change the code.\n",
    "by_nei.show(5)"
   ]
  },
  {
   "cell_type": "code",
   "execution_count": null,
   "id": "309ab4f3",
   "metadata": {
    "deletable": false,
    "editable": false,
    "execution": {
     "iopub.execute_input": "2023-09-22T10:02:29.903411Z",
     "iopub.status.busy": "2023-09-22T10:02:29.903216Z",
     "iopub.status.idle": "2023-09-22T10:02:29.906870Z",
     "shell.execute_reply": "2023-09-22T10:02:29.906450Z"
    }
   },
   "outputs": [],
   "source": [
    "# Run this cell to check your by_nei_pter table. You do not need to change the code.\n",
    "by_nei_pter.show(5)"
   ]
  },
  {
   "cell_type": "markdown",
   "id": "ed1464bd",
   "metadata": {
    "deletable": false,
    "editable": false
   },
   "source": [
    "#### Part 1.3 (5 pts)\n"
   ]
  },
  {
   "cell_type": "markdown",
   "id": "3833ca19",
   "metadata": {
    "deletable": false,
    "editable": false
   },
   "source": [
    " Use `take` to make a table containing the data for the 10 quarters when NEI was greatest.  Call that table `greatest_nei`.\n",
    "\n",
    "`greatest_nei` should be sorted in descending order of `NEI`. Note that each row of `unemployment` represents a quarter. "
   ]
  },
  {
   "cell_type": "code",
   "execution_count": null,
   "id": "54f7652d",
   "metadata": {
    "deletable": false,
    "execution": {
     "iopub.execute_input": "2023-09-22T10:02:29.909479Z",
     "iopub.status.busy": "2023-09-22T10:02:29.909285Z",
     "iopub.status.idle": "2023-09-22T10:02:29.913614Z",
     "shell.execute_reply": "2023-09-22T10:02:29.913198Z"
    },
    "tags": []
   },
   "outputs": [],
   "source": [
    "greatest_nei = ...\n",
    "greatest_nei"
   ]
  },
  {
   "cell_type": "code",
   "execution_count": null,
   "id": "994d95dd",
   "metadata": {
    "deletable": false,
    "editable": false
   },
   "outputs": [],
   "source": [
    "grader.check(\"p1.3\")"
   ]
  },
  {
   "cell_type": "markdown",
   "id": "768f35d9",
   "metadata": {
    "deletable": false,
    "editable": false
   },
   "source": [
    "#### Part 1.4 (5 pts)\n"
   ]
  },
  {
   "cell_type": "markdown",
   "id": "5b10c105",
   "metadata": {
    "deletable": false,
    "editable": false
   },
   "source": [
    "Economists care about PTER (recall: \"Part-Time for Economic Reasons\") for many reasons. For example, it's believed that many people became PTER  in the \"Great Recession\" of 2008-2009.   \n",
    " \n",
    "Compute an array containing the percentage of people who were PTER in each quarter.  (The first element of the array should correspond to the first row of `unemployment`, and so on.) \n",
    "\n",
    "*Notes:* \n",
    "- Use the original `unemployment` table for this.\n",
    "- Recall, NEI is the percentage of people who are unemployed; and NEI-PTER is the percentage of people who are unemployed (included in the NEI) plus the percentage of people who are PTER. \n",
    "\n",
    "As a sanity check, the quaterly PTER you compute should be less than 2% for all of the quarters in this data."
   ]
  },
  {
   "cell_type": "code",
   "execution_count": null,
   "id": "2d07f955",
   "metadata": {
    "deletable": false,
    "execution": {
     "iopub.execute_input": "2023-09-22T10:02:29.926667Z",
     "iopub.status.busy": "2023-09-22T10:02:29.926480Z",
     "iopub.status.idle": "2023-09-22T10:02:29.930699Z",
     "shell.execute_reply": "2023-09-22T10:02:29.930279Z"
    },
    "tags": []
   },
   "outputs": [],
   "source": [
    "pter = ...\n",
    "pter"
   ]
  },
  {
   "cell_type": "code",
   "execution_count": null,
   "id": "df5869c1",
   "metadata": {
    "deletable": false,
    "editable": false
   },
   "outputs": [],
   "source": [
    "grader.check(\"p1.4\")"
   ]
  },
  {
   "cell_type": "markdown",
   "id": "a6d43d27",
   "metadata": {
    "deletable": false,
    "editable": false
   },
   "source": [
    "#### Part 1.5 (5 pts)\n"
   ]
  },
  {
   "cell_type": "markdown",
   "id": "734234a0",
   "metadata": {
    "deletable": false,
    "editable": false
   },
   "source": [
    "Extend the `unemployment` table with a new column named `PTER` that contains the values in the `pter` array.  Sort the resulting table by that column in descending order.  Call the resulting table `by_pter`."
   ]
  },
  {
   "cell_type": "code",
   "execution_count": null,
   "id": "964345c7",
   "metadata": {
    "deletable": false,
    "execution": {
     "iopub.execute_input": "2023-09-22T10:02:29.943456Z",
     "iopub.status.busy": "2023-09-22T10:02:29.943266Z",
     "iopub.status.idle": "2023-09-22T10:02:29.947575Z",
     "shell.execute_reply": "2023-09-22T10:02:29.947099Z"
    },
    "tags": []
   },
   "outputs": [],
   "source": [
    "by_pter = ...\n",
    "by_pter"
   ]
  },
  {
   "cell_type": "code",
   "execution_count": null,
   "id": "81f3576e",
   "metadata": {
    "deletable": false,
    "editable": false
   },
   "outputs": [],
   "source": [
    "grader.check(\"p1.5\")"
   ]
  },
  {
   "cell_type": "markdown",
   "id": "465fbd10",
   "metadata": {
    "deletable": false,
    "editable": false
   },
   "source": [
    "<!-- BEGIN QUESTION -->\n",
    "\n",
    "#### Part 1.6 (5 pts)\n"
   ]
  },
  {
   "cell_type": "markdown",
   "id": "ecd97a8a",
   "metadata": {
    "deletable": false,
    "editable": false
   },
   "source": [
    "Create a line plot of PTER over time. \n",
    "\n",
    "To do this, create a new table called `pter_over_time` that adds the `year` array and the `pter` array to the `unemployment` table. Label these columns `Year` and `PTER`. Then, generate a line plot using one of the table methods you've learned in class.\n",
    "\n",
    "The order of the columns matter for our correctness tests, so be sure `Year` comes before `PTER`. \n",
    "\n",
    "*Clarification: When constructing `pter_over_time`, do not just add the `year` column to the `by_pter` table. Please follow the directions in the question above.*"
   ]
  },
  {
   "cell_type": "code",
   "execution_count": null,
   "id": "f83e8a65",
   "metadata": {
    "deletable": false,
    "execution": {
     "iopub.execute_input": "2023-09-22T10:02:29.960461Z",
     "iopub.status.busy": "2023-09-22T10:02:29.960270Z",
     "iopub.status.idle": "2023-09-22T10:02:30.203920Z",
     "shell.execute_reply": "2023-09-22T10:02:30.203371Z"
    },
    "tags": []
   },
   "outputs": [],
   "source": [
    "year = 1994 + np.arange(by_pter.num_rows)/4 #this accounts for the quarters \n",
    "pter_over_time = ...\n",
    "plot = ...\n",
    "\n",
    "# This line will sets the bounds on the y-axis\n",
    "plot.set_ylim(0,2) "
   ]
  },
  {
   "cell_type": "code",
   "execution_count": null,
   "id": "4e8bb400",
   "metadata": {
    "deletable": false,
    "editable": false
   },
   "outputs": [],
   "source": [
    "grader.check(\"p1.6\")"
   ]
  },
  {
   "cell_type": "markdown",
   "id": "d171f99b",
   "metadata": {
    "deletable": false,
    "editable": false
   },
   "source": [
    "<!-- END QUESTION -->\n",
    "\n",
    "#### Part 1.7 (5 pts)\n"
   ]
  },
  {
   "cell_type": "markdown",
   "id": "55f25aa2",
   "metadata": {
    "deletable": false,
    "editable": false
   },
   "source": [
    " Were PTER rates high during the Great Recession (that is to say, were PTER rates particularly high in the years 2008 through 2011)? Examine the line plot you just created. Then assign `highPTER` to `True` if you think PTER rates were high in this period, or `False` if you think they weren't. "
   ]
  },
  {
   "cell_type": "code",
   "execution_count": null,
   "id": "eb936749",
   "metadata": {
    "deletable": false,
    "execution": {
     "iopub.execute_input": "2023-09-22T10:02:30.233481Z",
     "iopub.status.busy": "2023-09-22T10:02:30.233290Z",
     "iopub.status.idle": "2023-09-22T10:02:30.235762Z",
     "shell.execute_reply": "2023-09-22T10:02:30.235280Z"
    },
    "tags": []
   },
   "outputs": [],
   "source": [
    "highPTER = ..."
   ]
  },
  {
   "cell_type": "code",
   "execution_count": null,
   "id": "c003312c",
   "metadata": {
    "deletable": false,
    "editable": false
   },
   "outputs": [],
   "source": [
    "grader.check(\"p1.7\")"
   ]
  },
  {
   "cell_type": "markdown",
   "id": "5440cbb7",
   "metadata": {
    "deletable": false,
    "editable": false
   },
   "source": [
    "<hr style=\"margin-bottom: 0px; padding:0; border: 2px solid #500082;\"/>\n"
   ]
  },
  {
   "cell_type": "markdown",
   "id": "fd89fb31",
   "metadata": {
    "deletable": false,
    "editable": false
   },
   "source": [
    "## 2. Birth Rates (30 pts)\n",
    "\n"
   ]
  },
  {
   "cell_type": "markdown",
   "id": "e7fd8d99",
   "metadata": {
    "deletable": false,
    "editable": false
   },
   "source": [
    "<font color='#B1008E'>\n",
    "    \n",
    "##### Learning objectives\n",
    "- Use built-in Table functions, Python functions, and numpy functions to answer quantitative questions about a dataset\n",
    "- Create visualizations to analyze trends in data\n",
    "</font>"
   ]
  },
  {
   "cell_type": "markdown",
   "id": "6d84a8a1",
   "metadata": {
    "deletable": false,
    "editable": false
   },
   "source": [
    "The following table gives census-based population estimates for each state on both July 1, 2015 and July 1, 2016. The last four columns describe the components of the estimated change in population during this time interval. **For all questions below, assume that the word \"states\" refers to all 52 rows including Puerto Rico & the District of Columbia.**\n",
    "- The data was taken from [here](http://www2.census.gov/programs-surveys/popest/datasets/2010-2016/national/totals/nst-est2016-alldata.csv) and cleaned up. \n",
    "- If you want to read more about the different column descriptions, click [here](http://www2.census.gov/programs-surveys/popest/datasets/2010-2015/national/totals/nst-est2015-alldata.pdf)."
   ]
  },
  {
   "cell_type": "code",
   "execution_count": null,
   "id": "778672d5",
   "metadata": {
    "deletable": false,
    "editable": false,
    "execution": {
     "iopub.execute_input": "2023-09-22T10:02:30.248606Z",
     "iopub.status.busy": "2023-09-22T10:02:30.248414Z",
     "iopub.status.idle": "2023-09-22T10:02:30.254421Z",
     "shell.execute_reply": "2023-09-22T10:02:30.253992Z"
    },
    "tags": []
   },
   "outputs": [],
   "source": [
    "pop = Table().read_table(\"nst-est2016-clean.csv\")\n",
    "pop.show(5)"
   ]
  },
  {
   "cell_type": "markdown",
   "id": "8723b279",
   "metadata": {
    "deletable": false,
    "editable": false
   },
   "source": [
    "#### Part 2.1 (5 pts)\n"
   ]
  },
  {
   "cell_type": "markdown",
   "id": "2acd3010",
   "metadata": {
    "deletable": false,
    "editable": false
   },
   "source": [
    "Assign the variable `us_birth_rate` to the total US annual birth rate (across all states) during this time interval. The annual birth rate for a year-long period is the total number of births in that period as a proportion of the population size at the start of the time period. \n",
    "\n",
    "*Hint:* Which year corresponds to the start of the time period?\n",
    "\n"
   ]
  },
  {
   "cell_type": "code",
   "execution_count": null,
   "id": "40353606",
   "metadata": {
    "deletable": false,
    "execution": {
     "iopub.execute_input": "2023-09-22T10:02:30.257316Z",
     "iopub.status.busy": "2023-09-22T10:02:30.257124Z",
     "iopub.status.idle": "2023-09-22T10:02:30.260913Z",
     "shell.execute_reply": "2023-09-22T10:02:30.260489Z"
    },
    "tags": []
   },
   "outputs": [],
   "source": [
    "us_birth_rate = ...\n",
    "us_birth_rate"
   ]
  },
  {
   "cell_type": "code",
   "execution_count": null,
   "id": "3fcf9166",
   "metadata": {
    "deletable": false,
    "editable": false
   },
   "outputs": [],
   "source": [
    "grader.check(\"p2.1\")"
   ]
  },
  {
   "cell_type": "markdown",
   "id": "17edfa59",
   "metadata": {
    "deletable": false,
    "editable": false
   },
   "source": [
    "#### Part 2.2 (5 pts)\n"
   ]
  },
  {
   "cell_type": "markdown",
   "id": "df625e19",
   "metadata": {
    "deletable": false,
    "editable": false
   },
   "source": [
    "Create a table `movers` which contains *at minimum* the same information as `pop` but only includes states for which the **absolute value** of the **annual rate of migration** was higher than 1%. \n",
    " \n",
    "- The `MIGRATION` column contains estimated annual net migration counts by state. \n",
    "- The annual rate of migration for a year-long period is the net number of migrations (in and out) as a proportion of the population size at the start of the period. You may wish to create a temporary table `migration_rates` that contains the migration rates for each state."
   ]
  },
  {
   "cell_type": "code",
   "execution_count": null,
   "id": "3aef1565",
   "metadata": {
    "deletable": false,
    "execution": {
     "iopub.execute_input": "2023-09-22T10:02:30.274334Z",
     "iopub.status.busy": "2023-09-22T10:02:30.274143Z",
     "iopub.status.idle": "2023-09-22T10:02:30.279250Z",
     "shell.execute_reply": "2023-09-22T10:02:30.278829Z"
    },
    "tags": []
   },
   "outputs": [],
   "source": [
    "# First, create a new table with the data in pop, plus migration rates.\n",
    "migration_rates = ...\n",
    "movers = ...\n",
    "movers"
   ]
  },
  {
   "cell_type": "code",
   "execution_count": null,
   "id": "81cdec8b",
   "metadata": {
    "deletable": false,
    "editable": false
   },
   "outputs": [],
   "source": [
    "grader.check(\"p2.2\")"
   ]
  },
  {
   "cell_type": "markdown",
   "id": "2e0d28b1",
   "metadata": {
    "deletable": false,
    "editable": false
   },
   "source": [
    "#### Part 2.3 (5 pts)\n"
   ]
  },
  {
   "cell_type": "markdown",
   "id": "d1ea0704",
   "metadata": {
    "deletable": false,
    "editable": false
   },
   "source": [
    "Assign `west_births` to the total number of births that occurred in region 4 (the Western US). "
   ]
  },
  {
   "cell_type": "code",
   "execution_count": null,
   "id": "30f9f7f8",
   "metadata": {
    "deletable": false,
    "execution": {
     "iopub.execute_input": "2023-09-22T10:02:30.292217Z",
     "iopub.status.busy": "2023-09-22T10:02:30.292027Z",
     "iopub.status.idle": "2023-09-22T10:02:30.295857Z",
     "shell.execute_reply": "2023-09-22T10:02:30.295432Z"
    },
    "tags": []
   },
   "outputs": [],
   "source": [
    "west_births = ...\n",
    "west_births"
   ]
  },
  {
   "cell_type": "code",
   "execution_count": null,
   "id": "b9439059",
   "metadata": {
    "deletable": false,
    "editable": false
   },
   "outputs": [],
   "source": [
    "grader.check(\"p2.3\")"
   ]
  },
  {
   "cell_type": "markdown",
   "id": "2a63fed6",
   "metadata": {
    "deletable": false,
    "editable": false
   },
   "source": [
    "#### Part 2.4 (5 pts)\n"
   ]
  },
  {
   "cell_type": "markdown",
   "id": "b2377044",
   "metadata": {
    "deletable": false,
    "editable": false
   },
   "source": [
    " \n",
    "\n",
    "In the next question, you will be creating a visualization to understand the relationship between birth and death rates. The annual death rate for a year-long period is the total number of deaths in that period as a proportion of the population size at the start of the time period.\n",
    "\n",
    "*Note:* We will comparing *each* of the 52 states' birth rate and death rate (*not* the overall birth and death rate for the entire population). \n",
    "\n",
    "What visualization is most appropriate to see if there is an association between birth and death rates during a given time interval? \n",
    "\n",
    "1. Line Graph\n",
    "<br>\n",
    "2. Bar Chart\n",
    "<br>\n",
    "3. Scatter Plot\n",
    "\n",
    "Assign `visualization` below to the number corresponding to the correct visualization. \n",
    "\n"
   ]
  },
  {
   "cell_type": "code",
   "execution_count": null,
   "id": "e7dff6d7",
   "metadata": {
    "deletable": false,
    "execution": {
     "iopub.execute_input": "2023-09-22T10:02:30.309118Z",
     "iopub.status.busy": "2023-09-22T10:02:30.308910Z",
     "iopub.status.idle": "2023-09-22T10:02:30.311382Z",
     "shell.execute_reply": "2023-09-22T10:02:30.310914Z"
    },
    "tags": []
   },
   "outputs": [],
   "source": [
    "visualization = ..."
   ]
  },
  {
   "cell_type": "code",
   "execution_count": null,
   "id": "3f7fa551",
   "metadata": {
    "deletable": false,
    "editable": false
   },
   "outputs": [],
   "source": [
    "grader.check(\"p2.4\")"
   ]
  },
  {
   "cell_type": "markdown",
   "id": "529bac34",
   "metadata": {
    "deletable": false,
    "editable": false
   },
   "source": [
    "<!-- BEGIN QUESTION -->\n",
    "\n",
    "#### Part 2.5 (5 pts)\n"
   ]
  },
  {
   "cell_type": "markdown",
   "id": "71df7371",
   "metadata": {
    "deletable": false,
    "editable": false
   },
   "source": [
    " In the code cell below, create a visualization based on your answer above in order to determine if there is an association between birth rate and death rate during this time interval. It may be helpful to create an intermediate table here. "
   ]
  },
  {
   "cell_type": "code",
   "execution_count": null,
   "id": "aa35baea",
   "metadata": {
    "deletable": false,
    "execution": {
     "iopub.execute_input": "2023-09-22T10:02:30.324290Z",
     "iopub.status.busy": "2023-09-22T10:02:30.324094Z",
     "iopub.status.idle": "2023-09-22T10:02:30.584992Z",
     "shell.execute_reply": "2023-09-22T10:02:30.584458Z"
    },
    "tags": []
   },
   "outputs": [],
   "source": [
    "# In this cell, use birth_props and death_props to generate your chart\n",
    "birth_rates = ...\n",
    "death_rates = ...\n",
    "..."
   ]
  },
  {
   "cell_type": "markdown",
   "id": "a3201691",
   "metadata": {
    "deletable": false,
    "editable": false
   },
   "source": [
    "<!-- END QUESTION -->\n",
    "\n",
    "#### Part 2.6 (5 pts)\n"
   ]
  },
  {
   "cell_type": "markdown",
   "id": "0ceb8ed3",
   "metadata": {
    "deletable": false,
    "editable": false
   },
   "source": [
    "True or False: There is an association between birth rate and death rate during this time interval. \n",
    "\n",
    "Assign `assoc` to `True` or `False` in the cell below.  Base your conclusion on your inspection of the visualization you created for the last part."
   ]
  },
  {
   "cell_type": "code",
   "execution_count": null,
   "id": "ac84aa11",
   "metadata": {
    "deletable": false,
    "execution": {
     "iopub.execute_input": "2023-09-22T10:02:30.588286Z",
     "iopub.status.busy": "2023-09-22T10:02:30.588077Z",
     "iopub.status.idle": "2023-09-22T10:02:30.590853Z",
     "shell.execute_reply": "2023-09-22T10:02:30.590335Z"
    },
    "tags": []
   },
   "outputs": [],
   "source": [
    "assoc = ..."
   ]
  },
  {
   "cell_type": "code",
   "execution_count": null,
   "id": "90084ff9",
   "metadata": {
    "deletable": false,
    "editable": false
   },
   "outputs": [],
   "source": [
    "grader.check(\"p2.6\")"
   ]
  },
  {
   "cell_type": "markdown",
   "id": "8f0368a9",
   "metadata": {
    "deletable": false,
    "editable": false
   },
   "source": [
    "<hr style=\"margin-bottom: 0px; padding:0; border: 2px solid #500082;\"/>\n"
   ]
  },
  {
   "cell_type": "markdown",
   "id": "214b7817",
   "metadata": {
    "deletable": false,
    "editable": false,
    "tags": []
   },
   "source": [
    "## 3. Uber data (30 pts)\n",
    "\n"
   ]
  },
  {
   "cell_type": "markdown",
   "id": "5e165de9",
   "metadata": {
    "deletable": false,
    "editable": false
   },
   "source": [
    "<font color='#B1008E'>\n",
    "    \n",
    "##### Learning objectives\n",
    "- Use built-in Table functions, Python functions, and numpy functions to answer quantitative questions about a dataset\n",
    "- Create histograms from data and understand the histograms' quantitative significance\n",
    "</font>"
   ]
  },
  {
   "cell_type": "markdown",
   "id": "d5220008",
   "metadata": {
    "deletable": false,
    "editable": false
   },
   "source": [
    "Below we load tables containing 200,000 weekday Uber rides in the Manila, Philippines, and Boston, Massachusetts metropolitan areas from the [Uber Movement](https://movement.uber.com) project. \n",
    "- The `sourceid` and `dstid` columns contain codes corresponding to start (\"source id\") and end (\"destination id\") locations respectively of each ride. \n",
    "- The `hod` column contains codes corresponding to the \"hour of the day\" the ride took place. \n",
    "- The `ride time` column contains the length of the ride, **in minutes**."
   ]
  },
  {
   "cell_type": "code",
   "execution_count": null,
   "id": "a8a3be0a",
   "metadata": {
    "deletable": false,
    "editable": false,
    "execution": {
     "iopub.execute_input": "2023-09-22T10:02:30.604002Z",
     "iopub.status.busy": "2023-09-22T10:02:30.603808Z",
     "iopub.status.idle": "2023-09-22T10:02:31.669692Z",
     "shell.execute_reply": "2023-09-22T10:02:31.668860Z"
    }
   },
   "outputs": [],
   "source": [
    "boston = Table.read_table(\"boston.csv\")\n",
    "manila = Table.read_table(\"manila.csv\")\n",
    "print(\"Boston Table\")\n",
    "boston.show(4)\n",
    "print(\"Manila Table\")\n",
    "manila.show(4)"
   ]
  },
  {
   "cell_type": "markdown",
   "id": "e1c41130",
   "metadata": {
    "deletable": false,
    "editable": false
   },
   "source": [
    "<!-- BEGIN QUESTION -->\n",
    "\n",
    "#### Part 3.1 (5 pts)\n"
   ]
  },
  {
   "cell_type": "markdown",
   "id": "89c1d208",
   "metadata": {
    "deletable": false,
    "editable": false
   },
   "source": [
    "Produce a histogram that visualizes the distributions of all ride times in Boston using the given bins.  Set the plots title to \"Boston Uber Rides\" by storing your plot in the `boston_plot` variable and then using the [`set_title` method](https://cs104williams.github.io/assets/python-library-ref.html#set-labels) for `boston_plot`."
   ]
  },
  {
   "cell_type": "code",
   "execution_count": null,
   "id": "f2c637ca",
   "metadata": {
    "deletable": false,
    "execution": {
     "iopub.execute_input": "2023-09-22T10:02:31.672697Z",
     "iopub.status.busy": "2023-09-22T10:02:31.672484Z",
     "iopub.status.idle": "2023-09-22T10:02:32.024875Z",
     "shell.execute_reply": "2023-09-22T10:02:32.024116Z"
    },
    "tags": []
   },
   "outputs": [],
   "source": [
    "equal_bins = np.arange(0, 120, 5)\n",
    "boston_plot = ...\n",
    "..."
   ]
  },
  {
   "cell_type": "code",
   "execution_count": null,
   "id": "fa0ad6eb",
   "metadata": {
    "deletable": false,
    "editable": false
   },
   "outputs": [],
   "source": [
    "grader.check(\"p3.1\")"
   ]
  },
  {
   "cell_type": "markdown",
   "id": "7f6ef3df",
   "metadata": {
    "deletable": false,
    "editable": false,
    "tags": []
   },
   "source": [
    "<!-- END QUESTION -->\n",
    "\n",
    "#### Part 3.2 (5 pts)\n"
   ]
  },
  {
   "cell_type": "markdown",
   "id": "9ede4c91",
   "metadata": {
    "deletable": false,
    "editable": false
   },
   "source": [
    "According to your histogram, what percent of rides in Boston are between 20 and 25 minutes?  *Note:* Recall that the x-axis units are minutes"
   ]
  },
  {
   "cell_type": "code",
   "execution_count": null,
   "id": "d22c2768",
   "metadata": {
    "deletable": false,
    "execution": {
     "iopub.execute_input": "2023-09-22T10:02:32.034806Z",
     "iopub.status.busy": "2023-09-22T10:02:32.034585Z",
     "iopub.status.idle": "2023-09-22T10:02:32.037249Z",
     "shell.execute_reply": "2023-09-22T10:02:32.036753Z"
    },
    "tags": []
   },
   "outputs": [],
   "source": [
    "rides_between_20_and_25 = ..."
   ]
  },
  {
   "cell_type": "code",
   "execution_count": null,
   "id": "1e63bc66",
   "metadata": {
    "deletable": false,
    "editable": false
   },
   "outputs": [],
   "source": [
    "grader.check(\"p3.2\")"
   ]
  },
  {
   "cell_type": "markdown",
   "id": "3faa97f7",
   "metadata": {
    "deletable": false,
    "editable": false
   },
   "source": [
    "<!-- BEGIN QUESTION -->\n",
    "\n",
    "#### Part 3.3 (5 pts)\n"
   ]
  },
  {
   "cell_type": "markdown",
   "id": "7fa76ed4",
   "metadata": {
    "deletable": false,
    "editable": false
   },
   "source": [
    "Now, produce a histogram that visualizes the distribution of all ride times in Manila using the given bins."
   ]
  },
  {
   "cell_type": "markdown",
   "id": "4f3a9226",
   "metadata": {
    "deletable": false,
    "editable": false
   },
   "source": [
    "Set the y-axis of your Manila histogram to be between 0 to 5%. This will make it easier to compare your Boston and Manila plots. To do that, store the result of making your histogram in a local variable `manila_plot` and then use the `manila_plot`'s [`set_ylim` method](https://cs104williams.github.io/assets/python-library-ref.html#set-limits).  \n",
    "\n",
    "Set your plot's title to be \"Manila Uber Rides\" with the `set_title` method for plots."
   ]
  },
  {
   "cell_type": "code",
   "execution_count": null,
   "id": "79796c71",
   "metadata": {
    "deletable": false,
    "execution": {
     "iopub.execute_input": "2023-09-22T10:02:32.047517Z",
     "iopub.status.busy": "2023-09-22T10:02:32.046975Z",
     "iopub.status.idle": "2023-09-22T10:02:32.384584Z",
     "shell.execute_reply": "2023-09-22T10:02:32.383814Z"
    },
    "tags": []
   },
   "outputs": [],
   "source": [
    "equal_bins = np.arange(0, 120, 5)\n",
    "manila_plot = ...\n",
    "...\n",
    "..."
   ]
  },
  {
   "cell_type": "code",
   "execution_count": null,
   "id": "1b082852",
   "metadata": {
    "deletable": false,
    "editable": false
   },
   "outputs": [],
   "source": [
    "grader.check(\"p3.3\")"
   ]
  },
  {
   "cell_type": "markdown",
   "id": "2c43e600",
   "metadata": {
    "deletable": false,
    "editable": false
   },
   "source": [
    "<!-- END QUESTION -->\n",
    "\n",
    "#### Part 3.4 (5 pts)\n"
   ]
  },
  {
   "cell_type": "markdown",
   "id": "4ce62af9",
   "metadata": {
    "deletable": false,
    "editable": false
   },
   "source": [
    "Let's *manually* compare and inspect these Boston and Manilla histograms. \n",
    "\n",
    "Assign `boston_under_15` and `manila_under_15` to the percentage of rides that are less than 15 minutes in their respective metropolitan areas. \n",
    " \n",
    " To help you we have provide the \"height\" of various bars from the histogram you created above. Use the height variables that we have defined for you below in order to compute the percentages. Your solution should only use height variables, numbers, and mathematical operations. You should **not** access the tables `boston` and `manila` in any way.  \n",
    " \n",
    " *Hint:* How does the *width* of the bars in the histogram factor into your answer?"
   ]
  },
  {
   "cell_type": "code",
   "execution_count": null,
   "id": "8b977cc2",
   "metadata": {
    "deletable": false,
    "execution": {
     "iopub.execute_input": "2023-09-22T10:02:32.399919Z",
     "iopub.status.busy": "2023-09-22T10:02:32.399729Z",
     "iopub.status.idle": "2023-09-22T10:02:32.404271Z",
     "shell.execute_reply": "2023-09-22T10:02:32.403791Z"
    },
    "tags": []
   },
   "outputs": [],
   "source": [
    "boston_under_5_height = 1.2\n",
    "manila_under_5_height = 0.6\n",
    "boston_5_to_under_10_height = 3.2\n",
    "manila_5_to_under_10_height = 1.4\n",
    "boston_10_to_under_15_height = 4.9\n",
    "manila_10_to_under_15_height = 2.2\n",
    "\n",
    "boston_under_15 = ...\n",
    "manila_under_15 = ...\n",
    "\n",
    "boston_under_15, manila_under_15"
   ]
  },
  {
   "cell_type": "code",
   "execution_count": null,
   "id": "29a235d9",
   "metadata": {
    "deletable": false,
    "editable": false
   },
   "outputs": [],
   "source": [
    "grader.check(\"p3.4\")"
   ]
  },
  {
   "cell_type": "markdown",
   "id": "d772a443",
   "metadata": {
    "deletable": false,
    "editable": false
   },
   "source": [
    "#### Part 3.5 (5 pts)\n"
   ]
  },
  {
   "cell_type": "markdown",
   "id": "9eede532",
   "metadata": {
    "deletable": false,
    "editable": false
   },
   "source": [
    "Manually examine the histogram for the distribution of ride times in Boston. You can use this histogram to find the median ride time for Boston. \n",
    "\n",
    "Assign `boston_median_bin` to an integer (1, 2, 3, 4, or 5) that corresponds to the bin that contains the median time. \n",
    "\n",
    "1. 0-5 minutes  \n",
    "2. 5-10 minutes  \n",
    "3. 10-15 minutes  \n",
    "4. 15-20 minutes  \n",
    "5. 20-25 minutes  \n",
    "\n",
    "*Hint:* The median of a sorted list has half of the list elements to its left, and half to its right.  Your previous answer may help you determine where the median is."
   ]
  },
  {
   "cell_type": "code",
   "execution_count": null,
   "id": "476d36be",
   "metadata": {
    "deletable": false,
    "execution": {
     "iopub.execute_input": "2023-09-22T10:02:32.426790Z",
     "iopub.status.busy": "2023-09-22T10:02:32.426597Z",
     "iopub.status.idle": "2023-09-22T10:02:32.429906Z",
     "shell.execute_reply": "2023-09-22T10:02:32.429462Z"
    },
    "tags": []
   },
   "outputs": [],
   "source": [
    "boston_median_bin = ...\n",
    "boston_median_bin"
   ]
  },
  {
   "cell_type": "code",
   "execution_count": null,
   "id": "a2a7a1e6",
   "metadata": {
    "deletable": false,
    "editable": false
   },
   "outputs": [],
   "source": [
    "grader.check(\"p3.5\")"
   ]
  },
  {
   "cell_type": "markdown",
   "id": "6943bf2a",
   "metadata": {
    "deletable": false,
    "editable": false
   },
   "source": [
    "<!-- BEGIN QUESTION -->\n",
    "\n",
    "#### Part 3.6 (5 pts)\n"
   ]
  },
  {
   "cell_type": "markdown",
   "id": "74d2b673",
   "metadata": {
    "deletable": false,
    "editable": false
   },
   "source": [
    "Identify one difference between the histograms, in terms of actual histogram properties. Based on the following two readings, why are the distributions for Boston and Manila different? \n",
    "\n",
    "- [Boston reading](https://www.climatestotravel.com/climate/united-states/boston)\n",
    "- [Manila reading](https://newsinfo.inquirer.net/1383983/metro-manila-traffic-2nd-worst-in-the-world-report)\n",
    "\n",
    "*Hint:* Try thinking about external factors of the two cities that may be causing the difference!\n",
    "\n"
   ]
  },
  {
   "cell_type": "markdown",
   "id": "165125e9",
   "metadata": {
    "deletable": false,
    "editable": false
   },
   "source": [
    "<hr style=\"margin:0; border: 1px solid #FFBE0A;\"/><font color='#FFBE0A'>Written Answer:</font>"
   ]
  },
  {
   "cell_type": "markdown",
   "id": "93c13d3f",
   "metadata": {
    "deletable": false
   },
   "source": [
    "_Type your answer here, replacing this text._\n"
   ]
  },
  {
   "cell_type": "markdown",
   "id": "4364169b",
   "metadata": {
    "deletable": false,
    "editable": false
   },
   "source": [
    "<hr style=\"margin:0; border: 1px solid #FFBE0A;\"/>"
   ]
  },
  {
   "cell_type": "markdown",
   "id": "14f73e02",
   "metadata": {
    "deletable": false,
    "editable": false
   },
   "source": [
    "<!-- END QUESTION -->\n",
    "\n",
    "<hr style=\"margin-bottom: 0px; padding:0; border: 2px solid #500082;\"/>\n"
   ]
  },
  {
   "cell_type": "markdown",
   "id": "6f4ce3f8",
   "metadata": {
    "deletable": false,
    "editable": false
   },
   "source": [
    "## 4. Iris Varieties (10 pts)\n",
    "\n"
   ]
  },
  {
   "cell_type": "markdown",
   "id": "2b22294d",
   "metadata": {
    "deletable": false,
    "editable": false
   },
   "source": [
    "<font color='#B1008E'>\n",
    "    \n",
    "##### Learning objectives\n",
    "- Create plots to aid in exploring a new data set\n",
    "- Complete a more open-ended data visualization and analysis task\n",
    "</font>"
   ]
  },
  {
   "cell_type": "markdown",
   "id": "70e0cd27",
   "metadata": {
    "deletable": false,
    "editable": false
   },
   "source": [
    "<!-- BEGIN QUESTION -->\n",
    "\n",
    "#### Part 4.1 (10 pts)\n"
   ]
  },
  {
   "cell_type": "markdown",
   "id": "1b7b5209",
   "metadata": {
    "deletable": false,
    "editable": false
   },
   "source": [
    "The Iris dataset is a famous data set dating back to 1936.  It contains the sepal and petal lengths and widths for fifty flowers of three different varieties of irises (a type of flower).  Sepals and petals are identified in the figure below for the three varieties.  We provide an extra file `iris.csv` containing this data set in the lab this week.  All measurements are in cm.\n",
    "\n",
    "\n",
    "<img src=\"https://machinelearninghd.com/wp-content/uploads/2021/03/iris-dataset.png\" width=75%>\n",
    "\n",
    "This extra credit question is *very* open ended. Your task is simply this: perform exploratory data analysis on this data set.\n",
    "\n",
    "Giving such an open-ended problem gives you maximum flexibility for thinking and exploration, and also to simulate \"real life.\" \n",
    "To give you an idea of our expectations, you should try (and display) several types of plots to explore the data. Consider, for example, whether there are corrleations between sepal/petal length and width, and between sepal and petal dimensions.  Are some varieties more uniform in their petal/sepal dimensions?  Are some varieties generally larger than others?  You should comment on your approach and what you learn from the plots.  **Also, be sure each plot has appropriate titles and labels.**\n",
    "\n",
    "You may do as little or as much as you like in answering this question, but drawing perhaps around three interesting conclusions about the iris varieties will be sufficient to earn full credit.  More importantly, have fun exploring the data!\n",
    "\n",
    "*Note:* We give you one \"Markdown\" cell for text and one code cell for your Python code below.  You may add as many additional cells as you like.  Just click the `+` sign in this tab's toolbar to insert a new cell.  Then select \"Markdown\" from the toolbar's popup menu if you want the new cell to be for text, or \"Code\" if you want it to be for Python code.  Markdown cells can include basic formatting.  Click on any of our formatted text cells to see how to create lists, bold text, etc., or have a look [here](https://www.markdownguide.org/basic-syntax)."
   ]
  },
  {
   "cell_type": "markdown",
   "id": "591460bc",
   "metadata": {
    "deletable": false,
    "editable": false
   },
   "source": [
    "<hr style=\"margin:0; border: 1px solid #FFBE0A;\"/><font color='#FFBE0A'>Written Answer:</font>"
   ]
  },
  {
   "cell_type": "markdown",
   "id": "db709d32",
   "metadata": {
    "deletable": false
   },
   "source": [
    "_Type your answer here, replacing this text._\n"
   ]
  },
  {
   "cell_type": "markdown",
   "id": "1bfb53d8",
   "metadata": {
    "deletable": false,
    "editable": false
   },
   "source": [
    "<hr style=\"margin:0; border: 1px solid #FFBE0A;\"/>"
   ]
  },
  {
   "cell_type": "code",
   "execution_count": null,
   "id": "71c7e884",
   "metadata": {
    "deletable": false,
    "execution": {
     "iopub.execute_input": "2023-09-22T10:02:32.445414Z",
     "iopub.status.busy": "2023-09-22T10:02:32.445134Z",
     "iopub.status.idle": "2023-09-22T10:02:32.447824Z",
     "shell.execute_reply": "2023-09-22T10:02:32.447379Z"
    },
    "tags": []
   },
   "outputs": [],
   "source": [
    "# This is a code cell where you can get started on your work."
   ]
  },
  {
   "cell_type": "markdown",
   "id": "3a43631d",
   "metadata": {
    "deletable": false,
    "editable": false
   },
   "source": [
    "<!-- END QUESTION -->\n",
    "\n",
    "<hr class=\"m-0\" style=\"border: 3px solid #500082;\"/>\n",
    "\n",
    "# You're Done!\n",
    "Follow these steps to submit your work:\n",
    "* Run the tests and verify that they pass as you expect. \n",
    "* Choose **Save Notebook** from the **File** menu.\n",
    "* **Run the final cell** and click the link below to download the zip file. \n",
    "\n",
    "Once you have downloaded that file, go to [Gradescope](https://www.gradescope.com/) and submit the zip file to \n",
    "the corresponding assignment. For Lab N, the assignment will be called \"Lab N Autograder\".\n",
    "\n",
    "Once you have submitted, your Gradescope assignment should show you passing all the tests you passed in your assignment notebook.\n"
   ]
  },
  {
   "cell_type": "markdown",
   "id": "8b3d14ba",
   "metadata": {
    "deletable": false,
    "editable": false
   },
   "source": [
    "## Submission\n",
    "\n",
    "Make sure you have run all cells in your notebook in order before running the cell below, so that all images/graphs appear in the output. The cell below will generate a zip file for you to submit. **Please save before exporting!**"
   ]
  },
  {
   "cell_type": "code",
   "execution_count": null,
   "id": "f53bc805",
   "metadata": {
    "deletable": false,
    "editable": false
   },
   "outputs": [],
   "source": [
    "# Save your notebook first, then run this cell to export your submission.\n",
    "grader.export(run_tests=True)"
   ]
  },
  {
   "cell_type": "markdown",
   "id": "e8e5471f",
   "metadata": {},
   "source": [
    " "
   ]
  }
 ],
 "metadata": {
  "kernelspec": {
   "display_name": "Python 3 (ipykernel)",
   "language": "python",
   "name": "python3"
  },
  "language_info": {
   "codemirror_mode": {
    "name": "ipython",
    "version": 3
   },
   "file_extension": ".py",
   "mimetype": "text/x-python",
   "name": "python",
   "nbconvert_exporter": "python",
   "pygments_lexer": "ipython3",
   "version": "3.9.13"
  },
  "otter": {
   "OK_FORMAT": true,
   "tests": {
    "p1.1": {
     "has_hidden": false,
     "name": "p1.1",
     "points": 5,
     "suites": [
      {
       "cases": [
        {
         "code": ">>> check_str('unemployment.select(\\'Date\\', \\'NEI\\', \\'NEI-PTER\\').column(\\'Date\\').item(0) == \\'1994-01-01\\'', locals())\n",
         "failure_message": "check(unemployment.select('Date', 'NEI', 'NEI-PTER').column('Date').item(0) == '1994-01-01')",
         "hidden": false,
         "locked": false,
         "submit_only": false,
         "success_message": "check(unemployment.select('Date', 'NEI', 'NEI-PTER').column('Date').item(0) == '1994-01-01')"
        },
        {
         "code": ">>> check_str('unemployment.num_rows == 90', locals())\n",
         "failure_message": "check(unemployment.num_rows == 90)",
         "hidden": false,
         "locked": false,
         "submit_only": false,
         "success_message": "check(unemployment.num_rows == 90)"
        }
       ],
       "scored": true,
       "setup": "",
       "teardown": "",
       "type": "doctest"
      }
     ]
    },
    "p1.2": {
     "has_hidden": false,
     "name": "p1.2",
     "points": 5,
     "suites": [
      {
       "cases": [
        {
         "code": ">>> check_str('by_nei.column(\\'Date\\').item(0) == \\'2009-10-01\\'', locals())\n",
         "failure_message": "check(by_nei.column('Date').item(0) == '2009-10-01')",
         "hidden": false,
         "locked": false,
         "submit_only": false,
         "success_message": "check(by_nei.column('Date').item(0) == '2009-10-01')"
        },
        {
         "code": ">>> check_str('by_nei_pter.column(\\'Date\\').item(0) == \\'2009-10-01\\'', locals())\n",
         "failure_message": "check(by_nei_pter.column('Date').item(0) == '2009-10-01')",
         "hidden": false,
         "locked": false,
         "submit_only": false,
         "success_message": "check(by_nei_pter.column('Date').item(0) == '2009-10-01')"
        }
       ],
       "scored": true,
       "setup": "",
       "teardown": "",
       "type": "doctest"
      }
     ]
    },
    "p1.3": {
     "has_hidden": false,
     "name": "p1.3",
     "points": 5,
     "suites": [
      {
       "cases": [
        {
         "code": ">>> check_str('greatest_nei.num_rows == 10', locals())\n",
         "failure_message": "check(greatest_nei.num_rows == 10)",
         "hidden": false,
         "locked": false,
         "submit_only": false,
         "success_message": "check(greatest_nei.num_rows == 10)"
        },
        {
         "code": ">>> check_str('greatest_nei.column(\\'Date\\').item(0) == \\'2009-10-01\\'', locals())\n",
         "failure_message": "check(greatest_nei.column('Date').item(0) == '2009-10-01')",
         "hidden": false,
         "locked": false,
         "submit_only": false,
         "success_message": "check(greatest_nei.column('Date').item(0) == '2009-10-01')"
        }
       ],
       "scored": true,
       "setup": "",
       "teardown": "",
       "type": "doctest"
      }
     ]
    },
    "p1.4": {
     "has_hidden": false,
     "name": "p1.4",
     "points": 5,
     "suites": [
      {
       "cases": [
        {
         "code": ">>> check_str('len(pter) == 90', locals())\n",
         "failure_message": "check(len(pter) == 90)",
         "hidden": false,
         "locked": false,
         "submit_only": false,
         "success_message": "check(len(pter) == 90)"
        },
        {
         "code": ">>> check_str('pter.item(6) == approx(1.128199)', locals())\n",
         "failure_message": "check(pter.item(6) == approx(1.128199))",
         "hidden": false,
         "locked": false,
         "submit_only": false,
         "success_message": "check(pter.item(6) == approx(1.128199))"
        }
       ],
       "scored": true,
       "setup": "",
       "teardown": "",
       "type": "doctest"
      }
     ]
    },
    "p1.5": {
     "has_hidden": false,
     "name": "p1.5",
     "points": 5,
     "suites": [
      {
       "cases": [
        {
         "code": ">>> check_str('by_pter.column(\\'Date\\').item(0) == \\'2009-07-01\\'', locals())\n",
         "failure_message": "check(by_pter.column('Date').item(0) == '2009-07-01')",
         "hidden": false,
         "locked": false,
         "submit_only": false,
         "success_message": "check(by_pter.column('Date').item(0) == '2009-07-01')"
        },
        {
         "code": ">>> check_str('by_pter.column(\\'PTER\\').item(0) == approx(1.9315)', locals())\n",
         "failure_message": "check(by_pter.column('PTER').item(0) == approx(1.9315))",
         "hidden": false,
         "locked": false,
         "submit_only": false,
         "success_message": "check(by_pter.column('PTER').item(0) == approx(1.9315))"
        }
       ],
       "scored": true,
       "setup": "",
       "teardown": "",
       "type": "doctest"
      }
     ]
    },
    "p1.6": {
     "has_hidden": true,
     "name": "p1.6",
     "points": 0,
     "suites": [
      {
       "cases": [
        {
         "code": ">>> check_str('type(pter_over_time) == Table', locals())\n",
         "failure_message": "Be sure to store a new Table in the pter_over_time variable.",
         "hidden": false,
         "locked": false,
         "submit_only": false,
         "success_message": "check(type(pter_over_time) == Table)"
        },
        {
         "code": ">>> check_str('pter_over_time.column(\"Date\").item(0) == \\'1994-01-01\\'', locals())\n",
         "failure_message": "check(pter_over_time.column(\"Date\").item(0) == '1994-01-01')",
         "hidden": false,
         "locked": false,
         "submit_only": false,
         "success_message": "check(pter_over_time.column(\"Date\").item(0) == '1994-01-01')"
        }
       ],
       "scored": true,
       "setup": "",
       "teardown": "",
       "type": "doctest"
      }
     ]
    },
    "p1.7": {
     "has_hidden": true,
     "name": "p1.7",
     "points": 5,
     "suites": [
      {
       "cases": [
        {
         "code": ">>> check_str('type(highPTER) == bool', locals())\n",
         "failure_message": "check(type(highPTER) == bool)",
         "hidden": false,
         "locked": false,
         "submit_only": false,
         "success_message": "check(type(highPTER) == bool)"
        }
       ],
       "scored": true,
       "setup": "",
       "teardown": "",
       "type": "doctest"
      }
     ]
    },
    "p2.1": {
     "has_hidden": true,
     "name": "p2.1",
     "points": 5,
     "suites": [
      {
       "cases": [
        {
         "code": ">>> check_str('us_birth_rate in between_or_equal(0, 1)', locals())\n",
         "failure_message": "check(us_birth_rate in between_or_equal(0, 1))",
         "hidden": false,
         "locked": false,
         "submit_only": false,
         "success_message": "check(us_birth_rate in between_or_equal(0, 1))"
        }
       ],
       "scored": true,
       "setup": "",
       "teardown": "",
       "type": "doctest"
      }
     ]
    },
    "p2.2": {
     "has_hidden": true,
     "name": "p2.2",
     "points": 5,
     "suites": [
      {
       "cases": [
        {
         "code": ">>> check_str('movers.num_rows in between_or_equal(0, 52)', locals())\n",
         "failure_message": "check(movers.num_rows in between_or_equal(0, 52))",
         "hidden": false,
         "locked": false,
         "submit_only": false,
         "success_message": "check(movers.num_rows in between_or_equal(0, 52))"
        }
       ],
       "scored": true,
       "setup": "",
       "teardown": "",
       "type": "doctest"
      }
     ]
    },
    "p2.3": {
     "has_hidden": true,
     "name": "p2.3",
     "points": 5,
     "suites": [
      {
       "cases": [
        {
         "code": ">>> check_str('5e5 <= west_births <= 1e6', locals())\n",
         "failure_message": "check(5e5 <= west_births <= 1e6)",
         "hidden": false,
         "locked": false,
         "submit_only": false,
         "success_message": "check(5e5 <= west_births <= 1e6)"
        }
       ],
       "scored": true,
       "setup": "",
       "teardown": "",
       "type": "doctest"
      }
     ]
    },
    "p2.4": {
     "has_hidden": false,
     "name": "p2.4",
     "points": 5,
     "suites": [
      {
       "cases": [
        {
         "code": ">>> check_str('visualization in [1,2,3]', locals())\n",
         "failure_message": "visualization should be set to 1, 2, or 3.",
         "hidden": false,
         "locked": false,
         "submit_only": false,
         "success_message": "check(visualization in [1,2,3])"
        },
        {
         "code": ">>> check_str('visualization == 3', locals())\n",
         "failure_message": "check(visualization == 3)",
         "hidden": false,
         "locked": false,
         "submit_only": false,
         "success_message": "check(visualization == 3)"
        }
       ],
       "scored": true,
       "setup": "",
       "teardown": "",
       "type": "doctest"
      }
     ]
    },
    "p2.6": {
     "has_hidden": true,
     "name": "p2.6",
     "points": 5,
     "suites": [
      {
       "cases": [
        {
         "code": ">>> check_str('type(assoc) == bool', locals())\n",
         "failure_message": "assoc should be set to True or False.",
         "hidden": false,
         "locked": false,
         "submit_only": false,
         "success_message": "check(type(assoc) == bool)"
        }
       ],
       "scored": true,
       "setup": "",
       "teardown": "",
       "type": "doctest"
      }
     ]
    },
    "p3.1": {
     "has_hidden": false,
     "name": "p3.1",
     "points": 0,
     "suites": [
      {
       "cases": [
        {
         "code": ">>> check_str('boston_plot.get_title()==\\'Boston Uber Rides\\'', locals())\n",
         "failure_message": "check(boston_plot.get_title()=='Boston Uber Rides')",
         "hidden": false,
         "locked": false,
         "submit_only": false,
         "success_message": "check(boston_plot.get_title()=='Boston Uber Rides')"
        }
       ],
       "scored": true,
       "setup": "",
       "teardown": "",
       "type": "doctest"
      }
     ]
    },
    "p3.2": {
     "has_hidden": false,
     "name": "p3.2",
     "points": 5,
     "suites": [
      {
       "cases": [
        {
         "code": ">>> check_str('rides_between_20_and_25 in between(14,16)', locals())\n",
         "failure_message": "check(rides_between_20_and_25 in between(14,16))",
         "hidden": false,
         "locked": false,
         "submit_only": false,
         "success_message": "check(rides_between_20_and_25 in between(14,16))"
        }
       ],
       "scored": true,
       "setup": "",
       "teardown": "",
       "type": "doctest"
      }
     ]
    },
    "p3.3": {
     "has_hidden": false,
     "name": "p3.3",
     "points": 0,
     "suites": [
      {
       "cases": [
        {
         "code": ">>> check_str('manila_plot.get_title() == \\'Manila Uber Rides\\'', locals())\n",
         "failure_message": "check(manila_plot.get_title() == 'Manila Uber Rides')",
         "hidden": false,
         "locked": false,
         "submit_only": false,
         "success_message": "check(manila_plot.get_title() == 'Manila Uber Rides')"
        },
        {
         "code": ">>> check_str('manila_plot.get_ylim() == (0,0.05)', locals())\n",
         "failure_message": "check(manila_plot.get_ylim() == (0,0.05))",
         "hidden": false,
         "locked": false,
         "submit_only": false,
         "success_message": "check(manila_plot.get_ylim() == (0,0.05))"
        }
       ],
       "scored": true,
       "setup": "",
       "teardown": "",
       "type": "doctest"
      }
     ]
    },
    "p3.4": {
     "has_hidden": true,
     "name": "p3.4",
     "points": 5,
     "suites": [
      {
       "cases": [
        {
         "code": ">>> check_str('boston_under_15 in between_or_equal(0, 100)', locals())\n",
         "failure_message": "check(boston_under_15 in between_or_equal(0, 100))",
         "hidden": false,
         "locked": false,
         "submit_only": false,
         "success_message": "check(boston_under_15 in between_or_equal(0, 100))"
        },
        {
         "code": ">>> check_str('manila_under_15 in between_or_equal(0, 100)', locals())\n",
         "failure_message": "check(manila_under_15 in between_or_equal(0, 100))",
         "hidden": false,
         "locked": false,
         "submit_only": false,
         "success_message": "check(manila_under_15 in between_or_equal(0, 100))"
        }
       ],
       "scored": true,
       "setup": "",
       "teardown": "",
       "type": "doctest"
      }
     ]
    },
    "p3.5": {
     "has_hidden": true,
     "name": "p3.5",
     "points": 5,
     "suites": [
      {
       "cases": [
        {
         "code": ">>> check_str('boston_median_bin in [1,2,3,4,5]', locals())\n",
         "failure_message": "check(boston_median_bin in [1,2,3,4,5])",
         "hidden": false,
         "locked": false,
         "submit_only": false,
         "success_message": "check(boston_median_bin in [1,2,3,4,5])"
        }
       ],
       "scored": true,
       "setup": "",
       "teardown": "",
       "type": "doctest"
      }
     ]
    }
   }
  },
  "vscode": {
   "interpreter": {
    "hash": "e9a7af6fc709cc25e111b0d6e28f738a78907138b7e48b682edcf6dfb7dc8bee"
   }
  }
 },
 "nbformat": 4,
 "nbformat_minor": 5
}
