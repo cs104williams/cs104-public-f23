{
 "cells": [
  {
   "cell_type": "code",
   "execution_count": null,
   "id": "63cc09fc",
   "metadata": {
    "deletable": false,
    "editable": false
   },
   "outputs": [],
   "source": [
    "# Initialize Otter\n",
    "import otter\n",
    "grader = otter.Notebook(\"pre07.ipynb\")"
   ]
  },
  {
   "cell_type": "markdown",
   "id": "1bac00f8",
   "metadata": {
    "deletable": false,
    "editable": false
   },
   "source": [
    "<table style=\"width: 100%;\">\n",
    "<tr style=\"background-color: transparent;\">\n",
    "<td width=\"100px\"><img src=\"https://cs104williams.github.io/assets/cs104-logo.png\" width=\"90px\" style=\"text-align: center\"/></td>\n",
    "<td>\n",
    "  <p style=\"margin-bottom: 0px; text-align: left; font-size: 18pt;\"><strong>CSCI 104: Data Science and Computing for All</strong><br>\n",
    "                Williams College<br>\n",
    "                Fall 2023</p>\n",
    "</td>\n",
    "</tr>\n"
   ]
  },
  {
   "cell_type": "markdown",
   "id": "23b8512f",
   "metadata": {
    "deletable": false,
    "editable": false,
    "tags": []
   },
   "source": [
    "# Prelab 7: Hypothesis Testing and P-values"
   ]
  },
  {
   "cell_type": "markdown",
   "id": "cfa28ee2",
   "metadata": {
    "deletable": false,
    "editable": false,
    "tags": []
   },
   "source": [
    "**Instructions**\n",
    "- Before you begin, execute the cell at the TOP of the notebook to load the provided tests, as well as the following cell to setup the notebook by importing some helpful libraries. Each time you start your server, you will need to execute these cells again.  \n",
    "- Be sure to consult your [Python Reference](https://cs104williams.github.io/assets/python-library-ref.html)!\n",
    "- Complete this notebook by filling in the cells provided. \n",
    "- Please be sure to not re-assign variables throughout the notebook.  For example, if you use `max_temperature` in your answer to one question, do not reassign it later on. Otherwise, you will fail tests that you thought you were passing previously.\n",
    "- There are no hidden tests in prelabs.\n",
    "\n",
    "<hr/>\n",
    "<h2>Setup</h2>\n"
   ]
  },
  {
   "cell_type": "code",
   "execution_count": null,
   "id": "5a06db95",
   "metadata": {
    "deletable": false,
    "editable": false,
    "execution": {
     "iopub.execute_input": "2023-11-01T01:16:43.665986Z",
     "iopub.status.busy": "2023-11-01T01:16:43.665696Z",
     "iopub.status.idle": "2023-11-01T01:16:45.068564Z",
     "shell.execute_reply": "2023-11-01T01:16:45.067822Z"
    },
    "tags": []
   },
   "outputs": [],
   "source": [
    "# Run this cell to set up the notebook.\n",
    "# These lines import the numpy, datascience, and cs104 libraries.\n",
    "\n",
    "import numpy as np\n",
    "from datascience import *\n",
    "from cs104 import *\n",
    "%matplotlib inline"
   ]
  },
  {
   "cell_type": "markdown",
   "id": "9723bf03",
   "metadata": {
    "deletable": false,
    "editable": false
   },
   "source": [
    "<hr style=\"margin-bottom: 0px; padding:0; border: 2px solid #500082;\"/>\n"
   ]
  },
  {
   "cell_type": "markdown",
   "id": "a4b88b9f",
   "metadata": {
    "deletable": false,
    "editable": false,
    "tags": []
   },
   "source": [
    "## 1. Incubating green sea turtle eggs (20 pts)\n",
    "\n"
   ]
  },
  {
   "cell_type": "markdown",
   "id": "04a1fd50",
   "metadata": {
    "deletable": false,
    "editable": false,
    "tags": []
   },
   "source": [
    "<font color='#B1008E'>\n",
    "    \n",
    "##### Learning objectives\n",
    "- Construct an inference problem using a null and alternative hypothesis.\n",
    "- Use `simulate_sample_statistic` to evaluate the model for the null hypothesis.\n",
    "- Determine whether observed data is consistent with the null model.\n",
    "</font>"
   ]
  },
  {
   "cell_type": "markdown",
   "id": "4e597f8d",
   "metadata": {
    "deletable": false,
    "editable": false
   },
   "source": [
    "Green sea turtles exhibit temperature-dependent sex determination.  That is, the temperature at which their eggs are incubated impacts the sex of the hatchlings.  Incubating at 29.3° Celcius leads to a 50% chance that each hatchling is female, but higher temperatures increase the chance of a hatchling being female.  Even an increase of a couple degrees can cause the vast majority of eggs to hatch as females.\n",
    "\n",
    "**The scenario:** Steve and Katie put 100 green sea turtle eggs in an incubator set to 29.3°.\n",
    "When the eggs hatch, they discover they have 67 females and 33 males.\n",
    "They are suspicious that their incubator's temperature sensor is not accurate.  Should they send it out for repairs?\n",
    "\n",
    "**The Null and Alt hypotheses:**  Let's decide whether the incubator is broken via hypothesis testing.  We begin with the following two hypotheses:\n",
    "* **Null hypothesis**: The incubator's temperature control properly maintains 29.3°, and each hatchling has a 50% chance of being female.  \n",
    "* **Alt. hypothesis**: The incubator is temperature control is broken and does not maintains 29.3°, and each hatchling does not have a 50% chance of being female.\n",
    "\n",
    "**Test Statistic:**  Under the null hypothesis, we would expect 50% of our incubated hatchlings to be female, with any variation due to random chance.  We'll design a statistic to measure how close a sample is to that expectation:\n",
    "\n",
    "    abs(percent-female-in-sample - 50%)"
   ]
  },
  {
   "cell_type": "markdown",
   "id": "9ed3a896",
   "metadata": {
    "deletable": false,
    "editable": false
   },
   "source": [
    "#### Part 1.1 Sampling under null hypothesis (5 pts)\n"
   ]
  },
  {
   "cell_type": "markdown",
   "id": "ba45ac70",
   "metadata": {
    "deletable": false,
    "editable": false
   },
   "source": [
    "We begin the model for the null hypothesis by creating an array containing the proportions of female and male hatchlings incubated at 29.3°."
   ]
  },
  {
   "cell_type": "code",
   "execution_count": null,
   "id": "63a0d7a0",
   "metadata": {
    "deletable": false,
    "editable": false,
    "execution": {
     "iopub.execute_input": "2023-11-01T01:16:45.072138Z",
     "iopub.status.busy": "2023-11-01T01:16:45.071803Z",
     "iopub.status.idle": "2023-11-01T01:16:45.074943Z",
     "shell.execute_reply": "2023-11-01T01:16:45.074471Z"
    },
    "tags": []
   },
   "outputs": [],
   "source": [
    "hatchling_proportions = make_array(0.5, 0.5)"
   ]
  },
  {
   "cell_type": "markdown",
   "id": "d234974a",
   "metadata": {
    "deletable": false,
    "editable": false
   },
   "source": [
    "Write the following function `sample_hatchlings_under_null` to simulate samples from the null hypothesis. \n",
    "\n",
    "In this function, use `sample_proportions` to create a sample of a given size using the `hatchling_proprtions` (the null hypothesis proportions). The output of this function is array with two items: the **percent** of females in the sample and the **percent** of males in the sample."
   ]
  },
  {
   "cell_type": "code",
   "execution_count": null,
   "id": "a1385ca3",
   "metadata": {
    "deletable": false,
    "execution": {
     "iopub.execute_input": "2023-11-01T01:16:45.077868Z",
     "iopub.status.busy": "2023-11-01T01:16:45.077496Z",
     "iopub.status.idle": "2023-11-01T01:16:45.083079Z",
     "shell.execute_reply": "2023-11-01T01:16:45.082624Z"
    },
    "tags": []
   },
   "outputs": [],
   "source": [
    "def sample_hatchlings_under_null(sample_size):\n",
    "    \"\"\"\n",
    "    Returns a sample of size sample_size as \n",
    "    an array of [% female, % male].\n",
    "    \"\"\"\n",
    "    ...\n",
    "\n",
    "# One sample with sample size 100 \n",
    "sample_hatchlings_under_null(100)"
   ]
  },
  {
   "cell_type": "code",
   "execution_count": null,
   "id": "c956498f",
   "metadata": {
    "deletable": false,
    "editable": false
   },
   "outputs": [],
   "source": [
    "grader.check(\"p1.1\")"
   ]
  },
  {
   "cell_type": "markdown",
   "id": "725bb10d",
   "metadata": {
    "deletable": false,
    "editable": false
   },
   "source": [
    "#### Part 1.2 Implement the test statistic (5 pts)\n"
   ]
  },
  {
   "cell_type": "markdown",
   "id": "dfabd3e1",
   "metadata": {
    "deletable": false,
    "editable": false
   },
   "source": [
    "Now, implement the function `abs_difference_from_null`. This function returns a statistic on the sample which computes how far a sample's female percentage is from the null model's parameter -- 50% of hatchlings will be female."
   ]
  },
  {
   "cell_type": "code",
   "execution_count": null,
   "id": "67b58282",
   "metadata": {
    "deletable": false,
    "execution": {
     "iopub.execute_input": "2023-11-01T01:16:45.103162Z",
     "iopub.status.busy": "2023-11-01T01:16:45.102964Z",
     "iopub.status.idle": "2023-11-01T01:16:45.105732Z",
     "shell.execute_reply": "2023-11-01T01:16:45.105256Z"
    },
    "tags": []
   },
   "outputs": [],
   "source": [
    "def abs_difference_from_null_parameter(sample):\n",
    "    \"\"\"\n",
    "    Takes a sample as an array [% female, % male] and returns\n",
    "    the absolute difference between % female in the sample and 50%\n",
    "    \"\"\"    \n",
    "    ..."
   ]
  },
  {
   "cell_type": "code",
   "execution_count": null,
   "id": "ecbdd80a",
   "metadata": {
    "deletable": false,
    "editable": false
   },
   "outputs": [],
   "source": [
    "grader.check(\"p1.2\")"
   ]
  },
  {
   "cell_type": "markdown",
   "id": "ddd230ef",
   "metadata": {
    "deletable": false,
    "editable": false
   },
   "source": [
    "#### Part 1.3 Statistic for observed sample (5 pts)\n"
   ]
  },
  {
   "cell_type": "markdown",
   "id": "a8911838",
   "metadata": {
    "deletable": false,
    "editable": false
   },
   "source": [
    "Use the function you just wrote to calculate this statistic for Steve and Katie's observed brood of 67% female and 33% male."
   ]
  },
  {
   "cell_type": "code",
   "execution_count": null,
   "id": "f21750f6",
   "metadata": {
    "deletable": false,
    "execution": {
     "iopub.execute_input": "2023-11-01T01:16:45.124490Z",
     "iopub.status.busy": "2023-11-01T01:16:45.124297Z",
     "iopub.status.idle": "2023-11-01T01:16:45.127389Z",
     "shell.execute_reply": "2023-11-01T01:16:45.126876Z"
    },
    "tags": []
   },
   "outputs": [],
   "source": [
    "steve_and_katie_brood_percents = make_array(67, 33)\n",
    "steve_and_katie_brood_statistic = ..."
   ]
  },
  {
   "cell_type": "code",
   "execution_count": null,
   "id": "6ce77251",
   "metadata": {
    "deletable": false,
    "editable": false
   },
   "outputs": [],
   "source": [
    "grader.check(\"p1.3\")"
   ]
  },
  {
   "cell_type": "markdown",
   "id": "f56f3fda",
   "metadata": {
    "deletable": false,
    "editable": false,
    "tags": []
   },
   "source": [
    "#### Part 1.4 Favor null or alt hypothesis? (5 pts)\n"
   ]
  },
  {
   "cell_type": "markdown",
   "id": "d0c35e86",
   "metadata": {
    "deletable": false,
    "editable": false
   },
   "source": [
    "We are now ready to simulate the null hypothesis and evaluate whether Steve's and Katie's brood is consistent with its assumptions.  The following code does that using our two helper functions, a sample size of 100, and 10,000 trials."
   ]
  },
  {
   "cell_type": "code",
   "execution_count": null,
   "id": "9d8c2f4b",
   "metadata": {
    "deletable": false,
    "editable": false,
    "execution": {
     "iopub.execute_input": "2023-11-01T01:16:45.135643Z",
     "iopub.status.busy": "2023-11-01T01:16:45.135450Z",
     "iopub.status.idle": "2023-11-01T01:16:45.537161Z",
     "shell.execute_reply": "2023-11-01T01:16:45.536576Z"
    },
    "tags": []
   },
   "outputs": [],
   "source": [
    "hatchling_statistics = simulate_sample_statistic(sample_hatchlings_under_null, 100, abs_difference_from_null_parameter, 10000)\n",
    "\n",
    "plot = Table().with_columns('Statistic: abs(percent female - 50)', hatchling_statistics).hist()\n",
    "plot.set_title('Null hypothesis empirical distrubtion')\n",
    "\n",
    "# A red dot for Steve's and Katie's observed brood.\n",
    "plot.dot(steve_and_katie_brood_statistic)"
   ]
  },
  {
   "cell_type": "markdown",
   "id": "452d68be",
   "metadata": {
    "deletable": false,
    "editable": false
   },
   "source": [
    "Set reject_null to True or False to indicate whether or not we can reject the null hypothesis based on Steve and Katie's brood.  In this case, it should be obvious whether we can reject it without using p-values."
   ]
  },
  {
   "cell_type": "code",
   "execution_count": null,
   "id": "d789ae33",
   "metadata": {
    "deletable": false,
    "execution": {
     "iopub.execute_input": "2023-11-01T01:16:45.540056Z",
     "iopub.status.busy": "2023-11-01T01:16:45.539818Z",
     "iopub.status.idle": "2023-11-01T01:16:45.542535Z",
     "shell.execute_reply": "2023-11-01T01:16:45.542077Z"
    },
    "tags": []
   },
   "outputs": [],
   "source": [
    "reject_null = ..."
   ]
  },
  {
   "cell_type": "code",
   "execution_count": null,
   "id": "d0f74332",
   "metadata": {
    "deletable": false,
    "editable": false
   },
   "outputs": [],
   "source": [
    "grader.check(\"p1.4\")"
   ]
  },
  {
   "cell_type": "markdown",
   "id": "14c770ba",
   "metadata": {
    "deletable": false,
    "editable": false
   },
   "source": [
    "<hr style=\"margin-bottom: 0px; padding:0; border: 2px solid #500082;\"/>\n"
   ]
  },
  {
   "cell_type": "markdown",
   "id": "da29325a",
   "metadata": {
    "deletable": false,
    "editable": false,
    "tags": []
   },
   "source": [
    "## 2. Calculating p-values (30 pts)\n",
    "\n"
   ]
  },
  {
   "cell_type": "markdown",
   "id": "d6ea34fd",
   "metadata": {
    "deletable": false,
    "editable": false,
    "tags": []
   },
   "source": [
    "<font color='#B1008E'>\n",
    "    \n",
    "##### Learning objectives\n",
    "- Build intuition for a p-value \n",
    "- Implement the function that calculates a p-value.\n",
    "</font>"
   ]
  },
  {
   "cell_type": "markdown",
   "id": "9c35bad1",
   "metadata": {
    "deletable": false,
    "editable": false
   },
   "source": [
    "#### Part 2.1 Definitions (5 pts)\n"
   ]
  },
  {
   "cell_type": "markdown",
   "id": "bfccf99c",
   "metadata": {
    "deletable": false,
    "editable": false
   },
   "source": [
    "Assign the variable `answer` below to the integer that correponds to the **true** statement. \n",
    "\n",
    "1. A **p-value** is the probability that the null hypothesis is true.\n",
    "\n",
    "2. A **p-value** is the probability that the alternative is true. \n",
    "\n",
    "3. A **p-value** is the probability under the null hypothesis of obtaining a statistic at least as extreme as the observed statistic. \n",
    "\n",
    "4. A **p-value** is the probability the observed statistic is produced by random chance alone. \n"
   ]
  },
  {
   "cell_type": "code",
   "execution_count": null,
   "id": "f50a66fc",
   "metadata": {
    "deletable": false,
    "execution": {
     "iopub.execute_input": "2023-11-01T01:16:45.551138Z",
     "iopub.status.busy": "2023-11-01T01:16:45.550943Z",
     "iopub.status.idle": "2023-11-01T01:16:45.553411Z",
     "shell.execute_reply": "2023-11-01T01:16:45.552966Z"
    },
    "tags": []
   },
   "outputs": [],
   "source": [
    "answer = ..."
   ]
  },
  {
   "cell_type": "code",
   "execution_count": null,
   "id": "c842cd11",
   "metadata": {
    "deletable": false,
    "editable": false
   },
   "outputs": [],
   "source": [
    "grader.check(\"p2.1\")"
   ]
  },
  {
   "cell_type": "markdown",
   "id": "fd43569f",
   "metadata": {
    "deletable": false,
    "editable": false
   },
   "source": [
    "#### Part 2.2 Intuition of \"extreme\" values (5 pts)\n"
   ]
  },
  {
   "cell_type": "markdown",
   "id": "3abaa147",
   "metadata": {
    "deletable": false,
    "editable": false
   },
   "source": [
    "Here, we present a tiny subset of data from a sea turtle egg simulation (similar to the large simulation we ran above).  \n",
    "\n",
    "This data reflects that:\n",
    "- We simulated statistics from the null hypothesis for ten trials.  These are recorded in `tiny_simulated_statistics`.  \n",
    "- In this new observed sample, Steve and Katie observed 60% females. Since the null hypothesis parameter is 50% females, this gives a statistic of 10 (recorded in `tiny_observed_statistic`). "
   ]
  },
  {
   "cell_type": "code",
   "execution_count": null,
   "id": "e951b4f1",
   "metadata": {
    "deletable": false,
    "editable": false,
    "execution": {
     "iopub.execute_input": "2023-11-01T01:16:45.566521Z",
     "iopub.status.busy": "2023-11-01T01:16:45.566333Z",
     "iopub.status.idle": "2023-11-01T01:16:45.569312Z",
     "shell.execute_reply": "2023-11-01T01:16:45.568805Z"
    },
    "tags": []
   },
   "outputs": [],
   "source": [
    "# No need to change anything in this cell, just run\n",
    "tiny_simulated_statistics = make_array(4, 4, 6, 8, 8, 9, 9, 10, 11, 12) \n",
    "tiny_observed_statistic = 10"
   ]
  },
  {
   "cell_type": "markdown",
   "id": "0e0e9b1f",
   "metadata": {
    "deletable": false,
    "editable": false
   },
   "source": [
    "Without using any code, look at the array above above and count how many elements of  `tiny_simulated_statistics` are the \"same or more extreme\" (greater than or equal to) than `tiny_observed_statistic`. \n",
    "\n",
    "Assign your answer to `count_more_extreme` below."
   ]
  },
  {
   "cell_type": "code",
   "execution_count": null,
   "id": "0b1a6daa",
   "metadata": {
    "deletable": false,
    "execution": {
     "iopub.execute_input": "2023-11-01T01:16:45.571976Z",
     "iopub.status.busy": "2023-11-01T01:16:45.571786Z",
     "iopub.status.idle": "2023-11-01T01:16:45.574247Z",
     "shell.execute_reply": "2023-11-01T01:16:45.573827Z"
    },
    "tags": []
   },
   "outputs": [],
   "source": [
    "count_more_extreme = ..."
   ]
  },
  {
   "cell_type": "code",
   "execution_count": null,
   "id": "5963e675",
   "metadata": {
    "deletable": false,
    "editable": false
   },
   "outputs": [],
   "source": [
    "grader.check(\"p2.2\")"
   ]
  },
  {
   "cell_type": "markdown",
   "id": "d9697995",
   "metadata": {
    "deletable": false,
    "editable": false
   },
   "source": [
    "#### Part 2.3 Calculating p-values (5 pts)\n"
   ]
  },
  {
   "cell_type": "markdown",
   "id": "19aa4279",
   "metadata": {
    "deletable": false,
    "editable": false
   },
   "source": [
    "The p-value is a proportion. Specifically, it is the proportion of `tiny_simulated_statistics` that are \"same or more extreme\" than `tiny_observed_statistic`.  \n",
    "\n",
    "Use `count_more_extreme` and the `tiny_simulated_statistics` array to calculate the p-value. "
   ]
  },
  {
   "cell_type": "code",
   "execution_count": null,
   "id": "6ab83719",
   "metadata": {
    "deletable": false,
    "execution": {
     "iopub.execute_input": "2023-11-01T01:16:45.588309Z",
     "iopub.status.busy": "2023-11-01T01:16:45.588082Z",
     "iopub.status.idle": "2023-11-01T01:16:45.591230Z",
     "shell.execute_reply": "2023-11-01T01:16:45.590802Z"
    },
    "tags": []
   },
   "outputs": [],
   "source": [
    "p_value = ...\n",
    "print(\"The p-value is\", p_value)"
   ]
  },
  {
   "cell_type": "code",
   "execution_count": null,
   "id": "f3a8965d",
   "metadata": {
    "deletable": false,
    "editable": false
   },
   "outputs": [],
   "source": [
    "grader.check(\"p2.3\")"
   ]
  },
  {
   "cell_type": "markdown",
   "id": "47cbaf16",
   "metadata": {
    "deletable": false,
    "editable": false
   },
   "source": [
    "#### Part 2.4 Writing a generic p-value function (5 pts)\n"
   ]
  },
  {
   "cell_type": "markdown",
   "id": "9a180b39",
   "metadata": {
    "deletable": false,
    "editable": false
   },
   "source": [
    "Congrats! You calculated your first p-value! Now that you understand what a p-value is, let's use a fundamental principle of computing, *abstraction*. Write a function below, called `empirical_pvalue`,  that calculates a p-value given the following two arguments: \n",
    "- `null_statistics`: An array where each item in the array is the statistic for a single sample simulated from the null hypothesis\n",
    "- `observed_statistic`: A float that is the statistic for the observed data. \n",
    "\n",
    "You will use this function many times in this lab and future labs. "
   ]
  },
  {
   "cell_type": "code",
   "execution_count": null,
   "id": "731b41c7",
   "metadata": {
    "deletable": false,
    "execution": {
     "iopub.execute_input": "2023-11-01T01:16:45.605050Z",
     "iopub.status.busy": "2023-11-01T01:16:45.604820Z",
     "iopub.status.idle": "2023-11-01T01:16:45.607883Z",
     "shell.execute_reply": "2023-11-01T01:16:45.607416Z"
    },
    "tags": []
   },
   "outputs": [],
   "source": [
    "def empirical_pvalue(null_statistics, observed_statistic): \n",
    "    \"\"\"\n",
    "    Return the proportion of the null statistics that are greater than \n",
    "    or equal to the observed statistic.\n",
    "    \"\"\"\n",
    "    ..."
   ]
  },
  {
   "cell_type": "code",
   "execution_count": null,
   "id": "abeb9432",
   "metadata": {
    "deletable": false,
    "execution": {
     "iopub.execute_input": "2023-11-01T01:16:45.610255Z",
     "iopub.status.busy": "2023-11-01T01:16:45.610059Z",
     "iopub.status.idle": "2023-11-01T01:16:45.613750Z",
     "shell.execute_reply": "2023-11-01T01:16:45.613298Z"
    },
    "tags": []
   },
   "outputs": [],
   "source": [
    "# Check that your function gives the same pvalue you calculated\n",
    "empirical_pvalue(tiny_simulated_statistics, tiny_observed_statistic)"
   ]
  },
  {
   "cell_type": "code",
   "execution_count": null,
   "id": "cf392ba3",
   "metadata": {
    "deletable": false,
    "editable": false
   },
   "outputs": [],
   "source": [
    "grader.check(\"p2.4\")"
   ]
  },
  {
   "cell_type": "markdown",
   "id": "c3929588",
   "metadata": {
    "deletable": false,
    "editable": false,
    "tags": []
   },
   "source": [
    "#### Part 2.5  P-value for Steve and Katie's brood (5 pts)\n"
   ]
  },
  {
   "cell_type": "markdown",
   "id": "6d16c68e",
   "metadata": {
    "deletable": false,
    "editable": false
   },
   "source": [
    "Let's now compute the p-value for Steve and Katie's observed brood in Question 1.  We repeat the following code to show the null hypothesis empirical distribution and the observed data:"
   ]
  },
  {
   "cell_type": "code",
   "execution_count": null,
   "id": "6e42db40",
   "metadata": {
    "deletable": false,
    "editable": false,
    "execution": {
     "iopub.execute_input": "2023-11-01T01:16:45.633086Z",
     "iopub.status.busy": "2023-11-01T01:16:45.632895Z",
     "iopub.status.idle": "2023-11-01T01:16:45.951591Z",
     "shell.execute_reply": "2023-11-01T01:16:45.951091Z"
    },
    "tags": []
   },
   "outputs": [],
   "source": [
    "plot = Table().with_columns('Statistic: abs(percent female - 50)', hatchling_statistics).hist(left_end=steve_and_katie_brood_statistic)\n",
    "plot.set_title('Null hypothesis empirical distrubtion')\n",
    "\n",
    "# A red dot for Steve's and Katie's observed brood.\n",
    "plot.dot(steve_and_katie_brood_statistic)"
   ]
  },
  {
   "cell_type": "markdown",
   "id": "cdc0adb7",
   "metadata": {
    "deletable": false,
    "editable": false
   },
   "source": [
    "Using your `empirical_pvalue` function, compute the p-value for `steve_and_katie_brood_statistic`."
   ]
  },
  {
   "cell_type": "code",
   "execution_count": null,
   "id": "77080ed4",
   "metadata": {
    "deletable": false,
    "execution": {
     "iopub.execute_input": "2023-11-01T01:16:45.954520Z",
     "iopub.status.busy": "2023-11-01T01:16:45.954288Z",
     "iopub.status.idle": "2023-11-01T01:16:45.957962Z",
     "shell.execute_reply": "2023-11-01T01:16:45.957513Z"
    },
    "tags": []
   },
   "outputs": [],
   "source": [
    "p_value = ...\n",
    "p_value"
   ]
  },
  {
   "cell_type": "code",
   "execution_count": null,
   "id": "e7ef1bf9",
   "metadata": {
    "deletable": false,
    "editable": false
   },
   "outputs": [],
   "source": [
    "grader.check(\"p2.5\")"
   ]
  },
  {
   "cell_type": "markdown",
   "id": "32ea49ad",
   "metadata": {
    "deletable": false,
    "editable": false,
    "tags": []
   },
   "source": [
    "In this case, we can easily reject the null hypothesis with a 5% (or even a 1%) p-value cutoff."
   ]
  },
  {
   "cell_type": "markdown",
   "id": "bf3c55cc",
   "metadata": {
    "deletable": false,
    "editable": false,
    "tags": []
   },
   "source": [
    "#### Part 2.6  P-value for a different brood (5 pts)\n"
   ]
  },
  {
   "cell_type": "markdown",
   "id": "8f327ab8",
   "metadata": {
    "deletable": false,
    "editable": false
   },
   "source": [
    "Suppose Steve and Katie ended up with 59 females and 31 males.  The following computes the statistic for this observation and plots it as before."
   ]
  },
  {
   "cell_type": "code",
   "execution_count": null,
   "id": "e4d5794b",
   "metadata": {
    "deletable": false,
    "editable": false,
    "execution": {
     "iopub.execute_input": "2023-11-01T01:16:45.966676Z",
     "iopub.status.busy": "2023-11-01T01:16:45.966467Z",
     "iopub.status.idle": "2023-11-01T01:16:46.236970Z",
     "shell.execute_reply": "2023-11-01T01:16:46.236346Z"
    },
    "tags": []
   },
   "outputs": [],
   "source": [
    "steve_and_katie_brood_statistic2 = abs_difference_from_null_parameter(make_array(0.59, 0.41) * 100)\n",
    "\n",
    "plot = Table().with_columns('Statistic: abs(percent female - 50)', hatchling_statistics).hist(left_end=steve_and_katie_brood_statistic2)\n",
    "plot.set_title('Null hypothesis empirical distrubtion')\n",
    "\n",
    "# A red dot for Steve's and Katie's observed brood.\n",
    "plot.dot(steve_and_katie_brood_statistic2)"
   ]
  },
  {
   "cell_type": "markdown",
   "id": "23ba037c",
   "metadata": {
    "deletable": false,
    "editable": false
   },
   "source": [
    "Using your `empirical_pvalue` function, compute the p-value for `steve_and_katie_brood_statistic2`."
   ]
  },
  {
   "cell_type": "code",
   "execution_count": null,
   "id": "44f62bac",
   "metadata": {
    "deletable": false,
    "execution": {
     "iopub.execute_input": "2023-11-01T01:16:46.240397Z",
     "iopub.status.busy": "2023-11-01T01:16:46.240134Z",
     "iopub.status.idle": "2023-11-01T01:16:46.244615Z",
     "shell.execute_reply": "2023-11-01T01:16:46.244060Z"
    },
    "tags": []
   },
   "outputs": [],
   "source": [
    "p_value2 = ...\n",
    "p_value2"
   ]
  },
  {
   "cell_type": "code",
   "execution_count": null,
   "id": "c9ff5aee",
   "metadata": {
    "deletable": false,
    "editable": false
   },
   "outputs": [],
   "source": [
    "grader.check(\"p2.6\")"
   ]
  },
  {
   "cell_type": "markdown",
   "id": "08f73fbd",
   "metadata": {
    "deletable": false,
    "editable": false
   },
   "source": [
    "In this case, we cannot reject the null hypothesis because the observation is above the conventional 5% p-value cutoff."
   ]
  },
  {
   "cell_type": "markdown",
   "id": "296973c0",
   "metadata": {
    "deletable": false,
    "editable": false
   },
   "source": [
    "<hr class=\"m-0\" style=\"border: 3px solid #500082;\"/>\n",
    "\n",
    "# You're Done!\n",
    "Follow these steps to submit your work:\n",
    "* Run the tests and verify that they pass as you expect. \n",
    "* Choose **Save Notebook** from the **File** menu.\n",
    "* **Run the final cell** and click the link below to download the zip file. \n",
    "\n",
    "Once you have downloaded that file, go to [Gradescope](https://www.gradescope.com/) and submit the zip file to \n",
    "the corresponding assignment. For Prelab N, the assignment will be called \"Prelab N Autograder\".\n",
    "\n",
    "Once you have submitted, your Gradescope assignment should show you passing all the tests you passed in your assignment notebook.\n"
   ]
  },
  {
   "cell_type": "markdown",
   "id": "0058f390",
   "metadata": {
    "deletable": false,
    "editable": false
   },
   "source": [
    "## Submission\n",
    "\n",
    "Make sure you have run all cells in your notebook in order before running the cell below, so that all images/graphs appear in the output. The cell below will generate a zip file for you to submit. **Please save before exporting!**"
   ]
  },
  {
   "cell_type": "code",
   "execution_count": null,
   "id": "c60d9b5e",
   "metadata": {
    "deletable": false,
    "editable": false
   },
   "outputs": [],
   "source": [
    "# Save your notebook first, then run this cell to export your submission.\n",
    "grader.export(pdf=False, run_tests=True)"
   ]
  },
  {
   "cell_type": "markdown",
   "id": "4df5c260",
   "metadata": {},
   "source": [
    " "
   ]
  }
 ],
 "metadata": {
  "kernelspec": {
   "display_name": "Python 3 (ipykernel)",
   "language": "python",
   "name": "python3"
  },
  "language_info": {
   "codemirror_mode": {
    "name": "ipython",
    "version": 3
   },
   "file_extension": ".py",
   "mimetype": "text/x-python",
   "name": "python",
   "nbconvert_exporter": "python",
   "pygments_lexer": "ipython3",
   "version": "3.9.13"
  },
  "otter": {
   "OK_FORMAT": true,
   "tests": {
    "p1.1": {
     "has_hidden": false,
     "name": "p1.1",
     "points": 5,
     "suites": [
      {
       "cases": [
        {
         "code": ">>> check_str('0 <= sample_hatchlings_under_null(100).item(0) <= 100', locals())\n",
         "failure_message": "check(0 <= sample_hatchlings_under_null(100).item(0) <= 100)",
         "hidden": false,
         "locked": false,
         "submit_only": false,
         "success_message": "check(0 <= sample_hatchlings_under_null(100).item(0) <= 100)"
        },
        {
         "code": ">>> check_str('sample_hatchlings_under_null(100).item(0) > 1', locals())\n",
         "failure_message": "Your function returns sample with < 1% female -- did you properly convert proportions to percents???",
         "hidden": false,
         "locked": false,
         "submit_only": false,
         "success_message": "check(sample_hatchlings_under_null(100).item(0) > 1)"
        },
        {
         "code": ">>> check_str('30 <= sample_hatchlings_under_null(100).item(0) <= 70', locals())\n",
         "failure_message": "check(30 <= sample_hatchlings_under_null(100).item(0) <= 70)",
         "hidden": false,
         "locked": false,
         "submit_only": false,
         "success_message": "check(30 <= sample_hatchlings_under_null(100).item(0) <= 70)"
        }
       ],
       "scored": true,
       "setup": "",
       "teardown": "",
       "type": "doctest"
      }
     ]
    },
    "p1.2": {
     "has_hidden": false,
     "name": "p1.2",
     "points": 5,
     "suites": [
      {
       "cases": [
        {
         "code": ">>> check_str('abs_difference_from_null_parameter(make_array(50, 50)) == approx(0)', locals())\n",
         "failure_message": "check(abs_difference_from_null_parameter(make_array(50, 50)) == approx(0))",
         "hidden": false,
         "locked": false,
         "submit_only": false,
         "success_message": "check(abs_difference_from_null_parameter(make_array(50, 50)) == approx(0))"
        },
        {
         "code": ">>> check_str('abs_difference_from_null_parameter(make_array(25, 75)) == approx(25)', locals())\n",
         "failure_message": "check(abs_difference_from_null_parameter(make_array(25, 75)) == approx(25))",
         "hidden": false,
         "locked": false,
         "submit_only": false,
         "success_message": "check(abs_difference_from_null_parameter(make_array(25, 75)) == approx(25))"
        },
        {
         "code": ">>> check_str('abs_difference_from_null_parameter(make_array(75, 25)) == approx(25)', locals())\n",
         "failure_message": "check(abs_difference_from_null_parameter(make_array(75, 25)) == approx(25))",
         "hidden": false,
         "locked": false,
         "submit_only": false,
         "success_message": "check(abs_difference_from_null_parameter(make_array(75, 25)) == approx(25))"
        }
       ],
       "scored": true,
       "setup": "",
       "teardown": "",
       "type": "doctest"
      }
     ]
    },
    "p1.3": {
     "has_hidden": false,
     "name": "p1.3",
     "points": 5,
     "suites": [
      {
       "cases": [
        {
         "code": ">>> check_str('steve_and_katie_brood_statistic == 17', locals())\n",
         "failure_message": "check(steve_and_katie_brood_statistic == 17)",
         "hidden": false,
         "locked": false,
         "submit_only": false,
         "success_message": "check(steve_and_katie_brood_statistic == 17)"
        }
       ],
       "scored": true,
       "setup": "",
       "teardown": "",
       "type": "doctest"
      }
     ]
    },
    "p1.4": {
     "has_hidden": false,
     "name": "p1.4",
     "points": 5,
     "suites": [
      {
       "cases": [
        {
         "code": ">>> check_str('reject_null == True', locals())\n",
         "failure_message": "Try again...",
         "hidden": false,
         "locked": false,
         "submit_only": false,
         "success_message": "check(reject_null == True)"
        }
       ],
       "scored": true,
       "setup": "",
       "teardown": "",
       "type": "doctest"
      }
     ]
    },
    "p2.1": {
     "has_hidden": false,
     "name": "p2.1",
     "points": 5,
     "suites": [
      {
       "cases": [
        {
         "code": ">>> check_str('answer in make_array(1,2,3,4)', locals())\n",
         "failure_message": "answer must be 1, 2, 3, or 4.",
         "hidden": false,
         "locked": false,
         "submit_only": false,
         "success_message": "check(answer in make_array(1,2,3,4))"
        },
        {
         "code": ">>> check_str('answer == 3', locals())\n",
         "failure_message": "incorrect -- try again!",
         "hidden": false,
         "locked": false,
         "submit_only": false,
         "success_message": "check(answer == 3)"
        }
       ],
       "scored": true,
       "setup": "",
       "teardown": "",
       "type": "doctest"
      }
     ]
    },
    "p2.2": {
     "has_hidden": false,
     "name": "p2.2",
     "points": 5,
     "suites": [
      {
       "cases": [
        {
         "code": ">>> check_str('count_more_extreme in np.arange(0,11)', locals())\n",
         "failure_message": "Your answer should be an integer between 0 and 10.",
         "hidden": false,
         "locked": false,
         "submit_only": false,
         "success_message": "check(count_more_extreme in np.arange(0,11))"
        },
        {
         "code": ">>> check_str('count_more_extreme == 3', locals())\n",
         "failure_message": "Incorrect -- try again!",
         "hidden": false,
         "locked": false,
         "submit_only": false,
         "success_message": "check(count_more_extreme == 3)"
        }
       ],
       "scored": true,
       "setup": "",
       "teardown": "",
       "type": "doctest"
      }
     ]
    },
    "p2.3": {
     "has_hidden": false,
     "name": "p2.3",
     "points": 5,
     "suites": [
      {
       "cases": [
        {
         "code": ">>> check_str('0 <= p_value <= 1', locals())\n",
         "failure_message": "Your answer should be a proportion between 0 and 1.",
         "hidden": false,
         "locked": false,
         "submit_only": false,
         "success_message": "check(0 <= p_value <= 1)"
        },
        {
         "code": ">>> check_str('p_value == approx(0.3)', locals())\n",
         "failure_message": "check(p_value == approx(0.3))",
         "hidden": false,
         "locked": false,
         "submit_only": false,
         "success_message": "check(p_value == approx(0.3))"
        }
       ],
       "scored": true,
       "setup": "",
       "teardown": "",
       "type": "doctest"
      }
     ]
    },
    "p2.4": {
     "has_hidden": false,
     "name": "p2.4",
     "points": 5,
     "suites": [
      {
       "cases": [
        {
         "code": ">>> check_str('empirical_pvalue(tiny_simulated_statistics, tiny_observed_statistic) == approx(0.3)', locals())\n",
         "failure_message": "check(empirical_pvalue(tiny_simulated_statistics, tiny_observed_statistic) == approx(0.3))",
         "hidden": false,
         "locked": false,
         "submit_only": false,
         "success_message": "check(empirical_pvalue(tiny_simulated_statistics, tiny_observed_statistic) == approx(0.3))"
        },
        {
         "code": ">>> check_str('empirical_pvalue(make_array(1, 2, 3), 1.5) == approx(2/3)', locals())\n",
         "failure_message": "check(empirical_pvalue(make_array(1, 2, 3), 1.5) == approx(2/3))",
         "hidden": false,
         "locked": false,
         "submit_only": false,
         "success_message": "check(empirical_pvalue(make_array(1, 2, 3), 1.5) == approx(2/3))"
        },
        {
         "code": ">>> check_str('empirical_pvalue(make_array(1, 1, 2, 3), 2) == approx(0.5)', locals())\n",
         "failure_message": "check(empirical_pvalue(make_array(1, 1, 2, 3), 2) == approx(0.5))",
         "hidden": false,
         "locked": false,
         "submit_only": false,
         "success_message": "check(empirical_pvalue(make_array(1, 1, 2, 3), 2) == approx(0.5))"
        }
       ],
       "scored": true,
       "setup": "",
       "teardown": "",
       "type": "doctest"
      }
     ]
    },
    "p2.5": {
     "has_hidden": false,
     "name": "p2.5",
     "points": 5,
     "suites": [
      {
       "cases": [
        {
         "code": ">>> check_str('0 <= p_value < 0.005', locals())\n",
         "failure_message": "check(0 <= p_value < 0.005)",
         "hidden": false,
         "locked": false,
         "submit_only": false,
         "success_message": "check(0 <= p_value < 0.005)"
        }
       ],
       "scored": true,
       "setup": "",
       "teardown": "",
       "type": "doctest"
      }
     ]
    },
    "p2.6": {
     "has_hidden": false,
     "name": "p2.6",
     "points": 5,
     "suites": [
      {
       "cases": [
        {
         "code": ">>> check_str('0.05 <= p_value2 < 0.15', locals())\n",
         "failure_message": "check(0.05 <= p_value2 < 0.15)",
         "hidden": false,
         "locked": false,
         "submit_only": false,
         "success_message": "check(0.05 <= p_value2 < 0.15)"
        }
       ],
       "scored": true,
       "setup": "",
       "teardown": "",
       "type": "doctest"
      }
     ]
    }
   }
  },
  "vscode": {
   "interpreter": {
    "hash": "31f2aee4e71d21fbe5cf8b01ff0e069b9275f58929596ceb00d14d90e3e16cd6"
   }
  }
 },
 "nbformat": 4,
 "nbformat_minor": 5
}
