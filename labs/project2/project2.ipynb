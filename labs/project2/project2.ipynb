{
 "cells": [
  {
   "cell_type": "code",
   "execution_count": null,
   "id": "7e46b0a3",
   "metadata": {
    "deletable": false,
    "editable": false
   },
   "outputs": [],
   "source": [
    "# Initialize Otter\n",
    "import otter\n",
    "grader = otter.Notebook(\"project2.ipynb\")"
   ]
  },
  {
   "cell_type": "markdown",
   "id": "3afc90b9",
   "metadata": {
    "deletable": false,
    "editable": false
   },
   "source": [
    "<table style=\"width: 100%;\">\n",
    "<tr style=\"background-color: transparent;\">\n",
    "<td width=\"100px\"><img src=\"https://cs104williams.github.io/assets/cs104-logo.png\" width=\"90px\" style=\"text-align: center\"/></td>\n",
    "<td>\n",
    "  <p style=\"margin-bottom: 0px; text-align: left; font-size: 18pt;\"><strong>CSCI 104: Data Science and Computing for All</strong><br>\n",
    "                Williams College<br>\n",
    "                Fall 2023</p>\n",
    "</td>\n",
    "</tr>\n"
   ]
  },
  {
   "cell_type": "markdown",
   "id": "76eb2ea4",
   "metadata": {
    "deletable": false,
    "editable": false,
    "tags": []
   },
   "source": [
    "# Final Project"
   ]
  },
  {
   "cell_type": "markdown",
   "id": "34540530",
   "metadata": {
    "deletable": false,
    "editable": false
   },
   "source": [
    "Please see the [Final Project Description](https://www.cs.williams.edu/~cs104/docs/project2.html) for instructions and deadlines.\n",
    "\n",
    "All work should appear in this notebook.  You may add as many additional cells as you like to each part.  Just click the `+` sign in this tab's toolbar to insert a new cell.  Then select \"Markdown\" from the toolbar's popup menu if you want the new cell to be for text, or \"Code\" if you want it to be for Python code.  Markdown cells can include basic formatting and are easily identified because they do not have the brackets `[ ]` in the left margin.  Click on any of our formatted text cells to see how to create lists, bold text, etc., or have a look [here](https://www.markdownguide.org/basic-syntax).\n"
   ]
  },
  {
   "cell_type": "code",
   "execution_count": null,
   "id": "f6c24cf1",
   "metadata": {
    "deletable": false,
    "editable": false,
    "execution": {
     "iopub.execute_input": "2023-11-03T01:21:52.662764Z",
     "iopub.status.busy": "2023-11-03T01:21:52.662429Z",
     "iopub.status.idle": "2023-11-03T01:21:54.242031Z",
     "shell.execute_reply": "2023-11-03T01:21:54.241344Z"
    },
    "tags": []
   },
   "outputs": [],
   "source": [
    "# Run this cell to set up the notebook.\n",
    "# These lines import the numpy, datascience, and cs104 libraries.\n",
    "\n",
    "import numpy as np\n",
    "from datascience import *\n",
    "from cs104 import *\n",
    "%matplotlib inline"
   ]
  },
  {
   "cell_type": "markdown",
   "id": "578f00e7",
   "metadata": {
    "deletable": false,
    "editable": false
   },
   "source": [
    "<hr style=\"margin-bottom: 0px; padding:0; border: 2px solid #500082;\"/>\n"
   ]
  },
  {
   "cell_type": "markdown",
   "id": "6951354a",
   "metadata": {
    "deletable": false,
    "editable": false,
    "tags": []
   },
   "source": [
    "## 0. Source of data\n"
   ]
  },
  {
   "cell_type": "markdown",
   "id": "fba0c590",
   "metadata": {
    "deletable": false,
    "editable": false
   },
   "source": [
    "Please tell us where you found the dataset(s) and what they include in general terms.\n",
    "- Include URLs for where the data was downloaded. \n",
    "- What are the sources for the data? Are these reputable sources? \n",
    "- Can you find who (the names of humans) collected or cleaned the dataset before you downloaded it?\n",
    "\n",
    "If you are having trouble getting started, here are a few places to look for data:\n",
    "* [Google's Dataset Search](https://datasetsearch.research.google.com/)\n",
    "* [Five-Thirty Eight](https://data.fivethirtyeight.com/)\n",
    "* [Data Is Plural](https://docs.google.com/spreadsheets/d/1wZhPLMCHKJvwOkP4juclhjFgqIY8fQFMemwKL2c64vk/edit#gid=0)\n",
    "* [Our World in Data](https://ourworldindata.org/)"
   ]
  },
  {
   "cell_type": "markdown",
   "id": "95d5c085",
   "metadata": {
    "deletable": false,
    "editable": true
   },
   "source": [
    "*Write me.*"
   ]
  },
  {
   "cell_type": "markdown",
   "id": "ede87ac6",
   "metadata": {
    "deletable": false,
    "editable": false
   },
   "source": [
    "<hr style=\"margin-bottom: 0px; padding:0; border: 2px solid #500082;\"/>\n"
   ]
  },
  {
   "cell_type": "markdown",
   "id": "9aba016b",
   "metadata": {
    "deletable": false,
    "editable": false,
    "tags": []
   },
   "source": [
    "## 1. Quantitative questions\n"
   ]
  },
  {
   "cell_type": "markdown",
   "id": "81417813",
   "metadata": {
    "deletable": false,
    "editable": false
   },
   "source": [
    "Pose at least two quantitative questions about the dataset. "
   ]
  },
  {
   "cell_type": "markdown",
   "id": "0741efc0",
   "metadata": {
    "deletable": false,
    "editable": false
   },
   "source": [
    "**Quantiative question 1:**"
   ]
  },
  {
   "cell_type": "markdown",
   "id": "53cc8ae0",
   "metadata": {
    "deletable": false,
    "editable": true
   },
   "source": [
    "*Write me.*"
   ]
  },
  {
   "cell_type": "markdown",
   "id": "0b488274",
   "metadata": {
    "deletable": false,
    "editable": false
   },
   "source": [
    "**Quantitative question 2:**"
   ]
  },
  {
   "cell_type": "markdown",
   "id": "c741cb78",
   "metadata": {
    "deletable": false,
    "editable": true
   },
   "source": [
    "*Write me.*"
   ]
  },
  {
   "cell_type": "markdown",
   "id": "df1eb60f",
   "metadata": {
    "deletable": false,
    "editable": false
   },
   "source": [
    "<hr style=\"margin-bottom: 0px; padding:0; border: 2px solid #500082;\"/>\n"
   ]
  },
  {
   "cell_type": "markdown",
   "id": "2e0a82fd",
   "metadata": {
    "deletable": false,
    "editable": false,
    "tags": []
   },
   "source": [
    "## 2. Data: Loading and Cleaning\n",
    "\n",
    "Be sure to upload your csv files to the project on our server, and to clean your data if there are any missing values or other problems.  \n",
    "\n",
    "We highly encourage you return to Lab 6 and revist how you cleaned data with `tbl.take_clean()`, `tbl.take_messy()`, and `tbl.replace()`. "
   ]
  },
  {
   "cell_type": "code",
   "execution_count": null,
   "id": "65b6b4c8",
   "metadata": {
    "deletable": false,
    "editable": true,
    "execution": {
     "iopub.execute_input": "2023-11-03T01:21:54.246948Z",
     "iopub.status.busy": "2023-11-03T01:21:54.246536Z",
     "iopub.status.idle": "2023-11-03T01:21:54.249846Z",
     "shell.execute_reply": "2023-11-03T01:21:54.249297Z"
    }
   },
   "outputs": [],
   "source": [
    "# code here"
   ]
  },
  {
   "cell_type": "markdown",
   "id": "a9883dcf",
   "metadata": {
    "deletable": false,
    "editable": false
   },
   "source": [
    "<hr style=\"margin-bottom: 0px; padding:0; border: 2px solid #500082;\"/>\n"
   ]
  },
  {
   "cell_type": "markdown",
   "id": "4d67cd04",
   "metadata": {
    "deletable": false,
    "editable": false
   },
   "source": [
    "## 3. Descriptive statistics\n"
   ]
  },
  {
   "cell_type": "markdown",
   "id": "8a16d447",
   "metadata": {
    "deletable": false,
    "editable": false
   },
   "source": [
    "Use code and text to provide at least three descriptions of the dataset (e.g., number of rows, mean of one of the columns)."
   ]
  },
  {
   "cell_type": "code",
   "execution_count": null,
   "id": "f979a101",
   "metadata": {
    "deletable": false,
    "editable": true,
    "execution": {
     "iopub.execute_input": "2023-11-03T01:21:54.252728Z",
     "iopub.status.busy": "2023-11-03T01:21:54.252487Z",
     "iopub.status.idle": "2023-11-03T01:21:54.255544Z",
     "shell.execute_reply": "2023-11-03T01:21:54.254977Z"
    }
   },
   "outputs": [],
   "source": [
    "# code here"
   ]
  },
  {
   "cell_type": "markdown",
   "id": "533f5c9e",
   "metadata": {
    "deletable": false,
    "editable": false
   },
   "source": [
    "<hr style=\"margin-bottom: 0px; padding:0; border: 2px solid #500082;\"/>\n"
   ]
  },
  {
   "cell_type": "markdown",
   "id": "ecd13e08",
   "metadata": {
    "deletable": false,
    "editable": false
   },
   "source": [
    "## 4. Data wrangling\n"
   ]
  },
  {
   "cell_type": "markdown",
   "id": "1cce4871",
   "metadata": {
    "deletable": false,
    "editable": false
   },
   "source": [
    "Use at least two Table methods (e.g., `sort`, `where`, `take`, `apply`, `pivot`, `join`, `group`) to do something meaningful with the data. Describes (in full English sentences) what those Table methods are doing."
   ]
  },
  {
   "cell_type": "code",
   "execution_count": null,
   "id": "b36c7371",
   "metadata": {
    "deletable": false,
    "editable": true,
    "execution": {
     "iopub.execute_input": "2023-11-03T01:21:54.258479Z",
     "iopub.status.busy": "2023-11-03T01:21:54.258272Z",
     "iopub.status.idle": "2023-11-03T01:21:54.261299Z",
     "shell.execute_reply": "2023-11-03T01:21:54.260508Z"
    }
   },
   "outputs": [],
   "source": [
    "# code here"
   ]
  },
  {
   "cell_type": "markdown",
   "id": "d368b647",
   "metadata": {
    "deletable": false,
    "editable": false
   },
   "source": [
    "<hr style=\"margin-bottom: 0px; padding:0; border: 2px solid #500082;\"/>\n"
   ]
  },
  {
   "cell_type": "markdown",
   "id": "34f8c307",
   "metadata": {
    "deletable": false,
    "editable": false
   },
   "source": [
    "## 5. Visualizations\n"
   ]
  },
  {
   "cell_type": "markdown",
   "id": "3d5d7f53",
   "metadata": {
    "deletable": false,
    "editable": false
   },
   "source": [
    "Create at least two visualizations of the dataset (e.g., a scatter and line plot, or two histograms). Describs (using full English sentences) any interesting findings from the visualizations."
   ]
  },
  {
   "cell_type": "code",
   "execution_count": null,
   "id": "7c4277d2",
   "metadata": {
    "deletable": false,
    "editable": true,
    "execution": {
     "iopub.execute_input": "2023-11-03T01:21:54.264498Z",
     "iopub.status.busy": "2023-11-03T01:21:54.264220Z",
     "iopub.status.idle": "2023-11-03T01:21:54.266994Z",
     "shell.execute_reply": "2023-11-03T01:21:54.266344Z"
    }
   },
   "outputs": [],
   "source": [
    "# code here"
   ]
  },
  {
   "cell_type": "code",
   "execution_count": null,
   "id": "bd3742fb",
   "metadata": {
    "deletable": false,
    "editable": true,
    "execution": {
     "iopub.execute_input": "2023-11-03T01:21:54.269508Z",
     "iopub.status.busy": "2023-11-03T01:21:54.269310Z",
     "iopub.status.idle": "2023-11-03T01:21:54.271800Z",
     "shell.execute_reply": "2023-11-03T01:21:54.271345Z"
    }
   },
   "outputs": [],
   "source": [
    "# code here"
   ]
  },
  {
   "cell_type": "markdown",
   "id": "5795ee30",
   "metadata": {
    "deletable": false,
    "editable": false
   },
   "source": [
    "<hr style=\"margin-bottom: 0px; padding:0; border: 2px solid #500082;\"/>\n"
   ]
  },
  {
   "cell_type": "markdown",
   "id": "f9b5b2a7",
   "metadata": {
    "deletable": false,
    "editable": false
   },
   "source": [
    "## 6. Statistical Inference\n",
    "\n",
    "Correctly complete at least two statistical inference procedures (e.g., a hypothesis test and a bootstrap confidence interval; or two association). Discuss (in full English sentences) the implications of the statistical inference procedures.\n",
    "\n",
    "Categories: \n",
    "- Hypothesis tests\n",
    "- Estimation (e.g., confidence intervals via bootstrapping) \n",
    "- Association (e.g., correlation or a linear regression line fit from a scatter plot) "
   ]
  },
  {
   "cell_type": "code",
   "execution_count": null,
   "id": "20fc4747",
   "metadata": {
    "deletable": false,
    "editable": true,
    "execution": {
     "iopub.execute_input": "2023-11-03T01:21:54.274340Z",
     "iopub.status.busy": "2023-11-03T01:21:54.274103Z",
     "iopub.status.idle": "2023-11-03T01:21:54.276997Z",
     "shell.execute_reply": "2023-11-03T01:21:54.276185Z"
    }
   },
   "outputs": [],
   "source": [
    "# code here"
   ]
  },
  {
   "cell_type": "markdown",
   "id": "6fd7a96f",
   "metadata": {
    "deletable": false,
    "editable": false
   },
   "source": [
    "<hr style=\"margin-bottom: 0px; padding:0; border: 2px solid #500082;\"/>\n"
   ]
  },
  {
   "cell_type": "markdown",
   "id": "85aa4b57",
   "metadata": {
    "deletable": false,
    "editable": false
   },
   "source": [
    "## 8. * Additional work\n"
   ]
  },
  {
   "cell_type": "markdown",
   "id": "98d80385",
   "metadata": {
    "deletable": false,
    "editable": false
   },
   "source": [
    "Use the cells below to add any additional work that supports exploring your data or answering quantitative questions. \n",
    "\n",
    "**Mastery and creativity.** A truly masterful data science project will go above and beyond the minimum requirements and creatively incorporate the concepts we have learned and practiced in this class. Feel free to go beyond the scope of what we have learned in this class if you have completed all other requirements."
   ]
  },
  {
   "cell_type": "code",
   "execution_count": null,
   "id": "de88fd8b",
   "metadata": {
    "deletable": false,
    "editable": true,
    "execution": {
     "iopub.execute_input": "2023-11-03T01:21:54.281328Z",
     "iopub.status.busy": "2023-11-03T01:21:54.280968Z",
     "iopub.status.idle": "2023-11-03T01:21:54.283739Z",
     "shell.execute_reply": "2023-11-03T01:21:54.283273Z"
    }
   },
   "outputs": [],
   "source": [
    "# code here"
   ]
  },
  {
   "cell_type": "markdown",
   "id": "1d0ca06c",
   "metadata": {
    "deletable": false,
    "editable": false
   },
   "source": [
    "<hr style=\"margin-bottom: 0px; padding:0; border: 2px solid #500082;\"/>\n"
   ]
  },
  {
   "cell_type": "markdown",
   "id": "6dd8e1b9",
   "metadata": {
    "deletable": false,
    "editable": false
   },
   "source": [
    "## 7. Ethics\n"
   ]
  },
  {
   "cell_type": "markdown",
   "id": "ddd964b6",
   "metadata": {
    "deletable": false,
    "editable": false
   },
   "source": [
    "Discuss (in full English sentences) at least one possible ethical consideration of using the dataset or doing analysis of the dataset (e.g., the potential harms of using the data from a Consequentialist or Deontologist perspective)."
   ]
  },
  {
   "cell_type": "markdown",
   "id": "850a2279",
   "metadata": {
    "deletable": false,
    "editable": true
   },
   "source": [
    "*Write me.*"
   ]
  },
  {
   "cell_type": "markdown",
   "id": "c2df9235",
   "metadata": {
    "deletable": false,
    "editable": false
   },
   "source": [
    "<hr style=\"margin-bottom: 0px; padding:0; border: 2px solid #500082;\"/>\n"
   ]
  },
  {
   "cell_type": "markdown",
   "id": "60d7fb46",
   "metadata": {
    "deletable": false,
    "editable": false
   },
   "source": [
    "## 8. Conclusions\n"
   ]
  },
  {
   "cell_type": "markdown",
   "id": "b185501f",
   "metadata": {
    "deletable": false,
    "editable": false
   },
   "source": [
    "Describe (in full English sentences) what has been learned and address the original quantitative questions."
   ]
  },
  {
   "cell_type": "markdown",
   "id": "94851dd6",
   "metadata": {
    "deletable": false,
    "editable": true
   },
   "source": [
    "*Write me.*"
   ]
  },
  {
   "cell_type": "markdown",
   "id": "d0a2ed5f",
   "metadata": {
    "deletable": false,
    "editable": false
   },
   "source": [
    "# You're Done!"
   ]
  },
  {
   "cell_type": "markdown",
   "id": "a29ade9a",
   "metadata": {
    "deletable": false,
    "editable": false
   },
   "source": [
    "**Important submission information:** Follow these steps to submit your work:\n",
    "* Choose **Save Notebook** from the **File** menu.\n",
    "* **Run the final cell** and click the link below to download the zip file. \n",
    "\n",
    "Once you have downloaded that file, go to [Gradescope](https://www.gradescope.com/) and submit the zip file to the corresponding assignment. The name of this assignment is \"Final Project\". **Be sure your work is saved before running the last cell!**"
   ]
  },
  {
   "cell_type": "code",
   "execution_count": null,
   "id": "1f4e43e9",
   "metadata": {
    "deletable": false,
    "editable": false,
    "execution": {
     "iopub.execute_input": "2023-11-03T01:21:54.286962Z",
     "iopub.status.busy": "2023-11-03T01:21:54.286761Z",
     "iopub.status.idle": "2023-11-03T01:21:54.813006Z",
     "shell.execute_reply": "2023-11-03T01:21:54.811607Z"
    }
   },
   "outputs": [],
   "source": [
    "# Save your notebook first, then run this cell to export your submission.\n",
    "import glob \n",
    "grader.export(pdf=False,glob.glob(\"*.csv\") + glob.glob(\"*.ipynb\") + glob.glob(\"*.py\"))"
   ]
  }
 ],
 "metadata": {
  "kernelspec": {
   "display_name": "Python 3 (ipykernel)",
   "language": "python",
   "name": "python3"
  },
  "language_info": {
   "codemirror_mode": {
    "name": "ipython",
    "version": 3
   },
   "file_extension": ".py",
   "mimetype": "text/x-python",
   "name": "python",
   "nbconvert_exporter": "python",
   "pygments_lexer": "ipython3",
   "version": "3.9.13"
  },
  "otter": {
   "OK_FORMAT": true,
   "tests": {}
  },
  "vscode": {
   "interpreter": {
    "hash": "e9a7af6fc709cc25e111b0d6e28f738a78907138b7e48b682edcf6dfb7dc8bee"
   }
  }
 },
 "nbformat": 4,
 "nbformat_minor": 5
}
