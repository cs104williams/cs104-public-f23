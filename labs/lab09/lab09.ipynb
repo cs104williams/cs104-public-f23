{
 "cells": [
  {
   "cell_type": "code",
   "execution_count": null,
   "id": "888f004e",
   "metadata": {
    "deletable": false,
    "editable": false
   },
   "outputs": [],
   "source": [
    "# Initialize Otter\n",
    "import otter\n",
    "grader = otter.Notebook(\"lab09.ipynb\")"
   ]
  },
  {
   "cell_type": "markdown",
   "id": "6ecf356a",
   "metadata": {
    "deletable": false,
    "editable": false
   },
   "source": [
    "<table style=\"width: 100%;\">\n",
    "<tr style=\"background-color: transparent;\">\n",
    "<td width=\"100px\"><img src=\"https://cs104williams.github.io/assets/cs104-logo.png\" width=\"90px\" style=\"text-align: center\"/></td>\n",
    "<td>\n",
    "  <p style=\"margin-bottom: 0px; text-align: left; font-size: 18pt;\"><strong>CSCI 104: Data Science and Computing for All</strong><br>\n",
    "                Williams College<br>\n",
    "                Fall 2023</p>\n",
    "</td>\n",
    "</tr>\n"
   ]
  },
  {
   "cell_type": "markdown",
   "id": "440a5342",
   "metadata": {
    "deletable": false,
    "editable": false
   },
   "source": [
    "# Lab 9: Linear Regression"
   ]
  },
  {
   "cell_type": "markdown",
   "id": "b781246f",
   "metadata": {
    "deletable": false,
    "editable": false
   },
   "source": [
    "<hr style=\"margin: 0px; border: 3px solid #500082;\"/>\n",
    "\n",
    "<h2>Instructions</h2>\n",
    "\n",
    "- Before you begin, execute the cell at the TOP of the notebook to load the provided tests, as well as the following cell to setup the notebook by importing some helpful libraries. Each time you start your server, you will need to execute these cells again.  \n",
    "- Be sure to consult your [Python Reference](https://cs104williams.github.io/assets/python-library-ref.html)!\n",
    "- Complete this notebook by filling in the cells provided. For problems asking you to write explanations, you **must** provide your answer in the designated space. \n",
    "- Please be sure to not re-assign variables throughout the notebook.  For example, if you use `max_temperature` in your answer to one question, do not reassign it later on. Otherwise, you will fail tests that you thought you were passing previously.\n",
    "- This lab has hidden tests on it. That means even though tests may say 100% passed, doesn't mean your final grade will be 100%. We will be running more tests for correctness once everyone turns in the lab.\n",
    "- To use one or more late days on this lab, please fill out our [late day form](https://forms.gle/4sD16h3hN1xRqQM27) **before** the due date.\n",
    "\n",
    "<hr/>\n",
    "<h2>Setup</h2>\n"
   ]
  },
  {
   "cell_type": "code",
   "execution_count": null,
   "id": "e95cbe1e",
   "metadata": {
    "deletable": false,
    "editable": false,
    "execution": {
     "iopub.execute_input": "2023-11-27T01:54:03.102107Z",
     "iopub.status.busy": "2023-11-27T01:54:03.101854Z",
     "iopub.status.idle": "2023-11-27T01:54:04.616437Z",
     "shell.execute_reply": "2023-11-27T01:54:04.615622Z"
    },
    "tags": []
   },
   "outputs": [],
   "source": [
    "# Run this cell to set up the notebook.\n",
    "# These lines import the numpy, datascience, and cs104 libraries.\n",
    "\n",
    "import numpy as np\n",
    "from datascience import *\n",
    "from cs104 import *\n",
    "%matplotlib inline"
   ]
  },
  {
   "cell_type": "markdown",
   "id": "4cf6cd2e",
   "metadata": {
    "deletable": false,
    "editable": false
   },
   "source": [
    "<hr style=\"margin-bottom: 0px; padding:0; border: 2px solid #500082;\"/>\n"
   ]
  },
  {
   "cell_type": "markdown",
   "id": "b78fdeaf",
   "metadata": {
    "deletable": false,
    "editable": false,
    "tags": []
   },
   "source": [
    "## 1. Triple Jump Distances vs. Vertical Jump Heights (40 pts)\n",
    "\n"
   ]
  },
  {
   "cell_type": "markdown",
   "id": "5b248ff0",
   "metadata": {
    "deletable": false,
    "editable": false
   },
   "source": [
    "<font color='#B1008E'>\n",
    "    \n",
    "##### Learning objectives\n",
    "- Build intuition for values of Pearson correlation coefficient and calculate this value on real data.\n",
    "- Fit a linear regression line to data and diagnose it.\n",
    "- Build intuition for using linear regression for prediction. \n",
    "</font>"
   ]
  },
  {
   "cell_type": "markdown",
   "id": "a2ac1899",
   "metadata": {
    "deletable": false,
    "editable": false
   },
   "source": [
    "Does skill in one sport imply skill in a related sport?  The answer might be different for different activities. Let's find out whether it's true for the [triple jump](https://en.wikipedia.org/wiki/Triple_jump) (a horizontal jump similar to a long jump) and the [vertical jump](https://en.wikipedia.org/wiki/Vertical_jump).  Since we're learning about linear regression, we will look specifically for a *linear* association between skill level in the two sports.\n",
    "\n",
    "The following data was collected by observing 40 collegiate-level soccer players. Each athlete's distances in both events were **measured in centimeters**. Run the cell below to load the data."
   ]
  },
  {
   "cell_type": "code",
   "execution_count": null,
   "id": "9319b7fe",
   "metadata": {
    "deletable": false,
    "editable": false,
    "execution": {
     "iopub.execute_input": "2023-11-27T01:54:04.620800Z",
     "iopub.status.busy": "2023-11-27T01:54:04.620458Z",
     "iopub.status.idle": "2023-11-27T01:54:04.627843Z",
     "shell.execute_reply": "2023-11-27T01:54:04.627313Z"
    },
    "tags": []
   },
   "outputs": [],
   "source": [
    "# Run this cell to load the data\n",
    "jumps = Table.read_table('triple_vertical.csv')\n",
    "jumps"
   ]
  },
  {
   "cell_type": "markdown",
   "id": "1c752c78",
   "metadata": {
    "deletable": false,
    "editable": false
   },
   "source": [
    "Here is a scatter plot of the data."
   ]
  },
  {
   "cell_type": "code",
   "execution_count": null,
   "id": "c5dcc68c",
   "metadata": {
    "deletable": false,
    "editable": false,
    "execution": {
     "iopub.execute_input": "2023-11-27T01:54:04.631586Z",
     "iopub.status.busy": "2023-11-27T01:54:04.631164Z",
     "iopub.status.idle": "2023-11-27T01:54:04.890614Z",
     "shell.execute_reply": "2023-11-27T01:54:04.890139Z"
    },
    "tags": []
   },
   "outputs": [],
   "source": [
    "jumps.scatter(\"triple\")"
   ]
  },
  {
   "cell_type": "markdown",
   "id": "5a864893",
   "metadata": {
    "deletable": false,
    "editable": false
   },
   "source": [
    "#### Part 1.1 Examine the Data (5 pts)\n"
   ]
  },
  {
   "cell_type": "markdown",
   "id": "1057fa58",
   "metadata": {
    "deletable": false,
    "editable": false
   },
   "source": [
    "Before computing the actual value, do you predict the correlation coefficient $r$ between `triple` and `vertical` to be closest to 0, 0.5, or -0.5?  Assign the variable `predicted_r` to your answer."
   ]
  },
  {
   "cell_type": "code",
   "execution_count": null,
   "id": "29e7829e",
   "metadata": {
    "deletable": false,
    "execution": {
     "iopub.execute_input": "2023-11-27T01:54:04.893519Z",
     "iopub.status.busy": "2023-11-27T01:54:04.893315Z",
     "iopub.status.idle": "2023-11-27T01:54:04.896282Z",
     "shell.execute_reply": "2023-11-27T01:54:04.895595Z"
    },
    "tags": []
   },
   "outputs": [],
   "source": [
    "predicted_r = ..."
   ]
  },
  {
   "cell_type": "code",
   "execution_count": null,
   "id": "971d1069",
   "metadata": {
    "deletable": false,
    "editable": false
   },
   "outputs": [],
   "source": [
    "grader.check(\"p1.1\")"
   ]
  },
  {
   "cell_type": "markdown",
   "id": "001bbc1d",
   "metadata": {
    "deletable": false,
    "editable": false
   },
   "source": [
    "#### Part 1.2 Correlation Coefficient (5 pts)\n"
   ]
  },
  {
   "cell_type": "markdown",
   "id": "ee81e0ea",
   "metadata": {
    "deletable": false,
    "editable": false
   },
   "source": [
    "Examine the documentation for the `pearson_correlation` function in our [inference library](https://www.cs.williams.edu/~cs104/auto/inference-library-ref.html) and use it to compute the correlation between `triple` and `vertical`.  "
   ]
  },
  {
   "cell_type": "code",
   "execution_count": null,
   "id": "14622e56",
   "metadata": {
    "deletable": false,
    "execution": {
     "iopub.execute_input": "2023-11-27T01:54:04.911330Z",
     "iopub.status.busy": "2023-11-27T01:54:04.911101Z",
     "iopub.status.idle": "2023-11-27T01:54:04.915471Z",
     "shell.execute_reply": "2023-11-27T01:54:04.914727Z"
    },
    "tags": []
   },
   "outputs": [],
   "source": [
    "jumps_r = ...\n",
    "jumps_r"
   ]
  },
  {
   "cell_type": "code",
   "execution_count": null,
   "id": "b4472669",
   "metadata": {
    "deletable": false,
    "editable": false
   },
   "outputs": [],
   "source": [
    "grader.check(\"p1.2\")"
   ]
  },
  {
   "cell_type": "markdown",
   "id": "59920cba",
   "metadata": {
    "deletable": false,
    "editable": false,
    "tags": []
   },
   "source": [
    "#### Part 1.3 Regression Line (5 pts)\n"
   ]
  },
  {
   "cell_type": "markdown",
   "id": "6983303e",
   "metadata": {
    "deletable": false,
    "editable": false
   },
   "source": [
    "Examine the documentation for the `linear_regression` function in our [inference library](https://www.cs.williams.edu/~cs104/auto/inference-library-ref.html) and use it to compute the  slope `jumps_a` and intercept `jumps_b` of the best fitting line for this data."
   ]
  },
  {
   "cell_type": "code",
   "execution_count": null,
   "id": "38799ea8",
   "metadata": {
    "deletable": false,
    "execution": {
     "iopub.execute_input": "2023-11-27T01:54:04.930766Z",
     "iopub.status.busy": "2023-11-27T01:54:04.930508Z",
     "iopub.status.idle": "2023-11-27T01:54:04.938384Z",
     "shell.execute_reply": "2023-11-27T01:54:04.937792Z"
    },
    "tags": []
   },
   "outputs": [],
   "source": [
    "...\n",
    "jumps_a = ...\n",
    "jumps_b = ...\n",
    "print('jumps_a = ', jumps_a, '; jumps_b = ', jumps_b)"
   ]
  },
  {
   "cell_type": "code",
   "execution_count": null,
   "id": "e417a109",
   "metadata": {
    "deletable": false,
    "editable": false
   },
   "outputs": [],
   "source": [
    "grader.check(\"p1.3\")"
   ]
  },
  {
   "cell_type": "markdown",
   "id": "8e45616b",
   "metadata": {
    "deletable": false,
    "editable": false
   },
   "source": [
    "<!-- BEGIN QUESTION -->\n",
    "\n",
    "#### Part 1.4 Plot Regression Line (5 pts)\n"
   ]
  },
  {
   "cell_type": "markdown",
   "id": "2f026b6f",
   "metadata": {
    "deletable": false,
    "editable": false
   },
   "source": [
    "Plot your regression line on top of the data with `plot_scatter_with_line` from our [inference library](https://www.cs.williams.edu/~cs104/auto/inference-library-ref.html)."
   ]
  },
  {
   "cell_type": "code",
   "execution_count": null,
   "id": "c2c318d5",
   "metadata": {
    "deletable": false,
    "execution": {
     "iopub.execute_input": "2023-11-27T01:54:04.963019Z",
     "iopub.status.busy": "2023-11-27T01:54:04.962762Z",
     "iopub.status.idle": "2023-11-27T01:54:05.308386Z",
     "shell.execute_reply": "2023-11-27T01:54:05.307827Z"
    },
    "tags": []
   },
   "outputs": [],
   "source": [
    "..."
   ]
  },
  {
   "cell_type": "markdown",
   "id": "1cbc2455",
   "metadata": {
    "deletable": false,
    "editable": false
   },
   "source": [
    "<!-- END QUESTION -->\n",
    "\n",
    "#### Part 1.5 Diagnostics: R^2 Score (5 pts)\n"
   ]
  },
  {
   "cell_type": "markdown",
   "id": "fbffb037",
   "metadata": {
    "deletable": false,
    "editable": false
   },
   "source": [
    "We now wish to see whether this line is a good fit for the data using several diagnostics.  We'll first compute the $R^2$ score. Let $y$ be the observed data, $\\bar{y}$ be the mean across all of the observed $y$, and $\\hat{y}$ be the predictions given by the linear regression line we fit. Then \n",
    "\n",
    "$$R^2 = 1 - \\frac{\\sum_i{(y_i-\\hat{y}_i)^2}}{\\sum_i{(y_i- \\bar{y})^2}}$$\n",
    "\n",
    "Implement this equation in the function below. "
   ]
  },
  {
   "cell_type": "code",
   "execution_count": null,
   "id": "16f22f34",
   "metadata": {
    "deletable": false,
    "execution": {
     "iopub.execute_input": "2023-11-27T01:54:05.311429Z",
     "iopub.status.busy": "2023-11-27T01:54:05.311203Z",
     "iopub.status.idle": "2023-11-27T01:54:05.315647Z",
     "shell.execute_reply": "2023-11-27T01:54:05.314698Z"
    },
    "tags": []
   },
   "outputs": [],
   "source": [
    "def r2_score(table, x_label, y_label, a, b):\n",
    "    \"\"\"\n",
    "    R-squared score (also called the \"coefficient of determination\")\n",
    "    for the predictions given y = ax + b\n",
    "    \"\"\" \n",
    "    y = table.column(y_label)\n",
    "    y_mean = np.mean(y)\n",
    "\n",
    "    y_hat = line_predictions(a, b, table.column(x_label)) \n",
    "    residual = y - y_hat # Recall, the residual is y - y_hat\n",
    "    \n",
    "    numerator = ...\n",
    "    denominator = ...\n",
    "    ..."
   ]
  },
  {
   "cell_type": "code",
   "execution_count": null,
   "id": "657b10cb",
   "metadata": {
    "deletable": false,
    "execution": {
     "iopub.execute_input": "2023-11-27T01:54:05.319427Z",
     "iopub.status.busy": "2023-11-27T01:54:05.319138Z",
     "iopub.status.idle": "2023-11-27T01:54:05.323603Z",
     "shell.execute_reply": "2023-11-27T01:54:05.323120Z"
    },
    "tags": []
   },
   "outputs": [],
   "source": [
    "# Here's a simple table to test your function.\n",
    "# Do not modify this cell!\n",
    "\n",
    "example = Table().with_columns('x', make_array(1,2,3),\n",
    "                               'y', make_array(1,2,3))\n",
    "\n",
    "# perfect prediction, so R^2 score should be 1.\n",
    "check(r2_score(example, 'x', 'y', 1, 0) == 1)\n",
    "\n",
    "# prediction same as mean, so R^2 score should be 0.\n",
    "check(r2_score(example, 'x', 'y', 0, 2) == 0)\n",
    "\n",
    "# Better than the mean, but not the best.\n",
    "check(r2_score(example, 'x', 'y', 0.75, 0) == 0.5625)"
   ]
  },
  {
   "cell_type": "code",
   "execution_count": null,
   "id": "93cb3163",
   "metadata": {
    "deletable": false,
    "execution": {
     "iopub.execute_input": "2023-11-27T01:54:05.326171Z",
     "iopub.status.busy": "2023-11-27T01:54:05.325927Z",
     "iopub.status.idle": "2023-11-27T01:54:05.329795Z",
     "shell.execute_reply": "2023-11-27T01:54:05.329281Z"
    },
    "tags": []
   },
   "outputs": [],
   "source": [
    "# Run the following cell to check your implementation of the R^2 score.  It should be about 0.69559.\n",
    "jumps_r2_score = r2_score(jumps, 'triple', 'vertical', jumps_a, jumps_b)\n",
    "jumps_r2_score"
   ]
  },
  {
   "cell_type": "code",
   "execution_count": null,
   "id": "076ce1a4",
   "metadata": {
    "deletable": false,
    "editable": false
   },
   "outputs": [],
   "source": [
    "grader.check(\"p1.5\")"
   ]
  },
  {
   "cell_type": "markdown",
   "id": "d830adea",
   "metadata": {
    "deletable": false,
    "editable": false
   },
   "source": [
    "In general, and assuming that there is in fact a true linear relationship between the variables in question, an $R^2$ score close to 1 (roughly 0.7 and above) indicates that the regression line has good predictive power for new data that would fall within the range of values we've already seen.  Values much less than 0.7 indicate that, while a correlation still exists, there is sufficient variance in the data that any individual prediction may not be very accurate."
   ]
  },
  {
   "cell_type": "markdown",
   "id": "af3d6b24",
   "metadata": {
    "deletable": false,
    "editable": false,
    "tags": []
   },
   "source": [
    "<!-- BEGIN QUESTION -->\n",
    "\n",
    "#### Part 1.6 Diagnostics: Residuals (5 pts)\n"
   ]
  },
  {
   "cell_type": "markdown",
   "id": "2a117549",
   "metadata": {
    "deletable": false,
    "editable": false
   },
   "source": [
    "As a second diagnostic test, we'll plot the residuals for your regression line using `plot_residuals` from our [inference library](https://www.cs.williams.edu/~cs104/auto/inference-library-ref.html). "
   ]
  },
  {
   "cell_type": "code",
   "execution_count": null,
   "id": "acd1a76a",
   "metadata": {
    "deletable": false,
    "editable": false,
    "execution": {
     "iopub.execute_input": "2023-11-27T01:54:05.360893Z",
     "iopub.status.busy": "2023-11-27T01:54:05.360704Z",
     "iopub.status.idle": "2023-11-27T01:54:05.628567Z",
     "shell.execute_reply": "2023-11-27T01:54:05.628044Z"
    }
   },
   "outputs": [],
   "source": [
    "# Don't change anything in the line below. Just execute the cell. \n",
    "plot_residuals(jumps, 'triple', 'vertical', jumps_a, jumps_b)"
   ]
  },
  {
   "cell_type": "markdown",
   "id": "d964aa43",
   "metadata": {
    "deletable": false,
    "editable": false
   },
   "source": [
    "Describe the residual plot.  Are there any patterns that would lead you to believe the regression line is not a good fit?"
   ]
  },
  {
   "cell_type": "markdown",
   "id": "6ea14227",
   "metadata": {
    "deletable": false,
    "editable": false
   },
   "source": [
    "<hr style=\"margin:0; border: 1px solid #FFBE0A;\"/><font color='#FFBE0A'>Written Answer:</font>"
   ]
  },
  {
   "cell_type": "markdown",
   "id": "4503285d",
   "metadata": {
    "deletable": false
   },
   "source": [
    "_Type your answer here, replacing this text._\n"
   ]
  },
  {
   "cell_type": "markdown",
   "id": "e8a84d6e",
   "metadata": {
    "deletable": false,
    "editable": false
   },
   "source": [
    "<hr style=\"margin:0; border: 1px solid #FFBE0A;\"/>"
   ]
  },
  {
   "cell_type": "markdown",
   "id": "1dc531d9",
   "metadata": {
    "deletable": false,
    "editable": false
   },
   "source": [
    "<!-- END QUESTION -->\n",
    "\n",
    "#### Part 1.7 Predition (5 pts)\n"
   ]
  },
  {
   "cell_type": "markdown",
   "id": "600a7dab",
   "metadata": {
    "deletable": false,
    "editable": false
   },
   "source": [
    "The world record for the triple jump distance is 18.29 *meters* by Johnathan Edwards. What is the prediction for Edwards' vertical jump using your regression line?\n",
    "\n",
    "*Hint:* Make sure to convert units (e.g. inches, centimeters, meters)!"
   ]
  },
  {
   "cell_type": "code",
   "execution_count": null,
   "id": "56a9f681",
   "metadata": {
    "deletable": false,
    "execution": {
     "iopub.execute_input": "2023-11-27T01:54:05.633822Z",
     "iopub.status.busy": "2023-11-27T01:54:05.633438Z",
     "iopub.status.idle": "2023-11-27T01:54:05.636953Z",
     "shell.execute_reply": "2023-11-27T01:54:05.636461Z"
    },
    "tags": []
   },
   "outputs": [],
   "source": [
    "triple_record_vert_est = ...\n",
    "print(\"Predicted vertical jump distance: {:f} centimeters\".format(triple_record_vert_est))"
   ]
  },
  {
   "cell_type": "code",
   "execution_count": null,
   "id": "3d6ccbe4",
   "metadata": {
    "deletable": false,
    "editable": false
   },
   "outputs": [],
   "source": [
    "grader.check(\"p1.7\")"
   ]
  },
  {
   "cell_type": "markdown",
   "id": "872c26fa",
   "metadata": {
    "deletable": false,
    "editable": false
   },
   "source": [
    "<!-- BEGIN QUESTION -->\n",
    "\n",
    "#### Part 1.8 Prediction Accuracy (5 pts)\n"
   ]
  },
  {
   "cell_type": "markdown",
   "id": "2f91c25f",
   "metadata": {
    "deletable": false,
    "editable": false
   },
   "source": [
    "Do you think it makes sense to use this line to predict Edwards' vertical jump? \n",
    "\n",
    "*Hint:* Compare Edwards' triple jump distance to the range of triple jump distances in `jumps`. Is it relatively similar to the rest of the data? "
   ]
  },
  {
   "cell_type": "markdown",
   "id": "cbd08ca0",
   "metadata": {
    "deletable": false,
    "editable": false
   },
   "source": [
    "<hr style=\"margin:0; border: 1px solid #FFBE0A;\"/><font color='#FFBE0A'>Written Answer:</font>"
   ]
  },
  {
   "cell_type": "markdown",
   "id": "d33b4fa6",
   "metadata": {
    "deletable": false
   },
   "source": [
    "_Type your answer here, replacing this text._\n"
   ]
  },
  {
   "cell_type": "markdown",
   "id": "497d24e3",
   "metadata": {
    "deletable": false,
    "editable": false
   },
   "source": [
    "<hr style=\"margin:0; border: 1px solid #FFBE0A;\"/>"
   ]
  },
  {
   "cell_type": "markdown",
   "id": "37bee5f7",
   "metadata": {
    "deletable": false,
    "editable": false
   },
   "source": [
    "<!-- END QUESTION -->\n",
    "\n",
    "<hr style=\"margin-bottom: 0px; padding:0; border: 2px solid #500082;\"/>\n"
   ]
  },
  {
   "cell_type": "markdown",
   "id": "c6396757",
   "metadata": {
    "deletable": false,
    "editable": false
   },
   "source": [
    "## 2. Cryptocurrencies (30 pts)\n",
    "\n"
   ]
  },
  {
   "cell_type": "markdown",
   "id": "3a368de5",
   "metadata": {
    "deletable": false,
    "editable": false
   },
   "source": [
    "<font color='#B1008E'>\n",
    "    \n",
    "##### Learning objectives\n",
    "- Fit a linear regression line to data and diagnose it.\n",
    "- Write functions to use linear regression for prediction. \n",
    "</font>"
   ]
  },
  {
   "cell_type": "markdown",
   "id": "11dc8944",
   "metadata": {
    "deletable": false,
    "editable": false
   },
   "source": [
    "In this question, we'll examine the relationship between the prices of two of the most valuable cryptocurrencies, Bitcoin (BTC) and Ethereum (ETH). Each one has a dollar price attached to it at any given moment in time. For example, on December 1st, 2017, one BTC cost $\\$10,859.56$ and one ETH cost $\\$424.64.$\n",
    "\n",
    "For fun, you can here are the current prices of [Bitcoin](https://www.coinbase.com/price/bitcoin) and [Ethereum](https://www.coinbase.com/price/ethereum)!\n",
    "\n",
    "**You want to predict the price of ETH at some point in time based on the price of BTC.** Below, we load two [tables](https://www.kaggle.com/jessevent/all-crypto-currencies/data) called `btc` and `eth`. Each has 5 columns:\n",
    "* `Date`, the date\n",
    "* `Day`, the number of days since Bitcoin started beind sold as a financial product.\n",
    "* `Open`, the value of the currency at the beginning of the day\n",
    "* `Close`, the value of the currency at the end of the day\n",
    "* `Adj Close`, the adjusted value of the currency at the end of the day\n",
    "* `Volume`, num of units traded that day"
   ]
  },
  {
   "cell_type": "code",
   "execution_count": null,
   "id": "36b2939f",
   "metadata": {
    "deletable": false,
    "editable": false,
    "execution": {
     "iopub.execute_input": "2023-11-27T01:54:05.653524Z",
     "iopub.status.busy": "2023-11-27T01:54:05.653255Z",
     "iopub.status.idle": "2023-11-27T01:54:05.680976Z",
     "shell.execute_reply": "2023-11-27T01:54:05.680362Z"
    }
   },
   "outputs": [],
   "source": [
    "btc = Table.read_table('BTC-USD.csv')\n",
    "btc"
   ]
  },
  {
   "cell_type": "code",
   "execution_count": null,
   "id": "df9fd146",
   "metadata": {
    "deletable": false,
    "editable": false,
    "execution": {
     "iopub.execute_input": "2023-11-27T01:54:05.684941Z",
     "iopub.status.busy": "2023-11-27T01:54:05.684624Z",
     "iopub.status.idle": "2023-11-27T01:54:05.703646Z",
     "shell.execute_reply": "2023-11-27T01:54:05.702818Z"
    }
   },
   "outputs": [],
   "source": [
    "eth = Table.read_table('ETH-USD.csv')\n",
    "eth"
   ]
  },
  {
   "cell_type": "markdown",
   "id": "7b708e6b",
   "metadata": {
    "deletable": false,
    "editable": false
   },
   "source": [
    "<!-- BEGIN QUESTION -->\n",
    "\n",
    "#### Part 2.1 Examine the Data (5 pts)\n"
   ]
  },
  {
   "cell_type": "markdown",
   "id": "7cd9e621",
   "metadata": {
    "deletable": false,
    "editable": false
   },
   "source": [
    "In the cell below, create a line plot that visualizes the BTC and ETH open prices as a function of time. Both BTC and ETH open prices should be plotted on the same graph. \n",
    "\n",
    "*Hint:* The table function `.join()` may be helpful here."
   ]
  },
  {
   "cell_type": "code",
   "execution_count": null,
   "id": "f5b3777b",
   "metadata": {
    "deletable": false,
    "execution": {
     "iopub.execute_input": "2023-11-27T01:54:05.707294Z",
     "iopub.status.busy": "2023-11-27T01:54:05.707066Z",
     "iopub.status.idle": "2023-11-27T01:54:06.105991Z",
     "shell.execute_reply": "2023-11-27T01:54:06.105138Z"
    },
    "tags": []
   },
   "outputs": [],
   "source": [
    "# Create a line plot of btc and eth open prices as a function of time\n",
    "opens = ...\n",
    "\n",
    "opens.plot(\"Day\")"
   ]
  },
  {
   "cell_type": "markdown",
   "id": "6c0aaa4f",
   "metadata": {
    "deletable": false,
    "editable": false
   },
   "source": [
    "<!-- END QUESTION -->\n",
    "\n",
    "#### Part 2.2 Correlation Coefficient (5 pts)\n"
   ]
  },
  {
   "cell_type": "markdown",
   "id": "afba6317",
   "metadata": {
    "deletable": false,
    "editable": false
   },
   "source": [
    " Now, calculate the correlation coefficient between the opening prices of BTC and ETH. "
   ]
  },
  {
   "cell_type": "code",
   "execution_count": null,
   "id": "e21ef5aa",
   "metadata": {
    "deletable": false,
    "execution": {
     "iopub.execute_input": "2023-11-27T01:54:06.110316Z",
     "iopub.status.busy": "2023-11-27T01:54:06.110039Z",
     "iopub.status.idle": "2023-11-27T01:54:06.115437Z",
     "shell.execute_reply": "2023-11-27T01:54:06.114353Z"
    },
    "tags": []
   },
   "outputs": [],
   "source": [
    "crypto_r = ...\n",
    "crypto_r"
   ]
  },
  {
   "cell_type": "code",
   "execution_count": null,
   "id": "95cb1bb7",
   "metadata": {
    "deletable": false,
    "editable": false
   },
   "outputs": [],
   "source": [
    "grader.check(\"p2.2\")"
   ]
  },
  {
   "cell_type": "markdown",
   "id": "8de38c48",
   "metadata": {
    "deletable": false,
    "editable": false
   },
   "source": [
    "#### Part 2.3 Regression Line (5 pts)\n"
   ]
  },
  {
   "cell_type": "markdown",
   "id": "33103afc",
   "metadata": {
    "deletable": false,
    "editable": false
   },
   "source": [
    "Compute the slope `crypto_a` and intercept `crypto_b` for the best fitting line for our data."
   ]
  },
  {
   "cell_type": "code",
   "execution_count": null,
   "id": "90c3ad8d",
   "metadata": {
    "deletable": false,
    "execution": {
     "iopub.execute_input": "2023-11-27T01:54:06.133743Z",
     "iopub.status.busy": "2023-11-27T01:54:06.133180Z",
     "iopub.status.idle": "2023-11-27T01:54:06.145808Z",
     "shell.execute_reply": "2023-11-27T01:54:06.145209Z"
    },
    "tags": []
   },
   "outputs": [],
   "source": [
    "...\n",
    "crypto_a = ...\n",
    "crypto_b = ..."
   ]
  },
  {
   "cell_type": "code",
   "execution_count": null,
   "id": "05edd966",
   "metadata": {
    "deletable": false,
    "editable": false
   },
   "outputs": [],
   "source": [
    "grader.check(\"p2.3\")"
   ]
  },
  {
   "cell_type": "markdown",
   "id": "1ec15deb",
   "metadata": {
    "deletable": false,
    "editable": false
   },
   "source": [
    "#### Part 2.4 Prediction (5 pts)\n"
   ]
  },
  {
   "cell_type": "markdown",
   "id": "8246ba66",
   "metadata": {
    "deletable": false,
    "editable": false
   },
   "source": [
    "Write a function `eth_predictor` which takes an opening BTC price and predicts the opening price of ETH.\n"
   ]
  },
  {
   "cell_type": "code",
   "execution_count": null,
   "id": "ae9672a0",
   "metadata": {
    "deletable": false,
    "execution": {
     "iopub.execute_input": "2023-11-27T01:54:06.173840Z",
     "iopub.status.busy": "2023-11-27T01:54:06.173575Z",
     "iopub.status.idle": "2023-11-27T01:54:06.176824Z",
     "shell.execute_reply": "2023-11-27T01:54:06.176208Z"
    },
    "tags": []
   },
   "outputs": [],
   "source": [
    "def eth_predictor(btc_price):\n",
    "    ..."
   ]
  },
  {
   "cell_type": "code",
   "execution_count": null,
   "id": "dea2be32",
   "metadata": {
    "deletable": false,
    "execution": {
     "iopub.execute_input": "2023-11-27T01:54:06.180009Z",
     "iopub.status.busy": "2023-11-27T01:54:06.179697Z",
     "iopub.status.idle": "2023-11-27T01:54:06.184687Z",
     "shell.execute_reply": "2023-11-27T01:54:06.183929Z"
    },
    "tags": []
   },
   "outputs": [],
   "source": [
    "# Don't change this cell. \n",
    "# Does the output make sense? \n",
    "eth_predictor(20000)"
   ]
  },
  {
   "cell_type": "code",
   "execution_count": null,
   "id": "d2a08c57",
   "metadata": {
    "deletable": false,
    "editable": false
   },
   "outputs": [],
   "source": [
    "grader.check(\"p2.4\")"
   ]
  },
  {
   "cell_type": "markdown",
   "id": "afb9454d",
   "metadata": {
    "deletable": false,
    "editable": false
   },
   "source": [
    "<!-- BEGIN QUESTION -->\n",
    "\n",
    "#### Part 2.5 Residuals (5 pts)\n"
   ]
  },
  {
   "cell_type": "markdown",
   "id": "805a0692",
   "metadata": {
    "deletable": false,
    "editable": false
   },
   "source": [
    "Use the `plot_regression_and_residuals` function from [inference library](https://www.cs.williams.edu/~cs104/auto/inference-library-ref.html) to visualize our regression line and the residuals for it."
   ]
  },
  {
   "cell_type": "code",
   "execution_count": null,
   "id": "a6d9f2ec",
   "metadata": {
    "deletable": false,
    "execution": {
     "iopub.execute_input": "2023-11-27T01:54:06.207322Z",
     "iopub.status.busy": "2023-11-27T01:54:06.207123Z",
     "iopub.status.idle": "2023-11-27T01:54:07.100134Z",
     "shell.execute_reply": "2023-11-27T01:54:07.098968Z"
    },
    "tags": []
   },
   "outputs": [],
   "source": [
    "..."
   ]
  },
  {
   "cell_type": "markdown",
   "id": "516cf5db",
   "metadata": {
    "deletable": false,
    "editable": false
   },
   "source": [
    "<!-- END QUESTION -->\n",
    "\n",
    "<!-- BEGIN QUESTION -->\n",
    "\n",
    "#### Part 2.6 Does the Linear Model Fit the Data? (5 pts)\n"
   ]
  },
  {
   "cell_type": "markdown",
   "id": "1df306b2",
   "metadata": {
    "deletable": false,
    "editable": false
   },
   "source": [
    " Considering the shape of the scatter plot of the true data, is the linear regression model we used reasonable? If so, what features or characteristics make this model reasonable? If not, what features or characteristics make it unreasonable? \n",
    "\n"
   ]
  },
  {
   "cell_type": "markdown",
   "id": "3fd3eb99",
   "metadata": {
    "deletable": false,
    "editable": false
   },
   "source": [
    "<hr style=\"margin:0; border: 1px solid #FFBE0A;\"/><font color='#FFBE0A'>Written Answer:</font>"
   ]
  },
  {
   "cell_type": "markdown",
   "id": "00609e03",
   "metadata": {
    "deletable": false
   },
   "source": [
    "_Type your answer here, replacing this text._\n"
   ]
  },
  {
   "cell_type": "markdown",
   "id": "94815364",
   "metadata": {
    "deletable": false,
    "editable": false
   },
   "source": [
    "<hr style=\"margin:0; border: 1px solid #FFBE0A;\"/>"
   ]
  },
  {
   "cell_type": "markdown",
   "id": "95dbcbc9",
   "metadata": {
    "deletable": false,
    "editable": false
   },
   "source": [
    "<!-- END QUESTION -->\n",
    "\n",
    "<hr style=\"margin-bottom: 0px; padding:0; border: 2px solid #500082;\"/>\n"
   ]
  },
  {
   "cell_type": "markdown",
   "id": "e3909954",
   "metadata": {
    "deletable": false,
    "editable": false
   },
   "source": [
    "## 3. Inference for Prediction (20 pts)\n",
    "\n"
   ]
  },
  {
   "cell_type": "markdown",
   "id": "58ae2f32",
   "metadata": {
    "deletable": false,
    "editable": false
   },
   "source": [
    "<font color='#B1008E'>\n",
    "    \n",
    "##### Learning objectives\n",
    "- Create confidence intervals for predictions.\n",
    "- Examine and interpet uncertainty in estimated predictions. \n",
    "</font>"
   ]
  },
  {
   "cell_type": "markdown",
   "id": "cd087376",
   "metadata": {
    "deletable": false,
    "editable": false
   },
   "source": [
    "One of the primary uses of regression is to make predictions for individuals who were not in our original dataset but who are similar enough to be considered part of the same population. \n",
    "For example, in Question 1, we may wish to predict the vertical jump of a new athlete based on their triple jump distance.\n",
    "\n",
    "Assuming that there is a true linear correlation between the two types of jumps for the whole population, we would use that true line to predict the vertical jump height for a specific triple jump distance. \n",
    "\n",
    "\n",
    "Since we don't know the true line, we instead fit a regression line to our sample of jumps.  However, we know that the sample might have been different, which would mean the regression line would have been different too, as would our prediction.  As in other estimation and prediction problems, we should characterize our uncertainty in the sampling process by reporting a prediction as a confidence interval."
   ]
  },
  {
   "cell_type": "markdown",
   "id": "a3d7a4c5",
   "metadata": {
    "deletable": false,
    "editable": false,
    "tags": []
   },
   "source": [
    "<!-- BEGIN QUESTION -->\n",
    "\n",
    "#### Part 3.1 Prediction from Resamples (5 pts)\n"
   ]
  },
  {
   "cell_type": "markdown",
   "id": "1c71e667",
   "metadata": {
    "deletable": false,
    "editable": false
   },
   "source": [
    "Let's first examine the variability in predicting the vertical jump for someone with a 600 cm triple jump. To do so, we'll use boostrapping to generate new samples and look at the variability of different samples.\n",
    "\n",
    "Complete the code below to plot the regression lines for four bootstrap resamples of the `jumps` table.  Recall that you can create a resample of `jumps` via `jumps.sample()`.\n",
    "\n",
    "Run this cell several times."
   ]
  },
  {
   "cell_type": "code",
   "execution_count": null,
   "id": "4e5dde9b",
   "metadata": {
    "deletable": false,
    "execution": {
     "iopub.execute_input": "2023-11-27T01:54:07.105576Z",
     "iopub.status.busy": "2023-11-27T01:54:07.105324Z",
     "iopub.status.idle": "2023-11-27T01:54:07.349370Z",
     "shell.execute_reply": "2023-11-27T01:54:07.348797Z"
    },
    "tags": []
   },
   "outputs": [],
   "source": [
    "for i in np.arange(0,4):\n",
    "    # Create a resample of the jumps sample.\n",
    "    resample = ...\n",
    "    \n",
    "    # Compute the slope and intercept for the linear regression line\n",
    "    # for the resample.\n",
    "    a,b = ...\n",
    "    \n",
    "    # Do not change the lines below. This will plot all four lines from the \n",
    "    # four bootstrap resamples on the same plot.\n",
    "    xlims = make_array(550,650)\n",
    "    plots.plot(xlims, a * xlims + b, lw=4)"
   ]
  },
  {
   "cell_type": "markdown",
   "id": "80ad8bc4",
   "metadata": {
    "deletable": false,
    "editable": false
   },
   "source": [
    "<!-- END QUESTION -->\n",
    "\n",
    "#### Part 3.2 Boostrapping a Confidence Interval (5 pts)\n"
   ]
  },
  {
   "cell_type": "markdown",
   "id": "29ff1121",
   "metadata": {
    "deletable": false,
    "editable": false
   },
   "source": [
    "Let's look at a specific `x` value (for example, 600 in the plot above). We'll call this the `x_target_value`. Our goal is to estimate a confidence interval for the predicted `y`s for this `x_target_value`. \n",
    "\n",
    "To do so, we'll use our favorite bootstrapping idiom, with the following steps within the simulation loop:\n",
    "- Obtain a bootstrap resample of the `observed_sample`\n",
    "- Fit a linear regression line to that new sample \n",
    "- Predict $\\hat{y}$ given the fitted linear regression line and the `x_target_value`\n",
    "- Append this predicted $\\hat{y}$ to the `bootstrap_statistics` array. \n",
    "\n",
    "Complete the following steps within the function below. "
   ]
  },
  {
   "cell_type": "code",
   "execution_count": null,
   "id": "05627d98",
   "metadata": {
    "deletable": false,
    "execution": {
     "iopub.execute_input": "2023-11-27T01:54:07.353711Z",
     "iopub.status.busy": "2023-11-27T01:54:07.353460Z",
     "iopub.status.idle": "2023-11-27T01:54:07.397962Z",
     "shell.execute_reply": "2023-11-27T01:54:07.397441Z"
    },
    "tags": []
   },
   "outputs": [],
   "source": [
    "def bootstrap_prediction(x_target_value, observed_sample, x_label, y_label, num_trials):\n",
    "    \"\"\"\n",
    "    Create boostrap resamples from the given sample (which is represented as a table)\n",
    "    and predict y given x_target_value. \n",
    "    \"\"\"\n",
    "    bootstrap_statistics = make_array()\n",
    "    \n",
    "    for i in np.arange(0, num_trials): \n",
    "        simulated_resample = observed_sample.sample()\n",
    "        \n",
    "        a,b = linear_regression(simulated_resample, x_label, y_label)\n",
    "        \n",
    "        y_hat = ...\n",
    "        \n",
    "        bootstrap_statistics = ...\n",
    "    \n",
    "    return bootstrap_statistics\n",
    "\n",
    "# Do not change the lines below\n",
    "# This is code to test your function. Do these numbers look reasonable?\n",
    "three_predictions = bootstrap_prediction(600, jumps, 'triple', 'vertical', 3)\n",
    "three_predictions"
   ]
  },
  {
   "cell_type": "code",
   "execution_count": null,
   "id": "4f48d4b7",
   "metadata": {
    "deletable": false,
    "editable": false
   },
   "outputs": [],
   "source": [
    "grader.check(\"p3.2\")"
   ]
  },
  {
   "cell_type": "markdown",
   "id": "3d148adb",
   "metadata": {
    "deletable": false,
    "editable": false
   },
   "source": [
    "<!-- BEGIN QUESTION -->\n",
    "\n",
    "#### Part 3.3 Confidence Intervals for Predicted Vertical Jump (5 pts)\n"
   ]
  },
  {
   "cell_type": "markdown",
   "id": "ce293fef",
   "metadata": {
    "deletable": false,
    "editable": false
   },
   "source": [
    "The following function uses your `bootstrap_prediction` function to create a 95% CI for the vertical jump corresponding to given triple jump target value.\n",
    "We call that function to predict the vertical jump for a 600 cm triple jump.  We show the confidence interval on a scatter plot that also shows the original sample.  The red dot corresponds to the prediction for the original sample."
   ]
  },
  {
   "cell_type": "code",
   "execution_count": null,
   "id": "3b994a93",
   "metadata": {
    "deletable": false,
    "editable": false,
    "execution": {
     "iopub.execute_input": "2023-11-27T01:54:07.413575Z",
     "iopub.status.busy": "2023-11-27T01:54:07.413363Z",
     "iopub.status.idle": "2023-11-27T01:54:07.418652Z",
     "shell.execute_reply": "2023-11-27T01:54:07.418003Z"
    }
   },
   "outputs": [],
   "source": [
    "# We have provided the function for you. You do not need to change anything. \n",
    "def predict_vertical_jump(triple_target_value):\n",
    "    bootstrap_statistics = bootstrap_prediction(triple_target_value, jumps, 'triple', 'vertical', 1000)\n",
    "\n",
    "    results = Table().with_columns(\"Bootstrap distribution for y_hat given x=\"+str(triple_target_value), bootstrap_statistics)\n",
    "    plot = jumps.scatter('triple', 'vertical', fit_line=True)\n",
    "    left_right = confidence_interval(95, bootstrap_statistics)\n",
    "    plot.set_title('y_hat 95% Confidence Interval: ' + str(np.round(left_right,2)))\n",
    "    plot.y_interval(left_right, x=triple_target_value)\n",
    "    plot.dot(triple_target_value, line_predictions(jumps_a, jumps_b, triple_target_value))"
   ]
  },
  {
   "cell_type": "code",
   "execution_count": null,
   "id": "60327953",
   "metadata": {
    "deletable": false,
    "editable": false,
    "execution": {
     "iopub.execute_input": "2023-11-27T01:54:07.421787Z",
     "iopub.status.busy": "2023-11-27T01:54:07.421514Z",
     "iopub.status.idle": "2023-11-27T01:54:25.255174Z",
     "shell.execute_reply": "2023-11-27T01:54:25.254685Z"
    }
   },
   "outputs": [],
   "source": [
    "# This might take a minute or two to run. \n",
    "predict_vertical_jump(600)"
   ]
  },
  {
   "cell_type": "markdown",
   "id": "27905a70",
   "metadata": {
    "deletable": false,
    "editable": false
   },
   "source": [
    "Precisely state your vertical jump prediction confidence interval based on the bootstrapped results above. "
   ]
  },
  {
   "cell_type": "markdown",
   "id": "820ad7ba",
   "metadata": {
    "deletable": false,
    "editable": false
   },
   "source": [
    "<hr style=\"margin:0; border: 1px solid #FFBE0A;\"/><font color='#FFBE0A'>Written Answer:</font>"
   ]
  },
  {
   "cell_type": "markdown",
   "id": "15f9a9ef",
   "metadata": {
    "deletable": false
   },
   "source": [
    "_Type your answer here, replacing this text._\n"
   ]
  },
  {
   "cell_type": "markdown",
   "id": "c4f12507",
   "metadata": {
    "deletable": false,
    "editable": false
   },
   "source": [
    "<hr style=\"margin:0; border: 1px solid #FFBE0A;\"/>"
   ]
  },
  {
   "cell_type": "markdown",
   "id": "f1370ef1",
   "metadata": {
    "deletable": false,
    "editable": false
   },
   "source": [
    "<!-- END QUESTION -->\n",
    "\n",
    "<!-- BEGIN QUESTION -->\n",
    "\n",
    "#### Part 3.4 Predictions For different Target Values (5 pts)\n"
   ]
  },
  {
   "cell_type": "markdown",
   "id": "3b98fcd6",
   "metadata": {
    "deletable": false,
    "editable": false
   },
   "source": [
    "Run the following cell to repeat the bootstrap process for three different triple jump distances: 400, 600, and 800 cm."
   ]
  },
  {
   "cell_type": "code",
   "execution_count": null,
   "id": "f4e9d7f2",
   "metadata": {
    "deletable": false,
    "editable": false,
    "execution": {
     "iopub.execute_input": "2023-11-27T01:54:25.259036Z",
     "iopub.status.busy": "2023-11-27T01:54:25.258802Z",
     "iopub.status.idle": "2023-11-27T01:55:19.730973Z",
     "shell.execute_reply": "2023-11-27T01:55:19.730223Z"
    }
   },
   "outputs": [],
   "source": [
    "# This might take a minute or two to run. \n",
    "with Figure(1,3):\n",
    "    predict_vertical_jump(400)\n",
    "    predict_vertical_jump(600)\n",
    "    predict_vertical_jump(800)"
   ]
  },
  {
   "cell_type": "markdown",
   "id": "5f02d0df",
   "metadata": {
    "deletable": false,
    "editable": false
   },
   "source": [
    "Examine these three plots.  Do the confidence intervals seem consistent with the observed sample we do have?  Do they have the same width?  Why are they the same, or why do they differ?"
   ]
  },
  {
   "cell_type": "markdown",
   "id": "215ac2a4",
   "metadata": {
    "deletable": false,
    "editable": false
   },
   "source": [
    "<hr style=\"margin:0; border: 1px solid #FFBE0A;\"/><font color='#FFBE0A'>Written Answer:</font>"
   ]
  },
  {
   "cell_type": "markdown",
   "id": "bce26b54",
   "metadata": {
    "deletable": false
   },
   "source": [
    "_Type your answer here, replacing this text._\n"
   ]
  },
  {
   "cell_type": "markdown",
   "id": "6cb8cde9",
   "metadata": {
    "deletable": false,
    "editable": false
   },
   "source": [
    "<hr style=\"margin:0; border: 1px solid #FFBE0A;\"/>"
   ]
  },
  {
   "cell_type": "markdown",
   "id": "f7016ee3",
   "metadata": {
    "deletable": false,
    "editable": false
   },
   "source": [
    "<!-- END QUESTION -->\n",
    "\n",
    "<hr class=\"m-0\" style=\"border: 3px solid #500082;\"/>\n",
    "\n",
    "# You're Done!\n",
    "Follow these steps to submit your work:\n",
    "* Run the tests and verify that they pass as you expect. \n",
    "* Choose **Save Notebook** from the **File** menu.\n",
    "* **Run the final cell** and click the link below to download the zip file. \n",
    "\n",
    "Once you have downloaded that file, go to [Gradescope](https://www.gradescope.com/) and submit the zip file to \n",
    "the corresponding assignment. For Lab N, the assignment will be called \"Lab N Autograder\".\n",
    "\n",
    "Once you have submitted, your Gradescope assignment should show you passing all the tests you passed in your assignment notebook.\n"
   ]
  },
  {
   "cell_type": "markdown",
   "id": "bb92b544",
   "metadata": {
    "deletable": false,
    "editable": false
   },
   "source": [
    "**Note:** It may take a couple minutes to run all of the tests before creating the zip file."
   ]
  },
  {
   "cell_type": "markdown",
   "id": "ba5d37ad",
   "metadata": {
    "deletable": false,
    "editable": false
   },
   "source": [
    "## Submission\n",
    "\n",
    "Make sure you have run all cells in your notebook in order before running the cell below, so that all images/graphs appear in the output. The cell below will generate a zip file for you to submit. **Please save before exporting!**"
   ]
  },
  {
   "cell_type": "code",
   "execution_count": null,
   "id": "ec4fbeaa",
   "metadata": {
    "deletable": false,
    "editable": false
   },
   "outputs": [],
   "source": [
    "# Save your notebook first, then run this cell to export your submission.\n",
    "grader.export(run_tests=True)"
   ]
  },
  {
   "cell_type": "markdown",
   "id": "65d5184a",
   "metadata": {},
   "source": [
    " "
   ]
  }
 ],
 "metadata": {
  "kernelspec": {
   "display_name": "Python 3 (ipykernel)",
   "language": "python",
   "name": "python3"
  },
  "language_info": {
   "codemirror_mode": {
    "name": "ipython",
    "version": 3
   },
   "file_extension": ".py",
   "mimetype": "text/x-python",
   "name": "python",
   "nbconvert_exporter": "python",
   "pygments_lexer": "ipython3",
   "version": "3.9.13"
  },
  "otter": {
   "OK_FORMAT": true,
   "tests": {
    "p1.1": {
     "has_hidden": true,
     "name": "p1.1",
     "points": 5,
     "suites": [
      {
       "cases": [
        {
         "code": ">>> check_str('predicted_r in [-0.5, 0, 0.5]', locals())\n",
         "failure_message": "check(predicted_r in [-0.5, 0, 0.5])",
         "hidden": false,
         "locked": false,
         "submit_only": false,
         "success_message": "check(predicted_r in [-0.5, 0, 0.5])"
        }
       ],
       "scored": true,
       "setup": "",
       "teardown": "",
       "type": "doctest"
      }
     ]
    },
    "p1.2": {
     "has_hidden": true,
     "name": "p1.2",
     "points": 5,
     "suites": [
      {
       "cases": [
        {
         "code": ">>> check_str('-1 <= jumps_r <= 1', locals())\n",
         "failure_message": "check(-1 <= jumps_r <= 1)",
         "hidden": false,
         "locked": false,
         "submit_only": false,
         "success_message": "check(-1 <= jumps_r <= 1)"
        }
       ],
       "scored": true,
       "setup": "",
       "teardown": "",
       "type": "doctest"
      }
     ]
    },
    "p1.3": {
     "has_hidden": true,
     "name": "p1.3",
     "points": 5,
     "suites": [
      {
       "cases": [
        {
         "code": ">>> check_str('0 <= jumps_a <= 0.2', locals())\n",
         "failure_message": "check(0 <= jumps_a <= 0.2)",
         "hidden": false,
         "locked": false,
         "submit_only": false,
         "success_message": "check(0 <= jumps_a <= 0.2)"
        },
        {
         "code": ">>> check_str('-0.5 <= jumps_b <= 0.5', locals())\n",
         "failure_message": "check(-0.5 <= jumps_b <= 0.5)",
         "hidden": false,
         "locked": false,
         "submit_only": false,
         "success_message": "check(-0.5 <= jumps_b <= 0.5)"
        }
       ],
       "scored": true,
       "setup": "",
       "teardown": "",
       "type": "doctest"
      }
     ]
    },
    "p1.5": {
     "has_hidden": true,
     "name": "p1.5",
     "points": 5,
     "suites": [
      {
       "cases": [
        {
         "code": ">>> check_str('r2_score(example, \\'x\\', \\'y\\', 1, 0) == 1', locals())\n",
         "failure_message": "check(r2_score(example, 'x', 'y', 1, 0) == 1)",
         "hidden": false,
         "locked": false,
         "submit_only": false,
         "success_message": "check(r2_score(example, 'x', 'y', 1, 0) == 1)"
        },
        {
         "code": ">>> check_str('r2_score(example, \\'x\\', \\'y\\', 0, 2) == 0', locals())\n",
         "failure_message": "check(r2_score(example, 'x', 'y', 0, 2) == 0)",
         "hidden": false,
         "locked": false,
         "submit_only": false,
         "success_message": "check(r2_score(example, 'x', 'y', 0, 2) == 0)"
        },
        {
         "code": ">>> check_str('r2_score(example, \\'x\\', \\'y\\', 0.75, 0) == 0.5625', locals())\n",
         "failure_message": "check(r2_score(example, 'x', 'y', 0.75, 0) == 0.5625)",
         "hidden": false,
         "locked": false,
         "submit_only": false,
         "success_message": "check(r2_score(example, 'x', 'y', 0.75, 0) == 0.5625)"
        },
        {
         "code": ">>> check_str('0 <= jumps_r2_score <= 1', locals())\n",
         "failure_message": "check(0 <= jumps_r2_score <= 1)",
         "hidden": false,
         "locked": false,
         "submit_only": false,
         "success_message": "check(0 <= jumps_r2_score <= 1)"
        }
       ],
       "scored": true,
       "setup": "",
       "teardown": "",
       "type": "doctest"
      }
     ]
    },
    "p1.7": {
     "has_hidden": true,
     "name": "p1.7",
     "points": 5,
     "suites": [
      {
       "cases": [
        {
         "code": ">>> check_str('0 <= triple_record_vert_est <= 1000', locals())\n",
         "failure_message": "check(0 <= triple_record_vert_est <= 1000)",
         "hidden": false,
         "locked": false,
         "submit_only": false,
         "success_message": "check(0 <= triple_record_vert_est <= 1000)"
        }
       ],
       "scored": true,
       "setup": "",
       "teardown": "",
       "type": "doctest"
      }
     ]
    },
    "p2.2": {
     "has_hidden": true,
     "name": "p2.2",
     "points": 5,
     "suites": [
      {
       "cases": [
        {
         "code": ">>> check_str('-1 <= crypto_r <= 1', locals())\n",
         "failure_message": "check(-1 <= crypto_r <= 1)",
         "hidden": false,
         "locked": false,
         "submit_only": false,
         "success_message": "check(-1 <= crypto_r <= 1)"
        }
       ],
       "scored": true,
       "setup": "",
       "teardown": "",
       "type": "doctest"
      }
     ]
    },
    "p2.3": {
     "has_hidden": true,
     "name": "p2.3",
     "points": 5,
     "suites": [
      {
       "cases": [
        {
         "code": ">>> check_str('0 <= crypto_a <= 1', locals())\n",
         "failure_message": "check(0 <= crypto_a <= 1)",
         "hidden": false,
         "locked": false,
         "submit_only": false,
         "success_message": "check(0 <= crypto_a <= 1)"
        },
        {
         "code": ">>> check_str('-500 <= crypto_b <= 500', locals())\n",
         "failure_message": "check(-500 <= crypto_b <= 500)",
         "hidden": false,
         "locked": false,
         "submit_only": false,
         "success_message": "check(-500 <= crypto_b <= 500)"
        }
       ],
       "scored": true,
       "setup": "",
       "teardown": "",
       "type": "doctest"
      }
     ]
    },
    "p2.4": {
     "has_hidden": true,
     "name": "p2.4",
     "points": 5,
     "suites": [
      {
       "cases": [
        {
         "code": ">>> check_str('eth_predictor(10000) == approx(462.71471)', locals())\n",
         "failure_message": "check(eth_predictor(10000) == approx(462.71471))",
         "hidden": false,
         "locked": false,
         "submit_only": false,
         "success_message": "check(eth_predictor(10000) == approx(462.71471))"
        }
       ],
       "scored": true,
       "setup": "",
       "teardown": "",
       "type": "doctest"
      }
     ]
    },
    "p3.2": {
     "has_hidden": true,
     "name": "p3.2",
     "points": 5,
     "suites": [
      {
       "cases": [
        {
         "code": ">>> check_str('len(three_predictions) == 3', locals())\n",
         "failure_message": "check(len(three_predictions) == 3)",
         "hidden": false,
         "locked": false,
         "submit_only": false,
         "success_message": "check(len(three_predictions) == 3)"
        }
       ],
       "scored": true,
       "setup": "",
       "teardown": "",
       "type": "doctest"
      }
     ]
    }
   }
  },
  "vscode": {
   "interpreter": {
    "hash": "31f2aee4e71d21fbe5cf8b01ff0e069b9275f58929596ceb00d14d90e3e16cd6"
   }
  }
 },
 "nbformat": 4,
 "nbformat_minor": 5
}
